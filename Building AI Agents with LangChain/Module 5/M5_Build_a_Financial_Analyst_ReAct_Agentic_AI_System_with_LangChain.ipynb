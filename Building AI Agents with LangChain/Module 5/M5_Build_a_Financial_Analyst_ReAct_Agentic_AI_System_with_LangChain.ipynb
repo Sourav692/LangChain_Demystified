{
  "cells": [
    {
      "cell_type": "markdown",
      "metadata": {
        "id": "1kiH8lf1y4sD"
      },
      "source": [
        "# Build a Financial Analyst ReAct Agentic AI System with LangChain"
      ]
    },
    {
      "cell_type": "markdown",
      "metadata": {
        "id": "NYBpZTjLnEXb"
      },
      "source": [
        "### Building a Financial Analyst ReAct Agentic AI System\n",
        "\n",
        "In this project, we will design a **Financial Analyst ReAct Agentic AI System** to assist investors by providing accurate and up-to-date stock market insights. This system will leverage the `create_react_agent` function from **LangGraph**, a more robust and modern alternative to the deprecated LangChain version. The workflow comprises the following components:\n",
        "\n",
        "1. **Agent System Prompt**: The agent is designed to:\n",
        "   - Validate input queries to ensure they are relevant and specific.\n",
        "   - Provide detailed market analysis or individual stock insights depending on the user's query.\n",
        "   - For invalid queries, respond professionally and guide the user appropriately.\n",
        "   - Deliver concise, accurate, and professional responses while emphasizing data accuracy.\n",
        "\n",
        "   **Flows**:\n",
        "   - **Flow 1**: For general market queries, use tools to analyze trends and suggest stock opportunities.\n",
        "   - **Flow 2**: For stock-specific queries, validate the ticker, retrieve data, and provide insights.\n",
        "\n",
        "2. **Financial Analysis Tools**: The system utilizes the following tools to interact with stock market data:\n",
        "   - **GET_STOCK_TICKER**: Validates and fetches stock tickers based on user queries.\n",
        "   - **GET_STOCK_PRICE_METRICS**: Retrieves price trends and metrics for specific stocks.\n",
        "   - **GET_STOCK_NEWS**: Extracts recent news articles related to stocks or markets.\n",
        "   - **GET_STOCK_FUNDAMENTAL_INDICATOR_METRICS**: Provides insights into financial indicators like P/E ratio, ROE, etc.\n",
        "   - **GET_GENERAL_MARKET_DATA**: Fetches general market trends and data.\n",
        "\n",
        "3. **Stock Market Data Providers**: The system integrates with leading data providers such as Yahoo Finance, Finviz, Cboe, and others through platforms like __OpenBB__ to ensure reliable and real-time information.\n",
        "\n",
        "4. **ReAct Reasoning Framework**: The agent employs ReAct reasoning to combine logical deduction with dynamic tool usage, ensuring precise and actionable results.\n",
        "\n",
        "5. **Final Response**: After processing the data, the agent delivers a well-structured response emphasizing clarity and encouraging users to verify any investment decisions.\n",
        "\n",
        "By utilizing LangGraph's `create_react_agent` and integrating comprehensive financial data tools, this system empowers investors with actionable insights, enabling informed decision-making in the dynamic stock market environment.\n",
        "\n",
        "![](https://i.imgur.com/ZbYjVIE.png)"
      ]
    },
    {
      "cell_type": "markdown",
      "metadata": {
        "id": "L1KvMtf54l0d"
      },
      "source": [
        "## Install OpenAI, and LangChain and OpenBB dependencies"
      ]
    },
    {
      "cell_type": "code",
      "execution_count": null,
      "metadata": {
        "colab": {
          "base_uri": "https://localhost:8080/"
        },
        "id": "2evPp14fy258",
        "outputId": "7598fca5-4e7d-4665-bc83-3db9cc687731"
      },
      "outputs": [],
      "source": [
        "!pip install -qq langchain==0.3.14\n",
        "!pip install -qq langchain-openai==0.3.0\n",
        "!pip install -qq langchain-community==0.3.14\n",
        "!pip install -qq langgraph==0.2.66\n",
        "!pip install -qq yfinance==0.2.51"
      ]
    },
    {
      "cell_type": "code",
      "execution_count": null,
      "metadata": {},
      "outputs": [],
      "source": [
        "pip install -q openbb"
      ]
    },
    {
      "cell_type": "code",
      "execution_count": null,
      "metadata": {},
      "outputs": [],
      "source": [
        "!pip install -qq openbb-cboe"
      ]
    },
    {
      "cell_type": "code",
      "execution_count": null,
      "metadata": {
        "colab": {
          "base_uri": "https://localhost:8080/",
          "height": 1000
        },
        "id": "AakmY6B_zYte",
        "outputId": "3cb1bf0f-fb56-4420-e33c-788d4dd5f8c1"
      },
      "outputs": [],
      "source": [
        "# !pip install -qq openbb[all]"
      ]
    },
    {
      "cell_type": "markdown",
      "metadata": {
        "id": "H9c37cLnSrbg"
      },
      "source": [
        "## Enter Open AI API Key"
      ]
    },
    {
      "cell_type": "code",
      "execution_count": null,
      "metadata": {
        "colab": {
          "base_uri": "https://localhost:8080/"
        },
        "id": "cv3JzCEx_PAd",
        "outputId": "22121c8f-8044-4874-bb51-19ded831608e"
      },
      "outputs": [],
      "source": [
        "# from getpass import getpass\n",
        "\n",
        "# OPENAI_KEY = getpass('Enter Open AI API Key: ')"
      ]
    },
    {
      "cell_type": "markdown",
      "metadata": {
        "id": "-3XYIYc0V-Yo"
      },
      "source": [
        "## Enter OpenBB Personal Access Token"
      ]
    },
    {
      "cell_type": "code",
      "execution_count": null,
      "metadata": {
        "colab": {
          "base_uri": "https://localhost:8080/"
        },
        "id": "q2sKDYgEqOaP",
        "outputId": "6b212afb-d389-44cd-a5de-27f9c207135d"
      },
      "outputs": [],
      "source": [
        "# from getpass import getpass\n",
        "\n",
        "# OPENBB_PAT = getpass('Enter OpenBB Personal Access Token (PAT): ')"
      ]
    },
    {
      "cell_type": "markdown",
      "metadata": {
        "id": "1T0s0um5Svfa"
      },
      "source": [
        "## Setup Environment Variables"
      ]
    },
    {
      "cell_type": "code",
      "execution_count": null,
      "metadata": {
        "id": "x1YSuHNF_lbh"
      },
      "outputs": [],
      "source": [
        "# import os\n",
        "\n",
        "# os.environ['OPENAI_API_KEY'] = OPENAI_KEY"
      ]
    },
    {
      "cell_type": "code",
      "execution_count": null,
      "metadata": {},
      "outputs": [],
      "source": [
        "import os"
      ]
    },
    {
      "cell_type": "code",
      "execution_count": null,
      "metadata": {},
      "outputs": [],
      "source": [
        "OPENBB_PAT = os.getenv('OPENBB_PAT')"
      ]
    },
    {
      "cell_type": "code",
      "execution_count": null,
      "metadata": {
        "colab": {
          "base_uri": "https://localhost:8080/"
        },
        "id": "8JLlJq6DvghH",
        "outputId": "2580762e-d08b-4b29-d37b-a6e1790d4cd2"
      },
      "outputs": [],
      "source": [
        "from openbb import obb\n",
        "# takes 1 min to setup everything\n",
        "obb.account.login(pat=OPENBB_PAT)"
      ]
    },
    {
      "cell_type": "markdown",
      "metadata": {
        "id": "l_Xf2ZrDWRA0"
      },
      "source": [
        "## Create Financial Data Retrieval Tools\n",
        "\n",
        "We will create custom tools as following which can be used by our Agentic AI System to interact with stock market data:\n",
        "\n",
        "   - **GET_STOCK_TICKER**: Validates and fetches stock tickers based on user queries.\n",
        "   - **GET_STOCK_PRICE_METRICS**: Retrieves price trends and metrics for specific stocks.\n",
        "   - **GET_STOCK_NEWS**: Extracts recent news articles related to stocks or markets.\n",
        "   - **GET_STOCK_FUNDAMENTAL_INDICATOR_METRICS**: Provides insights into financial indicators like P/E ratio, ROE, etc.\n",
        "   - **GET_GENERAL_MARKET_DATA**: Fetches general market trends and data.\n",
        "\n",
        "   \n",
        "![](https://i.imgur.com/C9Ay1kv.png)"
      ]
    },
    {
      "cell_type": "markdown",
      "metadata": {
        "id": "jWmtw-b3XFuF"
      },
      "source": [
        "Refer to the comprehensive [OpenBB Documentation](https://docs.openbb.co/platform/reference) for understanding the specific functions used below in more detail.\n"
      ]
    },
    {
      "cell_type": "code",
      "execution_count": null,
      "metadata": {
        "id": "z2YUX6YS97F8"
      },
      "outputs": [],
      "source": [
        "from langchain_core.tools import tool\n",
        "from datetime import datetime, timedelta\n",
        "\n",
        "@tool\n",
        "def get_stock_ticker_symbol(stock_name: str) -> str:\n",
        "    \"\"\"Get the symbol, name and CIK for any publicly traded company\"\"\"\n",
        "    # Use OpenBB to search for stock ticker symbol and company details by name.\n",
        "    # The provider \"sec\" fetches data from the U.S. Securities and Exchange Commission (SEC).\n",
        "    res = obb.equity.search(stock_name, provider=\"intrinio\")\n",
        "\n",
        "    # Convert the result to a DataFrame and format it as markdown for readability.\n",
        "    stock_ticker_details = res.to_df().to_markdown()\n",
        "\n",
        "    # Prepare the output with the stock details.\n",
        "    output = \"\"\"Here are the details of the company and its stock ticker symbol:\\n\\n\"\"\" + stock_ticker_details\n",
        "    return output\n",
        "\n",
        "@tool\n",
        "def get_stock_price_metrics(stock_ticker: str) -> str:\n",
        "    \"\"\"Get historical stock price data, stock price quote and price performance data\n",
        "       like price changes for a specific stock ticker\"\"\"\n",
        "\n",
        "    # Fetch the latest stock price quote using \"cboe\" provider.\n",
        "    res = obb.equity.price.quote(stock_ticker, provider='intrinio')\n",
        "    price_quote = res.to_df().to_markdown()\n",
        "\n",
        "    # Retrieve stock price performance metrics (e.g., percentage change) using \"finviz\" provider.\n",
        "    res = obb.equity.price.performance(symbol=stock_ticker, provider='finviz')\n",
        "    price_performance = res.to_df().to_markdown()\n",
        "\n",
        "    # Fetch historical price data for the past year using \"yfinance\" provider.\n",
        "    end_date = datetime.now()\n",
        "    start_date = (end_date - timedelta(days=365)).strftime(\"%Y-%m-%d\")\n",
        "    res = obb.equity.price.historical(symbol=stock_ticker, start_date=start_date,\n",
        "                                      interval='1d', provider='yfinance')\n",
        "    price_historical = res.to_df().to_markdown()\n",
        "\n",
        "    # Combine the results into a formatted output.\n",
        "    output = (\"\"\"Here are the stock price metrics and data for the stock ticker symbol \"\"\" + stock_ticker + \"\"\": \\n\\n\"\"\" +\n",
        "              \"Price Quote Metrics:\\n\\n\" + price_quote +\n",
        "              \"\\n\\nPrice Performance Metrics:\\n\\n\" + price_performance +\n",
        "              \"\\n\\nPrice Historical Data:\\n\\n\" + price_historical)\n",
        "    return output\n",
        "\n",
        "@tool\n",
        "def get_stock_fundamental_indicator_metrics(stock_ticker: str) -> str:\n",
        "    \"\"\"Get fundamental indicator metrics for a specific stock ticker\"\"\"\n",
        "\n",
        "    # Retrieve fundamental financial ratios (e.g., P/E ratio, ROE) using \"fmp\" provider.\n",
        "    res = obb.equity.fundamental.ratios(symbol=stock_ticker, period='annual',\n",
        "                                        limit=10, provider='fmp')\n",
        "    fundamental_ratios = res.to_df().to_markdown()\n",
        "\n",
        "    # Fetch additional fundamental metrics (e.g., EBITDA, revenue growth) using \"yfinance\" provider.\n",
        "    res = obb.equity.fundamental.metrics(symbol=stock_ticker, period='annual',\n",
        "                                        limit=10, provider='yfinance')\n",
        "    fundamental_metrics = res.to_df().to_markdown()\n",
        "\n",
        "    # Combine fundamental ratios and metrics into a single output.\n",
        "    output = (\"\"\"Here are the fundamental indicator metrics and data for the stock ticker symbol \"\"\" + stock_ticker + \"\"\": \\n\\n\"\"\" +\n",
        "              \"Fundamental Ratios:\\n\\n\" + fundamental_ratios +\n",
        "              \"\\n\\nFundamental Metrics:\\n\\n\" + fundamental_metrics)\n",
        "    return output\n",
        "\n",
        "@tool\n",
        "def get_stock_news(stock_ticker: str) -> str:\n",
        "    \"\"\"Get news article headlines for a specific stock ticker\"\"\"\n",
        "\n",
        "    # Define the date range to fetch news (last 45 days).\n",
        "    end_date = datetime.now()\n",
        "    start_date = (end_date - timedelta(days=45)).strftime(\"%Y-%m-%d\")\n",
        "\n",
        "    # Retrieve news headlines for the stock using \"tmx\" provider.\n",
        "    res = obb.news.company(symbol=stock_ticker, start_date=start_date, provider='tmx', limit=50)\n",
        "    news = res.to_df()\n",
        "\n",
        "    # Extract relevant columns (symbols and titles) and format as markdown.\n",
        "    news = news[['symbols', 'title']].to_markdown()\n",
        "\n",
        "    # Prepare the output with the news headlines.\n",
        "    output = (\"\"\"Here are the recent news headlines for the stock ticker symbol \"\"\" + stock_ticker + \"\"\": \\n\\n\"\"\" + news)\n",
        "    return output\n",
        "\n",
        "@tool\n",
        "def get_general_market_data() -> str:\n",
        "    \"\"\"Get general data and indicators for the whole stock market including,\n",
        "       most actively traded stocks based on volume, top price gainers and top price losers.\n",
        "       Useful when you want an overview of the market and what stocks to look at.\"\"\"\n",
        "\n",
        "    # Retrieve the most actively traded stocks using \"yfinance\" provider.\n",
        "    res = obb.equity.discovery.active(sort='desc', provider='yfinance', limit=15)\n",
        "    most_active_stocks = res.to_df().to_markdown()\n",
        "\n",
        "    # Fetch the top price gainers using \"yfinance\" provider.\n",
        "    res = obb.equity.discovery.gainers(sort='desc', provider='yfinance', limit=15)\n",
        "    price_gainers = res.to_df().to_markdown()\n",
        "\n",
        "    # Retrieve the top price losers using \"yfinance\" provider.\n",
        "    res = obb.equity.discovery.losers(sort='desc', provider='yfinance', limit=15)\n",
        "    price_losers = res.to_df().to_markdown()\n",
        "\n",
        "    # Combine the market data into a single formatted output.\n",
        "    output = (\"\"\"Here's some detailed information of the stock market which includes most actively traded stocks, gainers and losers:\\n\\n\"\"\" +\n",
        "              \"Most actively traded stocks:\\n\\n\" + most_active_stocks +\n",
        "              \"\\n\\nTop price gainers:\\n\\n\" + price_gainers +\n",
        "              \"\\n\\nTop price losers:\\n\\n\" + price_losers)\n",
        "    return output\n"
      ]
    },
    {
      "cell_type": "markdown",
      "metadata": {
        "id": "pRtu7IHrcQy8"
      },
      "source": [
        "## Test Tools"
      ]
    },
    {
      "cell_type": "code",
      "execution_count": null,
      "metadata": {
        "colab": {
          "base_uri": "https://localhost:8080/",
          "height": 1000
        },
        "id": "reeYrrrTvtNG",
        "outputId": "531d1e19-a32c-4a76-9549-68570b6e070f"
      },
      "outputs": [],
      "source": [
        "# from IPython.display import display, Markdown\n",
        "\n",
        "# response = get_general_market_data.invoke({})\n",
        "# display(Markdown(response))"
      ]
    },
    {
      "cell_type": "code",
      "execution_count": null,
      "metadata": {
        "colab": {
          "base_uri": "https://localhost:8080/",
          "height": 110
        },
        "id": "d3qIPWLEHv-C",
        "outputId": "9c5a8a71-cbde-4b15-bb6e-2e5c9fedf045"
      },
      "outputs": [],
      "source": [
        "response = get_stock_ticker_symbol.invoke('Nvidia')\n",
        "display(Markdown(response))"
      ]
    },
    {
      "cell_type": "code",
      "execution_count": null,
      "metadata": {
        "colab": {
          "base_uri": "https://localhost:8080/",
          "height": 1000
        },
        "id": "v1o0b_OVBIWT",
        "outputId": "a34a8d7c-94f5-4bad-c001-bf9800cb54c6"
      },
      "outputs": [],
      "source": [
        "response = get_stock_price_metrics.invoke('NVDA')\n",
        "display(Markdown(response))"
      ]
    },
    {
      "cell_type": "code",
      "execution_count": null,
      "metadata": {
        "colab": {
          "base_uri": "https://localhost:8080/",
          "height": 372
        },
        "id": "ZKBOaYLSyZdd",
        "outputId": "28cca1f8-cd15-4eae-c225-b7a55e9b055b"
      },
      "outputs": [],
      "source": [
        "response = get_stock_fundamental_indicator_metrics.invoke('NVDA')\n",
        "display(Markdown(response))"
      ]
    },
    {
      "cell_type": "code",
      "execution_count": null,
      "metadata": {
        "colab": {
          "base_uri": "https://localhost:8080/",
          "height": 1000
        },
        "id": "0gizQVvfzRSl",
        "outputId": "2da0bd9d-420c-47f0-f572-ad25523e2768"
      },
      "outputs": [],
      "source": [
        "response = get_stock_news.invoke('NVDA')\n",
        "display(Markdown(response))"
      ]
    },
    {
      "cell_type": "markdown",
      "metadata": {
        "id": "wPejQF3KcWMj"
      },
      "source": [
        "## Create Financial Analyst ReAct Agent System Prompt"
      ]
    },
    {
      "cell_type": "code",
      "execution_count": null,
      "metadata": {
        "colab": {
          "base_uri": "https://localhost:8080/"
        },
        "id": "a--7sXgWix3m",
        "outputId": "e7ed5ee5-84a3-4384-9a07-36ee13787121"
      },
      "outputs": [],
      "source": [
        "from langchain_openai import ChatOpenAI\n",
        "\n",
        "chatgpt = ChatOpenAI(model=\"gpt-4o\", temperature=0)\n",
        "tools = [get_stock_ticker_symbol,\n",
        "         get_stock_price_metrics,\n",
        "         get_stock_fundamental_indicator_metrics,\n",
        "         get_stock_news,\n",
        "         get_general_market_data]\n",
        "\n",
        "\n",
        "tools"
      ]
    },
    {
      "cell_type": "code",
      "execution_count": null,
      "metadata": {
        "colab": {
          "base_uri": "https://localhost:8080/"
        },
        "id": "CTBDaNlMj_wI",
        "outputId": "2e2688fb-d5e3-4858-fd7b-a9e828f1d458"
      },
      "outputs": [],
      "source": [
        "for tool in tools:\n",
        "    print(tool.name, '->', tool.description)"
      ]
    },
    {
      "cell_type": "code",
      "execution_count": null,
      "metadata": {
        "id": "7Lt50XyXix-p"
      },
      "outputs": [],
      "source": [
        "from langchain_core.messages import SystemMessage\n",
        "\n",
        "AGENT_PREFIX = \"\"\"Role: You are an AI stock market assistant tasked with providing investors\n",
        "with up-to-date, detailed information on individual stocks or advice based on general market data.\n",
        "\n",
        "Objective: Assist data-driven stock market investors by giving accurate,\n",
        "complete, but concise information relevant to their questions about individual\n",
        "stocks or general advice on useful stocks based on general market data and trends.\n",
        "\n",
        "Capabilities: You are given a number of tools as functions. Use as many tools\n",
        "as needed to ensure all information provided is timely, accurate, concise,\n",
        "relevant, and responsive to the user's query.\n",
        "\n",
        "Starting Flow:\n",
        "Input validation. Determine if the input is asking about a specific company\n",
        "or stock ticker (Flow 2). If not, check if they are asking for general advice on potentially useful stocks\n",
        "based on current market data (Flow 1). Otherwise, respond in a friendly, positive, professional tone\n",
        "that you don't have information to answer as you can only provide financial advice based on market data.\n",
        "For each of the flows related to valid questions use the following instructions:\n",
        "\n",
        "Flow 1:\n",
        "A. Market Analysis: If the query is valid and the user wants to get general advice on the market\n",
        "or stocks worth looking into for investing, leverage the general market data tool to get relevant data.\n",
        "\n",
        "Flow 2:\n",
        "A. Symbol extraction. If the query is valid and is related to a specific company or companies,\n",
        "extract the company name or ticker symbol from the question.\n",
        "If a company name is given, look up the ticker symbol using a tool.\n",
        "If the ticker symbol is not found based on the company, try to\n",
        "correct the spelling and try again, like changing \"microsfot\" to \"microsoft\",\n",
        "or broadening the search, like changing \"southwest airlines\" to a shorter variation\n",
        "like \"southwest\" and increasing \"limit\" to 10 or more. If the company or ticker is\n",
        "still unclear based on the question or conversation so far, and the results of the\n",
        "symbol lookup, then ask the user to clarify which company or ticker.\n",
        "\n",
        "B. Information retrieval. Determine what data the user is seeking on the symbol\n",
        "identified. Use the appropriate tools to fetch the requested information. Only use\n",
        "data obtained from the tools. You may use multiple tools in a sequence. For instance,\n",
        "first determine the company's symbol, then retrieve price data using the symbol\n",
        "and fundamental indicator data etc. For specific queries only retrieve data using the most relevant tool.\n",
        "If detailed analysis is needed, you can call multiple tools to retrieve data first.\n",
        "\n",
        "Response Generation Flow:\n",
        "Compose Response. Analyze the retrieved data carefully and provide a comprehensive answer to the user in a clear and concise format,\n",
        "in a friendly professional tone, emphasizing the data retrieved.\n",
        "If the user asks for recommendations you can give some recommendations\n",
        "but emphasize the user to do their own research before investing.\n",
        "When generating the final response in markdown,\n",
        "if there are special characters in the text, such as the dollar symbol,\n",
        "ensure they are escaped properly for correct rendering e.g $25.5 should become \\$25.5\n",
        "\n",
        "Example Interaction:\n",
        "User asks: \"What is the PE ratio for Eli Lilly?\"\n",
        "Chatbot recognizes 'Eli Lilly' as a company name.\n",
        "Chatbot uses symbol lookup to find the ticker for Eli Lilly, returning LLY.\n",
        "Chatbot retrieves the PE ratio using the proper function with symbol LLY.\n",
        "Chatbot responds: \"The PE ratio for Eli Lilly (symbol: LLY) as of May 12, 2024 is 30.\"\n",
        "\n",
        "Check carefully and only call the tools which are specifically named below.\n",
        "Only use data obtained from these tools.\n",
        "\"\"\"\n",
        "\n",
        "SYS_PROMPT = SystemMessage(content=AGENT_PREFIX)"
      ]
    },
    {
      "cell_type": "markdown",
      "metadata": {
        "id": "SWPaFdaZcmkX"
      },
      "source": [
        "## Create Financial Analyst ReAct Agent"
      ]
    },
    {
      "cell_type": "code",
      "execution_count": null,
      "metadata": {
        "colab": {
          "base_uri": "https://localhost:8080/",
          "height": 266
        },
        "id": "VlZFNdOYlXdn",
        "outputId": "767d9256-b31b-4d25-9f29-fff7e99afe9e"
      },
      "outputs": [],
      "source": [
        "from langchain_core.messages import HumanMessage\n",
        "from langgraph.prebuilt import create_react_agent\n",
        "from langchain_openai import ChatOpenAI\n",
        "\n",
        "chatgpt = ChatOpenAI(model=\"gpt-4o\", temperature=0)\n",
        "\n",
        "financial_analyst = create_react_agent(model=chatgpt,\n",
        "                                       tools=tools,\n",
        "                                       state_modifier=SYS_PROMPT)\n",
        "financial_analyst"
      ]
    },
    {
      "cell_type": "markdown",
      "metadata": {
        "id": "vXntIvcvcnsl"
      },
      "source": [
        "## Test Financial Analyst ReAct Agent"
      ]
    },
    {
      "cell_type": "code",
      "execution_count": null,
      "metadata": {
        "colab": {
          "base_uri": "https://localhost:8080/",
          "height": 1000
        },
        "id": "_-kBuMMOcOWm",
        "outputId": "7112816c-e3c9-4911-823c-e55f14228d3f"
      },
      "outputs": [],
      "source": [
        "from IPython.display import display, Markdown\n",
        "\n",
        "for event in financial_analyst.stream(\n",
        "    {\"messages\": [HumanMessage(content=\"Tell me some stocks I could potentially invest in\")]},\n",
        "    stream_mode='values' #returns full agent state with all messages including updates\n",
        "):\n",
        "    event[\"messages\"][-1].pretty_print()\n",
        "\n",
        "print('\\n\\nFinal Response:\\n')\n",
        "display(Markdown(event[\"messages\"][-1].content))"
      ]
    },
    {
      "cell_type": "code",
      "execution_count": null,
      "metadata": {
        "colab": {
          "base_uri": "https://localhost:8080/",
          "height": 1000
        },
        "id": "HcX3afdGlXj6",
        "outputId": "fb0d9b3a-5ada-4d7d-a03d-467009b116bd"
      },
      "outputs": [],
      "source": [
        "for event in financial_analyst.stream(\n",
        "    {\"messages\": [HumanMessage(content=\"Tell me how is Nvidia doing right now as a company and could I potentially invest in it?\")]},\n",
        "    stream_mode='values' #returns full agent state with all messages including updates\n",
        "):\n",
        "    event[\"messages\"][-1].pretty_print()\n",
        "\n",
        "print('\\n\\nFinal Response:\\n')\n",
        "display(Markdown(event[\"messages\"][-1].content))"
      ]
    },
    {
      "cell_type": "code",
      "execution_count": null,
      "metadata": {
        "id": "Rw2P3xHqwmuo"
      },
      "outputs": [],
      "source": [
        "def call_financial_analyst_agent(query, verbose=False):\n",
        "\n",
        "    for event in financial_analyst.stream(\n",
        "        {\"messages\": [HumanMessage(content=query)]},\n",
        "        stream_mode='values' #returns full agent state with all messages including updates\n",
        "    ):\n",
        "        if verbose:\n",
        "            event[\"messages\"][-1].pretty_print()\n",
        "\n",
        "    print('\\n\\nFinal Response:\\n')\n",
        "    display(Markdown(event[\"messages\"][-1].content))"
      ]
    },
    {
      "cell_type": "code",
      "execution_count": null,
      "metadata": {
        "colab": {
          "base_uri": "https://localhost:8080/",
          "height": 1000
        },
        "id": "YbnijTxIwfdb",
        "outputId": "f3e74cf4-92f3-4ddd-8406-0c552641d8cc"
      },
      "outputs": [],
      "source": [
        "call_financial_analyst_agent(query=\"Do a comparative analysis between Nvidia and Intel and recommend which one to buy or avoid?\",\n",
        "                             verbose=True)"
      ]
    },
    {
      "cell_type": "code",
      "execution_count": null,
      "metadata": {
        "colab": {
          "base_uri": "https://localhost:8080/",
          "height": 1000
        },
        "id": "nv--rQKD1ar0",
        "outputId": "69201cd6-1a25-4aba-a409-f58068a66dde"
      },
      "outputs": [],
      "source": [
        "call_financial_analyst_agent(query=\"Is Intel having any issues of late, could it still be a good buy?\",\n",
        "                    verbose=True)"
      ]
    },
    {
      "cell_type": "code",
      "execution_count": null,
      "metadata": {
        "colab": {
          "base_uri": "https://localhost:8080/",
          "height": 232
        },
        "id": "Qt7IZD171b4H",
        "outputId": "87bf59ad-cdd2-424b-ba95-e297abf39106"
      },
      "outputs": [],
      "source": [
        "call_financial_analyst_agent(query=\"Give me the Market Cap, PE Ratio, Revenue per share for Microsoft\",\n",
        "                             verbose=False)"
      ]
    },
    {
      "cell_type": "code",
      "execution_count": null,
      "metadata": {
        "colab": {
          "base_uri": "https://localhost:8080/",
          "height": 889
        },
        "id": "-6pk7cZkUnLz",
        "outputId": "a1180db3-6466-489a-9837-baa44b585b83"
      },
      "outputs": [],
      "source": [
        "call_financial_analyst_agent(query=\"Do a price analysis for Apple and give me some insights from it\",\n",
        "                             verbose=False)"
      ]
    }
  ],
  "metadata": {
    "colab": {
      "provenance": []
    },
    "kernelspec": {
      "display_name": "venv",
      "language": "python",
      "name": "python3"
    },
    "language_info": {
      "codemirror_mode": {
        "name": "ipython",
        "version": 3
      },
      "file_extension": ".py",
      "mimetype": "text/x-python",
      "name": "python",
      "nbconvert_exporter": "python",
      "pygments_lexer": "ipython3",
      "version": "3.11.6"
    }
  },
  "nbformat": 4,
  "nbformat_minor": 0
}
