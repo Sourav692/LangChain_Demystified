{
 "cells": [
  {
   "cell_type": "code",
   "execution_count": 0,
   "metadata": {
    "application/vnd.databricks.v1+cell": {
     "cellMetadata": {},
     "inputWidgets": {},
     "nuid": "e5a28be0-6645-4024-a645-fc0fddd4240d",
     "showTitle": false,
     "tableResultSettingsMap": {},
     "title": ""
    }
   },
   "outputs": [],
   "source": [
    "from getpass import getpass\n",
    "\n",
    "OPENAI_KEY = getpass('Enter Open AI API Key: ')"
   ]
  },
  {
   "cell_type": "code",
   "execution_count": 0,
   "metadata": {
    "application/vnd.databricks.v1+cell": {
     "cellMetadata": {},
     "inputWidgets": {},
     "nuid": "9c808890-cef1-45ac-bad9-f8c8b2e3d165",
     "showTitle": false,
     "tableResultSettingsMap": {},
     "title": ""
    }
   },
   "outputs": [],
   "source": [
    "import os\n",
    "\n",
    "os.environ['OPENAI_API_KEY'] = OPENAI_KEY"
   ]
  },
  {
   "cell_type": "markdown",
   "metadata": {
    "application/vnd.databricks.v1+cell": {
     "cellMetadata": {},
     "inputWidgets": {},
     "nuid": "4a6f5929-5704-413f-90e8-240edd0a8513",
     "showTitle": false,
     "tableResultSettingsMap": {},
     "title": ""
    }
   },
   "source": [
    "**What is Retrieval-Augmented Generation (RAG)?**\n",
    "\n",
    "RAG combines the capabilities of external knowledge retrieval with LLM text generation. Instead of relying solely on the model’s pre-trained knowledge, RAG retrieves relevant data from a knowledge base, augments it with the query, and uses the LLM to generate a response.\n"
   ]
  },
  {
   "cell_type": "markdown",
   "metadata": {
    "application/vnd.databricks.v1+cell": {
     "cellMetadata": {},
     "inputWidgets": {},
     "nuid": "17922350-32f6-4c78-aeae-a6794dc169e8",
     "showTitle": false,
     "tableResultSettingsMap": {},
     "title": ""
    }
   },
   "source": [
    "**Key Features of RAG**\n",
    "\n",
    "*   Dynamic Knowledge Access: Fetch real-time data from external sources.  \n",
    "*   Enhanced Contextual Responses: Use retrieved knowledge to augment LLM output.  \n",
    "*   Customizable Knowledge Sources: Connect to databases, document stores, or APIs.\n"
   ]
  },
  {
   "cell_type": "markdown",
   "metadata": {
    "application/vnd.databricks.v1+cell": {
     "cellMetadata": {},
     "inputWidgets": {},
     "nuid": "3077fdfa-2083-421d-84c0-73cddc9652ad",
     "showTitle": false,
     "tableResultSettingsMap": {},
     "title": ""
    }
   },
   "source": [
    "**Workflow of a RAG System** \n",
    "*   User Query →  \n",
    "*   Retrieve Relevant Data from a Knowledge Base →  \n",
    "*   Augment Query with Retrieved Data →  \n",
    "*   Generate Final Response Using an LLM.\n"
   ]
  },
  {
   "cell_type": "code",
   "execution_count": 0,
   "metadata": {
    "application/vnd.databricks.v1+cell": {
     "cellMetadata": {},
     "inputWidgets": {},
     "nuid": "30b69145-b3c8-45b2-bfe4-408c11d8f60a",
     "showTitle": false,
     "tableResultSettingsMap": {},
     "title": ""
    }
   },
   "outputs": [
    {
     "output_type": "stream",
     "name": "stdout",
     "output_type": "stream",
     "text": [
      "Requirement already satisfied: faiss-cpu in d:\\2. my workspace and notes\\1. demystify folders\\generativeai-demystified\\.venv\\lib\\site-packages (1.9.0.post1)\nRequirement already satisfied: openai in d:\\2. my workspace and notes\\1. demystify folders\\generativeai-demystified\\.venv\\lib\\site-packages (1.58.1)\nRequirement already satisfied: numpy<3.0,>=1.25.0 in d:\\2. my workspace and notes\\1. demystify folders\\generativeai-demystified\\.venv\\lib\\site-packages (from faiss-cpu) (1.26.4)\nRequirement already satisfied: packaging in d:\\2. my workspace and notes\\1. demystify folders\\generativeai-demystified\\.venv\\lib\\site-packages (from faiss-cpu) (24.2)\nRequirement already satisfied: anyio<5,>=3.5.0 in d:\\2. my workspace and notes\\1. demystify folders\\generativeai-demystified\\.venv\\lib\\site-packages (from openai) (4.7.0)\nRequirement already satisfied: distro<2,>=1.7.0 in d:\\2. my workspace and notes\\1. demystify folders\\generativeai-demystified\\.venv\\lib\\site-packages (from openai) (1.9.0)\nRequirement already satisfied: httpx<1,>=0.23.0 in d:\\2. my workspace and notes\\1. demystify folders\\generativeai-demystified\\.venv\\lib\\site-packages (from openai) (0.28.1)\nRequirement already satisfied: jiter<1,>=0.4.0 in d:\\2. my workspace and notes\\1. demystify folders\\generativeai-demystified\\.venv\\lib\\site-packages (from openai) (0.8.2)\nRequirement already satisfied: pydantic<3,>=1.9.0 in d:\\2. my workspace and notes\\1. demystify folders\\generativeai-demystified\\.venv\\lib\\site-packages (from openai) (2.10.4)\nRequirement already satisfied: sniffio in d:\\2. my workspace and notes\\1. demystify folders\\generativeai-demystified\\.venv\\lib\\site-packages (from openai) (1.3.1)\nRequirement already satisfied: tqdm>4 in d:\\2. my workspace and notes\\1. demystify folders\\generativeai-demystified\\.venv\\lib\\site-packages (from openai) (4.67.1)\nRequirement already satisfied: typing-extensions<5,>=4.11 in d:\\2. my workspace and notes\\1. demystify folders\\generativeai-demystified\\.venv\\lib\\site-packages (from openai) (4.12.2)\nRequirement already satisfied: exceptiongroup>=1.0.2 in d:\\2. my workspace and notes\\1. demystify folders\\generativeai-demystified\\.venv\\lib\\site-packages (from anyio<5,>=3.5.0->openai) (1.2.2)\nRequirement already satisfied: idna>=2.8 in d:\\2. my workspace and notes\\1. demystify folders\\generativeai-demystified\\.venv\\lib\\site-packages (from anyio<5,>=3.5.0->openai) (3.10)\nRequirement already satisfied: certifi in d:\\2. my workspace and notes\\1. demystify folders\\generativeai-demystified\\.venv\\lib\\site-packages (from httpx<1,>=0.23.0->openai) (2024.12.14)\nRequirement already satisfied: httpcore==1.* in d:\\2. my workspace and notes\\1. demystify folders\\generativeai-demystified\\.venv\\lib\\site-packages (from httpx<1,>=0.23.0->openai) (1.0.7)\nRequirement already satisfied: h11<0.15,>=0.13 in d:\\2. my workspace and notes\\1. demystify folders\\generativeai-demystified\\.venv\\lib\\site-packages (from httpcore==1.*->httpx<1,>=0.23.0->openai) (0.14.0)\nRequirement already satisfied: annotated-types>=0.6.0 in d:\\2. my workspace and notes\\1. demystify folders\\generativeai-demystified\\.venv\\lib\\site-packages (from pydantic<3,>=1.9.0->openai) (0.7.0)\nRequirement already satisfied: pydantic-core==2.27.2 in d:\\2. my workspace and notes\\1. demystify folders\\generativeai-demystified\\.venv\\lib\\site-packages (from pydantic<3,>=1.9.0->openai) (2.27.2)\nRequirement already satisfied: colorama in d:\\2. my workspace and notes\\1. demystify folders\\generativeai-demystified\\.venv\\lib\\site-packages (from tqdm>4->openai) (0.4.6)\n"
     ]
    }
   ],
   "source": [
    "!pip install faiss-cpu openai"
   ]
  },
  {
   "cell_type": "markdown",
   "metadata": {
    "application/vnd.databricks.v1+cell": {
     "cellMetadata": {},
     "inputWidgets": {},
     "nuid": "ee0165b0-78e9-4e9a-b3eb-9664260c7d44",
     "showTitle": false,
     "tableResultSettingsMap": {},
     "title": ""
    }
   },
   "source": [
    "#### Import Libraries"
   ]
  },
  {
   "cell_type": "code",
   "execution_count": 0,
   "metadata": {
    "application/vnd.databricks.v1+cell": {
     "cellMetadata": {},
     "inputWidgets": {},
     "nuid": "d6218fed-4e85-40e1-8a2e-23f4ddb0b79b",
     "showTitle": false,
     "tableResultSettingsMap": {},
     "title": ""
    }
   },
   "outputs": [],
   "source": [
    "from langchain.chains import RetrievalQA\n",
    "from langchain.vectorstores import FAISS\n",
    "from langchain.embeddings import OpenAIEmbeddings\n",
    "from langchain.llms import OpenAI\n",
    "import os\n"
   ]
  },
  {
   "cell_type": "markdown",
   "metadata": {
    "application/vnd.databricks.v1+cell": {
     "cellMetadata": {},
     "inputWidgets": {},
     "nuid": "68f7d531-ba4b-4f82-b0c1-74d77bfa5502",
     "showTitle": false,
     "tableResultSettingsMap": {},
     "title": ""
    }
   },
   "source": [
    "### Basic RAG Application"
   ]
  },
  {
   "cell_type": "markdown",
   "metadata": {
    "application/vnd.databricks.v1+cell": {
     "cellMetadata": {},
     "inputWidgets": {},
     "nuid": "9eff1559-e0db-4e49-85ac-737c6837a053",
     "showTitle": false,
     "tableResultSettingsMap": {},
     "title": ""
    }
   },
   "source": [
    "#### Setup the Vector Database"
   ]
  },
  {
   "cell_type": "code",
   "execution_count": 0,
   "metadata": {
    "application/vnd.databricks.v1+cell": {
     "cellMetadata": {},
     "inputWidgets": {},
     "nuid": "ab554d18-6a1e-4ba5-ac77-5dbd09999725",
     "showTitle": false,
     "tableResultSettingsMap": {},
     "title": ""
    }
   },
   "outputs": [],
   "source": [
    "from langchain.schema import Document"
   ]
  },
  {
   "cell_type": "code",
   "execution_count": 0,
   "metadata": {
    "application/vnd.databricks.v1+cell": {
     "cellMetadata": {},
     "inputWidgets": {},
     "nuid": "96458299-2456-4468-b749-72fb4ece1b9b",
     "showTitle": false,
     "tableResultSettingsMap": {},
     "title": ""
    }
   },
   "outputs": [],
   "source": [
    "documents = [\n",
    "    {\"text\": \"LangChain is a framework for building applications with large language models.\"},\n",
    "    {\"text\": \"Retrieval-Augmented Generation combines retrieval with text generation.\"},\n",
    "    {\"text\": \"FAISS is a vector database used for similarity searches.\"},\n",
    "    {\"text\": \"Transformers are deep learning models designed for sequence-to-sequence tasks.\"},\n",
    "    {\"text\": \"Tokenization is the process of breaking text into individual words or subwords.\"},\n",
    "    {\"text\": \"BERT is a pre-trained transformer model developed by Google for natural language understanding.\"},\n",
    "    {\"text\": \"GPT-3 is an autoregressive language model that uses deep learning to produce human-like text.\"},\n",
    "    {\"text\": \"Attention mechanisms allow models to focus on specific parts of the input sequence.\"},\n",
    "    {\"text\": \"Natural Language Processing enables computers to understand and process human languages.\"},\n",
    "    {\"text\": \"Word embeddings are vector representations of words capturing their meanings and relationships.\"}\n",
    "]\n",
    "\n",
    "document_objects = [Document(page_content=doc[\"text\"]) for doc in documents]\n"
   ]
  },
  {
   "cell_type": "markdown",
   "metadata": {
    "application/vnd.databricks.v1+cell": {
     "cellMetadata": {},
     "inputWidgets": {},
     "nuid": "f6530263-f3e8-4185-b4e2-36bca0401445",
     "showTitle": false,
     "tableResultSettingsMap": {},
     "title": ""
    }
   },
   "source": [
    "#### Generate Embeddings"
   ]
  },
  {
   "cell_type": "code",
   "execution_count": 0,
   "metadata": {
    "application/vnd.databricks.v1+cell": {
     "cellMetadata": {},
     "inputWidgets": {},
     "nuid": "6c95f155-61ab-41be-9188-c95917966317",
     "showTitle": false,
     "tableResultSettingsMap": {},
     "title": ""
    }
   },
   "outputs": [],
   "source": [
    "\n",
    "embeddings = OpenAIEmbeddings(api_key=OPENAI_KEY)"
   ]
  },
  {
   "cell_type": "markdown",
   "metadata": {
    "application/vnd.databricks.v1+cell": {
     "cellMetadata": {},
     "inputWidgets": {},
     "nuid": "6effe3df-5854-49c8-a5e2-efe23e918d44",
     "showTitle": false,
     "tableResultSettingsMap": {},
     "title": ""
    }
   },
   "source": [
    "#### Load the Document into a FAISS Vector Store"
   ]
  },
  {
   "cell_type": "code",
   "execution_count": 0,
   "metadata": {
    "application/vnd.databricks.v1+cell": {
     "cellMetadata": {},
     "inputWidgets": {},
     "nuid": "9fa03678-de55-40b5-af30-1daa3f5d1a0f",
     "showTitle": false,
     "tableResultSettingsMap": {},
     "title": ""
    }
   },
   "outputs": [],
   "source": [
    "\n",
    "\n",
    "vector_db = FAISS.from_documents(document_objects, embeddings)"
   ]
  },
  {
   "cell_type": "markdown",
   "metadata": {
    "application/vnd.databricks.v1+cell": {
     "cellMetadata": {},
     "inputWidgets": {},
     "nuid": "f07f04c9-a4e3-4710-8505-bb1377555e35",
     "showTitle": false,
     "tableResultSettingsMap": {},
     "title": ""
    }
   },
   "source": [
    "#### Setup LLM and Retrieval Chain"
   ]
  },
  {
   "cell_type": "code",
   "execution_count": 0,
   "metadata": {
    "application/vnd.databricks.v1+cell": {
     "cellMetadata": {},
     "inputWidgets": {},
     "nuid": "beee3702-6902-44eb-bc85-1d47de13dc49",
     "showTitle": false,
     "tableResultSettingsMap": {},
     "title": ""
    }
   },
   "outputs": [],
   "source": [
    "\n",
    "\n",
    "llm = OpenAI(model = 'gpt-3.5-turbo-instruct',temperature=0.7)\n",
    "\n",
    "retriever = vector_db.as_retriever()\n",
    "\n",
    "qa_chain = RetrievalQA.from_chain_type(\n",
    "    llm=llm,\n",
    "    chain_type=\"stuff\",  # Specify the chain type as needed\n",
    "    retriever=retriever,\n",
    "    return_source_documents=True  # Optional: Set to True if you want to return source documents\n",
    ")"
   ]
  },
  {
   "cell_type": "markdown",
   "metadata": {
    "application/vnd.databricks.v1+cell": {
     "cellMetadata": {},
     "inputWidgets": {},
     "nuid": "d615c57e-e2aa-434a-bbdd-64ca68b1f398",
     "showTitle": false,
     "tableResultSettingsMap": {},
     "title": ""
    }
   },
   "source": [
    "#### Process the Query and return the document and answer"
   ]
  },
  {
   "cell_type": "code",
   "execution_count": 0,
   "metadata": {
    "application/vnd.databricks.v1+cell": {
     "cellMetadata": {},
     "inputWidgets": {},
     "nuid": "8aa7e8a1-a2fa-4f79-b8eb-d4763b5c9d19",
     "showTitle": false,
     "tableResultSettingsMap": {},
     "title": ""
    }
   },
   "outputs": [],
   "source": [
    "input_data = {\"query\": \"Vector database used for similarity searches\"}\n",
    "result = qa_chain(input_data)"
   ]
  },
  {
   "cell_type": "markdown",
   "metadata": {
    "application/vnd.databricks.v1+cell": {
     "cellMetadata": {},
     "inputWidgets": {},
     "nuid": "880649f7-6fa8-4a9f-9481-883d103396a5",
     "showTitle": false,
     "tableResultSettingsMap": {},
     "title": ""
    }
   },
   "source": [
    "#### Extract the answer and source documents which contains the answer"
   ]
  },
  {
   "cell_type": "code",
   "execution_count": 0,
   "metadata": {
    "application/vnd.databricks.v1+cell": {
     "cellMetadata": {},
     "inputWidgets": {},
     "nuid": "a2b53ea2-ef9e-4ee9-bf89-fa748e78315e",
     "showTitle": false,
     "tableResultSettingsMap": {},
     "title": ""
    }
   },
   "outputs": [],
   "source": [
    "answer = result['result']\n",
    "source_docs = result['source_documents']"
   ]
  },
  {
   "cell_type": "code",
   "execution_count": 0,
   "metadata": {
    "application/vnd.databricks.v1+cell": {
     "cellMetadata": {},
     "inputWidgets": {},
     "nuid": "e236ed31-1854-47fa-b2c8-502c0f01b468",
     "showTitle": false,
     "tableResultSettingsMap": {},
     "title": ""
    }
   },
   "outputs": [
    {
     "output_type": "stream",
     "name": "stdout",
     "output_type": "stream",
     "text": [
      "Answer:  FAISS\nSource Documents: [Document(metadata={}, page_content='FAISS is a vector database used for similarity searches.'), Document(metadata={}, page_content='Word embeddings are vector representations of words capturing their meanings and relationships.'), Document(metadata={}, page_content='LangChain is a framework for building applications with large language models.'), Document(metadata={}, page_content='BERT is a pre-trained transformer model developed by Google for natural language understanding.')]\n"
     ]
    }
   ],
   "source": [
    "print(\"Answer:\", answer)\n",
    "print(\"Source Documents:\", source_docs)"
   ]
  },
  {
   "cell_type": "markdown",
   "metadata": {
    "application/vnd.databricks.v1+cell": {
     "cellMetadata": {},
     "inputWidgets": {},
     "nuid": "ca86228e-a6cd-4148-bebe-50f614788112",
     "showTitle": false,
     "tableResultSettingsMap": {},
     "title": ""
    }
   },
   "source": [
    "![image.png](attachment:image.png)"
   ]
  },
  {
   "cell_type": "markdown",
   "metadata": {
    "application/vnd.databricks.v1+cell": {
     "cellMetadata": {},
     "inputWidgets": {},
     "nuid": "7a85826e-03b4-4c30-93ae-941350927839",
     "showTitle": false,
     "tableResultSettingsMap": {},
     "title": ""
    }
   },
   "source": [
    "### Enhance the RAG Application"
   ]
  },
  {
   "cell_type": "markdown",
   "metadata": {
    "application/vnd.databricks.v1+cell": {
     "cellMetadata": {},
     "inputWidgets": {},
     "nuid": "8689c98d-914f-4d45-a4a6-e352ac7cd409",
     "showTitle": false,
     "tableResultSettingsMap": {},
     "title": ""
    }
   },
   "source": [
    "#### Expand the system to retrieve and summarize multiple documents for complex queries.\n",
    "\n",
    "* Modify the retrieval step to fetch multiple documents.  \n",
    "* Use a summarization prompt to condense the retrieved information.\n",
    "\n"
   ]
  },
  {
   "cell_type": "code",
   "execution_count": 0,
   "metadata": {
    "application/vnd.databricks.v1+cell": {
     "cellMetadata": {},
     "inputWidgets": {},
     "nuid": "fcbeb826-b91d-4263-b61b-2bc6d1047d16",
     "showTitle": false,
     "tableResultSettingsMap": {},
     "title": ""
    }
   },
   "outputs": [],
   "source": [
    "# Modify retriever to fetch top 3 documents \n",
    "retriever = vector_db.as_retriever(search_kwargs={\"k\": 3})"
   ]
  },
  {
   "cell_type": "code",
   "execution_count": 0,
   "metadata": {
    "application/vnd.databricks.v1+cell": {
     "cellMetadata": {},
     "inputWidgets": {},
     "nuid": "2939608e-c168-418a-b9c0-45b983d2d075",
     "showTitle": false,
     "tableResultSettingsMap": {},
     "title": ""
    }
   },
   "outputs": [],
   "source": [
    "# Update the QA Chain for Summarization\n",
    "qa_chain = RetrievalQA.from_chain_type(\n",
    "    llm=llm,\n",
    "    chain_type=\"stuff\",  # Specify the chain type as needed\n",
    "    retriever=retriever,\n",
    "    return_source_documents=True  # Set to True to return source documents\n",
    ")"
   ]
  },
  {
   "cell_type": "code",
   "execution_count": 0,
   "metadata": {
    "application/vnd.databricks.v1+cell": {
     "cellMetadata": {},
     "inputWidgets": {},
     "nuid": "54cbb4da-66ab-4148-bd9e-d149abdd2c2e",
     "showTitle": false,
     "tableResultSettingsMap": {},
     "title": ""
    }
   },
   "outputs": [],
   "source": [
    "input_data = {\"query\": \"Vector database used for similarity searches\"}\n",
    "result = qa_chain(input_data)"
   ]
  },
  {
   "cell_type": "code",
   "execution_count": 0,
   "metadata": {
    "application/vnd.databricks.v1+cell": {
     "cellMetadata": {},
     "inputWidgets": {},
     "nuid": "4a0f3ba2-855f-4cca-9145-01a1679f82e2",
     "showTitle": false,
     "tableResultSettingsMap": {},
     "title": ""
    }
   },
   "outputs": [
    {
     "output_type": "execute_result",
     "data": {
      "text/plain": [
       "{'query': 'Vector database used for similarity searches',\n",
       " 'result': ' FAISS',\n",
       " 'source_documents': [Document(metadata={}, page_content='FAISS is a vector database used for similarity searches.'),\n",
       "  Document(metadata={}, page_content='Word embeddings are vector representations of words capturing their meanings and relationships.'),\n",
       "  Document(metadata={}, page_content='LangChain is a framework for building applications with large language models.')]}"
      ]
     },
     "execution_count": 48,
     "metadata": {},
     "output_type": "execute_result"
    }
   ],
   "source": [
    "result"
   ]
  },
  {
   "cell_type": "code",
   "execution_count": 0,
   "metadata": {
    "application/vnd.databricks.v1+cell": {
     "cellMetadata": {},
     "inputWidgets": {},
     "nuid": "1d071027-2c48-4ba0-8c6e-6469c087f723",
     "showTitle": false,
     "tableResultSettingsMap": {},
     "title": ""
    }
   },
   "outputs": [],
   "source": []
  }
 ],
 "metadata": {
  "application/vnd.databricks.v1+notebook": {
   "computePreferences": null,
   "dashboards": [],
   "environmentMetadata": null,
   "language": "python",
   "notebookMetadata": {},
   "notebookName": "6. Implementing RAG",
   "widgets": {}
  },
  "kernelspec": {
   "display_name": ".venv",
   "language": "python",
   "name": "python3"
  },
  "language_info": {
   "name": "python"
  }
 },
 "nbformat": 4,
 "nbformat_minor": 0
}
