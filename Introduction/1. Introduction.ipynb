{
 "cells": [
  {
   "cell_type": "code",
   "execution_count": 0,
   "metadata": {
    "application/vnd.databricks.v1+cell": {
     "cellMetadata": {},
     "inputWidgets": {},
     "nuid": "dc651ec5-a7f0-4cfe-b4f2-18d9eb5c488c",
     "showTitle": false,
     "tableResultSettingsMap": {},
     "title": ""
    }
   },
   "outputs": [],
   "source": [
    "from getpass import getpass\n",
    "\n",
    "OPENAI_KEY = getpass('Enter Open AI API Key: ')"
   ]
  },
  {
   "cell_type": "code",
   "execution_count": 0,
   "metadata": {
    "application/vnd.databricks.v1+cell": {
     "cellMetadata": {},
     "inputWidgets": {},
     "nuid": "ff6bfc09-d93d-407f-98c9-65dbff528232",
     "showTitle": false,
     "tableResultSettingsMap": {},
     "title": ""
    }
   },
   "outputs": [],
   "source": [
    "import os\n",
    "\n",
    "os.environ['OPENAI_API_KEY'] = OPENAI_KEY"
   ]
  },
  {
   "cell_type": "code",
   "execution_count": 0,
   "metadata": {
    "application/vnd.databricks.v1+cell": {
     "cellMetadata": {},
     "inputWidgets": {},
     "nuid": "9f6f9013-b58d-4e55-b563-1e35747e2d43",
     "showTitle": false,
     "tableResultSettingsMap": {},
     "title": ""
    }
   },
   "outputs": [],
   "source": [
    "from langchain.llms import OpenAI"
   ]
  },
  {
   "cell_type": "markdown",
   "metadata": {
    "application/vnd.databricks.v1+cell": {
     "cellMetadata": {},
     "inputWidgets": {},
     "nuid": "5e3f4601-f77c-4535-81a2-2970248c1bd5",
     "showTitle": false,
     "tableResultSettingsMap": {},
     "title": ""
    }
   },
   "source": [
    "### Introduction of LangChain"
   ]
  },
  {
   "cell_type": "code",
   "execution_count": 0,
   "metadata": {
    "application/vnd.databricks.v1+cell": {
     "cellMetadata": {},
     "inputWidgets": {},
     "nuid": "4c1f07b6-e0a3-4efb-9b1a-b87eed7e3aef",
     "showTitle": false,
     "tableResultSettingsMap": {},
     "title": ""
    }
   },
   "outputs": [
    {
     "output_type": "stream",
     "name": "stdout",
     "output_type": "stream",
     "text": [
      "\n\nThe capital of France is Paris.\n-------------------------------------------------\n\n\nLangChain is a decentralized blockchain platform that aims to revolutionize the language learning industry. It uses smart contracts and other blockchain technologies to create a transparent and efficient ecosystem for language learners and educators. The platform offers a range of features such as personalized learning plans, peer-to-peer language exchanges, and rewards for language proficiency, all powered by its native cryptocurrency, LANG. This innovative approach to language learning aims to make it more accessible, affordable, and effective for individuals around the world.\n"
     ]
    }
   ],
   "source": [
    "try:\n",
    "    # Initialize the LLM\n",
    "\n",
    "    llm = OpenAI(model = 'gpt-3.5-turbo-instruct')\n",
    "\n",
    "    # Get the response\n",
    "    response = llm.invoke('What is the capital of France?')\n",
    "    print(response)\n",
    "    \n",
    "    print(\"-------------------------------------------------\")\n",
    "    \n",
    "    # Use llm.generate() moethod to generate response\n",
    "    alt_response = llm.generate([{\"What is LangChain?\"}])\n",
    "    print(alt_response.generations[0][0].text)\n",
    "except Exception as e:\n",
    "    print(e)"
   ]
  },
  {
   "cell_type": "markdown",
   "metadata": {
    "application/vnd.databricks.v1+cell": {
     "cellMetadata": {},
     "inputWidgets": {},
     "nuid": "c46bc7a5-9933-4dfb-b124-5c80b8877673",
     "showTitle": false,
     "tableResultSettingsMap": {},
     "title": ""
    }
   },
   "source": [
    "### First LangChain Project \n",
    "\n",
    "A LangChain pipeline is a sequence of steps where inputs are processed to produce outputs. For your first project, you’ll create a basic pipeline that uses an LLM to generate text responses based on user input.\n",
    "\n"
   ]
  },
  {
   "cell_type": "markdown",
   "metadata": {
    "application/vnd.databricks.v1+cell": {
     "cellMetadata": {},
     "inputWidgets": {},
     "nuid": "39546b1c-5818-4969-ad53-abc8f3c6a85c",
     "showTitle": false,
     "tableResultSettingsMap": {},
     "title": ""
    }
   },
   "source": [
    "Build a pipeline that: \n",
    "* Accepts a user’s question as input.  \n",
    "* Uses a pre-trained LLM to generate a response.   \n",
    "* Outputs the generated text."
   ]
  },
  {
   "cell_type": "code",
   "execution_count": 0,
   "metadata": {
    "application/vnd.databricks.v1+cell": {
     "cellMetadata": {},
     "inputWidgets": {},
     "nuid": "f15eb1c3-a4d3-4daa-9a6d-6fe6ef583bc1",
     "showTitle": false,
     "tableResultSettingsMap": {},
     "title": ""
    }
   },
   "outputs": [],
   "source": [
    "from langchain.chains import LLMChain\n",
    "from langchain.prompts import PromptTemplate\n",
    "from langchain.llms import OpenAI"
   ]
  },
  {
   "cell_type": "code",
   "execution_count": 0,
   "metadata": {
    "application/vnd.databricks.v1+cell": {
     "cellMetadata": {},
     "inputWidgets": {},
     "nuid": "4d3c1421-93bf-40cc-a040-b387c7aeb86e",
     "showTitle": false,
     "tableResultSettingsMap": {},
     "title": ""
    }
   },
   "outputs": [
    {
     "output_type": "stream",
     "name": "stdout",
     "output_type": "stream",
     "text": [
      "\n\nGenerative AI, also known as generative adversarial networks (GANs), is a type of artificial intelligence (AI) that involves the use of machine learning algorithms to create new and original content. It is a subset of deep learning, which is a branch of artificial intelligence that enables machines to learn and improve from experience without being explicitly programmed.\n\nThe concept of generative AI was first proposed by Ian Goodfellow and his colleagues in 2014. It involves two neural networks, a generator and a discriminator, that work together in a competitive process to create new data samples that are similar to the training data.\n\nThe generator network receives random input data and generates new data samples, while the discriminator network evaluates the authenticity of the generated samples by comparing them to the training data. The two networks continue to improve and refine their outputs through this adversarial process, creating more realistic and accurate results over time.\n\nGenerative AI has various applications, including image and video generation, text-to-image synthesis, and voice and music generation. It has also been used in fields such as art, design, and gaming to create new and unique content.\n\nOne of the main advantages of generative AI is its ability to create original content without the need for large amounts of training data. This makes it\n-------------------------------------------------\n\n\nDeep Learning is a subset of Machine Learning that uses artificial neural networks to learn and make predictions from large datasets. It is inspired by the structure and function of the human brain, where neurons are connected to each other to process information and make decisions.\n\nThe main goal of Deep Learning is to create models that can learn and make accurate predictions or decisions without being explicitly programmed. This is achieved by feeding large amounts of data into a deep neural network, which consists of multiple layers of interconnected nodes. Each layer extracts different features from the data and passes them to the next layer, eventually producing an output.\n\nSome key characteristics of Deep Learning are:\n\n1. Ability to handle large and complex datasets: Deep Learning models are capable of handling large and high-dimensional datasets, making it suitable for tasks such as image recognition, speech recognition, and natural language processing.\n\n2. Automatic feature extraction: Unlike traditional Machine Learning methods, Deep Learning models do not require manual feature extraction. The model automatically learns the relevant features from the data, making it more efficient and accurate.\n\n3. Non-linearity: Deep Learning models can learn complex non-linear relationships between data points, making them more powerful than traditional linear models.\n\n4. Training through backpropagation: Deep Learning models are trained using backpropagation, which involves\n-------------------------------------------------\n\n\nDeep learning is a subset of machine learning that uses artificial neural networks to learn from data. It is a type of artificial intelligence that allows computers to learn and make decisions without explicit programming. It is inspired by the structure and function of the human brain and has been successfully applied to various fields such as computer vision, natural language processing, and speech recognition. Deep learning algorithms are able to process large amounts of data and extract meaningful patterns, making it suitable for handling complex and unstructured data. It has gained popularity in recent years due to its success in various applications, including self-driving cars, image recognition, and medical diagnosis. Some popular deep learning frameworks include TensorFlow, PyTorch, and Keras.\n"
     ]
    }
   ],
   "source": [
    "try:\n",
    "    \n",
    "    # Step 1: Initialize the LLM\n",
    "    llm = OpenAI(model = 'gpt-3.5-turbo-instruct')\n",
    "\n",
    "    # Step 2 : Create a Prompt Template\n",
    "    prompts = PromptTemplate(\n",
    "        input_variables= ['topic'],\n",
    "        template= \"Provide me details about {topic}?\"\n",
    "    )\n",
    "\n",
    "    # Step 3: Create a LLMChain\n",
    "    chain = LLMChain(llm = llm, prompt = prompts)\n",
    "\n",
    "    # Step 4: Generate the response\n",
    "    response = chain.invoke('Generative AI')\n",
    "\n",
    "    resp = chain.generate([{'topic': 'Deep Learning'}])\n",
    "    resp1 = chain.run([{'topic': 'Deep Learning'}])\n",
    "    \n",
    "    print(response[\"text\"])\n",
    "    print(\"-------------------------------------------------\")\n",
    "    print(resp.generations[0][0].text)\n",
    "    print(\"-------------------------------------------------\")\n",
    "    print(resp1)\n",
    "    \n",
    "except Exception as e:\n",
    "    print(e)"
   ]
  },
  {
   "cell_type": "markdown",
   "metadata": {
    "application/vnd.databricks.v1+cell": {
     "cellMetadata": {},
     "inputWidgets": {},
     "nuid": "0bc02a62-48bd-449b-82fe-8e97663f527a",
     "showTitle": false,
     "tableResultSettingsMap": {},
     "title": ""
    }
   },
   "source": [
    "### Modify the above project\n",
    "* After generating the response, summarize it into a shorter version."
   ]
  },
  {
   "cell_type": "code",
   "execution_count": 0,
   "metadata": {
    "application/vnd.databricks.v1+cell": {
     "cellMetadata": {},
     "inputWidgets": {},
     "nuid": "8f4690bf-6a59-4ef5-9215-d965a4714d45",
     "showTitle": false,
     "tableResultSettingsMap": {},
     "title": ""
    }
   },
   "outputs": [
    {
     "output_type": "stream",
     "name": "stdout",
     "output_type": "stream",
     "text": [
      "\n\nDeep Learning is a machine learning technique that involves training neural networks to learn from large datasets in an unsupervised manner, automatically extract features, handle non-linear relationships, and adjust weights using backpropagation.\n"
     ]
    }
   ],
   "source": [
    "from langchain.chains import LLMChain,SequentialChain\n",
    "from langchain.prompts import PromptTemplate\n",
    "from langchain.llms import OpenAI\n",
    "\n",
    "try:\n",
    "    \n",
    "    # Step 1: Initialize the LLM\n",
    "    llm = OpenAI(model_name='gpt-3.5-turbo-instruct')\n",
    "\n",
    "    # Step 2: Create Prompt Templates\n",
    "    detail_prompt = PromptTemplate(\n",
    "        input_variables=['topic'],\n",
    "        template=\"Provide me details about {topic}?\"\n",
    "    )\n",
    "\n",
    "    summary_prompt = PromptTemplate(\n",
    "        input_variables=['text'],\n",
    "        template=\"Summarize the following text into a single concise sentence: {text}\"\n",
    "    )\n",
    "\n",
    "    # Step 3: Create LLM Chains\n",
    "    answer_chain = LLMChain(llm=llm, prompt=detail_prompt,verbose=True)\n",
    "    summary_chain = LLMChain(llm=llm, prompt=summary_prompt,verbose=True)\n",
    "\n",
    "    # Step 4: Combine the Chains\n",
    "    pipeline = SimpleSequentialChain(chains=[answer_chain, summary_chain])\n",
    "\n",
    "    # Step 5: Generate the Response\n",
    "    response = pipeline.run('Deep Learning')\n",
    "\n",
    "    print(response)\n",
    "        \n",
    "    \n",
    "except Exception as e:\n",
    "    print(e)"
   ]
  },
  {
   "cell_type": "markdown",
   "metadata": {
    "application/vnd.databricks.v1+cell": {
     "cellMetadata": {},
     "inputWidgets": {},
     "nuid": "ddd8ba57-330a-4583-9a7e-26f90244ae62",
     "showTitle": false,
     "tableResultSettingsMap": {},
     "title": ""
    }
   },
   "source": [
    "### Add a Sentiment Analysis Step at the end"
   ]
  },
  {
   "cell_type": "code",
   "execution_count": 0,
   "metadata": {
    "application/vnd.databricks.v1+cell": {
     "cellMetadata": {},
     "inputWidgets": {},
     "nuid": "4d8f7865-ea5f-4a0b-8790-fefc0f03f0e5",
     "showTitle": false,
     "tableResultSettingsMap": {},
     "title": ""
    }
   },
   "outputs": [
    {
     "output_type": "stream",
     "name": "stdout",
     "output_type": "stream",
     "text": [
      "\n\n\u001B[1m> Entering new SimpleSequentialChain chain...\u001B[0m\n\u001B[36;1m\u001B[1;3m\n\nDeep Learning is a subset of machine learning that uses artificial neural networks to learn and make decisions without being explicitly programmed. It is a field of artificial intelligence that mimics the way the human brain processes information, by using multiple layers of interconnected nodes to process and analyze data. These neural networks are trained on large datasets to recognize patterns and make predictions or decisions.\n\nDeep Learning has gained popularity in recent years due to its ability to handle large and complex datasets, and its success in various applications such as image and speech recognition, natural language processing, and autonomous vehicles.\n\nSome key concepts and techniques used in Deep Learning include:\n\n1. Artificial Neural Networks (ANN): These are the building blocks of Deep Learning models, inspired by the structure and functioning of the human brain. ANN consists of interconnected nodes that process data and make decisions.\n\n2. Convolutional Neural Networks (CNN): These are specialized neural networks designed for image recognition and processing tasks. They use filters and layers to extract features from images and classify them.\n\n3. Recurrent Neural Networks (RNN): These are used in tasks that involve sequential data, such as natural language processing. RNNs have a feedback loop that allows them to process and retain information from previous inputs.\n\n4. Backpropagation: This is a key\u001B[0m\n\u001B[33;1m\u001B[1;3m algorithm used in training neural networks, where errors are propagated backwards through the network to adjust the weights and improve the model's performance.\n\nDeep Learning is a popular field of artificial intelligence that uses neural networks to learn and make decisions, particularly in tasks involving large and complex datasets, such as image and speech recognition, natural language processing, and autonomous vehicles, and employs techniques such as ANN, CNN, RNN, and backpropagation for training and improving its models.\u001B[0m\n\n\n\u001B[1m> Entering new LLMChain chain...\u001B[0m\nPrompt after formatting:\n\u001B[32;1m\u001B[1;3mAnalyze the sentiment of the following text:  algorithm used in training neural networks, where errors are propagated backwards through the network to adjust the weights and improve the model's performance.\n\nDeep Learning is a popular field of artificial intelligence that uses neural networks to learn and make decisions, particularly in tasks involving large and complex datasets, such as image and speech recognition, natural language processing, and autonomous vehicles, and employs techniques such as ANN, CNN, RNN, and backpropagation for training and improving its models.\u001B[0m\n\n\u001B[1m> Finished chain.\u001B[0m\n\u001B[38;5;200m\u001B[1;3m\n\nThe sentiment of this text is positive. It highlights the benefits and capabilities of deep learning and neural networks, and mentions techniques used to improve their performance.\u001B[0m\n\n\u001B[1m> Finished chain.\u001B[0m\n\n\nThe sentiment of this text is positive. It highlights the benefits and capabilities of deep learning and neural networks, and mentions techniques used to improve their performance.\n"
     ]
    }
   ],
   "source": [
    "sentiment_prompt = PromptTemplate(\n",
    "    input_variables=['summary'],\n",
    "    template=\"Analyze the sentiment of the following text: {summary}\"\n",
    ")\n",
    "\n",
    "sentiment_prompt = LLMChain(llm=llm, prompt=sentiment_prompt,verbose=True)\n",
    "\n",
    "pipeline = SimpleSequentialChain(chains=[answer_chain, summary_chain,sentiment_prompt],verbose=True)\n",
    "\n",
    "response = pipeline.run('Deep Learning')\n",
    "\n",
    "print(response)"
   ]
  },
  {
   "cell_type": "markdown",
   "metadata": {
    "application/vnd.databricks.v1+cell": {
     "cellMetadata": {},
     "inputWidgets": {},
     "nuid": "c761b6d4-cf34-4863-ab87-c5ab7041f912",
     "showTitle": false,
     "tableResultSettingsMap": {},
     "title": ""
    }
   },
   "source": [
    "### Add a Dynamic User Input Chain"
   ]
  },
  {
   "cell_type": "code",
   "execution_count": 0,
   "metadata": {
    "application/vnd.databricks.v1+cell": {
     "cellMetadata": {},
     "inputWidgets": {},
     "nuid": "f15a4378-0cdb-42b9-96ea-0f3818031e74",
     "showTitle": false,
     "tableResultSettingsMap": {},
     "title": ""
    }
   },
   "outputs": [
    {
     "output_type": "stream",
     "name": "stdout",
     "output_type": "stream",
     "text": [
      "\n\n\u001B[1m> Entering new LLMChain chain...\u001B[0m\nPrompt after formatting:\n\u001B[32;1m\u001B[1;3mProvide me details about Deep Learning?\u001B[0m\n\n\u001B[1m> Finished chain.\u001B[0m\n\n\nDeep learning is a subset of machine learning that utilizes artificial neural networks to learn and make decisions from data. It is a form of artificial intelligence that mimics the way the human brain processes information. \n\nIn deep learning, the neural networks have multiple layers of interconnected nodes that can process and transform data at each layer. The layers are organized in a hierarchical manner, with each layer learning progressively more abstract features from the input data. The final layer produces an output that can be used for decision making or prediction.\n\nOne of the main advantages of deep learning is its ability to automatically extract features from raw data, eliminating the need for manual feature engineering. This makes it suitable for handling large and complex datasets.\n\nSome common applications of deep learning include image and speech recognition, natural language processing, and self-driving cars. It has also been used in various industries such as healthcare, finance, and marketing to analyze and make predictions from large amounts of data.\n\nHowever, deep learning also has some limitations, such as the need for large amounts of data for training and the potential for overfitting. It also requires significant computational power and resources for training and running the models.\n\nOverall, deep learning has shown promising results in various fields and continues to advance as more research is being conducted in this area.\nExiting the assistant.GoodBye!!\n"
     ]
    }
   ],
   "source": [
    "from langchain.chains import LLMChain,SequentialChain\n",
    "from langchain.prompts import PromptTemplate\n",
    "from langchain.llms import OpenAI\n",
    "\n",
    "# Step 1: Initialize the LLM\n",
    "llm = OpenAI(model_name='gpt-3.5-turbo-instruct')\n",
    "\n",
    "# Step 2: Create Prompt Templates\n",
    "detail_prompt = PromptTemplate(\n",
    "    input_variables=['topic'],\n",
    "    template=\"Provide me details about {topic}?\"\n",
    ")\n",
    "\n",
    "answer_chain = LLMChain(llm=llm, prompt=detail_prompt,verbose=True)\n",
    "\n",
    "while True:\n",
    "    user_input = input(\"Enter the topic you want to know more about(or type 'exit' to quit): \")\n",
    "    \n",
    "    # Exit the loop if the user types 'exit'\n",
    "    if user_input.lower() == 'exit':\n",
    "        print(\"Exiting the assistant.GoodBye!!\")\n",
    "        break\n",
    "    \n",
    "    response = answer_chain.run(user_input)\n",
    "    print(response)"
   ]
  },
  {
   "cell_type": "code",
   "execution_count": 0,
   "metadata": {
    "application/vnd.databricks.v1+cell": {
     "cellMetadata": {},
     "inputWidgets": {},
     "nuid": "110563cf-cd75-4f6f-9f00-1fe3b6c9ff95",
     "showTitle": false,
     "tableResultSettingsMap": {},
     "title": ""
    }
   },
   "outputs": [],
   "source": []
  }
 ],
 "metadata": {
  "application/vnd.databricks.v1+notebook": {
   "computePreferences": null,
   "dashboards": [],
   "environmentMetadata": null,
   "language": "python",
   "notebookMetadata": {},
   "notebookName": "1. Introduction",
   "widgets": {}
  },
  "kernelspec": {
   "display_name": ".venv",
   "language": "python",
   "name": "python3"
  },
  "language_info": {
   "name": "python"
  }
 },
 "nbformat": 4,
 "nbformat_minor": 0
}
