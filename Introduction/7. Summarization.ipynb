{
 "cells": [
  {
   "cell_type": "markdown",
   "metadata": {
    "application/vnd.databricks.v1+cell": {
     "cellMetadata": {},
     "inputWidgets": {},
     "nuid": "79e5ae63-9f34-4d28-a26f-31823fc9e846",
     "showTitle": false,
     "tableResultSettingsMap": {},
     "title": ""
    }
   },
   "source": [
    "Summarize a long text document into a concise and coherent abstract using LangChain's tools and pipelines."
   ]
  },
  {
   "cell_type": "code",
   "execution_count": 0,
   "metadata": {
    "application/vnd.databricks.v1+cell": {
     "cellMetadata": {},
     "inputWidgets": {},
     "nuid": "4bbc1f36-d8dd-4dbd-b51f-5c6360b30c7b",
     "showTitle": false,
     "tableResultSettingsMap": {},
     "title": ""
    }
   },
   "outputs": [],
   "source": [
    "from getpass import getpass\n",
    "\n",
    "OPENAI_KEY = getpass('Enter Open AI API Key: ')"
   ]
  },
  {
   "cell_type": "code",
   "execution_count": 0,
   "metadata": {
    "application/vnd.databricks.v1+cell": {
     "cellMetadata": {},
     "inputWidgets": {},
     "nuid": "09840853-89da-4ac7-93ec-919768f42065",
     "showTitle": false,
     "tableResultSettingsMap": {},
     "title": ""
    }
   },
   "outputs": [],
   "source": [
    "import os\n",
    "\n",
    "os.environ['OPENAI_API_KEY'] = OPENAI_KEY"
   ]
  },
  {
   "cell_type": "code",
   "execution_count": 0,
   "metadata": {
    "application/vnd.databricks.v1+cell": {
     "cellMetadata": {},
     "inputWidgets": {},
     "nuid": "384f7d80-d829-4202-b617-380c372631ff",
     "showTitle": false,
     "tableResultSettingsMap": {},
     "title": ""
    }
   },
   "outputs": [],
   "source": [
    "from langchain.text_splitter import CharacterTextSplitter\n",
    "from langchain.prompts import PromptTemplate\n",
    "from langchain.llms import OpenAI\n",
    "from langchain.chains.summarize.chain import load_summarize_chain"
   ]
  },
  {
   "cell_type": "code",
   "execution_count": 0,
   "metadata": {
    "application/vnd.databricks.v1+cell": {
     "cellMetadata": {},
     "inputWidgets": {},
     "nuid": "184f9c41-5f63-4c6c-9b06-58dabb6c14c6",
     "showTitle": false,
     "tableResultSettingsMap": {},
     "title": ""
    }
   },
   "outputs": [],
   "source": [
    "input_text = \"\"\" \n",
    "LangChain is a framework for building applications powered by large language models (LLMs). \n",
    "It simplifies the development of workflows by providing modular components for tasks like text generation, \n",
    "summarization, and knowledge retrieval. LangChain supports integration with external tools such as APIs \n",
    "and databases, allowing you to create dynamic and context-aware applications. Its key fea-tures include \n",
    "memory management for conversational agents, retrieval-augmented generation (RAG), and support for custom tools. You widely use LangChain for building chatbots, summarization tools, and knowledge-based \n",
    "applications. \"\"\""
   ]
  },
  {
   "cell_type": "code",
   "execution_count": 0,
   "metadata": {
    "application/vnd.databricks.v1+cell": {
     "cellMetadata": {},
     "inputWidgets": {},
     "nuid": "0d7848df-66ef-4e96-a964-0c5b3cb83da5",
     "showTitle": false,
     "tableResultSettingsMap": {},
     "title": ""
    }
   },
   "outputs": [
    {
     "output_type": "stream",
     "name": "stdout",
     "output_type": "stream",
     "text": [
      "Text Chunks ['LangChain is a framework for building applications powered by large language models (LLMs). \\nIt simplifies the development of workflows by providing modular components for tasks like text generation, \\nsummarization, and knowledge retrieval. LangChain supports integration with external tools such as APIs \\nand databases, allowing you to create dynamic and context-aware applications. Its key fea-tures include \\nmemory management for conversational agents, retrieval-augmented generation (RAG), and support for custom tools. You widely use LangChain for building chatbots, summarization tools, and knowledge-based \\napplications.']\n"
     ]
    }
   ],
   "source": [
    "# Split the Input Text in Chunks\n",
    "\n",
    "from langchain.text_splitter import RecursiveCharacterTextSplitter\n",
    "\n",
    "splitter = CharacterTextSplitter(chunk_size=100, chunk_overlap=20)\n",
    "\n",
    "# Split the input text\n",
    "\n",
    "chunks = splitter.split_text(input_text)\n",
    "print(\"Text Chunks\", chunks)"
   ]
  },
  {
   "cell_type": "code",
   "execution_count": 0,
   "metadata": {
    "application/vnd.databricks.v1+cell": {
     "cellMetadata": {},
     "inputWidgets": {},
     "nuid": "43692ec0-3714-4c1d-a812-031b15b33663",
     "showTitle": false,
     "tableResultSettingsMap": {},
     "title": ""
    }
   },
   "outputs": [],
   "source": [
    "# Define the Prompt Template\n",
    "\n",
    "prompt = PromptTemplate(\n",
    "    input_variables= [\"text\"],\n",
    "    template= \"Summarize the following text: {text}\")"
   ]
  },
  {
   "cell_type": "code",
   "execution_count": 0,
   "metadata": {
    "application/vnd.databricks.v1+cell": {
     "cellMetadata": {},
     "inputWidgets": {},
     "nuid": "2dbbfcc9-0b13-4a9d-bdfd-dee38740713a",
     "showTitle": false,
     "tableResultSettingsMap": {},
     "title": ""
    }
   },
   "outputs": [],
   "source": [
    "llm = OpenAI(model = 'gpt-3.5-turbo-instruct',temperature=0.7)"
   ]
  },
  {
   "cell_type": "code",
   "execution_count": 0,
   "metadata": {
    "application/vnd.databricks.v1+cell": {
     "cellMetadata": {},
     "inputWidgets": {},
     "nuid": "3a8681a4-dfef-491f-a0f1-4bf19b040884",
     "showTitle": false,
     "tableResultSettingsMap": {},
     "title": ""
    }
   },
   "outputs": [
    {
     "output_type": "stream",
     "name": "stdout",
     "output_type": "stream",
     "text": [
      "\n\n\u001B[1m> Entering new LLMChain chain...\u001B[0m\nPrompt after formatting:\n\u001B[32;1m\u001B[1;3mSummarize the following text: LangChain is a framework for building applications powered by large language models (LLMs). \nIt simplifies the development of workflows by providing modular components for tasks like text generation, \nsummarization, and knowledge retrieval. LangChain supports integration with external tools such as APIs \nand databases, allowing you to create dynamic and context-aware applications. Its key fea-tures include \nmemory management for conversational agents, retrieval-augmented generation (RAG), and support for custom tools. You widely use LangChain for building chatbots, summarization tools, and knowledge-based \napplications.\u001B[0m\n\n\u001B[1m> Finished chain.\u001B[0m\n"
     ]
    }
   ],
   "source": [
    "from langchain.chains import LLMChain\n",
    "\n",
    "summarization_chain = LLMChain(llm=llm, prompt=prompt,verbose=True)\n",
    "\n",
    "summaries = [summarization_chain.run({\"text\": chunk}) for chunk in chunks]"
   ]
  },
  {
   "cell_type": "code",
   "execution_count": 0,
   "metadata": {
    "application/vnd.databricks.v1+cell": {
     "cellMetadata": {},
     "inputWidgets": {},
     "nuid": "d41088a4-e667-4d11-b181-fed4fda05f4a",
     "showTitle": false,
     "tableResultSettingsMap": {},
     "title": ""
    }
   },
   "outputs": [
    {
     "output_type": "stream",
     "name": "stdout",
     "output_type": "stream",
     "text": [
      "\n\nLangChain is a framework that makes it easier to create applications using large language models. It offers modular components for tasks like text generation and summarization, and can integrate with external tools. Its features include memory management for chatbots, retrieval-augmented generation, and support for custom tools. LangChain is commonly used for building chatbots, summarization tools, and knowledge-based applications.\n"
     ]
    }
   ],
   "source": [
    "final_summary = \" \".join(summaries)\n",
    "print(final_summary)"
   ]
  },
  {
   "cell_type": "code",
   "execution_count": 0,
   "metadata": {
    "application/vnd.databricks.v1+cell": {
     "cellMetadata": {},
     "inputWidgets": {},
     "nuid": "8a0cb6c7-a629-416a-95aa-356bae253f61",
     "showTitle": false,
     "tableResultSettingsMap": {},
     "title": ""
    }
   },
   "outputs": [
    {
     "output_type": "stream",
     "name": "stdout",
     "output_type": "stream",
     "text": [
      "\n\n\u001B[1m> Entering new LLMChain chain...\u001B[0m\nPrompt after formatting:\n\u001B[32;1m\u001B[1;3mSummarize the following text:  \nLangChain is a framework for building applications powered by large language models (LLMs). \nIt simplifies the development of workflows by providing modular components for tasks like text generation, \nsummarization, and knowledge retrieval. LangChain supports integration with external tools such as APIs \nand databases, allowing you to create dynamic and context-aware applications. Its key fea-tures include \nmemory management for conversational agents, retrieval-augmented generation (RAG), and support for custom tools. You widely use LangChain for building chatbots, summarization tools, and knowledge-based \napplications. \u001B[0m\n\n\u001B[1m> Finished chain.\u001B[0m\n"
     ]
    },
    {
     "output_type": "execute_result",
     "data": {
      "text/plain": [
       "{'text': '\\n\\nLangChain is a framework that utilizes large language models to build applications. Its modular components make it easy to create text generation, summarization, and knowledge retrieval workflows. It also supports integration with external tools for dynamic and context-aware applications, and its key features include memory management, RAG, and custom tool support. LangChain is commonly used for chatbots, summarization tools, and knowledge-based applications.'}"
      ]
     },
     "execution_count": 28,
     "metadata": {},
     "output_type": "execute_result"
    }
   ],
   "source": [
    "# Run Summarization on whole text\n",
    "summarization_chain.invoke(input_text)"
   ]
  },
  {
   "cell_type": "markdown",
   "metadata": {
    "application/vnd.databricks.v1+cell": {
     "cellMetadata": {},
     "inputWidgets": {},
     "nuid": "73a5e703-a31c-4d88-9c15-ba0439e39140",
     "showTitle": false,
     "tableResultSettingsMap": {},
     "title": ""
    }
   },
   "source": [
    "![image.png](attachment:image.png)"
   ]
  },
  {
   "cell_type": "code",
   "execution_count": 0,
   "metadata": {
    "application/vnd.databricks.v1+cell": {
     "cellMetadata": {},
     "inputWidgets": {},
     "nuid": "09b71672-13d9-4c56-8354-768d0d3f991a",
     "showTitle": false,
     "tableResultSettingsMap": {},
     "title": ""
    }
   },
   "outputs": [],
   "source": []
  }
 ],
 "metadata": {
  "application/vnd.databricks.v1+notebook": {
   "computePreferences": null,
   "dashboards": [],
   "environmentMetadata": null,
   "language": "python",
   "notebookMetadata": {},
   "notebookName": "7. Summarization",
   "widgets": {}
  },
  "kernelspec": {
   "display_name": ".venv",
   "language": "python",
   "name": "python3"
  },
  "language_info": {
   "name": "python"
  }
 },
 "nbformat": 4,
 "nbformat_minor": 0
}
