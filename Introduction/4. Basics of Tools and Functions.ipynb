{
 "cells": [
  {
   "cell_type": "code",
   "execution_count": 0,
   "metadata": {
    "application/vnd.databricks.v1+cell": {
     "cellMetadata": {},
     "inputWidgets": {},
     "nuid": "5e986e9b-4d02-496c-852f-24132461fc0b",
     "showTitle": false,
     "tableResultSettingsMap": {},
     "title": ""
    }
   },
   "outputs": [],
   "source": [
    "from getpass import getpass\n",
    "\n",
    "OPENAI_KEY = getpass('Enter Open AI API Key: ')"
   ]
  },
  {
   "cell_type": "code",
   "execution_count": 0,
   "metadata": {
    "application/vnd.databricks.v1+cell": {
     "cellMetadata": {},
     "inputWidgets": {},
     "nuid": "b3250b1b-c057-4b08-9541-f2f1ba30beba",
     "showTitle": false,
     "tableResultSettingsMap": {},
     "title": ""
    }
   },
   "outputs": [],
   "source": [
    "import os\n",
    "\n",
    "os.environ['OPENAI_API_KEY'] = OPENAI_KEY"
   ]
  },
  {
   "cell_type": "markdown",
   "metadata": {
    "application/vnd.databricks.v1+cell": {
     "cellMetadata": {},
     "inputWidgets": {},
     "nuid": "19526939-5eca-4b14-a8ec-d3362db6d2d0",
     "showTitle": false,
     "tableResultSettingsMap": {},
     "title": ""
    }
   },
   "source": [
    "**What Are Tools in LangChain?**\n",
    "\n",
    "Tools in LangChain are external functionalities that an LLM can leverage during its workflow. These functionalities are defined as actions or tasks that extend the model's capabilities beyond simple text generation. \n",
    "\n",
    "**Key Features of LangChain Tools**\n",
    "\n",
    "* Dynamic Integration: Tools enable LLMs to interact with real-world systems, such as APIs or databases, in real-time.  \n",
    "* Modularity: You can add or remove tools easily, creating flexible and reusable workflows.  \n",
    "* Extensibility: Custom tools can be defined to handle specific use cases, such as fetching data from a proprietary system or performing domain-specific calculations.  \n",
    "\n",
    "**Common Use Cases** \n",
    "*   API Integration: Calling weather APIs, stock market data, or translation services.  \n",
    "*   Database Queries: Retrieving records from SQL or NoSQL databases.  \n",
    "*   Custom Scripts: Executing Python functions or scripts to process data dynamically.\n",
    "\n"
   ]
  },
  {
   "cell_type": "markdown",
   "metadata": {
    "application/vnd.databricks.v1+cell": {
     "cellMetadata": {},
     "inputWidgets": {},
     "nuid": "5078deb0-f1da-4666-9612-3f49991b3eb2",
     "showTitle": false,
     "tableResultSettingsMap": {},
     "title": ""
    }
   },
   "source": [
    "![image.png](attachment:image.png)"
   ]
  },
  {
   "cell_type": "markdown",
   "metadata": {
    "application/vnd.databricks.v1+cell": {
     "cellMetadata": {},
     "inputWidgets": {},
     "nuid": "ae89a117-755a-4406-951d-77f0cb12a18c",
     "showTitle": false,
     "tableResultSettingsMap": {},
     "title": ""
    }
   },
   "source": [
    "### Integrating an External API as a Tool"
   ]
  },
  {
   "cell_type": "code",
   "execution_count": 0,
   "metadata": {
    "application/vnd.databricks.v1+cell": {
     "cellMetadata": {},
     "inputWidgets": {},
     "nuid": "1263d54b-e41b-4104-ba67-ffb62b583009",
     "showTitle": false,
     "tableResultSettingsMap": {},
     "title": ""
    }
   },
   "outputs": [],
   "source": [
    "import requests\n",
    "\n",
    "# Define a custom tool function for fetching weather data\n",
    "def fetch_weather(location):\n",
    "    api_key = \"dd4d970d06abc34ddac9c3cb2f5d4546\"\n",
    "    url = \"http://api.openweathermap.org/data/2.5/weather?q=\" + location + \"&appid=\" + api_key\n",
    "    try:\n",
    "        response = requests.get(url)\n",
    "        data = response.json()\n",
    "        if response.status_code == 200:\n",
    "            weather = data[\"weather\"][0][\"description\"]\n",
    "            temperature = data[\"main\"][\"temp\"]\n",
    "            return f\"The weather in {location} is {weather} with a temperature of {temperature} kelvin.\"\n",
    "        else:\n",
    "            return f\"Error: {data['message']}\"\n",
    "    except Exception as e:\n",
    "        return f\"Error: {e}\""
   ]
  },
  {
   "cell_type": "code",
   "execution_count": 0,
   "metadata": {
    "application/vnd.databricks.v1+cell": {
     "cellMetadata": {},
     "inputWidgets": {},
     "nuid": "307bc1d4-5353-4cbc-a150-03f89cce00f1",
     "showTitle": false,
     "tableResultSettingsMap": {},
     "title": ""
    }
   },
   "outputs": [
    {
     "output_type": "execute_result",
     "data": {
      "text/plain": [
       "'The weather in kolkata is haze with a temperature of 292.12 kelvin.'"
      ]
     },
     "execution_count": 68,
     "metadata": {},
     "output_type": "execute_result"
    }
   ],
   "source": [
    "fetch_weather(\"kolkata\")"
   ]
  },
  {
   "cell_type": "code",
   "execution_count": 0,
   "metadata": {
    "application/vnd.databricks.v1+cell": {
     "cellMetadata": {},
     "inputWidgets": {},
     "nuid": "b6a6c596-ce96-4ed8-ad62-246c4804fe99",
     "showTitle": false,
     "tableResultSettingsMap": {},
     "title": ""
    }
   },
   "outputs": [],
   "source": [
    "# Define the Tool in LangChain\n",
    "\n",
    "from langchain.tools import Tool\n",
    "\n",
    "# Define Weather Tool\n",
    "weather_tool = Tool(\n",
    "    name = \"WeatherTool\",\n",
    "    func = fetch_weather,\n",
    "    description= \"A tool for fetching weather data of a location\")\n",
    "\n"
   ]
  },
  {
   "cell_type": "code",
   "execution_count": 0,
   "metadata": {
    "application/vnd.databricks.v1+cell": {
     "cellMetadata": {},
     "inputWidgets": {},
     "nuid": "b8831f74-0a39-4673-a3cf-8d5d2fbf4557",
     "showTitle": false,
     "tableResultSettingsMap": {},
     "title": ""
    }
   },
   "outputs": [],
   "source": [
    "# Create an Agent to use the Tool\n",
    "\n",
    "from langchain.agents import initialize_agent,AgentType\n",
    "from langchain.llms import OpenAI\n",
    "\n",
    "llm = OpenAI(model = 'gpt-3.5-turbo-instruct',temperature=0.7)\n",
    "\n",
    "# Create the Agents\n",
    "weather_agent = initialize_agent(\n",
    "    name = \"WeatherAgent\",\n",
    "    agents = AgentType.ZERO_SHOT_REACT_DESCRIPTION,\n",
    "    tools = [weather_tool],\n",
    "    llm = llm,\n",
    "    verbose = True\n",
    ")"
   ]
  },
  {
   "cell_type": "code",
   "execution_count": 0,
   "metadata": {
    "application/vnd.databricks.v1+cell": {
     "cellMetadata": {},
     "inputWidgets": {},
     "nuid": "92486e84-3a7b-4b10-83e1-179c445af257",
     "showTitle": false,
     "tableResultSettingsMap": {},
     "title": ""
    }
   },
   "outputs": [
    {
     "output_type": "stream",
     "name": "stdout",
     "output_type": "stream",
     "text": [
      "\n\n\u001B[1m> Entering new WeatherAgent chain...\u001B[0m\n\u001B[32;1m\u001B[1;3m I should use the WeatherTool to get the weather data for Kolkata\nAction: WeatherTool\nAction Input: Kolkata\u001B[0m\nObservation: \u001B[36;1m\u001B[1;3mThe weather in Kolkata is haze with a temperature of 292.12 kelvin.\u001B[0m\nThought:\u001B[32;1m\u001B[1;3m I now know the final answer\nFinal Answer: The weather in Kolkata is haze with a temperature of 292.12 kelvin.\u001B[0m\n\n\u001B[1m> Finished chain.\u001B[0m\nThe weather in Kolkata is haze with a temperature of 292.12 kelvin.\n"
     ]
    }
   ],
   "source": [
    "query = \"What is the weather in Kolkata?\"\n",
    "\n",
    "response = weather_agent.run(query)\n",
    "\n",
    "print(response)"
   ]
  },
  {
   "cell_type": "markdown",
   "metadata": {
    "application/vnd.databricks.v1+cell": {
     "cellMetadata": {},
     "inputWidgets": {},
     "nuid": "14197e11-24df-424a-a0e6-5c073801265c",
     "showTitle": false,
     "tableResultSettingsMap": {},
     "title": ""
    }
   },
   "source": [
    "### Enhance the above chain by adding TimeZone Tool to fetch timezone information\n",
    "\n",
    "* Create a new function for fetching time zone data using an API like Google Maps or WorldTimeAPI.  \n",
    "* Wrap the function in a Tool object.  \n",
    "* Add the new tool to the agent and test the workflow.\n",
    "\n"
   ]
  },
  {
   "cell_type": "code",
   "execution_count": 0,
   "metadata": {
    "application/vnd.databricks.v1+cell": {
     "cellMetadata": {},
     "inputWidgets": {},
     "nuid": "28b06af2-4c65-4d1d-83e8-ead562988af8",
     "showTitle": false,
     "tableResultSettingsMap": {},
     "title": ""
    }
   },
   "outputs": [],
   "source": [
    "# Define a Custom Tool for fetching time zone data\n",
    "\n",
    "def fetch_time_zone(location):\n",
    "    try:\n",
    "        time_zones = {\n",
    "            \"Kolkata\": \"Asia/Kolkata\",\n",
    "            \"New York\": \"America/New_York\",\n",
    "            \"London\": \"Europe/London\",\n",
    "            \"Tokyo\": \"Asia/Tokyo\",\n",
    "            \"Sydney\": \"Australia/Sydney\",\n",
    "            \"Paris\": \"Europe/Paris\",\n",
    "        }\n",
    "        return f\"The time zone of {location} is {time_zones.get(location,'Unknown')}\"\n",
    "    except Exception as e:\n",
    "        return f\"Error: {e}\"\n",
    "    "
   ]
  },
  {
   "cell_type": "code",
   "execution_count": 0,
   "metadata": {
    "application/vnd.databricks.v1+cell": {
     "cellMetadata": {},
     "inputWidgets": {},
     "nuid": "14f556a7-fd2c-431d-9994-3e2b25d61ce6",
     "showTitle": false,
     "tableResultSettingsMap": {},
     "title": ""
    }
   },
   "outputs": [],
   "source": [
    "# Define Time Zone Tool\n",
    "\n",
    "time_zone_tool = Tool(\n",
    "    name = \"TimeZoneTool\",\n",
    "    func = fetch_time_zone,\n",
    "    description = \"A tool for fetching time zone data of a location\"\n",
    ")"
   ]
  },
  {
   "cell_type": "code",
   "execution_count": 0,
   "metadata": {
    "application/vnd.databricks.v1+cell": {
     "cellMetadata": {},
     "inputWidgets": {},
     "nuid": "7564b35a-c0d6-44c4-87d6-2d4920ad9b79",
     "showTitle": false,
     "tableResultSettingsMap": {},
     "title": ""
    }
   },
   "outputs": [],
   "source": [
    "# Create the Agent\n",
    "\n",
    "agent = initialize_agent(\n",
    "    tools = [weather_tool,time_zone_tool],\n",
    "    llm = llm,\n",
    "    agents = AgentType.ZERO_SHOT_REACT_DESCRIPTION,\n",
    "    verbose = True\n",
    ")"
   ]
  },
  {
   "cell_type": "code",
   "execution_count": 0,
   "metadata": {
    "application/vnd.databricks.v1+cell": {
     "cellMetadata": {},
     "inputWidgets": {},
     "nuid": "4be7ba88-452a-4b83-9a6c-d6605cf94ab5",
     "showTitle": false,
     "tableResultSettingsMap": {},
     "title": ""
    }
   },
   "outputs": [
    {
     "output_type": "stream",
     "name": "stdout",
     "output_type": "stream",
     "text": [
      "\n\n\u001B[1m> Entering new AgentExecutor chain...\u001B[0m\n\u001B[32;1m\u001B[1;3m I should use both the WeatherTool and TimeZoneTool to retrieve the necessary information\nAction: WeatherTool\nAction Input: Kolkata\u001B[0m\nObservation: \u001B[36;1m\u001B[1;3mThe weather in Kolkata is haze with a temperature of 292.12 kelvin.\u001B[0m\nThought:\u001B[32;1m\u001B[1;3m Now I need to gather the timezone information for Kolkata\nAction: TimeZoneTool\nAction Input: Kolkata\u001B[0m\nObservation: \u001B[33;1m\u001B[1;3mThe time zone of Kolkata is Asia/Kolkata\u001B[0m\nThought:\u001B[32;1m\u001B[1;3m I now know the final answer\nFinal Answer: The weather in Kolkata is haze with a temperature of 292.12 kelvin and the time zone is Asia/Kolkata.\u001B[0m\n\n\u001B[1m> Finished chain.\u001B[0m\nThe weather in Kolkata is haze with a temperature of 292.12 kelvin and the time zone is Asia/Kolkata.\n"
     ]
    }
   ],
   "source": [
    "# Test the enhanced workflow\n",
    "\n",
    "query = \"Tell Me the Weather and TimeZone of Kolkata\"\n",
    "response = agent.run(query)\n",
    "print(response)"
   ]
  },
  {
   "cell_type": "markdown",
   "metadata": {
    "application/vnd.databricks.v1+cell": {
     "cellMetadata": {},
     "inputWidgets": {},
     "nuid": "927cfba2-6dae-4e91-8915-0ed62f1da2d4",
     "showTitle": false,
     "tableResultSettingsMap": {},
     "title": ""
    }
   },
   "source": [
    "### Building a Multi Step Chain with Tools and Memory"
   ]
  },
  {
   "cell_type": "markdown",
   "metadata": {
    "application/vnd.databricks.v1+cell": {
     "cellMetadata": {},
     "inputWidgets": {},
     "nuid": "3ef6f15f-1664-4ed4-a505-2f2340c1d231",
     "showTitle": false,
     "tableResultSettingsMap": {},
     "title": ""
    }
   },
   "source": [
    "**Create a LangChain workflow that** \n",
    "\n",
    "* Accepts user input dynamically.  \n",
    "* Uses tools for fetching external data.  \n",
    "* Retains conversation context using memory.  \n",
    "* Combines multiple steps to deliver a coherent response"
   ]
  },
  {
   "cell_type": "code",
   "execution_count": 0,
   "metadata": {
    "application/vnd.databricks.v1+cell": {
     "cellMetadata": {},
     "inputWidgets": {},
     "nuid": "e6fc9574-dddc-4905-8447-b65be3c2096e",
     "showTitle": false,
     "tableResultSettingsMap": {},
     "title": ""
    }
   },
   "outputs": [],
   "source": [
    "from langchain.chains import LLMChain,SequentialChain,ConversationChain\n",
    "from langchain.llms import OpenAI\n",
    "from langchain.prompts import PromptTemplate\n",
    "from langchain.memory import ConversationBufferMemory\n",
    "from langchain.tools import Tool\n",
    "from langchain.agents import AgentType\n",
    "import requests"
   ]
  },
  {
   "cell_type": "code",
   "execution_count": 0,
   "metadata": {
    "application/vnd.databricks.v1+cell": {
     "cellMetadata": {},
     "inputWidgets": {},
     "nuid": "00ed04d3-f2f6-45dd-a8c0-fbed149105d9",
     "showTitle": false,
     "tableResultSettingsMap": {},
     "title": ""
    }
   },
   "outputs": [],
   "source": [
    "memory = ConversationBufferMemory()\n",
    "\n",
    "weather_prompt = PromptTemplate(\n",
    "    input_variables = [\"location\"],\n",
    "    template = \"What is the weather in {location}?\")\n",
    "time_zone_prompt = PromptTemplate(\n",
    "    input_variables = [\"location\"],\n",
    "    template = \"Fetch the timezone for the {location}?\")\n",
    "\n",
    "summary_prompt = PromptTemplate(\n",
    "    input_variables=['weather_info', 'time_zone_info'],\n",
    "    template = \"Provide a Summary: {weather_info} and {time_zone_info}\")\n",
    "\n"
   ]
  },
  {
   "cell_type": "code",
   "execution_count": 0,
   "metadata": {
    "application/vnd.databricks.v1+cell": {
     "cellMetadata": {},
     "inputWidgets": {},
     "nuid": "4df5d6fe-0203-4a1f-98ac-ba8235b07512",
     "showTitle": false,
     "tableResultSettingsMap": {},
     "title": ""
    }
   },
   "outputs": [
    {
     "output_type": "display_data",
     "data": {
      "text/plain": [
       "\u001B[1;31m---------------------------------------------------------------------------\u001B[0m\n",
       "\u001B[1;31mKeyError\u001B[0m                                  Traceback (most recent call last)\n",
       "Cell \u001B[1;32mIn[85], line 2\u001B[0m\n",
       "\u001B[0;32m      1\u001B[0m \u001B[38;5;66;03m# Wrap tools in LLMChain\u001B[39;00m\n",
       "\u001B[1;32m----> 2\u001B[0m weather_chain \u001B[38;5;241m=\u001B[39m \u001B[43mSequentialChain\u001B[49m\u001B[43m(\u001B[49m\n",
       "\u001B[0;32m      3\u001B[0m \u001B[43m    \u001B[49m\u001B[43mllm\u001B[49m\u001B[38;5;241;43m=\u001B[39;49m\u001B[43mllm\u001B[49m\u001B[43m,\u001B[49m\n",
       "\u001B[0;32m      4\u001B[0m \u001B[43m    \u001B[49m\u001B[43mchains\u001B[49m\u001B[43m \u001B[49m\u001B[38;5;241;43m=\u001B[39;49m\u001B[43m \u001B[49m\u001B[43m[\u001B[49m\u001B[43mweather_tool\u001B[49m\u001B[43m]\u001B[49m\u001B[43m,\u001B[49m\n",
       "\u001B[0;32m      5\u001B[0m \u001B[43m    \u001B[49m\u001B[43mprompt\u001B[49m\u001B[38;5;241;43m=\u001B[39;49m\u001B[43mweather_prompt\u001B[49m\u001B[43m,\u001B[49m\n",
       "\u001B[0;32m      6\u001B[0m \u001B[43m    \u001B[49m\u001B[43moutput_key\u001B[49m\u001B[38;5;241;43m=\u001B[39;49m\u001B[38;5;124;43m'\u001B[39;49m\u001B[38;5;124;43mweather_info\u001B[39;49m\u001B[38;5;124;43m'\u001B[39;49m\u001B[43m  \u001B[49m\u001B[38;5;66;43;03m# Unique output key\u001B[39;49;00m\n",
       "\u001B[0;32m      7\u001B[0m \u001B[43m)\u001B[49m\n",
       "\u001B[0;32m      8\u001B[0m time_zone_chain \u001B[38;5;241m=\u001B[39m LLMChain(\n",
       "\u001B[0;32m      9\u001B[0m     llm\u001B[38;5;241m=\u001B[39mllm,\n",
       "\u001B[0;32m     10\u001B[0m     prompt\u001B[38;5;241m=\u001B[39mtime_zone_prompt,\n",
       "\u001B[0;32m     11\u001B[0m     output_key\u001B[38;5;241m=\u001B[39m\u001B[38;5;124m'\u001B[39m\u001B[38;5;124mtime_zone_info\u001B[39m\u001B[38;5;124m'\u001B[39m  \u001B[38;5;66;03m# Unique output key\u001B[39;00m\n",
       "\u001B[0;32m     12\u001B[0m )\n",
       "\u001B[0;32m     13\u001B[0m summary_chain \u001B[38;5;241m=\u001B[39m LLMChain(\n",
       "\u001B[0;32m     14\u001B[0m     llm\u001B[38;5;241m=\u001B[39mllm,\n",
       "\u001B[0;32m     15\u001B[0m     prompt\u001B[38;5;241m=\u001B[39msummary_prompt,\n",
       "\u001B[0;32m     16\u001B[0m     output_key\u001B[38;5;241m=\u001B[39m\u001B[38;5;124m'\u001B[39m\u001B[38;5;124msummary\u001B[39m\u001B[38;5;124m'\u001B[39m  \u001B[38;5;66;03m# Final output key\u001B[39;00m\n",
       "\u001B[0;32m     17\u001B[0m )\n",
       "\n",
       "File \u001B[1;32md:\\2. My WorkSpace and Notes\\1. Demystify Folders\\GenerativeAI-Demystified\\.venv\\lib\\site-packages\\langchain_core\\load\\serializable.py:125\u001B[0m, in \u001B[0;36mSerializable.__init__\u001B[1;34m(self, *args, **kwargs)\u001B[0m\n",
       "\u001B[0;32m    123\u001B[0m \u001B[38;5;28;01mdef\u001B[39;00m \u001B[38;5;21m__init__\u001B[39m(\u001B[38;5;28mself\u001B[39m, \u001B[38;5;241m*\u001B[39margs: Any, \u001B[38;5;241m*\u001B[39m\u001B[38;5;241m*\u001B[39mkwargs: Any) \u001B[38;5;241m-\u001B[39m\u001B[38;5;241m>\u001B[39m \u001B[38;5;28;01mNone\u001B[39;00m:\n",
       "\u001B[0;32m    124\u001B[0m \u001B[38;5;250m    \u001B[39m\u001B[38;5;124;03m\"\"\"\"\"\"\u001B[39;00m\n",
       "\u001B[1;32m--> 125\u001B[0m     \u001B[38;5;28msuper\u001B[39m()\u001B[38;5;241m.\u001B[39m\u001B[38;5;21m__init__\u001B[39m(\u001B[38;5;241m*\u001B[39margs, \u001B[38;5;241m*\u001B[39m\u001B[38;5;241m*\u001B[39mkwargs)\n",
       "\n",
       "    \u001B[1;31m[... skipping hidden 1 frame]\u001B[0m\n",
       "\n",
       "File \u001B[1;32md:\\2. My WorkSpace and Notes\\1. Demystify Folders\\GenerativeAI-Demystified\\.venv\\lib\\site-packages\\langchain\\chains\\sequential.py:50\u001B[0m, in \u001B[0;36mSequentialChain.validate_chains\u001B[1;34m(cls, values)\u001B[0m\n",
       "\u001B[0;32m     48\u001B[0m \u001B[38;5;250m\u001B[39m\u001B[38;5;124;03m\"\"\"Validate that the correct inputs exist for all chains.\"\"\"\u001B[39;00m\n",
       "\u001B[0;32m     49\u001B[0m chains \u001B[38;5;241m=\u001B[39m values[\u001B[38;5;124m\"\u001B[39m\u001B[38;5;124mchains\u001B[39m\u001B[38;5;124m\"\u001B[39m]\n",
       "\u001B[1;32m---> 50\u001B[0m input_variables \u001B[38;5;241m=\u001B[39m \u001B[43mvalues\u001B[49m\u001B[43m[\u001B[49m\u001B[38;5;124;43m\"\u001B[39;49m\u001B[38;5;124;43minput_variables\u001B[39;49m\u001B[38;5;124;43m\"\u001B[39;49m\u001B[43m]\u001B[49m\n",
       "\u001B[0;32m     51\u001B[0m memory_keys \u001B[38;5;241m=\u001B[39m \u001B[38;5;28mlist\u001B[39m()\n",
       "\u001B[0;32m     52\u001B[0m \u001B[38;5;28;01mif\u001B[39;00m \u001B[38;5;124m\"\u001B[39m\u001B[38;5;124mmemory\u001B[39m\u001B[38;5;124m\"\u001B[39m \u001B[38;5;129;01min\u001B[39;00m values \u001B[38;5;129;01mand\u001B[39;00m values[\u001B[38;5;124m\"\u001B[39m\u001B[38;5;124mmemory\u001B[39m\u001B[38;5;124m\"\u001B[39m] \u001B[38;5;129;01mis\u001B[39;00m \u001B[38;5;129;01mnot\u001B[39;00m \u001B[38;5;28;01mNone\u001B[39;00m:\n",
       "\n",
       "\u001B[1;31mKeyError\u001B[0m: 'input_variables'"
      ]
     },
     "metadata": {
      "application/vnd.databricks.v1+output": {
       "arguments": {},
       "data": "\u001B[1;31m---------------------------------------------------------------------------\u001B[0m\n\u001B[1;31mKeyError\u001B[0m                                  Traceback (most recent call last)\nCell \u001B[1;32mIn[85], line 2\u001B[0m\n\u001B[0;32m      1\u001B[0m \u001B[38;5;66;03m# Wrap tools in LLMChain\u001B[39;00m\n\u001B[1;32m----> 2\u001B[0m weather_chain \u001B[38;5;241m=\u001B[39m \u001B[43mSequentialChain\u001B[49m\u001B[43m(\u001B[49m\n\u001B[0;32m      3\u001B[0m \u001B[43m    \u001B[49m\u001B[43mllm\u001B[49m\u001B[38;5;241;43m=\u001B[39;49m\u001B[43mllm\u001B[49m\u001B[43m,\u001B[49m\n\u001B[0;32m      4\u001B[0m \u001B[43m    \u001B[49m\u001B[43mchains\u001B[49m\u001B[43m \u001B[49m\u001B[38;5;241;43m=\u001B[39;49m\u001B[43m \u001B[49m\u001B[43m[\u001B[49m\u001B[43mweather_tool\u001B[49m\u001B[43m]\u001B[49m\u001B[43m,\u001B[49m\n\u001B[0;32m      5\u001B[0m \u001B[43m    \u001B[49m\u001B[43mprompt\u001B[49m\u001B[38;5;241;43m=\u001B[39;49m\u001B[43mweather_prompt\u001B[49m\u001B[43m,\u001B[49m\n\u001B[0;32m      6\u001B[0m \u001B[43m    \u001B[49m\u001B[43moutput_key\u001B[49m\u001B[38;5;241;43m=\u001B[39;49m\u001B[38;5;124;43m'\u001B[39;49m\u001B[38;5;124;43mweather_info\u001B[39;49m\u001B[38;5;124;43m'\u001B[39;49m\u001B[43m  \u001B[49m\u001B[38;5;66;43;03m# Unique output key\u001B[39;49;00m\n\u001B[0;32m      7\u001B[0m \u001B[43m)\u001B[49m\n\u001B[0;32m      8\u001B[0m time_zone_chain \u001B[38;5;241m=\u001B[39m LLMChain(\n\u001B[0;32m      9\u001B[0m     llm\u001B[38;5;241m=\u001B[39mllm,\n\u001B[0;32m     10\u001B[0m     prompt\u001B[38;5;241m=\u001B[39mtime_zone_prompt,\n\u001B[0;32m     11\u001B[0m     output_key\u001B[38;5;241m=\u001B[39m\u001B[38;5;124m'\u001B[39m\u001B[38;5;124mtime_zone_info\u001B[39m\u001B[38;5;124m'\u001B[39m  \u001B[38;5;66;03m# Unique output key\u001B[39;00m\n\u001B[0;32m     12\u001B[0m )\n\u001B[0;32m     13\u001B[0m summary_chain \u001B[38;5;241m=\u001B[39m LLMChain(\n\u001B[0;32m     14\u001B[0m     llm\u001B[38;5;241m=\u001B[39mllm,\n\u001B[0;32m     15\u001B[0m     prompt\u001B[38;5;241m=\u001B[39msummary_prompt,\n\u001B[0;32m     16\u001B[0m     output_key\u001B[38;5;241m=\u001B[39m\u001B[38;5;124m'\u001B[39m\u001B[38;5;124msummary\u001B[39m\u001B[38;5;124m'\u001B[39m  \u001B[38;5;66;03m# Final output key\u001B[39;00m\n\u001B[0;32m     17\u001B[0m )\n\nFile \u001B[1;32md:\\2. My WorkSpace and Notes\\1. Demystify Folders\\GenerativeAI-Demystified\\.venv\\lib\\site-packages\\langchain_core\\load\\serializable.py:125\u001B[0m, in \u001B[0;36mSerializable.__init__\u001B[1;34m(self, *args, **kwargs)\u001B[0m\n\u001B[0;32m    123\u001B[0m \u001B[38;5;28;01mdef\u001B[39;00m \u001B[38;5;21m__init__\u001B[39m(\u001B[38;5;28mself\u001B[39m, \u001B[38;5;241m*\u001B[39margs: Any, \u001B[38;5;241m*\u001B[39m\u001B[38;5;241m*\u001B[39mkwargs: Any) \u001B[38;5;241m-\u001B[39m\u001B[38;5;241m>\u001B[39m \u001B[38;5;28;01mNone\u001B[39;00m:\n\u001B[0;32m    124\u001B[0m \u001B[38;5;250m    \u001B[39m\u001B[38;5;124;03m\"\"\"\"\"\"\u001B[39;00m\n\u001B[1;32m--> 125\u001B[0m     \u001B[38;5;28msuper\u001B[39m()\u001B[38;5;241m.\u001B[39m\u001B[38;5;21m__init__\u001B[39m(\u001B[38;5;241m*\u001B[39margs, \u001B[38;5;241m*\u001B[39m\u001B[38;5;241m*\u001B[39mkwargs)\n\n    \u001B[1;31m[... skipping hidden 1 frame]\u001B[0m\n\nFile \u001B[1;32md:\\2. My WorkSpace and Notes\\1. Demystify Folders\\GenerativeAI-Demystified\\.venv\\lib\\site-packages\\langchain\\chains\\sequential.py:50\u001B[0m, in \u001B[0;36mSequentialChain.validate_chains\u001B[1;34m(cls, values)\u001B[0m\n\u001B[0;32m     48\u001B[0m \u001B[38;5;250m\u001B[39m\u001B[38;5;124;03m\"\"\"Validate that the correct inputs exist for all chains.\"\"\"\u001B[39;00m\n\u001B[0;32m     49\u001B[0m chains \u001B[38;5;241m=\u001B[39m values[\u001B[38;5;124m\"\u001B[39m\u001B[38;5;124mchains\u001B[39m\u001B[38;5;124m\"\u001B[39m]\n\u001B[1;32m---> 50\u001B[0m input_variables \u001B[38;5;241m=\u001B[39m \u001B[43mvalues\u001B[49m\u001B[43m[\u001B[49m\u001B[38;5;124;43m\"\u001B[39;49m\u001B[38;5;124;43minput_variables\u001B[39;49m\u001B[38;5;124;43m\"\u001B[39;49m\u001B[43m]\u001B[49m\n\u001B[0;32m     51\u001B[0m memory_keys \u001B[38;5;241m=\u001B[39m \u001B[38;5;28mlist\u001B[39m()\n\u001B[0;32m     52\u001B[0m \u001B[38;5;28;01mif\u001B[39;00m \u001B[38;5;124m\"\u001B[39m\u001B[38;5;124mmemory\u001B[39m\u001B[38;5;124m\"\u001B[39m \u001B[38;5;129;01min\u001B[39;00m values \u001B[38;5;129;01mand\u001B[39;00m values[\u001B[38;5;124m\"\u001B[39m\u001B[38;5;124mmemory\u001B[39m\u001B[38;5;124m\"\u001B[39m] \u001B[38;5;129;01mis\u001B[39;00m \u001B[38;5;129;01mnot\u001B[39;00m \u001B[38;5;28;01mNone\u001B[39;00m:\n\n\u001B[1;31mKeyError\u001B[0m: 'input_variables'",
       "errorSummary": "<span class='ansi-red-fg'>KeyError</span>: 'input_variables'",
       "errorTraceType": "ansi",
       "metadata": {},
       "type": "ipynbError"
      }
     },
     "output_type": "display_data"
    }
   ],
   "source": [
    "# Wrap tools in LLMChain\n",
    "weather_chain = SequentialChain(\n",
    "    llm=llm,\n",
    "    chains = [weather_tool],\n",
    "    prompt=weather_prompt,\n",
    "    output_key='weather_info'  # Unique output key\n",
    ")\n",
    "time_zone_chain = LLMChain(\n",
    "    llm=llm,\n",
    "    prompt=time_zone_prompt,\n",
    "    output_key='time_zone_info'  # Unique output key\n",
    ")\n",
    "summary_chain = LLMChain(\n",
    "    llm=llm,\n",
    "    prompt=summary_prompt,\n",
    "    output_key='summary'  # Final output key\n",
    ")\n"
   ]
  },
  {
   "cell_type": "code",
   "execution_count": 0,
   "metadata": {
    "application/vnd.databricks.v1+cell": {
     "cellMetadata": {},
     "inputWidgets": {},
     "nuid": "b32099c1-5a34-428b-98f1-719a52db5860",
     "showTitle": false,
     "tableResultSettingsMap": {},
     "title": ""
    }
   },
   "outputs": [],
   "source": [
    "from langchain.chains import SequentialChain\n",
    "\n",
    "# Combine the chains\n",
    "multi_step_chain = SequentialChain(\n",
    "    chains=[weather_chain, time_zone_chain, summary_chain],\n",
    "    input_variables=['location'],\n",
    "    output_variables=['summary'],\n",
    "    verbose=True  # Enables detailed logging for debugging\n",
    ")"
   ]
  },
  {
   "cell_type": "code",
   "execution_count": 0,
   "metadata": {
    "application/vnd.databricks.v1+cell": {
     "cellMetadata": {},
     "inputWidgets": {},
     "nuid": "b559b317-3858-4680-a184-431ef10ede5a",
     "showTitle": false,
     "tableResultSettingsMap": {},
     "title": ""
    }
   },
   "outputs": [],
   "source": [
    "# # Create Individual Chains\n",
    "\n",
    "# weather_chain = SequentialChain(\n",
    "#     chains = [weather_tool],\n",
    "#     input_variables = [\"location\"],\n",
    "#     output_variables = [\"weather\"]\n",
    "# )\n",
    "\n",
    "# time_zone_chain = SequentialChain(\n",
    "#     chains = [time_zone_tool],\n",
    "#     input_variables = [\"location\"],\n",
    "#     output_variables = [\"time_zone\"]\n",
    "# )\n",
    "\n",
    "# summary_chain = SequentialChain(\n",
    "#     chains = [weather_chain, time_zone_chain],\n",
    "#     input_variables = [\"weather\", \"time_zone\"],\n",
    "#     output_variables = [\"summary\"]\n",
    "# )"
   ]
  },
  {
   "cell_type": "code",
   "execution_count": 0,
   "metadata": {
    "application/vnd.databricks.v1+cell": {
     "cellMetadata": {},
     "inputWidgets": {},
     "nuid": "a807676f-af2d-4463-a296-227709b8a2ad",
     "showTitle": false,
     "tableResultSettingsMap": {},
     "title": ""
    }
   },
   "outputs": [
    {
     "output_type": "stream",
     "name": "stdout",
     "output_type": "stream",
     "text": [
      "\n\n\u001B[1m> Entering new SequentialChain chain...\u001B[0m\n\n\u001B[1m> Finished chain.\u001B[0m\n"
     ]
    }
   ],
   "source": [
    "response = multi_step_chain.run(location=\"Kolkata\")"
   ]
  },
  {
   "cell_type": "code",
   "execution_count": 0,
   "metadata": {
    "application/vnd.databricks.v1+cell": {
     "cellMetadata": {},
     "inputWidgets": {},
     "nuid": "9fe5a43b-904c-49c9-bf29-c1da545ce73a",
     "showTitle": false,
     "tableResultSettingsMap": {},
     "title": ""
    }
   },
   "outputs": [
    {
     "output_type": "stream",
     "name": "stdout",
     "output_type": "stream",
     "text": [
      "\n\nIn summary, the weather in Kolkata, India is cloudy with a temperature of 27°C and a possibility of thunderstorms. The city follows the Asia/Kolkata timezone.\n"
     ]
    }
   ],
   "source": [
    "print(response)"
   ]
  },
  {
   "cell_type": "code",
   "execution_count": 0,
   "metadata": {
    "application/vnd.databricks.v1+cell": {
     "cellMetadata": {},
     "inputWidgets": {},
     "nuid": "126f8e40-cc85-42ca-b551-00d958fb9ba0",
     "showTitle": false,
     "tableResultSettingsMap": {},
     "title": ""
    }
   },
   "outputs": [
    {
     "output_type": "stream",
     "name": "stdout",
     "output_type": "stream",
     "text": [
      "\n\nThe current weather in Kolkata, India is 86°F (30°C) with partly cloudy skies. The high for today is 88°F (31°C) and the low is 74°F (23°C). There is a chance of thunderstorms in the evening.\n"
     ]
    }
   ],
   "source": [
    "print(weather_chain.run(location=\"Kolkata\"))"
   ]
  },
  {
   "cell_type": "code",
   "execution_count": 0,
   "metadata": {
    "application/vnd.databricks.v1+cell": {
     "cellMetadata": {},
     "inputWidgets": {},
     "nuid": "e98e8704-aa3d-4240-9b9d-666771f3eef1",
     "showTitle": false,
     "tableResultSettingsMap": {},
     "title": ""
    }
   },
   "outputs": [],
   "source": [
    "TBD"
   ]
  }
 ],
 "metadata": {
  "application/vnd.databricks.v1+notebook": {
   "computePreferences": null,
   "dashboards": [],
   "environmentMetadata": null,
   "language": "python",
   "notebookMetadata": {},
   "notebookName": "4. Basics of Tools and Functions",
   "widgets": {}
  },
  "kernelspec": {
   "display_name": ".venv",
   "language": "python",
   "name": "python3"
  },
  "language_info": {
   "name": "python"
  }
 },
 "nbformat": 4,
 "nbformat_minor": 0
}
