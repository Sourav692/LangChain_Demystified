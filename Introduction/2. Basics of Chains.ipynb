{
 "cells": [
  {
   "cell_type": "code",
   "execution_count": 0,
   "metadata": {
    "application/vnd.databricks.v1+cell": {
     "cellMetadata": {},
     "inputWidgets": {},
     "nuid": "27ee05ec-5f64-465b-b308-5fc44b1fdc7f",
     "showTitle": false,
     "tableResultSettingsMap": {},
     "title": ""
    }
   },
   "outputs": [],
   "source": [
    "from getpass import getpass\n",
    "\n",
    "OPENAI_KEY = getpass('Enter Open AI API Key: ')"
   ]
  },
  {
   "cell_type": "code",
   "execution_count": 0,
   "metadata": {
    "application/vnd.databricks.v1+cell": {
     "cellMetadata": {},
     "inputWidgets": {},
     "nuid": "757ea68b-fbfd-49a2-91ba-7636edcf50c4",
     "showTitle": false,
     "tableResultSettingsMap": {},
     "title": ""
    }
   },
   "outputs": [],
   "source": [
    "import os\n",
    "\n",
    "os.environ['OPENAI_API_KEY'] = OPENAI_KEY"
   ]
  },
  {
   "cell_type": "markdown",
   "metadata": {
    "application/vnd.databricks.v1+cell": {
     "cellMetadata": {},
     "inputWidgets": {},
     "nuid": "563815b7-b122-4c6f-bc00-315b9cf30c57",
     "showTitle": false,
     "tableResultSettingsMap": {},
     "title": ""
    }
   },
   "source": [
    "### Simple Chains\n",
    "Use Cases for Simple Chains \n",
    "* Text Completion: Generate responses to user queries.  \n",
    "* Summarization: Condense long text into key points.  \n",
    "* Question Answering: Provide answers to specific questions.\n",
    "\n"
   ]
  },
  {
   "cell_type": "code",
   "execution_count": 0,
   "metadata": {
    "application/vnd.databricks.v1+cell": {
     "cellMetadata": {},
     "inputWidgets": {},
     "nuid": "5274f314-052c-4c41-9b89-bbe92e68e961",
     "showTitle": false,
     "tableResultSettingsMap": {},
     "title": ""
    }
   },
   "outputs": [],
   "source": [
    "from langchain.chains import LLMChain\n",
    "from langchain.llms import OpenAI\n",
    "from langchain.prompts import PromptTemplate"
   ]
  },
  {
   "cell_type": "code",
   "execution_count": 0,
   "metadata": {
    "application/vnd.databricks.v1+cell": {
     "cellMetadata": {},
     "inputWidgets": {},
     "nuid": "ab7814ea-5840-4c8d-ba39-a1a18b2de45c",
     "showTitle": false,
     "tableResultSettingsMap": {},
     "title": ""
    }
   },
   "outputs": [
    {
     "output_type": "stream",
     "name": "stdout",
     "output_type": "stream",
     "text": [
      "\n\nThe capital of France is Paris.\n"
     ]
    }
   ],
   "source": [
    "llm = OpenAI(model = 'gpt-3.5-turbo-instruct',temperature=0.7)\n",
    "prompt = PromptTemplate(\n",
    "            input_variables= [\"question\"],\n",
    "            template = \"You are a helpful assistant. Answer the following question: {question}\"\n",
    ")\n",
    "\n",
    "simple_chain = LLMChain(llm = llm, prompt = prompt)\n",
    "\n",
    "response = simple_chain.run(question=\"What is the capital of France?\")\n",
    "print(response)"
   ]
  },
  {
   "cell_type": "markdown",
   "metadata": {
    "application/vnd.databricks.v1+cell": {
     "cellMetadata": {},
     "inputWidgets": {},
     "nuid": "545137fa-b5f5-4a33-966f-b38e0473ce49",
     "showTitle": false,
     "tableResultSettingsMap": {},
     "title": ""
    }
   },
   "source": [
    "### Multi Step Chains\n",
    "\n",
    "**Use Cases for Multi-Step Chains**\n",
    "* Document Summarization with Insights: Extract key points and provide a summary with contextual insights.  \n",
    "* Data Processing: Transform raw data into human-readable formats before generating a response.  \n",
    "* Dynamic Workflows: Chain together multiple tools, such as APIs and databases, for real-time interaction.\n",
    "\n"
   ]
  },
  {
   "cell_type": "markdown",
   "metadata": {
    "application/vnd.databricks.v1+cell": {
     "cellMetadata": {},
     "inputWidgets": {},
     "nuid": "2ee448af-468d-497f-9ebe-c81b4cbc6df2",
     "showTitle": false,
     "tableResultSettingsMap": {},
     "title": ""
    }
   },
   "source": [
    "**Workflow Design Principles**\n",
    "\n",
    "* Break Down the Task: Divide the workflow into smaller, logical steps.  \n",
    "* Define Input and Output for Each Step: Ensure each step has a clear role in the overall workflow.  \n",
    "* Test Each Step in Isolation: Debug individual steps before combining them into a multi-step chain.\n",
    "\n"
   ]
  },
  {
   "cell_type": "markdown",
   "metadata": {
    "application/vnd.databricks.v1+cell": {
     "cellMetadata": {},
     "inputWidgets": {},
     "nuid": "0652d5de-71ee-438b-b9cc-66fa00fa3da8",
     "showTitle": false,
     "tableResultSettingsMap": {},
     "title": ""
    }
   },
   "source": [
    "**Scenario**\n",
    "* Create a multi-step workflow that: \n",
    "    * Extracts key points from a long text.  \n",
    "    * Summarizes the extracted points into a concise response.\n",
    "\n"
   ]
  },
  {
   "cell_type": "code",
   "execution_count": 0,
   "metadata": {
    "application/vnd.databricks.v1+cell": {
     "cellMetadata": {},
     "inputWidgets": {},
     "nuid": "56611e46-58ab-460d-9ee4-0186abd60c9d",
     "showTitle": false,
     "tableResultSettingsMap": {},
     "title": ""
    }
   },
   "outputs": [],
   "source": [
    "from langchain.prompts import PromptTemplate\n",
    "from langchain.llms import OpenAI\n",
    "from langchain.chains import LLMChain\n",
    "from langchain.chains import SimpleSequentialChain"
   ]
  },
  {
   "cell_type": "code",
   "execution_count": 0,
   "metadata": {
    "application/vnd.databricks.v1+cell": {
     "cellMetadata": {},
     "inputWidgets": {},
     "nuid": "1cf7b130-1318-448c-a26c-b244fc6ecd11",
     "showTitle": false,
     "tableResultSettingsMap": {},
     "title": ""
    }
   },
   "outputs": [
    {
     "output_type": "stream",
     "name": "stdout",
     "output_type": "stream",
     "text": [
      "\nLangChain streamlines the creation of language model-driven applications by providing modular components for tasks like text generation, summarization, and knowledge retrieval, resulting in simplified development and easy workflow creation.\n"
     ]
    }
   ],
   "source": [
    "llm = OpenAI(model = 'gpt-3.5-turbo-instruct',temperature=0.7)\n",
    "\n",
    "# Define Prompt Templates\n",
    "extract_prompt = PromptTemplate(\n",
    "    input_variables = [\"text\"],\n",
    "    template= \"Extract the main points from the following text: {text}\"\n",
    ")\n",
    "summarize_prompt = PromptTemplate(\n",
    "    input_variables = [\"points\"],\n",
    "    template= \"Summarize this points into a single concise paragraph: {points}\"\n",
    ")\n",
    "\n",
    "# Create Invividual Chains\n",
    "\n",
    "extract_chain = LLMChain(llm = llm, prompt = extract_prompt)\n",
    "summarize_chain = LLMChain(llm = llm, prompt = summarize_prompt)\n",
    "\n",
    "# Combine Chains into a Sequential Chain\n",
    "\n",
    "multi_step_chain = SimpleSequentialChain(chains=[extract_chain, summarize_chain])\n",
    "\n",
    "# Step 5: Input text and run the workflow \n",
    "\n",
    "input_text = \"\"\" LangChain simplifies the development of applications powered by large language models. \n",
    "It provides modular components for tasks like text generation, summarization, and knowledge retrieval,\n",
    "allowing you to create workflows effortlessly. \"\"\"\n",
    "\n",
    "response = multi_step_chain.run(input_text)\n",
    "\n",
    "print(response)\n",
    "\n"
   ]
  },
  {
   "cell_type": "code",
   "execution_count": 0,
   "metadata": {
    "application/vnd.databricks.v1+cell": {
     "cellMetadata": {},
     "inputWidgets": {},
     "nuid": "c5803414-8861-44e7-974f-d8d993c0c791",
     "showTitle": false,
     "tableResultSettingsMap": {},
     "title": ""
    }
   },
   "outputs": [],
   "source": []
  },
  {
   "cell_type": "code",
   "execution_count": 0,
   "metadata": {
    "application/vnd.databricks.v1+cell": {
     "cellMetadata": {},
     "inputWidgets": {},
     "nuid": "227be53e-512f-44ec-bb04-c10dacaec2df",
     "showTitle": false,
     "tableResultSettingsMap": {},
     "title": ""
    }
   },
   "outputs": [],
   "source": []
  }
 ],
 "metadata": {
  "application/vnd.databricks.v1+notebook": {
   "computePreferences": null,
   "dashboards": [],
   "environmentMetadata": null,
   "language": "python",
   "notebookMetadata": {},
   "notebookName": "2. Basics of Chains",
   "widgets": {}
  },
  "kernelspec": {
   "display_name": ".venv",
   "language": "python",
   "name": "python3"
  },
  "language_info": {
   "name": "python"
  }
 },
 "nbformat": 4,
 "nbformat_minor": 0
}
