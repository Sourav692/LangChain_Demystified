{
 "cells": [
  {
   "cell_type": "markdown",
   "id": "9d2e97a7",
   "metadata": {},
   "source": [
    "# Advanced Operations for LLM Input / Output with LangChain\n",
    "\n",
    "This notebook covers the following operations:\n",
    "\n",
    "- Caching"
   ]
  },
  {
   "cell_type": "code",
   "execution_count": 1,
   "id": "2e9be8c2",
   "metadata": {},
   "outputs": [],
   "source": [
    "!pip install -qq langchain==0.3.11\n",
    "!pip install -qq langchain-openai==0.2.12\n",
    "!pip install -qq langchain-community==0.3.11"
   ]
  },
  {
   "cell_type": "code",
   "execution_count": 2,
   "id": "e9d8ed5f",
   "metadata": {},
   "outputs": [
    {
     "data": {
      "text/plain": [
       "True"
      ]
     },
     "execution_count": 2,
     "metadata": {},
     "output_type": "execute_result"
    }
   ],
   "source": [
    "import os\n",
    "from dotenv import load_dotenv\n",
    "\n",
    "load_dotenv()"
   ]
  },
  {
   "cell_type": "code",
   "execution_count": 4,
   "id": "a5c54405",
   "metadata": {},
   "outputs": [],
   "source": [
    "from langchain_openai import ChatOpenAI\n",
    "\n",
    "chatgpt = ChatOpenAI(model_name=\"gpt-4o-mini\", temperature=0)"
   ]
  },
  {
   "cell_type": "markdown",
   "id": "4ff327a9",
   "metadata": {},
   "source": [
    "## Caching in LangChain\n",
    "\n",
    "LangChain includes an optional caching layer for language model APIs (LLMs). This caching feature is beneficial for two main reasons:\n",
    "\n",
    "1. **Cost Efficiency:** By caching responses, you reduce the number of API calls made to LLM providers, especially helpful if you are frequently requesting the same completions. This can significantly lower costs.\n",
    "\n",
    "2. **Performance Improvement:** Caching can enhance your application's speed by decreasing the need for repeated API calls to the LLM provider, making interactions quicker and more efficient.\n"
   ]
  },
  {
   "cell_type": "markdown",
   "id": "655b5275",
   "metadata": {},
   "source": [
    "#### InMemoryCache"
   ]
  },
  {
   "cell_type": "code",
   "execution_count": 5,
   "id": "0bc7f447",
   "metadata": {},
   "outputs": [
    {
     "name": "stdout",
     "output_type": "stream",
     "text": [
      "CPU times: user 24.8 ms, sys: 20.7 ms, total: 45.5 ms\n",
      "Wall time: 6.97 s\n"
     ]
    },
    {
     "data": {
      "text/plain": [
       "AIMessage(content=\"A mortgage is a type of loan specifically used to purchase real estate, such as a home or property. In a mortgage agreement, the borrower (the person buying the property) receives funds from a lender (usually a bank or financial institution) to buy the property. In return, the borrower agrees to repay the loan amount, plus interest, over a specified period, typically 15 to 30 years.\\n\\nKey features of a mortgage include:\\n\\n1. **Collateral**: The property itself serves as collateral for the loan. If the borrower fails to make the required payments, the lender has the right to take possession of the property through a legal process called foreclosure.\\n\\n2. **Down Payment**: Most mortgages require a down payment, which is a percentage of the property's purchase price that the borrower pays upfront. The remaining amount is financed through the mortgage.\\n\\n3. **Interest Rate**: Mortgages come with either fixed or variable interest rates. A fixed-rate mortgage has a constant interest rate throughout the loan term, while a variable-rate mortgage may change over time based on market conditions.\\n\\n4. **Monthly Payments**: Borrowers make monthly payments that typically cover both principal (the amount borrowed) and interest. Some payments may also include property taxes and homeowners insurance.\\n\\n5. **Loan Term**: The length of time over which the loan must be repaid, commonly 15, 20, or 30 years.\\n\\nMortgages are a common way for individuals and families to finance the purchase of a home, as they allow buyers to spread the cost of the property over many years rather than paying the full amount upfront.\", additional_kwargs={'refusal': None}, response_metadata={'token_usage': {'completion_tokens': 324, 'prompt_tokens': 15, 'total_tokens': 339, 'completion_tokens_details': {'accepted_prediction_tokens': 0, 'audio_tokens': 0, 'reasoning_tokens': 0, 'rejected_prediction_tokens': 0}, 'prompt_tokens_details': {'audio_tokens': 0, 'cached_tokens': 0}}, 'model_name': 'gpt-4o-mini-2024-07-18', 'system_fingerprint': 'fp_34a54ae93c', 'finish_reason': 'stop', 'logprobs': None}, id='run--e9a4c0c5-40b4-4398-a3b9-3d7d009f302c-0', usage_metadata={'input_tokens': 15, 'output_tokens': 324, 'total_tokens': 339, 'input_token_details': {'audio': 0, 'cache_read': 0}, 'output_token_details': {'audio': 0, 'reasoning': 0}})"
      ]
     },
     "execution_count": 5,
     "metadata": {},
     "output_type": "execute_result"
    }
   ],
   "source": [
    "%%time\n",
    "# integrations with other caching tools:\n",
    "# https://api.python.langchain.com/en/latest/community_api_reference.html#module-langchain_community.cache\n",
    "\n",
    "from langchain.cache import InMemoryCache\n",
    "from langchain.globals import set_llm_cache\n",
    "\n",
    "# set the cache to in-memory cache\n",
    "set_llm_cache(InMemoryCache())\n",
    "\n",
    "# The first time, it is not yet in cache, so it should take longer\n",
    "\n",
    "from langchain_core.prompts import ChatPromptTemplate\n",
    "\n",
    "prompt = \"\"\"Explain to me what is mortgage\"\"\"\n",
    "\n",
    "chat_template = ChatPromptTemplate.from_template(prompt)\n",
    "\n",
    "chatgpt.invoke(chat_template.format())"
   ]
  },
  {
   "cell_type": "code",
   "execution_count": 6,
   "id": "d35eed7b",
   "metadata": {},
   "outputs": [
    {
     "name": "stdout",
     "output_type": "stream",
     "text": [
      "CPU times: user 993 μs, sys: 211 μs, total: 1.2 ms\n",
      "Wall time: 1.16 ms\n"
     ]
    },
    {
     "data": {
      "text/plain": [
       "AIMessage(content=\"A mortgage is a type of loan specifically used to purchase real estate, such as a home or property. In a mortgage agreement, the borrower (the person buying the property) receives funds from a lender (usually a bank or financial institution) to buy the property. In return, the borrower agrees to repay the loan amount, plus interest, over a specified period, typically 15 to 30 years.\\n\\nKey features of a mortgage include:\\n\\n1. **Collateral**: The property itself serves as collateral for the loan. If the borrower fails to make the required payments, the lender has the right to take possession of the property through a legal process called foreclosure.\\n\\n2. **Down Payment**: Most mortgages require a down payment, which is a percentage of the property's purchase price that the borrower pays upfront. The remaining amount is financed through the mortgage.\\n\\n3. **Interest Rate**: Mortgages come with either fixed or variable interest rates. A fixed-rate mortgage has a constant interest rate throughout the loan term, while a variable-rate mortgage may change over time based on market conditions.\\n\\n4. **Monthly Payments**: Borrowers make monthly payments that typically cover both principal (the amount borrowed) and interest. Some payments may also include property taxes and homeowners insurance.\\n\\n5. **Loan Term**: The length of time over which the loan must be repaid, commonly 15, 20, or 30 years.\\n\\nMortgages are a common way for individuals and families to finance the purchase of a home, as they allow buyers to spread the cost of the property over many years rather than paying the full amount upfront.\", additional_kwargs={'refusal': None}, response_metadata={'token_usage': {'completion_tokens': 324, 'prompt_tokens': 15, 'total_tokens': 339, 'completion_tokens_details': {'accepted_prediction_tokens': 0, 'audio_tokens': 0, 'reasoning_tokens': 0, 'rejected_prediction_tokens': 0}, 'prompt_tokens_details': {'audio_tokens': 0, 'cached_tokens': 0}}, 'model_name': 'gpt-4o-mini-2024-07-18', 'system_fingerprint': 'fp_34a54ae93c', 'finish_reason': 'stop', 'logprobs': None}, id='run--e9a4c0c5-40b4-4398-a3b9-3d7d009f302c-0', usage_metadata={'input_tokens': 15, 'output_tokens': 324, 'total_tokens': 339, 'input_token_details': {'audio': 0, 'cache_read': 0}, 'output_token_details': {'audio': 0, 'reasoning': 0}})"
      ]
     },
     "execution_count": 6,
     "metadata": {},
     "output_type": "execute_result"
    }
   ],
   "source": [
    "%%time\n",
    "# The second time it is, so it goes faster\n",
    "chatgpt.invoke(chat_template.format())"
   ]
  },
  {
   "cell_type": "markdown",
   "id": "a1cc9ddc",
   "metadata": {},
   "source": [
    "#### SQLite Cache"
   ]
  },
  {
   "cell_type": "code",
   "execution_count": 7,
   "id": "4f41ee19",
   "metadata": {},
   "outputs": [
    {
     "name": "stdout",
     "output_type": "stream",
     "text": [
      "rm: langchain.db: No such file or directory\n"
     ]
    }
   ],
   "source": [
    "# just to remove cache if it already exists, ignore if you get an error message below, that is normal (when cache doesnt exist)\n",
    "!rm langchain.db"
   ]
  },
  {
   "cell_type": "code",
   "execution_count": 8,
   "id": "9a0f080b",
   "metadata": {},
   "outputs": [],
   "source": [
    "# We can do the same thing with a SQLite cache\n",
    "from langchain.cache import SQLiteCache\n",
    "\n",
    "set_llm_cache(SQLiteCache(database_path=\"langchain.db\"))"
   ]
  },
  {
   "cell_type": "code",
   "execution_count": 9,
   "id": "fc204832",
   "metadata": {},
   "outputs": [
    {
     "name": "stdout",
     "output_type": "stream",
     "text": [
      "CPU times: user 16.3 ms, sys: 6.63 ms, total: 23 ms\n",
      "Wall time: 5.6 s\n"
     ]
    },
    {
     "data": {
      "text/plain": [
       "AIMessage(content='Fractional real estate refers to a model of property ownership where multiple individuals or entities share ownership of a single property. This arrangement allows investors to purchase a fraction or percentage of a property rather than the entire asset, making real estate investment more accessible and affordable for those who may not have the capital to buy a whole property on their own.\\n\\nHere are some key features of fractional real estate:\\n\\n1. **Shared Ownership**: Multiple owners hold a share of the property, which can range from a small percentage to a larger portion, depending on the investment structure.\\n\\n2. **Cost-Effective**: By sharing the cost of the property, investors can participate in real estate markets without needing substantial upfront capital.\\n\\n3. **Usage Rights**: Owners typically have the right to use the property for a certain number of days or weeks each year, depending on the terms of the agreement.\\n\\n4. **Management**: Often, a management company is involved to handle the day-to-day operations, maintenance, and rental of the property, relieving individual owners of these responsibilities.\\n\\n5. **Investment Potential**: Fractional ownership can provide a way to benefit from property appreciation and rental income, similar to traditional real estate investments.\\n\\n6. **Legal Structure**: Fractional ownership can be structured in various ways, including through limited liability companies (LLCs), real estate investment trusts (REITs), or other legal entities that define the rights and responsibilities of each owner.\\n\\nOverall, fractional real estate can be an attractive option for those looking to invest in real estate without the burdens of full ownership, while also providing opportunities for shared experiences and potential financial returns.', additional_kwargs={'refusal': None}, response_metadata={'token_usage': {'completion_tokens': 327, 'prompt_tokens': 17, 'total_tokens': 344, 'completion_tokens_details': {'accepted_prediction_tokens': 0, 'audio_tokens': 0, 'reasoning_tokens': 0, 'rejected_prediction_tokens': 0}, 'prompt_tokens_details': {'audio_tokens': 0, 'cached_tokens': 0}}, 'model_name': 'gpt-4o-mini-2024-07-18', 'system_fingerprint': 'fp_34a54ae93c', 'finish_reason': 'stop', 'logprobs': None}, id='run--186a6bdc-c6f1-451b-8cf4-6a74863b481d-0', usage_metadata={'input_tokens': 17, 'output_tokens': 327, 'total_tokens': 344, 'input_token_details': {'audio': 0, 'cache_read': 0}, 'output_token_details': {'audio': 0, 'reasoning': 0}})"
      ]
     },
     "execution_count": 9,
     "metadata": {},
     "output_type": "execute_result"
    }
   ],
   "source": [
    "%%time\n",
    "\n",
    "# The first time, it is not yet in cache, so it should take longer\n",
    "prompt = \"\"\"Explain to me what is fractional real estate\"\"\"\n",
    "\n",
    "chat_template = ChatPromptTemplate.from_template(prompt)\n",
    "\n",
    "chatgpt.invoke(chat_template.format())"
   ]
  },
  {
   "cell_type": "code",
   "execution_count": 10,
   "id": "582eba9c",
   "metadata": {},
   "outputs": [
    {
     "name": "stdout",
     "output_type": "stream",
     "text": [
      "CPU times: user 1.85 ms, sys: 607 μs, total: 2.46 ms\n",
      "Wall time: 2.39 ms\n"
     ]
    },
    {
     "data": {
      "text/plain": [
       "AIMessage(content='Fractional real estate refers to a model of property ownership where multiple individuals or entities share ownership of a single property. This arrangement allows investors to purchase a fraction or percentage of a property rather than the entire asset, making real estate investment more accessible and affordable for those who may not have the capital to buy a whole property on their own.\\n\\nHere are some key features of fractional real estate:\\n\\n1. **Shared Ownership**: Multiple owners hold a share of the property, which can range from a small percentage to a larger portion, depending on the investment structure.\\n\\n2. **Cost-Effective**: By sharing the cost of the property, investors can participate in real estate markets without needing substantial upfront capital.\\n\\n3. **Usage Rights**: Owners typically have the right to use the property for a certain number of days or weeks each year, depending on the terms of the agreement.\\n\\n4. **Management**: Often, a management company is involved to handle the day-to-day operations, maintenance, and rental of the property, relieving individual owners of these responsibilities.\\n\\n5. **Investment Potential**: Fractional ownership can provide a way to benefit from property appreciation and rental income, similar to traditional real estate investments.\\n\\n6. **Legal Structure**: Fractional ownership can be structured in various ways, including through limited liability companies (LLCs), real estate investment trusts (REITs), or other legal entities that define the rights and responsibilities of each owner.\\n\\nOverall, fractional real estate can be an attractive option for those looking to invest in real estate without the burdens of full ownership, while also providing opportunities for shared experiences and potential financial returns.', additional_kwargs={'refusal': None}, response_metadata={'token_usage': {'completion_tokens': 327, 'prompt_tokens': 17, 'total_tokens': 344, 'completion_tokens_details': {'accepted_prediction_tokens': 0, 'audio_tokens': 0, 'reasoning_tokens': 0, 'rejected_prediction_tokens': 0}, 'prompt_tokens_details': {'audio_tokens': 0, 'cached_tokens': 0}}, 'model_name': 'gpt-4o-mini-2024-07-18', 'system_fingerprint': 'fp_34a54ae93c', 'finish_reason': 'stop', 'logprobs': None}, id='run--186a6bdc-c6f1-451b-8cf4-6a74863b481d-0', usage_metadata={'input_tokens': 17, 'output_tokens': 327, 'total_tokens': 344, 'input_token_details': {'audio': 0, 'cache_read': 0}, 'output_token_details': {'audio': 0, 'reasoning': 0}})"
      ]
     },
     "execution_count": 10,
     "metadata": {},
     "output_type": "execute_result"
    }
   ],
   "source": [
    "%%time\n",
    "# The second time it is, so it goes faster\n",
    "chatgpt.invoke(chat_template.format())"
   ]
  },
  {
   "cell_type": "code",
   "execution_count": null,
   "id": "a435237a",
   "metadata": {},
   "outputs": [],
   "source": []
  }
 ],
 "metadata": {
  "kernelspec": {
   "display_name": ".venv",
   "language": "python",
   "name": "python3"
  },
  "language_info": {
   "codemirror_mode": {
    "name": "ipython",
    "version": 3
   },
   "file_extension": ".py",
   "mimetype": "text/x-python",
   "name": "python",
   "nbconvert_exporter": "python",
   "pygments_lexer": "ipython3",
   "version": "3.11.6"
  }
 },
 "nbformat": 4,
 "nbformat_minor": 5
}
