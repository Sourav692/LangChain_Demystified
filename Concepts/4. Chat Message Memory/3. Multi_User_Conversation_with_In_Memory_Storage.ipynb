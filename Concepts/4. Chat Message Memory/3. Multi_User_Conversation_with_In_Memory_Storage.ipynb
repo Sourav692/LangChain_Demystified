{
 "cells": [
  {
   "cell_type": "markdown",
   "id": "3f170215",
   "metadata": {},
   "source": [
    "Reference:\n",
    "\n",
    "[**Introduction to LangChain for Agentic AI**](https://courses.analyticsvidhya.com/courses/take/introduction-to-langchain-for-agentic-ai/lessons/61748853-course-introduction) "
   ]
  },
  {
   "cell_type": "markdown",
   "id": "2ba9c3ed",
   "metadata": {},
   "source": [
    "## Install OpenAI, and LangChain dependencies"
   ]
  },
  {
   "cell_type": "code",
   "execution_count": 1,
   "id": "13ae5376",
   "metadata": {},
   "outputs": [
    {
     "name": "stdout",
     "output_type": "stream",
     "text": [
      "\u001b[31mERROR: pip's dependency resolver does not currently take into account all the packages that are installed. This behaviour is the source of the following dependency conflicts.\n",
      "transformers 4.53.1 requires tokenizers<0.22,>=0.21, but you have tokenizers 0.20.3 which is incompatible.\n",
      "langchain-huggingface 0.3.0 requires langchain-core<1.0.0,>=0.3.65, but you have langchain-core 0.3.63 which is incompatible.\u001b[0m\u001b[31m\n",
      "\u001b[0m"
     ]
    }
   ],
   "source": [
    "!pip install -qq langchain\n",
    "!pip install -qq langchain-openai\n",
    "!pip install -qq langchain-community\n",
    "!pip install -qq langchain-chroma"
   ]
  },
  {
   "cell_type": "markdown",
   "id": "0f742222",
   "metadata": {},
   "source": [
    "## Enter Open AI API Key"
   ]
  },
  {
   "cell_type": "code",
   "execution_count": 2,
   "id": "030b77f4",
   "metadata": {},
   "outputs": [
    {
     "data": {
      "text/plain": [
       "True"
      ]
     },
     "execution_count": 2,
     "metadata": {},
     "output_type": "execute_result"
    }
   ],
   "source": [
    "import os\n",
    "from dotenv import load_dotenv\n",
    "\n",
    "load_dotenv()"
   ]
  },
  {
   "cell_type": "markdown",
   "id": "20471c06",
   "metadata": {},
   "source": [
    "## Load Connection to LLM\n",
    "\n",
    "Here we create a connection to ChatGPT to use later in our chains"
   ]
  },
  {
   "cell_type": "code",
   "execution_count": 4,
   "id": "c609a952",
   "metadata": {},
   "outputs": [],
   "source": [
    "from langchain_openai import ChatOpenAI\n",
    "\n",
    "chatgpt = ChatOpenAI(model_name='gpt-4o-mini', temperature=0)"
   ]
  },
  {
   "cell_type": "markdown",
   "id": "d02d363c",
   "metadata": {},
   "source": [
    "## Multi-user Conversation Chains with ChatMessageHistory and RunnableWithMessageHistory\n",
    "\n",
    "The concept of `ChatHistory` refers to a class in LangChain which can be used to wrap an arbitrary chain. This `ChatHistory` will keep track of inputs and outputs of the underlying chain, and append them as messages to a message database. Future interactions will then load those messages and pass them into the chain as part of the input.\n",
    "\n",
    "The beauty of `ChatMessageHistory` is that we can store separate conversation histories per user or session which is often the need for real-world chatbots which will be accessed by many users at the same time.\n",
    "\n",
    "We use a `get_session_history` function which is expected to take in a `session_id` and return a Message History object. Everything is stored in memory. This `session_id` is used to distinguish between separate conversations, and should be passed in as part of the config when calling the new chain"
   ]
  },
  {
   "cell_type": "markdown",
   "id": "2c600aba",
   "metadata": {},
   "source": [
    "\n",
    "- `ChatMessageHistory`: This is a class in LangChain that stores a sequence of chat messages (such as HumanMessage, AIMessage, SystemMessage) for a conversation. It allows you to append new messages and retrieve the full message history, which is useful for maintaining conversational context.\n",
    "\n",
    "- `BaseChatMessageHistory`: This is an abstract base class that defines the interface for chat message history storage backends. It specifies methods like add_message, get_messages, and clear, which concrete implementations (like ChatMessageHistory, RedisChatMessageHistory, etc.) must provide.\n",
    "\n",
    "- `RunnableWithMessageHistory`: This is a wrapper for a Runnable (such as a chain or LLM) that automatically manages message history for each session or user. It uses a function (like get_session_history) to retrieve the appropriate message history object based on a session ID, and injects the history into the chain's input. This enables multi-user or multi-session conversational experiences.\n",
    "\n",
    "- `MessagesPlaceholder`: This is a special prompt template variable in LangChain that acts as a placeholder for a list of messages (e.g., the conversation history). When rendering a prompt, MessagesPlaceholder is replaced with the actual messages from history, allowing the LLM to see the full conversation context.\n"
   ]
  },
  {
   "cell_type": "code",
   "execution_count": 8,
   "id": "7fbc4bd9",
   "metadata": {},
   "outputs": [],
   "source": [
    "from langchain_community.chat_message_histories import ChatMessageHistory\n",
    "from langchain_core.chat_history import BaseChatMessageHistory\n",
    "from langchain_core.runnables.history import RunnableWithMessageHistory\n",
    "from langchain_core.prompts import ChatPromptTemplate, MessagesPlaceholder\n",
    "\n",
    "# used to retrieve conversation history from memory\n",
    "# based on a specific user or session ID\n",
    "history_store = {}\n",
    "def get_session_history(session_id):\n",
    "    if session_id not in history_store:\n",
    "        history_store[session_id] = ChatMessageHistory()\n",
    "    return history_store[session_id]\n",
    "\n",
    "# prompt to load in history and current input from the user\n",
    "prompt_template = ChatPromptTemplate.from_messages(\n",
    "    [\n",
    "        (\"system\", \"Act as a helpful AI Assistant\"),\n",
    "        MessagesPlaceholder(variable_name=\"history\"),\n",
    "        (\"human\", \"{human_input}\"),\n",
    "    ]\n",
    ")\n",
    "\n",
    "# create a basic LLM Chain\n",
    "llm_chain = (prompt_template\n",
    "                |\n",
    "             chatgpt)\n",
    "\n",
    "# create a conversation chain which can load memory based on specific user or session id\n",
    "conv_chain = RunnableWithMessageHistory(\n",
    "    llm_chain,\n",
    "    get_session_history,\n",
    "    input_messages_key=\"human_input\",\n",
    "    history_messages_key=\"history\",\n",
    ")\n",
    "\n",
    "# create a utility function to take in current user input prompt and their session ID\n",
    "# streams result live back to the user from the LLM\n",
    "def chat_with_llm(prompt: str, session_id: str):\n",
    "    for chunk in conv_chain.stream({\"human_input\": prompt},\n",
    "                                   {'configurable': { 'session_id': session_id}}):\n",
    "        print(chunk.content, end=\"\")"
   ]
  },
  {
   "cell_type": "code",
   "execution_count": 10,
   "id": "6ddc2c9f",
   "metadata": {},
   "outputs": [
    {
     "name": "stdout",
     "output_type": "stream",
     "text": [
      "Of course, Sourav! Here are three key points about AI:\n",
      "\n",
      "1. **Core Concept**: Artificial Intelligence (AI) involves creating computer systems that can perform tasks typically requiring human intelligence, such as learning, reasoning, problem-solving, and understanding language. It aims to mimic cognitive functions.\n",
      "\n",
      "2. **Machine Learning and Deep Learning**: A significant subset of AI is machine learning, where algorithms learn from data to improve their performance over time. Deep learning, a further subset, uses neural networks to analyze complex data patterns, enabling advancements in areas like image and speech recognition.\n",
      "\n",
      "3. **Real-World Applications**: AI is transforming various sectors, including healthcare (for predictive analytics and personalized medicine), finance (for algorithmic trading and risk assessment), and customer service (through chatbots and virtual assistants). Its growing presence raises important discussions about ethics, accountability, and the future of work."
     ]
    }
   ],
   "source": [
    "user_id = 'Sourav'\n",
    "prompt = \"Hi I am Sourav, can you explain AI in 3 bullet points?\"\n",
    "chat_with_llm(prompt, user_id)"
   ]
  },
  {
   "cell_type": "code",
   "execution_count": 11,
   "id": "bbf4344a",
   "metadata": {},
   "outputs": [
    {
     "name": "stdout",
     "output_type": "stream",
     "text": [
      "Sure, Sourav! Here are three key points about deep learning:\n",
      "\n",
      "1. **Definition and Structure**: Deep learning is a subset of machine learning that uses artificial neural networks with multiple layers (hence \"deep\") to model complex patterns in large datasets. These networks are designed to automatically learn representations of data, making them particularly effective for tasks like image and speech recognition.\n",
      "\n",
      "2. **How It Works**: Deep learning algorithms process data through layers of interconnected nodes (neurons), where each layer extracts increasingly abstract features. For example, in image recognition, initial layers might detect edges, while deeper layers identify shapes and objects. This hierarchical learning enables the model to understand intricate patterns without manual feature extraction.\n",
      "\n",
      "3. **Applications and Impact**: Deep learning has led to significant advancements in various fields, including computer vision (self-driving cars), natural language processing (language translation and chatbots), and healthcare (medical image analysis). Its ability to handle vast amounts of unstructured data has revolutionized many industries, but it also raises challenges related to interpretability, data privacy, and computational resource requirements."
     ]
    }
   ],
   "source": [
    "prompt = \"Now do the same for deep learning\"\n",
    "chat_with_llm(prompt, user_id)"
   ]
  },
  {
   "cell_type": "code",
   "execution_count": 12,
   "id": "f9bbec08",
   "metadata": {},
   "outputs": [
    {
     "name": "stdout",
     "output_type": "stream",
     "text": [
      "Certainly! Here’s a brief summary of what we’ve discussed so far in bullet points:\n",
      "\n",
      "### Artificial Intelligence (AI)\n",
      "- **Definition and Purpose**: AI simulates human intelligence in machines to perform tasks like problem-solving and language understanding.\n",
      "- **Types of AI**: Divided into Narrow AI (specific tasks) and General AI (human-like intelligence), with most applications currently being Narrow AI.\n",
      "- **Applications and Impact**: Used in various industries (healthcare, finance, transportation) to drive efficiency and innovation, while raising ethical considerations.\n",
      "\n",
      "### Deep Learning\n",
      "- **Definition and Structure**: A subset of machine learning that uses multi-layered neural networks to model complex patterns in large datasets.\n",
      "- **How It Works**: Processes data through interconnected layers, extracting increasingly abstract features for tasks like image and speech recognition.\n",
      "- **Applications and Impact**: Significant advancements in fields like computer vision and natural language processing, with challenges related to interpretability and resource requirements.\n",
      "\n",
      "Let me know if you need more information or further clarification on any topic!"
     ]
    }
   ],
   "source": [
    "prompt = \"Discuss briefly what have we discussed so far is bullet points?\"\n",
    "chat_with_llm(prompt, user_id)"
   ]
  },
  {
   "cell_type": "code",
   "execution_count": 13,
   "id": "bc6b72e6",
   "metadata": {},
   "outputs": [
    {
     "name": "stdout",
     "output_type": "stream",
     "text": [
      "Sure! Here are two key points about LLMs (Large Language Models):\n",
      "\n",
      "- **Definition**: LLMs are advanced artificial intelligence models designed to understand, generate, and manipulate human language by processing vast amounts of text data, enabling them to perform tasks like translation, summarization, and conversation.\n",
      "\n",
      "- **Architecture**: They typically use deep learning techniques, particularly transformer architectures, which allow them to capture complex patterns and relationships in language, making them highly effective for various natural language processing applications."
     ]
    }
   ],
   "source": [
    "user_id = 'Arnab'\n",
    "prompt = \"Hi can you explain what is an LLM in 2 bullet points?\"\n",
    "chat_with_llm(prompt, user_id)"
   ]
  },
  {
   "cell_type": "code",
   "execution_count": 14,
   "id": "79b8155e",
   "metadata": {},
   "outputs": [
    {
     "name": "stdout",
     "output_type": "stream",
     "text": [
      "Got it! Here’s a refined explanation of LLMs in the context of AI:\n",
      "\n",
      "- **Large Language Models (LLMs)**: These are AI models that are trained on extensive datasets containing text from books, articles, and websites, enabling them to understand and generate human-like text based on the input they receive.\n",
      "\n",
      "- **Applications**: LLMs are used in various applications, including chatbots, content creation, language translation, and more, leveraging their ability to comprehend context and produce coherent and contextually relevant responses."
     ]
    }
   ],
   "source": [
    "prompt = \"Actually I meant in the context of AI?\"\n",
    "chat_with_llm(prompt, user_id)"
   ]
  },
  {
   "cell_type": "code",
   "execution_count": 15,
   "id": "db8ab59b",
   "metadata": {},
   "outputs": [
    {
     "name": "stdout",
     "output_type": "stream",
     "text": [
      "We discussed Large Language Models (LLMs) in the context of AI, highlighting two main points: \n",
      "\n",
      "1. LLMs are advanced AI models trained on vast text datasets to understand and generate human-like language.\n",
      "2. They are utilized in various applications, such as chatbots and content creation, due to their ability to comprehend context and produce relevant responses."
     ]
    }
   ],
   "source": [
    "prompt = \"Summarize briefly what we have discussed so far?\"\n",
    "chat_with_llm(prompt, user_id)"
   ]
  },
  {
   "cell_type": "code",
   "execution_count": 16,
   "id": "f8324f64",
   "metadata": {},
   "outputs": [
    {
     "name": "stdout",
     "output_type": "stream",
     "text": [
      "We have discussed two key topics: Artificial Intelligence (AI) and Deep Learning.\n",
      "\n",
      "1. **Artificial Intelligence (AI)**: \n",
      "   - AI simulates human intelligence to perform tasks like problem-solving and language understanding.\n",
      "   - It is categorized into Narrow AI (specific tasks) and General AI (human-like intelligence), with most current applications being Narrow AI.\n",
      "   - AI is applied across various industries, enhancing efficiency and innovation, while also raising ethical concerns.\n",
      "\n",
      "2. **Deep Learning**: \n",
      "   - Deep learning is a subset of machine learning that utilizes multi-layered neural networks to analyze complex data patterns.\n",
      "   - It works by processing data through layers that extract increasingly abstract features, making it effective for tasks like image and speech recognition.\n",
      "   - Deep learning has led to advancements in fields such as computer vision and natural language processing, but it also presents challenges related to interpretability and resource demands.\n",
      "\n",
      "If you have any more questions or need further details, feel free to ask!"
     ]
    }
   ],
   "source": [
    "user_id = 'Sourav'\n",
    "prompt = \"Summarize briefly what we have discussed so far?\"\n",
    "chat_with_llm(prompt, user_id)"
   ]
  },
  {
   "cell_type": "code",
   "execution_count": 17,
   "id": "c94223ea",
   "metadata": {},
   "outputs": [
    {
     "name": "stdout",
     "output_type": "stream",
     "text": [
      "We discussed Large Language Models (LLMs) in AI, noting that they are advanced models trained on extensive text data to understand and generate human-like language. We also highlighted their applications, including chatbots and content creation, due to their contextual comprehension and response generation capabilities."
     ]
    }
   ],
   "source": [
    "user_id = 'Arnab'\n",
    "prompt = \"Summarize briefly what we have discussed so far?\"\n",
    "chat_with_llm(prompt, user_id)"
   ]
  },
  {
   "cell_type": "code",
   "execution_count": null,
   "id": "7110daab",
   "metadata": {},
   "outputs": [],
   "source": []
  }
 ],
 "metadata": {
  "kernelspec": {
   "display_name": "venv",
   "language": "python",
   "name": "python3"
  },
  "language_info": {
   "codemirror_mode": {
    "name": "ipython",
    "version": 3
   },
   "file_extension": ".py",
   "mimetype": "text/x-python",
   "name": "python",
   "nbconvert_exporter": "python",
   "pygments_lexer": "ipython3",
   "version": "3.11.6"
  }
 },
 "nbformat": 4,
 "nbformat_minor": 5
}
