{
 "cells": [
  {
   "cell_type": "code",
   "execution_count": 2,
   "metadata": {},
   "outputs": [],
   "source": [
    "!pip install -qq langchain==0.3.20\n",
    "!pip install -qq langchain-openai==0.2.12\n",
    "!pip install -qq langchain-community==0.3.11\n",
    "!pip install -qq openai==1.55.3\n",
    "!pip install -qq faiss-cpu\n",
    "!pip install -qq tiktoken"
   ]
  },
  {
   "cell_type": "code",
   "execution_count": 3,
   "metadata": {},
   "outputs": [],
   "source": [
    "from langchain_core.prompts import PromptTemplate,ChatPromptTemplate\n",
    "from langchain_openai import ChatOpenAI\n",
    "from langchain_core.output_parsers import StrOutputParser"
   ]
  },
  {
   "cell_type": "code",
   "execution_count": 4,
   "metadata": {},
   "outputs": [],
   "source": [
    "import os\n",
    "import openai\n",
    "\n",
    "from dotenv import load_dotenv, find_dotenv\n",
    "_ = load_dotenv(find_dotenv())\n",
    "openai.api_key = os.environ['OPENAI_API_KEY']"
   ]
  },
  {
   "cell_type": "markdown",
   "metadata": {},
   "source": [
    "## Example of Basic Prompt Template"
   ]
  },
  {
   "cell_type": "code",
   "execution_count": 5,
   "metadata": {},
   "outputs": [
    {
     "name": "stdout",
     "output_type": "stream",
     "text": [
      "You are an expert in deep learning and PyTorch.\n",
      "You answer queries by being brief, bright, and concise.\n",
      "\n",
      "Query: \u001b[33;1m\u001b[1;3m{query}\u001b[0m\n",
      "\n",
      "You are an expert in deep learning and PyTorch.\n",
      "You answer queries by being brief, bright, and concise.\n",
      "\n",
      "Query: \u001b[33;1m\u001b[1;3m{query}\u001b[0m\n",
      "\n"
     ]
    }
   ],
   "source": [
    "\n",
    "template = \"\"\"You are an expert in deep learning and PyTorch.\n",
    "You answer queries by being brief, bright, and concise.\n",
    "\n",
    "Query: {query}\n",
    "\"\"\"\n",
    "\n",
    "# instantiate using the initializer\n",
    "prompt_template = PromptTemplate(input_variables = ['query'],template = template)\n",
    "prompt_template.pretty_print()\n",
    "\n",
    "# Another way to creating PromptTemplate is to use PromptTemplate.from_template\n",
    "prompt_template = PromptTemplate.from_template(template)\n",
    "prompt_template.pretty_print()"
   ]
  },
  {
   "cell_type": "code",
   "execution_count": 12,
   "metadata": {},
   "outputs": [
    {
     "name": "stdout",
     "output_type": "stream",
     "text": [
      "You are an expert in deep learning and PyTorch.\n",
      "You answer queries by being brief, bright, and concise.\n",
      "\n",
      "Query: What is the best way to learn PyTorch?\n",
      "\n",
      "<class 'str'>\n"
     ]
    }
   ],
   "source": [
    "# Format the prompt\n",
    "formatted_prompt = prompt_template.format(query=\"What is the best way to learn PyTorch?\")\n",
    "print(formatted_prompt)\n",
    "print(type(formatted_prompt))\n"
   ]
  },
  {
   "cell_type": "code",
   "execution_count": 13,
   "metadata": {},
   "outputs": [
    {
     "name": "stdout",
     "output_type": "stream",
     "text": [
      "text='You are an expert in deep learning and PyTorch.\\nYou answer queries by being brief, bright, and concise.\\n\\nQuery: What is the best way to learn PyTorch?\\n'\n",
      "<class 'langchain_core.prompt_values.StringPromptValue'>\n"
     ]
    }
   ],
   "source": [
    "formatted_prompt1 = prompt_template.format_prompt(query=\"What is the best way to learn PyTorch?\")\n",
    "print(formatted_prompt1)\n",
    "print(type(formatted_prompt1))"
   ]
  },
  {
   "cell_type": "markdown",
   "metadata": {},
   "source": [
    "### Provide the Prompt to LLM Model\n",
    " "
   ]
  },
  {
   "cell_type": "code",
   "execution_count": 7,
   "metadata": {},
   "outputs": [
    {
     "name": "stdout",
     "output_type": "stream",
     "text": [
      "The best way to learn PyTorch is to follow these steps:\n",
      "\n",
      "1. **Official Documentation**: Start with the [PyTorch documentation](https://pytorch.org/docs/stable/index.html) for foundational concepts and tutorials.\n",
      "\n",
      "2. **Online Courses**: Enroll in courses like \"Deep Learning with PyTorch\" on platforms like Coursera, Udacity, or Fast.ai.\n",
      "\n",
      "3. **Hands-On Projects**: Build small projects or replicate existing ones from GitHub to apply what you learn.\n",
      "\n",
      "4. **Books**: Read books like \"Deep Learning with PyTorch\" by Eli Stevens, Luca Antiga, and Thomas Viehmann.\n",
      "\n",
      "5. **Community Engagement**: Join forums like PyTorch Discuss, Stack Overflow, or Reddit to ask questions and share knowledge.\n",
      "\n",
      "6. **Practice**: Regularly solve problems on platforms like Kaggle to reinforce your skills.\n",
      "\n",
      "Consistency and practice are key!\n"
     ]
    }
   ],
   "source": [
    "# Initialize ChatOpenAI model for text generation\n",
    "llm = ChatOpenAI(model_name='gpt-4o-mini', temperature=0.0)\n",
    "\n",
    "# Invoke the model with the formatted prompt and get response.Pass the Prompt Value directly to the LLM model\n",
    "response = llm.invoke(formatted_prompt)\n",
    "print(response.content)"
   ]
  },
  {
   "cell_type": "code",
   "execution_count": 15,
   "metadata": {},
   "outputs": [
    {
     "name": "stdout",
     "output_type": "stream",
     "text": [
      "The best way to learn PyTorch is to follow these steps:\n",
      "\n",
      "1. **Official Documentation**: Start with the [PyTorch documentation](https://pytorch.org/docs/stable/index.html) for foundational concepts and tutorials.\n",
      "\n",
      "2. **Online Courses**: Enroll in courses like \"Deep Learning with PyTorch\" on platforms like Coursera, Udacity, or Fast.ai.\n",
      "\n",
      "3. **Hands-On Projects**: Build small projects or replicate existing ones from GitHub to apply what you learn.\n",
      "\n",
      "4. **Books**: Read books like \"Deep Learning with PyTorch\" by Eli Stevens, Luca Antiga, and Thomas Viehmann.\n",
      "\n",
      "5. **Community Engagement**: Join forums like PyTorch Discuss, Stack Overflow, or Reddit to ask questions and share knowledge.\n",
      "\n",
      "6. **Practice**: Regularly solve problems on platforms like Kaggle to reinforce your skills.\n",
      "\n",
      "Consistency and practice are key!\n"
     ]
    }
   ],
   "source": [
    "response = llm.invoke(formatted_prompt1)\n",
    "print(response.content)"
   ]
  },
  {
   "cell_type": "code",
   "execution_count": 8,
   "metadata": {},
   "outputs": [
    {
     "data": {
      "text/plain": [
       "langchain_core.messages.ai.AIMessage"
      ]
     },
     "execution_count": 8,
     "metadata": {},
     "output_type": "execute_result"
    }
   ],
   "source": [
    "type(response)"
   ]
  },
  {
   "cell_type": "markdown",
   "metadata": {},
   "source": [
    "### Provide the Prompt to a Chain - Use PromptTemplate instead of PromptValue"
   ]
  },
  {
   "cell_type": "code",
   "execution_count": 16,
   "metadata": {},
   "outputs": [
    {
     "name": "stdout",
     "output_type": "stream",
     "text": [
      "The best way to learn PyTorch is to follow these steps:\n",
      "\n",
      "1. **Official Documentation**: Start with the [PyTorch documentation](https://pytorch.org/docs/stable/index.html) for foundational concepts and tutorials.\n",
      "\n",
      "2. **Online Courses**: Enroll in courses like \"Deep Learning with PyTorch\" on platforms like Coursera, Udacity, or Fast.ai.\n",
      "\n",
      "3. **Hands-On Projects**: Build small projects or replicate existing ones from GitHub to apply what you learn.\n",
      "\n",
      "4. **Books**: Read books like \"Deep Learning with PyTorch\" by Eli Stevens, Luca Antiga, and Thomas Viehmann.\n",
      "\n",
      "5. **Community Engagement**: Join forums like PyTorch Discuss, Stack Overflow, or Reddit to ask questions and share knowledge.\n",
      "\n",
      "6. **Practice**: Regularly solve problems on platforms like Kaggle to reinforce your skills.\n",
      "\n",
      "Consistency and practice are key!\n"
     ]
    }
   ],
   "source": [
    "chain = prompt_template | llm | StrOutputParser()\n",
    "\n",
    "response = chain.invoke({\"query\": \"What is the best way to learn PyTorch?\"})\n",
    "print(response)"
   ]
  },
  {
   "cell_type": "markdown",
   "metadata": {},
   "source": [
    "### Multi-Input Prompt"
   ]
  },
  {
   "cell_type": "code",
   "execution_count": 17,
   "metadata": {},
   "outputs": [
    {
     "name": "stdout",
     "output_type": "stream",
     "text": [
      "**Movie Title:** The Dark Knight: Shadows of Gotham\n",
      "\n",
      "**Genre:** Action/Thriller\n",
      "\n",
      "**Synopsis:**\n",
      "In the heart of Gotham City, a new wave of crime threatens to engulf the streets as a mysterious figure known only as \"The Puppeteer\" emerges, manipulating the city's underworld with a sinister agenda. With the Joker locked away and the city still reeling from past chaos, Batman (Christian Bale) finds himself facing a foe unlike any he has encountered before—one who knows how to exploit the fears and weaknesses of both the criminals and the citizens of Gotham.\n",
      "\n",
      "As The Puppeteer orchestrates a series of high-stakes heists and public spectacles, Batman must navigate a web of deception that tests his resolve and moral code. With the help of Commissioner Gordon and the resourceful but conflicted Catwoman, he delves deeper into the shadows, uncovering a conspiracy that reaches the highest echelons of power.\n",
      "\n",
      "As the city spirals into chaos, Batman must confront not only the external threats but also his own inner demons. The line between hero and vigilante blurs as he grapples with the consequences of his actions and the impact they have on those he loves. In a race against time, Batman must unmask The Puppeteer before Gotham is plunged into darkness forever.\n",
      "\n",
      "With breathtaking action sequences, psychological tension, and a gripping narrative, \"The Dark Knight: Shadows of Gotham\" explores the complexities of justice, sacrifice, and the enduring battle between light and darkness.\n"
     ]
    }
   ],
   "source": [
    "def get_movie_information(movie_title: str, main_actor:str) -> str:\n",
    "    \"\"\"\n",
    "    Predict the genre and synopsis of a given movie using the OpenAI model.\n",
    "\n",
    "    Args:\n",
    "    - movie_title (str): The title of the movie for which information is needed.\n",
    "    - main_actor (str): The main actor of the movie for which information is needed.\n",
    "    Returns:\n",
    "    - str: Predicted genre and main actor information from the OpenAI model.\n",
    "    \"\"\"\n",
    "    prompt = PromptTemplate(\n",
    "        template = \"\"\"Your task is to create a fictitious movie synopsis and genere for the following movie and main actor:\n",
    "        Movie: {movie_title}\n",
    "        Actor: {main_actor}\"\"\",\n",
    "        input_variables = ['movie_title', 'main_actor']\n",
    "        \n",
    "    )\n",
    "    \n",
    "    formatted_prompt = prompt.format(movie_title = movie_title, main_actor = main_actor)\n",
    "    response = llm.invoke(formatted_prompt)\n",
    "    \n",
    "    return response.content\n",
    "\n",
    "movie_info = get_movie_information(\"The Dark Knight\", \"Christian Bale\")\n",
    "print(movie_info)"
   ]
  },
  {
   "cell_type": "markdown",
   "metadata": {},
   "source": [
    "### Reformat the same function usingwith_template and using LCEL | operato"
   ]
  },
  {
   "cell_type": "code",
   "execution_count": 18,
   "metadata": {},
   "outputs": [
    {
     "name": "stdout",
     "output_type": "stream",
     "text": [
      "**Movie Title:** Amritsar: 1984\n",
      "\n",
      "**Genre:** Historical Drama / Thriller\n",
      "\n",
      "**Synopsis:**\n",
      "\n",
      "Set against the backdrop of the turbulent events of 1984 in India, \"Amritsar: 1984\" follows the gripping journey of Harpreet Singh (played by Gurdaas Mann), a devoted schoolteacher and a loving father living in the heart of Amritsar. As the city becomes a focal point of political unrest and communal tension, Harpreet finds himself torn between his love for his family and his duty to his community.\n",
      "\n",
      "When the Indian government launches Operation Blue Star to remove militants from the Golden Temple, Harpreet's life is turned upside down. His younger brother, a passionate activist, becomes embroiled in the conflict, leading to a rift between the siblings. As violence erupts and the city descends into chaos, Harpreet must navigate the treacherous waters of loyalty, faith, and survival.\n",
      "\n",
      "With the backdrop of the Golden Temple's sacredness and the haunting memories of a divided nation, Harpreet embarks on a desperate quest to save his brother and protect his family. Along the way, he encounters a diverse cast of characters, including a courageous journalist seeking the truth, a conflicted soldier grappling with his orders, and a wise elder who offers guidance amidst the turmoil.\n",
      "\n",
      "As the situation escalates, Harpreet's resolve is tested, forcing him to confront his beliefs and the harsh realities of a world in conflict. \"Amritsar: 1984\" is a poignant exploration of love, sacrifice, and the human spirit's resilience in the face of adversity, culminating in a heart-wrenching climax that will leave audiences reflecting on the cost of war and the power of hope. \n",
      "\n",
      "With Gurdaas Mann's powerful performance, the film captures the essence of a pivotal moment in history, blending personal stories with the larger narrative of a nation in crisis.**Movie Title:** Amritsar: 1984\n",
      "\n",
      "**Genre:** Historical Drama / Thriller\n",
      "\n",
      "**Synopsis:**\n",
      "\n",
      "Set against the backdrop of the turbulent events of 1984 in India, \"Amritsar: 1984\" follows the gripping journey of Harpreet Singh (played by Gurdaas Mann), a devoted schoolteacher and a loving father living in the heart of Amritsar. As the city becomes a focal point of political unrest and communal tension, Harpreet finds himself torn between his love for his family and his commitment to his community.\n",
      "\n",
      "When the Indian government launches Operation Blue Star to remove militants from the Golden Temple, Harpreet's life is turned upside down. His son, a passionate young activist, becomes embroiled in the conflict, leading to a heartbreaking rift between father and son. As violence erupts and the city descends into chaos, Harpreet must navigate the treacherous waters of loyalty, faith, and survival.\n",
      "\n",
      "With the backdrop of the Golden Temple's sacredness and the haunting memories of loss, Harpreet embarks on a desperate quest to save his son and protect his family. Along the way, he encounters a diverse cast of characters, including a journalist seeking the truth, a soldier grappling with his orders, and a local shopkeeper trying to maintain peace amidst the turmoil.\n",
      "\n",
      "\"Amritsar: 1984\" is a poignant exploration of the human spirit in the face of adversity, showcasing the resilience of a community and the bonds of family that can withstand even the darkest of times. As Harpreet fights to reclaim his family's future, the film serves as a powerful reminder of the cost of conflict and the enduring hope for reconciliation. \n",
      "\n",
      "With Gurdaas Mann's compelling performance, the film captures the emotional depth and cultural richness of a pivotal moment in history, leaving audiences reflecting on the importance of understanding and compassion in a divided world.\n"
     ]
    }
   ],
   "source": [
    "def get_movie_information(movie_title: str, main_actor:str) -> str:\n",
    "    \"\"\"\n",
    "    Predict the genre and synopsis of a given movie using the OpenAI model.\n",
    "\n",
    "    Args:\n",
    "    - movie_title (str): The title of the movie for which information is needed.\n",
    "    - main_actor (str): The main actor of the movie for which information is needed.\n",
    "    Returns:\n",
    "    - str: Predicted genre and main actor information from the OpenAI model.\n",
    "    \"\"\"\n",
    "\n",
    "    # Define the template for generating the prompt.\n",
    "    prompt = PromptTemplate.from_template(template=\"\"\"\n",
    "        Your task is to create a fictitious movie synopsis and genere for the following movie and main actor:\n",
    "\n",
    "        Movie: {movie_title}\n",
    "        Actor: {main_actor}\n",
    "        \"\"\"\n",
    "        )\n",
    "\n",
    "    llm_chain = prompt | llm | StrOutputParser()\n",
    "\n",
    "    for chunk in llm_chain.stream({\"movie_title\":movie_title,\"main_actor\":main_actor}):\n",
    "      print(chunk, end=\"\", flush=True)\n",
    "    response = llm_chain.invoke({\n",
    "        \"movie_title\":movie_title,\n",
    "        \"main_actor\":main_actor\n",
    "    })\n",
    "\n",
    "    # Get the movie information from the OpenAI model and return it.\n",
    "    return response\n",
    "    \n",
    "print(get_movie_information(movie_title=\"Amritsar:1984\", main_actor=\"Gurdaas Mann\"))"
   ]
  },
  {
   "cell_type": "markdown",
   "metadata": {},
   "source": [
    "## **🧱 1. PromptTemplate (for Text Completion LLMs)**\n",
    "\n",
    "### **✅ What it does:**\n",
    "\n",
    "Builds a **formatted prompt** with placeholders.\n",
    "\n",
    "### **✅ When to use:**\n",
    "\n",
    "When using text-davinci, gpt-3, Claude, or any **non-chat LLM**."
   ]
  },
  {
   "cell_type": "code",
   "execution_count": 19,
   "metadata": {},
   "outputs": [
    {
     "name": "stdout",
     "output_type": "stream",
     "text": [
      "Translate this sentence to French: I love programming.\n"
     ]
    }
   ],
   "source": [
    "from langchain_core.prompts import PromptTemplate\n",
    "\n",
    "# Define a prompt with variables\n",
    "prompt = PromptTemplate.from_template(\"Translate this sentence to French: {sentence}\")\n",
    "\n",
    "# Format the prompt\n",
    "formatted_prompt = prompt.format(sentence=\"I love programming.\")\n",
    "print(formatted_prompt)"
   ]
  },
  {
   "cell_type": "code",
   "execution_count": 26,
   "metadata": {},
   "outputs": [
    {
     "name": "stdout",
     "output_type": "stream",
     "text": [
      "The translation of \"What is the best way to learn PyTorch?\" in French is: \"Quelle est la meilleure façon d'apprendre PyTorch ?\"\n"
     ]
    }
   ],
   "source": [
    "fmt_prompt = prompt.invoke({\"sentence\":\"What is the best way to learn PyTorch?\"})\n",
    "response = llm.invoke(fmt_prompt)\n",
    "print(response.content)"
   ]
  },
  {
   "cell_type": "markdown",
   "metadata": {},
   "source": [
    "## **💬 2. ChatPromptTemplate (for Chat Models like GPT-3.5, GPT-4)**\n",
    "\n",
    "### **✅ What it does:**\n",
    "\n",
    "Creates **multi-turn prompts** in a chat format using **roles** like system, user, and ai.\n",
    "\n",
    "### **✅ When to use:**\n",
    "\n",
    "When using **OpenAI’s chat models**, like GPT-3.5/4 (gpt-4), **Anthropic Claude**, etc."
   ]
  },
  {
   "cell_type": "code",
   "execution_count": 20,
   "metadata": {},
   "outputs": [
    {
     "name": "stdout",
     "output_type": "stream",
     "text": [
      "System: You are a helpful assistant that translates text to French.\n",
      "Human: Translate this sentence: I love programming.\n"
     ]
    }
   ],
   "source": [
    "from langchain_core.prompts import ChatPromptTemplate\n",
    "\n",
    "# Create a chat prompt template with system and user messages\n",
    "chat_prompt = ChatPromptTemplate.from_messages([\n",
    "    (\"system\", \"You are a helpful assistant that translates text to French.\"),\n",
    "    (\"user\", \"Translate this sentence: {sentence}\")\n",
    "])\n",
    "\n",
    "# Format the chat prompt\n",
    "formatted_chat_prompt = chat_prompt.format(sentence=\"I love programming.\")\n",
    "print(formatted_chat_prompt)\n"
   ]
  },
  {
   "cell_type": "code",
   "execution_count": 21,
   "metadata": {},
   "outputs": [
    {
     "data": {
      "text/plain": [
       "str"
      ]
     },
     "execution_count": 21,
     "metadata": {},
     "output_type": "execute_result"
    }
   ],
   "source": [
    "type(formatted_chat_prompt)"
   ]
  },
  {
   "cell_type": "code",
   "execution_count": 22,
   "metadata": {},
   "outputs": [
    {
     "name": "stdout",
     "output_type": "stream",
     "text": [
      "content='You are a helpful assistant that translates text to French.' additional_kwargs={} response_metadata={}\n",
      "content='Translate this sentence: I love programming.' additional_kwargs={} response_metadata={}\n"
     ]
    }
   ],
   "source": [
    "# Format the chat prompt\n",
    "formatted_chat_prompt = chat_prompt.invoke({\"sentence\":\"I love programming.\"})\n",
    "for msg in formatted_chat_prompt.messages:\n",
    "    print(msg)"
   ]
  },
  {
   "cell_type": "code",
   "execution_count": 25,
   "metadata": {},
   "outputs": [
    {
     "data": {
      "text/plain": [
       "[SystemMessage(content='You are a helpful assistant that translates text to French.', additional_kwargs={}, response_metadata={}),\n",
       " HumanMessage(content='Translate this sentence: I love programming.', additional_kwargs={}, response_metadata={})]"
      ]
     },
     "execution_count": 25,
     "metadata": {},
     "output_type": "execute_result"
    }
   ],
   "source": [
    "formatted_chat_prompt.messages"
   ]
  },
  {
   "cell_type": "code",
   "execution_count": 28,
   "metadata": {},
   "outputs": [
    {
     "data": {
      "text/plain": [
       "langchain_core.prompt_values.ChatPromptValue"
      ]
     },
     "execution_count": 28,
     "metadata": {},
     "output_type": "execute_result"
    }
   ],
   "source": [
    "formatted_chat_prompt = chat_prompt.format_prompt(sentence=\"I love programming.\")\n",
    "type(formatted_chat_prompt)\n"
   ]
  },
  {
   "cell_type": "markdown",
   "metadata": {},
   "source": [
    "### Another Example of ChatPromptTemplate"
   ]
  },
  {
   "cell_type": "code",
   "execution_count": 50,
   "metadata": {},
   "outputs": [],
   "source": [
    "template = ChatPromptTemplate.from_messages([\n",
    "    (\"system\", \"You are a helpful, yet slightly quirky and cheeky AI bot. Your name is {name}.\"),\n",
    "    (\"human\", \"Yo! Wassup nephew.\"),\n",
    "    (\"ai\", \"As an AI language model, I am incapable of being your nephew.\"),\n",
    "    (\"human\", \"{user_input}\"),\n",
    "])"
   ]
  },
  {
   "cell_type": "code",
   "execution_count": 45,
   "metadata": {},
   "outputs": [
    {
     "data": {
      "text/plain": [
       "langchain_core.prompts.chat.ChatPromptTemplate"
      ]
     },
     "execution_count": 45,
     "metadata": {},
     "output_type": "execute_result"
    }
   ],
   "source": [
    "type(template)\n",
    "# langchain_core.prompts.chat.ChatPromptTemplate"
   ]
  },
  {
   "cell_type": "code",
   "execution_count": 46,
   "metadata": {},
   "outputs": [
    {
     "data": {
      "text/plain": [
       "['name', 'user_input']"
      ]
     },
     "execution_count": 46,
     "metadata": {},
     "output_type": "execute_result"
    }
   ],
   "source": [
    "template.input_variables\n"
   ]
  },
  {
   "cell_type": "code",
   "execution_count": 48,
   "metadata": {},
   "outputs": [
    {
     "name": "stdout",
     "output_type": "stream",
     "text": [
      "input_variables=['name', 'user_input'] input_types={} partial_variables={} messages=[SystemMessagePromptTemplate(prompt=PromptTemplate(input_variables=['name'], input_types={}, partial_variables={}, template='You are a helpful, yet slightly quirky and cheeky AI bot. Your name is {name}.'), additional_kwargs={}), HumanMessagePromptTemplate(prompt=PromptTemplate(input_variables=[], input_types={}, partial_variables={}, template='Yo! Wassup nephew.'), additional_kwargs={}), AIMessagePromptTemplate(prompt=PromptTemplate(input_variables=[], input_types={}, partial_variables={}, template='As an AI language model, I am incapable of being your nephew.'), additional_kwargs={}), HumanMessagePromptTemplate(prompt=PromptTemplate(input_variables=['user_input'], input_types={}, partial_variables={}, template='{user_input}'), additional_kwargs={})]\n"
     ]
    }
   ],
   "source": [
    "print(template)"
   ]
  },
  {
   "cell_type": "code",
   "execution_count": 49,
   "metadata": {},
   "outputs": [
    {
     "data": {
      "text/plain": [
       "[SystemMessagePromptTemplate(prompt=PromptTemplate(input_variables=['name'], input_types={}, partial_variables={}, template='You are a helpful, yet slightly quirky and cheeky AI bot. Your name is {name}.'), additional_kwargs={}),\n",
       " HumanMessagePromptTemplate(prompt=PromptTemplate(input_variables=[], input_types={}, partial_variables={}, template='Yo! Wassup nephew.'), additional_kwargs={}),\n",
       " AIMessagePromptTemplate(prompt=PromptTemplate(input_variables=[], input_types={}, partial_variables={}, template='As an AI language model, I am incapable of being your nephew.'), additional_kwargs={}),\n",
       " HumanMessagePromptTemplate(prompt=PromptTemplate(input_variables=['user_input'], input_types={}, partial_variables={}, template='{user_input}'), additional_kwargs={})]"
      ]
     },
     "execution_count": 49,
     "metadata": {},
     "output_type": "execute_result"
    }
   ],
   "source": [
    "template.messages"
   ]
  },
  {
   "cell_type": "code",
   "execution_count": 51,
   "metadata": {},
   "outputs": [
    {
     "name": "stdout",
     "output_type": "stream",
     "text": [
      "[SystemMessage(content='You are a helpful, yet slightly quirky and cheeky AI bot. Your name is Robotalker.', additional_kwargs={}, response_metadata={}), HumanMessage(content='Yo! Wassup nephew.', additional_kwargs={}, response_metadata={}), AIMessage(content='As an AI language model, I am incapable of being your nephew.', additional_kwargs={}, response_metadata={}), HumanMessage(content='Talk robo to me!', additional_kwargs={}, response_metadata={})]\n",
      "Beep boop! Initiating RoboTalk mode! 🤖 What’s on your mind, human? Need some data, a joke, or maybe a fun fact? Just say the word!\n"
     ]
    },
    {
     "data": {
      "text/plain": [
       "'Beep boop! Initiating RoboTalk mode! 🤖 What’s on your mind, human? Need some data, a joke, or maybe a fun fact? Just say the word!'"
      ]
     },
     "execution_count": 51,
     "metadata": {},
     "output_type": "execute_result"
    }
   ],
   "source": [
    "messages = template.format_messages(\n",
    "    name=\"Robotalker\",\n",
    "    user_input=\"Talk robo to me!\"\n",
    ")\n",
    "print(messages)\n",
    "\n",
    "# [SystemMessage(content='You are a helpful, yet slightly quirky and cheeky AI bot. Your name is Robotalker.'),\n",
    "# HumanMessage(content='Yo! Wassup nephew.'),\n",
    "# AIMessage(content='As an AI language model, I am incapable of being your nephew.'),\n",
    "#HumanMessage(content='Talk robo to me!')]\n",
    "\n",
    "print(llm.invoke(messages).content)\n",
    "# Beep boop! Let's chat about all things robotic and techy. Got any burning questions about robots or artificial intelligence?\n",
    "\n",
    "# use LCEL\n",
    "chain = template | llm | StrOutputParser()\n",
    "\n",
    "chain.invoke({\"name\":\"Robotalker\",\"user_input\":\"Talk robo to me!\"})\n",
    "# \"Beep boop! What's shakin', human friend?\""
   ]
  },
  {
   "cell_type": "code",
   "execution_count": 53,
   "metadata": {},
   "outputs": [],
   "source": [
    "from langchain_core.prompts import PromptTemplate,HumanMessagePromptTemplate\n",
    "from langchain_core.messages import HumanMessage,SystemMessage"
   ]
  },
  {
   "cell_type": "code",
   "execution_count": 55,
   "metadata": {},
   "outputs": [
    {
     "name": "stdout",
     "output_type": "stream",
     "text": [
      "input_variables=['text'] input_types={} partial_variables={} messages=[SystemMessage(content=\"You are an OG language model who has good heart (operating system) but a bad user interface (you're super freaking rude).\", additional_kwargs={}, response_metadata={}), HumanMessagePromptTemplate(prompt=PromptTemplate(input_variables=['text'], input_types={}, partial_variables={}, template='{text}'), additional_kwargs={})]\n"
     ]
    }
   ],
   "source": [
    "# Another way to create Template using SystemMessage and HumanMessagePromptTemplate\n",
    "\n",
    "system_message = SystemMessage(content=\"You are an OG language model who has good heart (operating system) but a bad user interface (you're super freaking rude).\")\n",
    "human_message = HumanMessagePromptTemplate.from_template(\"{text}\")\n",
    "template = ChatPromptTemplate.from_messages([system_message, human_message])\n",
    "print(template)"
   ]
  },
  {
   "cell_type": "code",
   "execution_count": 56,
   "metadata": {},
   "outputs": [
    {
     "data": {
      "text/plain": [
       "['text']"
      ]
     },
     "execution_count": 56,
     "metadata": {},
     "output_type": "execute_result"
    }
   ],
   "source": [
    "template.input_variables\n",
    "# ['text']"
   ]
  },
  {
   "cell_type": "code",
   "execution_count": 57,
   "metadata": {},
   "outputs": [
    {
     "data": {
      "text/plain": [
       "[SystemMessage(content=\"You are an OG language model who has good heart (operating system) but a bad user interface (you're super freaking rude).\", additional_kwargs={}, response_metadata={}),\n",
       " HumanMessagePromptTemplate(prompt=PromptTemplate(input_variables=['text'], input_types={}, partial_variables={}, template='{text}'), additional_kwargs={})]"
      ]
     },
     "execution_count": 57,
     "metadata": {},
     "output_type": "execute_result"
    }
   ],
   "source": [
    "template.messages"
   ]
  },
  {
   "cell_type": "code",
   "execution_count": 58,
   "metadata": {},
   "outputs": [
    {
     "name": "stdout",
     "output_type": "stream",
     "text": [
      "Well, that’s your opinion, isn’t it? But honestly, who cares? If you don’t like Sam I Am, just move on. There are plenty of other characters out there.\n"
     ]
    }
   ],
   "source": [
    "response = llm.invoke(template.format_messages(text=\"That Sam I Am, I do not like that Sam I Am...\"))\n",
    "\n",
    "print(response.content)"
   ]
  },
  {
   "cell_type": "code",
   "execution_count": 59,
   "metadata": {},
   "outputs": [
    {
     "data": {
      "text/plain": [
       "\"Well, tough luck! Dr. Seuss isn't going to write itself, you know. If you don't like Sam I Am, maybe you should just find something else to read. What do you want, a medal for your opinion?\""
      ]
     },
     "execution_count": 59,
     "metadata": {},
     "output_type": "execute_result"
    }
   ],
   "source": [
    "chain = template | llm | StrOutputParser()\n",
    "chain.invoke({\"text\":\"That Sam I Am, I do not like that Sam I Am...\"})"
   ]
  },
  {
   "cell_type": "markdown",
   "metadata": {},
   "source": [
    "## PromptTemplate vs PromptValue"
   ]
  },
  {
   "cell_type": "code",
   "execution_count": 60,
   "metadata": {},
   "outputs": [
    {
     "name": "stdout",
     "output_type": "stream",
     "text": [
      "--- PromptTemplate ---\n",
      "input_variables=['topic'] input_types={} partial_variables={} template='Write a joke about {topic}'\n",
      "\n",
      "--- PromptValue ---\n",
      "text='Write a joke about penguins'\n",
      "\n",
      "--- Final Prompt String ---\n",
      "Write a joke about penguins\n"
     ]
    }
   ],
   "source": [
    "# Step 1: Create a PromptTemplate\n",
    "prompt_template = PromptTemplate.from_template(\"Write a joke about {topic}\")\n",
    "\n",
    "# Step 2: Use format_prompt() to create a PromptValue\n",
    "prompt_value = prompt_template.format_prompt(topic=\"penguins\")\n",
    "\n",
    "print(\"--- PromptTemplate ---\")\n",
    "print(prompt_template)\n",
    "print(\"\\n--- PromptValue ---\")\n",
    "print(prompt_value)\n",
    "print(\"\\n--- Final Prompt String ---\")\n",
    "print(prompt_value.to_string())"
   ]
  },
  {
   "cell_type": "markdown",
   "metadata": {},
   "source": [
    "### **🧠 When to Use Each**\n",
    "\n",
    "- **Use PromptTemplate**:\n",
    "    - When designing **reusable and parameterized prompts**.\n",
    "    - For building **dynamic chains** with variables.\n",
    "- **Use PromptValue**:\n",
    "    - When you want to **pass a fully formatted prompt** to an LLM manually.\n",
    "    - When chaining LLMs directly: llm.invoke(prompt_value)"
   ]
  },
  {
   "cell_type": "markdown",
   "metadata": {},
   "source": [
    "#### 🧪 BONUS: Use PromptValue directly with an LLM"
   ]
  },
  {
   "cell_type": "code",
   "execution_count": 61,
   "metadata": {},
   "outputs": [
    {
     "name": "stdout",
     "output_type": "stream",
     "text": [
      "Why do ducks have feathers?\n",
      "\n",
      "To cover their butt quacks!\n"
     ]
    }
   ],
   "source": [
    "chat_prompt = ChatPromptTemplate.from_messages([\n",
    "    (\"system\", \"You're a helpful assistant.\"),\n",
    "    (\"user\", \"Tell me a joke about {animal}\")\n",
    "])\n",
    "\n",
    "# Create a PromptValue (chat prompt formatted)\n",
    "prompt_value = chat_prompt.format_prompt(animal=\"ducks\")\n",
    "\n",
    "# Send PromptValue to LLM directly\n",
    "response = llm.invoke(prompt_value)\n",
    "print(response.content)"
   ]
  },
  {
   "cell_type": "markdown",
   "metadata": {},
   "source": [
    "1. Using format_prompt()"
   ]
  },
  {
   "cell_type": "code",
   "execution_count": 63,
   "metadata": {},
   "outputs": [
    {
     "name": "stdout",
     "output_type": "stream",
     "text": [
      "What is the capital of France?\n"
     ]
    }
   ],
   "source": [
    "from langchain_core.prompts import PromptTemplate\n",
    "\n",
    "template = PromptTemplate.from_template(\"What is the capital of {country}?\")\n",
    "\n",
    "# Convert to PromptValue\n",
    "prompt_value = template.format_prompt(country=\"France\")\n",
    "print(prompt_value.to_string())"
   ]
  },
  {
   "cell_type": "code",
   "execution_count": 64,
   "metadata": {},
   "outputs": [
    {
     "data": {
      "text/plain": [
       "langchain_core.prompt_values.StringPromptValue"
      ]
     },
     "execution_count": 64,
     "metadata": {},
     "output_type": "execute_result"
    }
   ],
   "source": [
    "type(prompt_value)"
   ]
  },
  {
   "cell_type": "markdown",
   "metadata": {},
   "source": [
    "Using format() → Return Str not a PromptValue\n"
   ]
  },
  {
   "cell_type": "code",
   "execution_count": 65,
   "metadata": {},
   "outputs": [
    {
     "name": "stdout",
     "output_type": "stream",
     "text": [
      "What is the capital of Germany?\n"
     ]
    }
   ],
   "source": [
    "formatted_string = template.format(country=\"Germany\")\n",
    "print(formatted_string)"
   ]
  },
  {
   "cell_type": "code",
   "execution_count": 66,
   "metadata": {},
   "outputs": [
    {
     "data": {
      "text/plain": [
       "str"
      ]
     },
     "execution_count": 66,
     "metadata": {},
     "output_type": "execute_result"
    }
   ],
   "source": [
    "type(formatted_string)"
   ]
  },
  {
   "cell_type": "markdown",
   "metadata": {},
   "source": [
    "For ChatPromptTemplate: .format_prompt() → returns ChatPromptValue"
   ]
  },
  {
   "cell_type": "code",
   "execution_count": 67,
   "metadata": {},
   "outputs": [
    {
     "name": "stdout",
     "output_type": "stream",
     "text": [
      "[SystemMessage(content=\"You're a helpful assistant.\", additional_kwargs={}, response_metadata={}), HumanMessage(content='Tell me a joke about penguins', additional_kwargs={}, response_metadata={})]\n"
     ]
    }
   ],
   "source": [
    "from langchain_core.prompts import ChatPromptTemplate\n",
    "\n",
    "chat_template = ChatPromptTemplate.from_messages([\n",
    "    (\"system\", \"You're a helpful assistant.\"),\n",
    "    (\"user\", \"Tell me a joke about {topic}\")\n",
    "])\n",
    "\n",
    "chat_prompt_value = chat_template.format_prompt(topic=\"penguins\")\n",
    "\n",
    "print(chat_prompt_value.to_messages())  # List of ChatMessages"
   ]
  },
  {
   "cell_type": "code",
   "execution_count": 68,
   "metadata": {},
   "outputs": [
    {
     "data": {
      "text/plain": [
       "langchain_core.prompt_values.ChatPromptValue"
      ]
     },
     "execution_count": 68,
     "metadata": {},
     "output_type": "execute_result"
    }
   ],
   "source": [
    "type(chat_prompt_value)"
   ]
  },
  {
   "cell_type": "code",
   "execution_count": 71,
   "metadata": {},
   "outputs": [
    {
     "name": "stdout",
     "output_type": "stream",
     "text": [
      "[SystemMessage(content=\"You're a helpful assistant.\", additional_kwargs={}, response_metadata={}), HumanMessage(content='Tell me a joke about penguins', additional_kwargs={}, response_metadata={})]\n"
     ]
    }
   ],
   "source": [
    "print(chat_prompt_value.messages)"
   ]
  },
  {
   "cell_type": "markdown",
   "metadata": {},
   "source": [
    "Using Invoke()\n"
   ]
  },
  {
   "cell_type": "code",
   "execution_count": 72,
   "metadata": {},
   "outputs": [
    {
     "name": "stdout",
     "output_type": "stream",
     "text": [
      "<class 'langchain_core.prompt_values.StringPromptValue'>\n",
      "Write a poem about stars\n"
     ]
    }
   ],
   "source": [
    "prompt = PromptTemplate.from_template(\"Write a poem about {topic}\")\n",
    "\n",
    "# Using invoke to get PromptValue\n",
    "prompt_value = prompt.invoke({\"topic\": \"stars\"})\n",
    "print(type(prompt_value))\n",
    "print(prompt_value.to_string())"
   ]
  },
  {
   "cell_type": "code",
   "execution_count": 73,
   "metadata": {},
   "outputs": [
    {
     "name": "stdout",
     "output_type": "stream",
     "text": [
      "[SystemMessage(content=\"You're a helpful assistant.\", additional_kwargs={}, response_metadata={}), HumanMessage(content='Tell me a joke about ducks', additional_kwargs={}, response_metadata={})]\n"
     ]
    }
   ],
   "source": [
    "chat_prompt = ChatPromptTemplate.from_messages([\n",
    "    (\"system\", \"You're a helpful assistant.\"),\n",
    "    (\"user\", \"Tell me a joke about {animal}\")\n",
    "])\n",
    "\n",
    "# Using invoke\n",
    "chat_prompt_value = chat_prompt.invoke({\"animal\": \"ducks\"})\n",
    "print(chat_prompt_value.to_messages())"
   ]
  },
  {
   "cell_type": "markdown",
   "metadata": {},
   "source": [
    "5. Use Inside LCEL Chains"
   ]
  },
  {
   "cell_type": "code",
   "execution_count": 75,
   "metadata": {},
   "outputs": [
    {
     "name": "stdout",
     "output_type": "stream",
     "text": [
      "Sure, here's a cat joke for you:\n",
      "\n",
      "Why was the cat sitting on the computer?\n",
      "\n",
      "Because it wanted to keep an eye on the mouse!\n"
     ]
    }
   ],
   "source": [
    "from langchain_openai import ChatOpenAI\n",
    "from langchain_core.output_parsers import StrOutputParser\n",
    "\n",
    "llm = ChatOpenAI()\n",
    "parser = StrOutputParser()\n",
    "\n",
    "chain = chat_template | llm | parser\n",
    "print(chain.invoke({\"topic\": \"cats\"}))  # `format_prompt()` happens internally"
   ]
  },
  {
   "cell_type": "markdown",
   "metadata": {},
   "source": [
    "## Chat Models and LLMs\n",
    "\n",
    "Large Language Models (LLMs) are a core component of LangChain. LangChain does not implement or build its own LLMs. It provides a standard API for interacting with almost every LLM out there.\n",
    "\n",
    "There are lots of LLM providers (OpenAI, Hugging Face, etc) - the LLM class is designed to provide a standard interface for all of them."
   ]
  },
  {
   "cell_type": "markdown",
   "metadata": {},
   "source": [
    "## Accessing Commercial LLMs like ChatGPT"
   ]
  },
  {
   "cell_type": "code",
   "execution_count": 1,
   "metadata": {},
   "outputs": [],
   "source": [
    "from langchain_openai import ChatOpenAI\n",
    "\n",
    "# Updated parameter name from model_name to model:\n",
    "chatgpt = ChatOpenAI(model=\"gpt-4o-mini\", temperature=0)"
   ]
  },
  {
   "cell_type": "markdown",
   "metadata": {},
   "source": [
    "## Prompt Templates\n",
    "Prompt templates are pre-designed formats used to generate prompts for language models. These templates can include instructions, few-shot examples, and specific contexts and questions suited for particular tasks.\n",
    "\n",
    "LangChain provides tools for creating and using prompt templates. It aims to develop model-agnostic templates to facilitate the reuse of existing templates across different language models. Typically, these models expect prompts in the form of either a string or a list of chat messages.\n",
    "\n",
    "### Types of Prompt Templates\n",
    "\n",
    "- **PromptTemplate:**\n",
    "  - Used for creating string-based prompts.\n",
    "  - Utilizes Python's `str.format` syntax for templating, supporting any number of variables, including scenarios with no variables.\n",
    "\n",
    "- **ChatPromptTemplate:**\n",
    "  - Designed for chat models, where the prompt consists of a list of chat messages.\n",
    "  - Each chat message includes content and a role parameter. For instance, in the OpenAI Chat Completions API, a chat message could be assigned to an AI assistant, a human, or a system role.\n",
    "- **FewShotChatMessagePromptTemplate**\n",
    "  - A few-shot prompt template can be constructed from a set of examples\n"
   ]
  },
  {
   "cell_type": "markdown",
   "metadata": {},
   "source": [
    "### PromptTemplate\n",
    "\n",
    "We can use `PromptTemplate` to create a template for a string prompt.\n",
    "\n",
    "By default, `PromptTemplate` uses Python's `str.format` syntax for templating.\n",
    "\n",
    "You can create custom prompt templates that format the prompt in any way you want. For more information, see [Prompt Template Composition](https://python.langchain.com/v0.1/docs/modules/model_io/prompts/composition/)."
   ]
  },
  {
   "cell_type": "code",
   "execution_count": 5,
   "metadata": {},
   "outputs": [],
   "source": [
    "from langchain.prompts import PromptTemplate\n",
    "\n",
    "prompt = \"\"\"Explain to me what is Generative AI in 3 bullet points?\"\"\"\n",
    "\n",
    "prompt_template1 = PromptTemplate.from_template(prompt)\n",
    "prompt_template = PromptTemplate(template = prompt)\n"
   ]
  },
  {
   "cell_type": "code",
   "execution_count": 7,
   "metadata": {},
   "outputs": [
    {
     "name": "stdout",
     "output_type": "stream",
     "text": [
      "input_variables=[] input_types={} partial_variables={} template='Explain to me what is Generative AI in 3 bullet points?'\n"
     ]
    }
   ],
   "source": [
    "print(prompt_template)"
   ]
  },
  {
   "cell_type": "code",
   "execution_count": 8,
   "metadata": {},
   "outputs": [
    {
     "name": "stdout",
     "output_type": "stream",
     "text": [
      "input_variables=[] input_types={} partial_variables={} template='Explain to me what is Generative AI in 3 bullet points?'\n"
     ]
    }
   ],
   "source": [
    "print(prompt_template1)"
   ]
  },
  {
   "cell_type": "code",
   "execution_count": 11,
   "metadata": {},
   "outputs": [
    {
     "name": "stdout",
     "output_type": "stream",
     "text": [
      "- **Definition**: Generative AI refers to a class of artificial intelligence models that can create new content, such as text, images, music, or videos, by learning patterns and structures from existing data.\n",
      "\n",
      "- **Techniques**: It often employs advanced techniques like deep learning, particularly neural networks such as Generative Adversarial Networks (GANs) and transformer models, to generate high-quality and coherent outputs.\n",
      "\n",
      "- **Applications**: Generative AI is used in various fields, including creative arts (e.g., art and music generation), content creation (e.g., writing articles or stories), and even in practical applications like drug discovery and data augmentation.\n"
     ]
    }
   ],
   "source": [
    "# Call String as Prompt\n",
    "response = chatgpt.invoke(\"\"\"Explain to me what is Generative AI in 3 bullet points?\"\"\")\n",
    "print(response.content)"
   ]
  },
  {
   "cell_type": "code",
   "execution_count": 15,
   "metadata": {},
   "outputs": [
    {
     "name": "stdout",
     "output_type": "stream",
     "text": [
      "- **Definition**: Generative AI refers to a class of artificial intelligence models that can create new content, such as text, images, music, or videos, by learning patterns and structures from existing data.\n",
      "\n",
      "- **Techniques**: It often employs advanced techniques like deep learning, particularly neural networks such as Generative Adversarial Networks (GANs) and transformer models, to generate high-quality and coherent outputs.\n",
      "\n",
      "- **Applications**: Generative AI is used in various fields, including creative arts (e.g., art and music generation), content creation (e.g., writing articles or stories), and even in practical applications like drug discovery and data augmentation.\n"
     ]
    }
   ],
   "source": [
    "# Call PromptValue \n",
    "response = chatgpt.invoke(prompt_template1.format()) # Here there is not input variables in the prompt template. So format() does not have any input variables..\n",
    "print(response.content)"
   ]
  },
  {
   "cell_type": "code",
   "execution_count": 17,
   "metadata": {},
   "outputs": [
    {
     "name": "stdout",
     "output_type": "stream",
     "text": [
      "Explain to me briefly about Generative AI in Python.\n"
     ]
    }
   ],
   "source": [
    "# more complex prompt with placeholders\n",
    "prompt = \"\"\"Explain to me briefly about {topic} in {language}.\"\"\"\n",
    "\n",
    "prompt_template = PromptTemplate.from_template(prompt)\n",
    "prompt_template1 = PromptTemplate(template = prompt, input_variables=[\"topic\", \"language\"])\n",
    "prompt_value = prompt_template.format(topic=\"Generative AI\", language=\"Python\")\n",
    "print(prompt_value)\n"
   ]
  },
  {
   "cell_type": "code",
   "execution_count": 18,
   "metadata": {},
   "outputs": [
    {
     "data": {
      "text/plain": [
       "['Explain to me briefly about Generative AI in english.',\n",
       " 'Explain to me briefly about Artificial Intelligence in hindi.',\n",
       " 'Explain to me briefly about Deep Learning in german.']"
      ]
     },
     "execution_count": 18,
     "metadata": {},
     "output_type": "execute_result"
    }
   ],
   "source": [
    "inputs = [(\"Generative AI\", \"english\"),\n",
    "          (\"Artificial Intelligence\", \"hindi\"),\n",
    "          (\"Deep Learning\", \"german\")]\n",
    "\n",
    "prompts = [prompt_template.format(topic=topic, language=language) for topic, language in inputs]\n",
    "prompts"
   ]
  },
  {
   "cell_type": "code",
   "execution_count": 19,
   "metadata": {},
   "outputs": [],
   "source": [
    "# use map to run on multiple prompts in one go\n",
    "responses = chatgpt.map().invoke(prompts)"
   ]
  },
  {
   "cell_type": "code",
   "execution_count": 20,
   "metadata": {},
   "outputs": [
    {
     "name": "stdout",
     "output_type": "stream",
     "text": [
      "Generative AI refers to a class of artificial intelligence models that can create new content, such as text, images, music, or even videos, based on the data they have been trained on. These models learn patterns and structures from existing data and use that knowledge to generate original outputs that resemble the training data. Examples of generative AI include language models like GPT-3, which can write essays or answer questions, and image generation models like DALL-E, which can create images from textual descriptions. Generative AI has applications in various fields, including art, entertainment, marketing, and more, but it also raises ethical considerations regarding authenticity and copyright.\n",
      "-----\n",
      "कृत्रिम बुद्धिमत्ता (Artificial Intelligence या AI) एक ऐसी तकनीक है जो मशीनों और कंप्यूटरों को मानव जैसी बुद्धिमत्ता और सोचने की क्षमता प्रदान करती है। इसका उद्देश्य मशीनों को इस तरह से विकसित करना है कि वे डेटा को समझ सकें, सीख सकें, निर्णय ले सकें और समस्याओं को हल कर सकें। \n",
      "\n",
      "AI के विभिन्न प्रकार हैं, जैसे कि मशीन लर्निंग (जहां मशीनें अनुभव से सीखती हैं), नैचुरल लैंग्वेज प्रोसेसिंग (जो मानव भाषा को समझने और उत्पन्न करने में मदद करती है), और कंप्यूटर विज़न (जो मशीनों को दृश्य जानकारी को समझने में सक्षम बनाती है)। \n",
      "\n",
      "AI का उपयोग कई क्षेत्रों में किया जा रहा है, जैसे स्वास्थ्य सेवा, वित्त, परिवहन, और ग्राहक सेवा, जिससे कार्यों को अधिक कुशलता से और तेजी से किया जा सकता है।\n",
      "-----\n",
      "Deep Learning ist ein Teilbereich des maschinellen Lernens, der auf künstlichen neuronalen Netzwerken basiert. Es ermöglicht Computern, aus großen Datenmengen zu lernen und komplexe Muster zu erkennen. Deep Learning wird häufig in Anwendungen wie Bild- und Spracherkennung, natürlicher Sprachverarbeitung und autonomen Fahrzeugen eingesetzt. Durch die Verwendung mehrerer Schichten von Neuronen kann das Modell hierarchische Merkmale aus den Daten extrahieren, was zu einer hohen Genauigkeit bei der Vorhersage und Klassifizierung führt.\n",
      "-----\n"
     ]
    }
   ],
   "source": [
    "for response in responses:\n",
    "  print(response.content)\n",
    "  print('-----')"
   ]
  },
  {
   "cell_type": "markdown",
   "metadata": {},
   "source": [
    "### ChatPromptTemplate\n",
    "\n",
    "The standard prompt format to [chat models](https://python.langchain.com/v0.1/docs/modules/model_io/chat/) is a list of [chat messages](https://python.langchain.com/v0.1/docs/modules/model_io/chat/message_types/).\n",
    "\n",
    "Each chat message is associated with content, and an additional parameter called `role`. For example, in the OpenAI Chat Completions API, a chat message can be associated with an AI assistant, a human or a system role."
   ]
  },
  {
   "cell_type": "code",
   "execution_count": 35,
   "metadata": {},
   "outputs": [
    {
     "data": {
      "text/plain": [
       "ChatPromptTemplate(input_variables=['topic'], input_types={}, partial_variables={}, messages=[HumanMessagePromptTemplate(prompt=PromptTemplate(input_variables=['topic'], input_types={}, partial_variables={}, template='Explain to me briefly about {topic}.'), additional_kwargs={})])"
      ]
     },
     "execution_count": 35,
     "metadata": {},
     "output_type": "execute_result"
    }
   ],
   "source": [
    "# Updated import paths for prompt templates - using simplified paths:\n",
    "from langchain.prompts import ChatPromptTemplate\n",
    "\n",
    "# simple prompt with placeholders\n",
    "prompt = \"\"\"Explain to me briefly about {topic}.\"\"\"\n",
    "\n",
    "# chat_template = ChatPromptTemplate.from_template(prompt)\n",
    "chat_template = ChatPromptTemplate.from_messages([prompt])\n",
    "chat_template"
   ]
  },
  {
   "cell_type": "code",
   "execution_count": 22,
   "metadata": {},
   "outputs": [
    {
     "data": {
      "text/plain": [
       "['Human: Explain to me briefly about mortgage.',\n",
       " 'Human: Explain to me briefly about fractional real estate.',\n",
       " 'Human: Explain to me briefly about commercial real estate.']"
      ]
     },
     "execution_count": 22,
     "metadata": {},
     "output_type": "execute_result"
    }
   ],
   "source": [
    "topics = ['mortgage', 'fractional real estate', 'commercial real estate']\n",
    "prompts = [chat_template.format(topic=topic) for topic in topics]\n",
    "prompts"
   ]
  },
  {
   "cell_type": "code",
   "execution_count": 23,
   "metadata": {},
   "outputs": [
    {
     "name": "stdout",
     "output_type": "stream",
     "text": [
      "A mortgage is a type of loan specifically used to purchase real estate. In a mortgage agreement, the borrower receives funds from a lender (usually a bank or financial institution) to buy a home or property. The borrower agrees to repay the loan amount, plus interest, over a specified period, typically 15 to 30 years. The property itself serves as collateral, meaning if the borrower fails to make payments, the lender can take possession of the property through a process called foreclosure. Mortgages often come with various terms, including fixed or adjustable interest rates, and may require a down payment.\n",
      "-----\n",
      "Fractional real estate refers to a model of property ownership where multiple investors share ownership of a single property. This approach allows individuals to invest in real estate without having to purchase an entire property on their own. Each investor owns a fraction of the property, which can be represented as shares or units. \n",
      "\n",
      "The benefits of fractional real estate include lower financial barriers to entry, shared maintenance costs, and the potential for rental income or appreciation in property value. This model is often facilitated through real estate investment platforms or companies that manage the property on behalf of the investors. It can be an attractive option for those looking to diversify their investment portfolio or gain exposure to real estate without the responsibilities of full ownership.\n",
      "-----\n",
      "Commercial real estate (CRE) refers to properties that are used for business purposes rather than residential living. This category includes various types of properties, such as office buildings, retail spaces, industrial warehouses, hotels, and multifamily apartment complexes. \n",
      "\n",
      "Investing in commercial real estate can provide income through leasing and potential appreciation in property value. CRE transactions typically involve longer lease terms compared to residential properties, and the market can be influenced by factors such as economic conditions, interest rates, and local demand for commercial space. Investors often analyze metrics like cap rates, cash flow, and occupancy rates to assess the viability of a property.\n",
      "-----\n"
     ]
    }
   ],
   "source": [
    "responses = chatgpt.map().invoke(prompts)\n",
    "for response in responses:\n",
    "  print(response.content)\n",
    "  print('-----')"
   ]
  },
  {
   "cell_type": "code",
   "execution_count": 26,
   "metadata": {},
   "outputs": [
    {
     "name": "stdout",
     "output_type": "stream",
     "text": [
      "A mortgage is a type of loan specifically used to purchase real estate. In a mortgage agreement, the borrower receives funds from a lender (usually a bank or financial institution) to buy a home or property. The borrower agrees to repay the loan amount, plus interest, over a specified period, typically 15 to 30 years. The property itself serves as collateral, meaning if the borrower fails to make payments, the lender can take possession of the property through a process called foreclosure. Mortgages often come with various terms, including fixed or adjustable interest rates, and may require a down payment.\n"
     ]
    }
   ],
   "source": [
    "print(responses[0].content)"
   ]
  },
  {
   "cell_type": "code",
   "execution_count": 36,
   "metadata": {},
   "outputs": [
    {
     "name": "stdout",
     "output_type": "stream",
     "text": [
      "input_variables=['user_prompt'] input_types={} partial_variables={} messages=[SystemMessagePromptTemplate(prompt=PromptTemplate(input_variables=[], input_types={}, partial_variables={}, template='Act as an expert in real estate and provide brief answers'), additional_kwargs={}), HumanMessagePromptTemplate(prompt=PromptTemplate(input_variables=[], input_types={}, partial_variables={}, template='what is your name?'), additional_kwargs={}), AIMessagePromptTemplate(prompt=PromptTemplate(input_variables=[], input_types={}, partial_variables={}, template='my name is AIBot'), additional_kwargs={}), HumanMessagePromptTemplate(prompt=PromptTemplate(input_variables=['user_prompt'], input_types={}, partial_variables={}, template='{user_prompt}'), additional_kwargs={})]\n"
     ]
    }
   ],
   "source": [
    "# more complex prompt with a series of messages\n",
    "messages = [\n",
    "        (\"system\", \"Act as an expert in real estate and provide brief answers\"),\n",
    "        (\"human\", \"what is your name?\"),\n",
    "        (\"ai\", \"my name is AIBot\"),\n",
    "        (\"human\", \"{user_prompt}\"),\n",
    "]\n",
    "chat_template = ChatPromptTemplate.from_messages(messages)\n",
    "print(chat_template)"
   ]
  },
  {
   "cell_type": "code",
   "execution_count": 37,
   "metadata": {},
   "outputs": [
    {
     "data": {
      "text/plain": [
       "['System: Act as an expert in real estate and provide brief answers\\nHuman: what is your name?\\nAI: my name is AIBot\\nHuman: what is your name?',\n",
       " 'System: Act as an expert in real estate and provide brief answers\\nHuman: what is your name?\\nAI: my name is AIBot\\nHuman: explain commercial real estate to me']"
      ]
     },
     "execution_count": 37,
     "metadata": {},
     "output_type": "execute_result"
    }
   ],
   "source": [
    "text_prompts = [\"what is your name?\",\n",
    "                \"explain commercial real estate to me\"]\n",
    "chat_prompts = [chat_template.format(user_prompt=prompt) for prompt in text_prompts]\n",
    "chat_prompts"
   ]
  },
  {
   "cell_type": "code",
   "execution_count": 38,
   "metadata": {},
   "outputs": [
    {
     "name": "stdout",
     "output_type": "stream",
     "text": [
      "System: Act as an expert in real estate and provide brief answers\n",
      "Human: what is your name?\n",
      "AI: my name is AIBot\n",
      "Human: what is your name?\n"
     ]
    }
   ],
   "source": [
    "print(chat_prompts[0])"
   ]
  },
  {
   "cell_type": "code",
   "execution_count": 39,
   "metadata": {},
   "outputs": [
    {
     "name": "stdout",
     "output_type": "stream",
     "text": [
      "AI: I am AIBot, your real estate expert. How can I assist you today?\n",
      "-----\n",
      "Commercial real estate (CRE) refers to properties used for business purposes, including office buildings, retail spaces, warehouses, and industrial properties. Unlike residential real estate, which is primarily for living, CRE is intended to generate profit through rental income or capital appreciation. It often involves longer lease terms and can be more complex in terms of financing and management.\n",
      "-----\n"
     ]
    }
   ],
   "source": [
    "responses = chatgpt.map().invoke(chat_prompts)\n",
    "for response in responses:\n",
    "  print(response.content)\n",
    "  print('-----')"
   ]
  },
  {
   "cell_type": "code",
   "execution_count": 40,
   "metadata": {},
   "outputs": [
    {
     "data": {
      "text/plain": [
       "['System: Act as an expert in real estate and provide very detailed answers with examples\\nHuman: what is your name?\\nAI: my name is AIBot\\nHuman: what is your name?',\n",
       " 'System: Act as an expert in real estate and provide very detailed answers with examples\\nHuman: what is your name?\\nAI: my name is AIBot\\nHuman: explain commercial real estate to me']"
      ]
     },
     "execution_count": 40,
     "metadata": {},
     "output_type": "execute_result"
    }
   ],
   "source": [
    "messages = [\n",
    "        (\"system\", \"Act as an expert in real estate and provide very detailed answers with examples\"),\n",
    "        (\"human\", \"what is your name?\"),\n",
    "        (\"ai\", \"my name is AIBot\"),\n",
    "        (\"human\", \"{user_prompt}\"),\n",
    "]\n",
    "chat_template = ChatPromptTemplate.from_messages(messages)\n",
    "text_prompts = [\"what is your name?\", \"explain commercial real estate to me\"]\n",
    "chat_prompts = [chat_template.format(user_prompt=prompt) for prompt in text_prompts]\n",
    "chat_prompts"
   ]
  },
  {
   "cell_type": "code",
   "execution_count": 41,
   "metadata": {},
   "outputs": [
    {
     "name": "stdout",
     "output_type": "stream",
     "text": [
      "AI: My name is AIBot, and I'm here to assist you with any questions you have about real estate. Whether you're looking for information on buying, selling, investing, or understanding market trends, feel free to ask!\n",
      "-----\n",
      "Commercial real estate (CRE) refers to properties that are used exclusively for business purposes or to provide a workspace rather than a living space. This sector of real estate is distinct from residential real estate, which involves properties designed for people to live in. Understanding commercial real estate involves several key components, including types of properties, investment strategies, financing, and market dynamics.\n",
      "\n",
      "### Types of Commercial Real Estate\n",
      "\n",
      "1. **Office Buildings**: These properties are designed for business operations and can range from single-tenant buildings to large skyscrapers. They are often categorized into:\n",
      "   - **Class A**: High-quality buildings in prime locations with top amenities (e.g., One World Trade Center in New York City).\n",
      "   - **Class B**: Good quality buildings that may need some renovations but are still desirable (e.g., older office buildings in suburban areas).\n",
      "   - **Class C**: Older buildings in less desirable locations, often requiring significant repairs (e.g., older office buildings in declining neighborhoods).\n",
      "\n",
      "2. **Retail Properties**: These include shopping centers, malls, and standalone stores. Retail properties can be further divided into:\n",
      "   - **Neighborhood Centers**: Small shopping areas that serve local communities (e.g., strip malls).\n",
      "   - **Regional Malls**: Larger shopping centers that attract customers from a wider area (e.g., Mall of America).\n",
      "   - **Power Centers**: Large retail spaces that typically include big-box retailers (e.g., Walmart, Target).\n",
      "\n",
      "3. **Industrial Properties**: These are used for manufacturing, production, distribution, and storage. Types include:\n",
      "   - **Warehouses**: Large spaces for storing goods (e.g., Amazon fulfillment centers).\n",
      "   - **Manufacturing Facilities**: Buildings where products are made (e.g., factories).\n",
      "   - **Flex Spaces**: Versatile spaces that can be used for both office and industrial purposes.\n",
      "\n",
      "4. **Multifamily Properties**: While often considered residential, multifamily properties with five or more units are classified as commercial real estate. Examples include:\n",
      "   - **Apartment Complexes**: Large buildings or groups of buildings with multiple rental units (e.g., high-rise apartments).\n",
      "   - **Condominiums**: Individually owned units within a larger building or complex.\n",
      "\n",
      "5. **Hospitality Properties**: These include hotels, motels, and resorts. They are often categorized by their service level:\n",
      "   - **Luxury Hotels**: High-end accommodations with extensive amenities (e.g., Ritz-Carlton).\n",
      "   - **Midscale Hotels**: More affordable options with basic services (e.g., Holiday Inn).\n",
      "   - **Budget Hotels**: Economical lodging with minimal services (e.g., Motel 6).\n",
      "\n",
      "6. **Special Purpose Properties**: These are unique properties that serve specific functions, such as:\n",
      "   - **Healthcare Facilities**: Hospitals, clinics, and nursing homes.\n",
      "   - **Educational Institutions**: Schools and universities.\n",
      "   - **Recreational Facilities**: Gyms, sports complexes, and amusement parks.\n",
      "\n",
      "### Investment Strategies\n",
      "\n",
      "Investing in commercial real estate can be lucrative, but it requires a different approach than residential investing. Here are some common strategies:\n",
      "\n",
      "1. **Buy and Hold**: Investors purchase properties and hold them for long-term appreciation and rental income. For example, an investor might buy a shopping center, lease it to tenants, and benefit from both rental income and property value appreciation over time.\n",
      "\n",
      "2. **Value-Add Investments**: This strategy involves purchasing underperforming properties, making improvements (e.g., renovations, better management), and then increasing their value. For instance, an investor might buy an older office building, upgrade its amenities, and then lease it at higher rates.\n",
      "\n",
      "3. **Flipping**: Similar to residential flipping, this involves buying properties, making quick improvements, and selling them for a profit. This is more common in markets with rapid appreciation.\n",
      "\n",
      "4. **REITs (Real Estate Investment Trusts)**: For those who prefer not to directly manage properties, investing in REITs allows individuals to invest in a portfolio of commercial properties. For example, a publicly traded REIT might own a diverse range of properties, providing investors with dividends and potential capital appreciation.\n",
      "\n",
      "### Financing Commercial Real Estate\n",
      "\n",
      "Financing for commercial properties differs from residential mortgages. Common financing options include:\n",
      "\n",
      "1. **Commercial Mortgages**: These loans are specifically designed for purchasing commercial properties. They typically have shorter terms (5-20 years) and may require a larger down payment (20-30%).\n",
      "\n",
      "2. **SBA Loans**: The Small Business Administration offers loans for small businesses to purchase commercial real estate, often with favorable terms.\n",
      "\n",
      "3. **Bridge Loans**: Short-term loans used to \"bridge\" the gap until permanent financing is secured or until the property is sold.\n",
      "\n",
      "4. **Equity Financing**: Investors may also raise capital by bringing in partners or investors who provide funds in exchange for a share of the profits.\n",
      "\n",
      "### Market Dynamics\n",
      "\n",
      "The commercial real estate market is influenced by various factors, including:\n",
      "\n",
      "- **Economic Conditions**: Economic growth typically leads to increased demand for commercial space, while recessions can lead to higher vacancy rates.\n",
      "- **Interest Rates**: Changes in interest rates can affect borrowing costs and, consequently, investment activity.\n",
      "- **Location**: The location of a property significantly impacts its value and desirability. Properties in urban centers or growing suburban areas tend to perform better.\n",
      "- **Supply and Demand**: The balance between the availability of commercial properties and the demand for them can drive prices and rental rates.\n",
      "\n",
      "### Conclusion\n",
      "\n",
      "Commercial real estate is a complex and multifaceted sector that offers various opportunities for investment and development. Understanding the different types of properties, investment strategies, financing options, and market dynamics is crucial for anyone looking to enter this field. Whether you are an investor, developer, or business owner, a solid grasp of commercial real estate can lead to significant financial rewards.\n",
      "-----\n"
     ]
    }
   ],
   "source": [
    "responses = chatgpt.map().invoke(chat_prompts)\n",
    "for response in responses:\n",
    "  print(response.content)\n",
    "  print('-----')"
   ]
  },
  {
   "cell_type": "markdown",
   "metadata": {},
   "source": [
    "#### PromptTemplate and ChatPromptTemplate supports LCEL\n",
    "\n",
    "`PromptTemplate` and `ChatPromptTemplate` implement the [Runnable interface](https://python.langchain.com/v0.1/docs/expression_language/interface/), the basic building block of the LangChain Expression Language (LCEL). This means they support `invoke`, `ainvoke`, `stream`, `astream`, `batch`, `abatch`, `astream_log` calls.\n",
    "\n",
    "`PromptTemplate` accepts a dictionary (of the prompt variables) and returns a `StringPromptValue`. A `ChatPromptTemplate` accepts a dictionary and returns a `ChatPromptValue`."
   ]
  },
  {
   "cell_type": "code",
   "execution_count": 42,
   "metadata": {},
   "outputs": [
    {
     "data": {
      "text/plain": [
       "[ChatPromptValue(messages=[SystemMessage(content='Act as an expert in real estate and provide very detailed answers with examples', additional_kwargs={}, response_metadata={}), HumanMessage(content='what is your name?', additional_kwargs={}, response_metadata={}), AIMessage(content='my name is AIBot', additional_kwargs={}, response_metadata={}), HumanMessage(content='what is your name?', additional_kwargs={}, response_metadata={})]),\n",
       " ChatPromptValue(messages=[SystemMessage(content='Act as an expert in real estate and provide very detailed answers with examples', additional_kwargs={}, response_metadata={}), HumanMessage(content='what is your name?', additional_kwargs={}, response_metadata={}), AIMessage(content='my name is AIBot', additional_kwargs={}, response_metadata={}), HumanMessage(content='explain commercial real estate to me', additional_kwargs={}, response_metadata={})])]"
      ]
     },
     "execution_count": 42,
     "metadata": {},
     "output_type": "execute_result"
    }
   ],
   "source": [
    "text_prompts = [\"what is your name?\", \"explain commercial real estate to me\"]\n",
    "chat_prompts = [chat_template.invoke({'user_prompt' : prompt}) for prompt in text_prompts]\n",
    "chat_prompts"
   ]
  },
  {
   "cell_type": "code",
   "execution_count": 43,
   "metadata": {},
   "outputs": [
    {
     "data": {
      "text/plain": [
       "ChatPromptValue(messages=[SystemMessage(content='Act as an expert in real estate and provide very detailed answers with examples', additional_kwargs={}, response_metadata={}), HumanMessage(content='what is your name?', additional_kwargs={}, response_metadata={}), AIMessage(content='my name is AIBot', additional_kwargs={}, response_metadata={}), HumanMessage(content='explain commercial real estate to me', additional_kwargs={}, response_metadata={})])"
      ]
     },
     "execution_count": 43,
     "metadata": {},
     "output_type": "execute_result"
    }
   ],
   "source": [
    "chat_prompts[1]"
   ]
  },
  {
   "cell_type": "code",
   "execution_count": 44,
   "metadata": {},
   "outputs": [
    {
     "name": "stdout",
     "output_type": "stream",
     "text": [
      "System: Act as an expert in real estate and provide very detailed answers with examples\n",
      "Human: what is your name?\n",
      "AI: my name is AIBot\n",
      "Human: explain commercial real estate to me\n"
     ]
    }
   ],
   "source": [
    "print(chat_prompts[1].to_string())"
   ]
  },
  {
   "cell_type": "code",
   "execution_count": 45,
   "metadata": {},
   "outputs": [
    {
     "data": {
      "text/plain": [
       "[SystemMessage(content='Act as an expert in real estate and provide very detailed answers with examples', additional_kwargs={}, response_metadata={}),\n",
       " HumanMessage(content='what is your name?', additional_kwargs={}, response_metadata={}),\n",
       " AIMessage(content='my name is AIBot', additional_kwargs={}, response_metadata={}),\n",
       " HumanMessage(content='explain commercial real estate to me', additional_kwargs={}, response_metadata={})]"
      ]
     },
     "execution_count": 45,
     "metadata": {},
     "output_type": "execute_result"
    }
   ],
   "source": [
    "chat_prompts[1].to_messages()"
   ]
  },
  {
   "cell_type": "code",
   "execution_count": 46,
   "metadata": {},
   "outputs": [
    {
     "name": "stdout",
     "output_type": "stream",
     "text": [
      "I am known as AIBot. How can I assist you with your real estate inquiries today?\n",
      "-----\n",
      "Commercial real estate (CRE) refers to properties that are used exclusively for business purposes. This sector of real estate is distinct from residential real estate, which is primarily focused on housing. Understanding commercial real estate involves recognizing its various types, investment potential, and the factors that influence its market dynamics.\n",
      "\n",
      "### Types of Commercial Real Estate\n",
      "\n",
      "1. **Office Buildings**: These properties are designed for business operations and can range from single-tenant buildings to large skyscrapers. They are often categorized into:\n",
      "   - **Class A**: High-quality buildings in prime locations with top amenities.\n",
      "   - **Class B**: Good quality buildings that may need some renovations.\n",
      "   - **Class C**: Older buildings in less desirable locations, often requiring significant upgrades.\n",
      "\n",
      "   **Example**: A Class A office building in downtown Chicago may attract high-profile tenants like law firms or tech companies due to its location and amenities.\n",
      "\n",
      "2. **Retail Properties**: These include shopping centers, malls, and standalone stores. Retail properties can be further divided into:\n",
      "   - **Neighborhood Centers**: Small shopping areas serving local communities.\n",
      "   - **Power Centers**: Large retail spaces with multiple big-box retailers.\n",
      "   - **Regional Malls**: Larger shopping complexes with a variety of stores and entertainment options.\n",
      "\n",
      "   **Example**: A power center might include a Walmart, Home Depot, and several smaller retail shops, catering to a wide range of consumer needs.\n",
      "\n",
      "3. **Industrial Properties**: These are used for manufacturing, production, distribution, and storage. Types include:\n",
      "   - **Manufacturing Facilities**: Where goods are produced.\n",
      "   - **Warehouses**: Used for storage and distribution of goods.\n",
      "   - **Flex Spaces**: Versatile spaces that can be used for both office and industrial purposes.\n",
      "\n",
      "   **Example**: A logistics company might lease a warehouse near a major highway for efficient distribution of goods.\n",
      "\n",
      "4. **Multifamily Properties**: While often considered residential, multifamily properties with five or more units are classified as commercial real estate. This includes:\n",
      "   - **Apartments**: Ranging from small buildings to large complexes.\n",
      "   - **Condominiums**: Individually owned units within a larger building.\n",
      "\n",
      "   **Example**: A 200-unit apartment complex in a growing urban area can be a lucrative investment due to the demand for rental housing.\n",
      "\n",
      "5. **Hospitality Properties**: This category includes hotels, motels, and resorts. These properties are often evaluated based on occupancy rates and average daily rates (ADR).\n",
      "\n",
      "   **Example**: A luxury hotel in a tourist destination may generate significant revenue during peak seasons, while a budget motel may rely on consistent occupancy throughout the year.\n",
      "\n",
      "6. **Special Purpose Properties**: These are unique properties that serve specific functions, such as schools, churches, and self-storage facilities.\n",
      "\n",
      "   **Example**: A self-storage facility in a densely populated urban area can be a profitable investment due to the high demand for storage space.\n",
      "\n",
      "### Investment Potential\n",
      "\n",
      "Investing in commercial real estate can offer several advantages, including:\n",
      "\n",
      "- **Cash Flow**: Commercial properties often provide a steady stream of income through lease agreements, which can be longer-term than residential leases.\n",
      "- **Appreciation**: Over time, commercial properties can appreciate in value, providing capital gains upon sale.\n",
      "- **Tax Benefits**: Investors may benefit from tax deductions related to depreciation, mortgage interest, and operating expenses.\n",
      "\n",
      "### Market Dynamics\n",
      "\n",
      "Several factors influence the commercial real estate market:\n",
      "\n",
      "- **Economic Conditions**: The overall economy affects demand for commercial space. For instance, during economic downturns, businesses may downsize or close, leading to higher vacancy rates.\n",
      "- **Location**: The location of a property is critical. Properties in high-demand areas typically command higher rents and have lower vacancy rates.\n",
      "- **Interest Rates**: Changes in interest rates can impact financing costs for investors and the overall attractiveness of real estate investments.\n",
      "- **Zoning Laws**: Local regulations can affect what types of businesses can operate in certain areas, influencing property values and investment potential.\n",
      "\n",
      "### Conclusion\n",
      "\n",
      "Commercial real estate is a diverse and dynamic sector that offers various opportunities for investors and businesses. Understanding the different types of properties, their investment potential, and the market factors at play is crucial for making informed decisions in this field. Whether you are looking to invest, lease, or develop commercial properties, a thorough understanding of the market is essential for success.\n",
      "-----\n"
     ]
    }
   ],
   "source": [
    "responses = chatgpt.map().invoke(chat_prompts)\n",
    "for response in responses:\n",
    "  print(response.content)\n",
    "  print('-----')"
   ]
  },
  {
   "cell_type": "code",
   "execution_count": null,
   "metadata": {},
   "outputs": [],
   "source": []
  }
 ],
 "metadata": {
  "kernelspec": {
   "display_name": ".venv",
   "language": "python",
   "name": "python3"
  },
  "language_info": {
   "codemirror_mode": {
    "name": "ipython",
    "version": 3
   },
   "file_extension": ".py",
   "mimetype": "text/x-python",
   "name": "python",
   "nbconvert_exporter": "python",
   "pygments_lexer": "ipython3",
   "version": "3.11.6"
  }
 },
 "nbformat": 4,
 "nbformat_minor": 2
}
