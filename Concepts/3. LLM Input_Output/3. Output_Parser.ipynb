{
 "cells": [
  {
   "cell_type": "markdown",
   "id": "1244e16f",
   "metadata": {},
   "source": [
    "# Output Parsers for LLM Input / Output with LangChain"
   ]
  },
  {
   "cell_type": "markdown",
   "id": "e3c0fbb7",
   "metadata": {},
   "source": [
    "## Install OpenAI, HuggingFace and LangChain dependencies"
   ]
  },
  {
   "cell_type": "code",
   "execution_count": 3,
   "id": "4d8e81cc",
   "metadata": {},
   "outputs": [],
   "source": [
    "!pip install -qq langchain==0.3.11\n",
    "!pip install -qq langchain-openai==0.2.12\n",
    "!pip install -qq langchain-community==0.3.11"
   ]
  },
  {
   "cell_type": "code",
   "execution_count": 23,
   "id": "8d016281",
   "metadata": {},
   "outputs": [],
   "source": [
    "!pip install -qq pandas"
   ]
  },
  {
   "cell_type": "markdown",
   "id": "a50858b2",
   "metadata": {},
   "source": [
    "## Enter API Tokens"
   ]
  },
  {
   "cell_type": "markdown",
   "id": "0379db53",
   "metadata": {},
   "source": [
    "#### Enter your Open AI Key here\n",
    "\n",
    "You can get the key from [here](https://platform.openai.com/api-keys) after creating an account or signing in"
   ]
  },
  {
   "cell_type": "code",
   "execution_count": null,
   "id": "bf0ecc5c",
   "metadata": {},
   "outputs": [],
   "source": [
    "# from getpass import getpass\n",
    "\n",
    "# OPENAI_KEY = getpass('Please enter your Open AI API Key here: ')"
   ]
  },
  {
   "cell_type": "code",
   "execution_count": null,
   "id": "19a414b4",
   "metadata": {},
   "outputs": [],
   "source": [
    "# import os\n",
    "\n",
    "# os.environ['OPENAI_API_KEY'] = OPENAI_KEY"
   ]
  },
  {
   "cell_type": "code",
   "execution_count": 4,
   "id": "9b9900b2",
   "metadata": {},
   "outputs": [
    {
     "data": {
      "text/plain": [
       "True"
      ]
     },
     "execution_count": 4,
     "metadata": {},
     "output_type": "execute_result"
    }
   ],
   "source": [
    "import os\n",
    "from dotenv import load_dotenv\n",
    "\n",
    "load_dotenv()"
   ]
  },
  {
   "cell_type": "markdown",
   "id": "c93f6e57",
   "metadata": {},
   "source": [
    "## Setup necessary system environment variables"
   ]
  },
  {
   "cell_type": "markdown",
   "id": "15f3e305",
   "metadata": {},
   "source": [
    "## Chat Models and LLMs\n",
    "\n",
    "Large Language Models (LLMs) are a core component of LangChain. LangChain does not implement or build its own LLMs. It provides a standard API for interacting with almost every LLM out there.\n",
    "\n",
    "There are lots of LLM providers (OpenAI, Hugging Face, etc) - the LLM class is designed to provide a standard interface for all of them."
   ]
  },
  {
   "cell_type": "markdown",
   "id": "5b98926e",
   "metadata": {},
   "source": [
    "## Accessing Commercial LLMs like ChatGPT"
   ]
  },
  {
   "cell_type": "code",
   "execution_count": 5,
   "id": "3f523105",
   "metadata": {},
   "outputs": [],
   "source": [
    "from langchain_openai import ChatOpenAI\n",
    "\n",
    "chatgpt = ChatOpenAI(model_name=\"gpt-4o-mini\", temperature=0)"
   ]
  },
  {
   "cell_type": "markdown",
   "id": "cb34d35f",
   "metadata": {},
   "source": [
    "## Output Parsers\n",
    "Output parsers are essential in Langchain for structuring the responses from language models. Below, we will discuss the role of output parsers and include examples using Langchain's specific parser types: PydanticOutputParser, JsonOutputParser, and CommaSeparatedListOutputParser.\n",
    "\n",
    "- **Pydantic parser:**\n",
    "  - This parser allows the specification of an arbitrary Pydantic Model to query LLMs for outputs matching that schema. Pydantic's BaseModel functions similarly to a Python dataclass but includes type checking and coercion.\n",
    "\n",
    "- **JSON parser:**\n",
    "  - Users can specify an arbitrary JSON schema with this parser to ensure outputs from LLMs adhere to that schema. Pydantic can also be used to declare your data model here.\n",
    "\n",
    "- **CSV parser:**\n",
    "  - Useful for outputs requiring a list of items separated by commas. This parser facilitates the extraction of comma-separated values from model outputs.\n"
   ]
  },
  {
   "cell_type": "markdown",
   "id": "536775d7",
   "metadata": {},
   "source": [
    "### 1 -> PydanticOutputParser\n",
    "\n",
    "This output parser allows users to specify an arbitrary Pydantic Model and query LLMs for outputs that conform to that schema.\n",
    "\n",
    "Keep in mind that large language models are non-deterministic! You'll have to use an LLM with sufficient capacity to generate well-formed responses.\n",
    "\n",
    "Use Pydantic to declare your data model. Pydantic's BaseModel is like a Python dataclass, but with actual type checking + coercion."
   ]
  },
  {
   "cell_type": "code",
   "execution_count": 6,
   "id": "4bfc740c",
   "metadata": {},
   "outputs": [
    {
     "data": {
      "text/plain": [
       "PydanticOutputParser(pydantic_object=<class '__main__.QueryResponse'>)"
      ]
     },
     "execution_count": 6,
     "metadata": {},
     "output_type": "execute_result"
    }
   ],
   "source": [
    "from langchain_core.prompts import PromptTemplate,ChatPromptTemplate\n",
    "from langchain_core.output_parsers import PydanticOutputParser\n",
    "from pydantic import BaseModel,Field\n",
    "from typing import List\n",
    "\n",
    "# Define your desired data structure - like a python data class.\n",
    "class QueryResponse(BaseModel):\n",
    "    description: str = Field(description=\"A brief description of the topic asked by the user\")\n",
    "    pros: str = Field(description=\"3 bullet points showing the pros of the topic asked by the user\")\n",
    "    cons: str = Field(description=\"3 bullet points showing the cons of the topic asked by the user\")\n",
    "    conclusion: str = Field(description=\"One line conclusion of the topic asked by the user\")\n",
    "\n",
    "# Set up a parser + inject instructions into the prompt template.\n",
    "parser = PydanticOutputParser(pydantic_object=QueryResponse)\n",
    "parser"
   ]
  },
  {
   "cell_type": "code",
   "execution_count": 7,
   "id": "7db7134a",
   "metadata": {},
   "outputs": [
    {
     "name": "stdout",
     "output_type": "stream",
     "text": [
      "The output should be formatted as a JSON instance that conforms to the JSON schema below.\n",
      "\n",
      "As an example, for the schema {\"properties\": {\"foo\": {\"title\": \"Foo\", \"description\": \"a list of strings\", \"type\": \"array\", \"items\": {\"type\": \"string\"}}}, \"required\": [\"foo\"]}\n",
      "the object {\"foo\": [\"bar\", \"baz\"]} is a well-formatted instance of the schema. The object {\"properties\": {\"foo\": [\"bar\", \"baz\"]}} is not well-formatted.\n",
      "\n",
      "Here is the output schema:\n",
      "```\n",
      "{\"properties\": {\"description\": {\"description\": \"A brief description of the topic asked by the user\", \"title\": \"Description\", \"type\": \"string\"}, \"pros\": {\"description\": \"3 bullet points showing the pros of the topic asked by the user\", \"title\": \"Pros\", \"type\": \"string\"}, \"cons\": {\"description\": \"3 bullet points showing the cons of the topic asked by the user\", \"title\": \"Cons\", \"type\": \"string\"}, \"conclusion\": {\"description\": \"One line conclusion of the topic asked by the user\", \"title\": \"Conclusion\", \"type\": \"string\"}}, \"required\": [\"description\", \"pros\", \"cons\", \"conclusion\"]}\n",
      "```\n"
     ]
    }
   ],
   "source": [
    "# langchain pre-generated output response formatting instructions\n",
    "print(parser.get_format_instructions())"
   ]
  },
  {
   "cell_type": "code",
   "execution_count": 8,
   "id": "b6847ff9",
   "metadata": {},
   "outputs": [
    {
     "name": "stdout",
     "output_type": "stream",
     "text": [
      "description='The capital of France is Paris, known for its art, fashion, and culture.' pros='1. Paris is a major European city and a global center for art, fashion, and culture.\\n2. It is home to famous landmarks such as the Eiffel Tower and the Louvre Museum.\\n3. Paris offers a rich history and vibrant lifestyle, attracting millions of tourists each year.' cons='1. Paris can be very expensive in terms of living costs and tourism.\\n2. The city often faces issues with traffic congestion and pollution.\\n3. It can be crowded, especially during peak tourist seasons.' conclusion='Overall, Paris is a culturally rich and iconic city, despite some challenges.'\n"
     ]
    }
   ],
   "source": [
    "# create the final prompt with formatting instructions from the parser\n",
    "prompt_txt = \"\"\"\n",
    "             Answer the user query and generate the response based on the following formatting instructions\n",
    "\n",
    "             Format Instructions:\n",
    "             {format_instructions}\n",
    "\n",
    "             Query:\n",
    "             {query}\n",
    "            \"\"\"\n",
    "\n",
    "prompt = PromptTemplate(\n",
    "    template=prompt_txt,\n",
    "    input_variables=[\"query\"],\n",
    "    partial_variables={\"format_instructions\": parser.get_format_instructions()}\n",
    ")\n",
    "\n",
    "chain = prompt | chatgpt | parser\n",
    "\n",
    "response = chain.invoke({\"query\": \"What is the capital of France?\"})\n",
    "print(response)"
   ]
  },
  {
   "cell_type": "code",
   "execution_count": 9,
   "id": "510dc6a4",
   "metadata": {},
   "outputs": [],
   "source": [
    "question = \"Tell me about Commercial Real Estate\"\n",
    "response = chain.invoke({\"query\": question})"
   ]
  },
  {
   "cell_type": "code",
   "execution_count": 11,
   "id": "fcdedfdc",
   "metadata": {},
   "outputs": [
    {
     "name": "stdout",
     "output_type": "stream",
     "text": [
      "Commercial real estate refers to properties used exclusively for business purposes, including office buildings, retail spaces, warehouses, and industrial properties.\n"
     ]
    }
   ],
   "source": [
    "print(response.description)"
   ]
  },
  {
   "cell_type": "code",
   "execution_count": 12,
   "id": "561deae2",
   "metadata": {},
   "outputs": [
    {
     "name": "stdout",
     "output_type": "stream",
     "text": [
      "1. Potential for high returns on investment.\n",
      "2. Long-term leases provide stable income.\n",
      "3. Diversification of investment portfolio.\n"
     ]
    }
   ],
   "source": [
    "print(response.pros)"
   ]
  },
  {
   "cell_type": "code",
   "execution_count": 13,
   "id": "d363f1da",
   "metadata": {},
   "outputs": [
    {
     "name": "stderr",
     "output_type": "stream",
     "text": [
      "/var/folders/8v/xkrl1q210t5_4t4hvbx286800000gp/T/ipykernel_2049/3202056457.py:1: PydanticDeprecatedSince20: The `dict` method is deprecated; use `model_dump` instead. Deprecated in Pydantic V2.0 to be removed in V3.0. See Pydantic V2 Migration Guide at https://errors.pydantic.dev/2.11/migration/\n",
      "  response.dict()\n"
     ]
    },
    {
     "data": {
      "text/plain": [
       "{'description': 'Commercial real estate refers to properties used exclusively for business purposes, including office buildings, retail spaces, warehouses, and industrial properties.',\n",
       " 'pros': '1. Potential for high returns on investment.\\n2. Long-term leases provide stable income.\\n3. Diversification of investment portfolio.',\n",
       " 'cons': '1. Requires significant capital investment.\\n2. Market fluctuations can impact property values.\\n3. Management and maintenance can be complex and time-consuming.',\n",
       " 'conclusion': 'Commercial real estate can be a lucrative investment but comes with its own set of challenges.'}"
      ]
     },
     "execution_count": 13,
     "metadata": {},
     "output_type": "execute_result"
    }
   ],
   "source": [
    "response.dict()"
   ]
  },
  {
   "cell_type": "code",
   "execution_count": 14,
   "id": "4ada79fd",
   "metadata": {},
   "outputs": [
    {
     "name": "stdout",
     "output_type": "stream",
     "text": [
      "description:\n",
      "Commercial real estate refers to properties used exclusively for business purposes, including office buildings, retail spaces, warehouses, and industrial properties.\n",
      "\n",
      "pros:\n",
      "1. Potential for high returns on investment.\n",
      "2. Long-term leases provide stable income.\n",
      "3. Diversification of investment portfolio.\n",
      "\n",
      "cons:\n",
      "1. Requires significant capital investment.\n",
      "2. Market fluctuations can impact property values.\n",
      "3. Management and maintenance can be complex and time-consuming.\n",
      "\n",
      "conclusion:\n",
      "Commercial real estate can be a lucrative investment but comes with its own set of challenges.\n",
      "\n"
     ]
    },
    {
     "name": "stderr",
     "output_type": "stream",
     "text": [
      "/var/folders/8v/xkrl1q210t5_4t4hvbx286800000gp/T/ipykernel_2049/3926753719.py:1: PydanticDeprecatedSince20: The `dict` method is deprecated; use `model_dump` instead. Deprecated in Pydantic V2.0 to be removed in V3.0. See Pydantic V2 Migration Guide at https://errors.pydantic.dev/2.11/migration/\n",
      "  for k,v in response.dict().items():\n"
     ]
    }
   ],
   "source": [
    "for k,v in response.dict().items():\n",
    "    print(f\"{k}:\\n{v}\\n\")"
   ]
  },
  {
   "cell_type": "markdown",
   "id": "0e997ff6",
   "metadata": {},
   "source": [
    "### JsonOutputParser\n",
    "\n",
    "This output parser allows users to specify an arbitrary JSON schema and query LLMs for outputs that conform to that schema.\n",
    "\n",
    "Keep in mind that large language models are non-deterministic! You'll have to use an LLM with sufficient capacity to generate well-formed responses.\n",
    "\n",
    "It is recommended use Pydantic to declare your data model.\n"
   ]
  },
  {
   "cell_type": "code",
   "execution_count": 15,
   "id": "738ec9fb",
   "metadata": {},
   "outputs": [
    {
     "data": {
      "text/plain": [
       "JsonOutputParser(pydantic_object=<class '__main__.QueryResponse'>)"
      ]
     },
     "execution_count": 15,
     "metadata": {},
     "output_type": "execute_result"
    }
   ],
   "source": [
    "from typing import List\n",
    "\n",
    "from langchain_core.prompts import PromptTemplate\n",
    "from langchain_core.output_parsers import JsonOutputParser\n",
    "from pydantic import BaseModel, Field\n",
    "\n",
    "# Define your desired data structure - like a python data class.\n",
    "class QueryResponse(BaseModel):\n",
    "    description: str = Field(description=\"A brief description of the topic asked by the user\")\n",
    "    pros: str = Field(description=\"3 bullet points showing the pros of the topic asked by the user\")\n",
    "    cons: str = Field(description=\"3 bullet points showing the cons of the topic asked by the user\")\n",
    "    conclusion: str = Field(description=\"One line conclusion of the topic asked by the user\")\n",
    "\n",
    "# Set up a parser + inject instructions into the prompt template.\n",
    "parser = JsonOutputParser(pydantic_object=QueryResponse)\n",
    "parser"
   ]
  },
  {
   "cell_type": "code",
   "execution_count": 17,
   "id": "fb919022",
   "metadata": {},
   "outputs": [
    {
     "name": "stdout",
     "output_type": "stream",
     "text": [
      "input_variables=['query'] input_types={} partial_variables={'format_instructions': 'The output should be formatted as a JSON instance that conforms to the JSON schema below.\\n\\nAs an example, for the schema {\"properties\": {\"foo\": {\"title\": \"Foo\", \"description\": \"a list of strings\", \"type\": \"array\", \"items\": {\"type\": \"string\"}}}, \"required\": [\"foo\"]}\\nthe object {\"foo\": [\"bar\", \"baz\"]} is a well-formatted instance of the schema. The object {\"properties\": {\"foo\": [\"bar\", \"baz\"]}} is not well-formatted.\\n\\nHere is the output schema:\\n```\\n{\"properties\": {\"description\": {\"description\": \"A brief description of the topic asked by the user\", \"title\": \"Description\", \"type\": \"string\"}, \"pros\": {\"description\": \"3 bullet points showing the pros of the topic asked by the user\", \"title\": \"Pros\", \"type\": \"string\"}, \"cons\": {\"description\": \"3 bullet points showing the cons of the topic asked by the user\", \"title\": \"Cons\", \"type\": \"string\"}, \"conclusion\": {\"description\": \"One line conclusion of the topic asked by the user\", \"title\": \"Conclusion\", \"type\": \"string\"}}, \"required\": [\"description\", \"pros\", \"cons\", \"conclusion\"]}\\n```'} template='\\n             Answer the user query and generate the response based on the following formatting instructions\\n\\n             Format Instructions:\\n             {format_instructions}\\n\\n             Query:\\n             {query}\\n            '\n"
     ]
    }
   ],
   "source": [
    "# create the final prompt with formatting instructions from the parser\n",
    "prompt_txt = \"\"\"\n",
    "             Answer the user query and generate the response based on the following formatting instructions\n",
    "\n",
    "             Format Instructions:\n",
    "             {format_instructions}\n",
    "\n",
    "             Query:\n",
    "             {query}\n",
    "            \"\"\"\n",
    "prompt = PromptTemplate(\n",
    "    template=prompt_txt,\n",
    "    input_variables=[\"query\"],\n",
    "    partial_variables={\"format_instructions\": parser.get_format_instructions()},\n",
    ")\n",
    "\n",
    "print(prompt)"
   ]
  },
  {
   "cell_type": "code",
   "execution_count": 18,
   "id": "2e37d28c",
   "metadata": {},
   "outputs": [
    {
     "data": {
      "text/plain": [
       "PromptTemplate(input_variables=['query'], input_types={}, partial_variables={'format_instructions': 'The output should be formatted as a JSON instance that conforms to the JSON schema below.\\n\\nAs an example, for the schema {\"properties\": {\"foo\": {\"title\": \"Foo\", \"description\": \"a list of strings\", \"type\": \"array\", \"items\": {\"type\": \"string\"}}}, \"required\": [\"foo\"]}\\nthe object {\"foo\": [\"bar\", \"baz\"]} is a well-formatted instance of the schema. The object {\"properties\": {\"foo\": [\"bar\", \"baz\"]}} is not well-formatted.\\n\\nHere is the output schema:\\n```\\n{\"properties\": {\"description\": {\"description\": \"A brief description of the topic asked by the user\", \"title\": \"Description\", \"type\": \"string\"}, \"pros\": {\"description\": \"3 bullet points showing the pros of the topic asked by the user\", \"title\": \"Pros\", \"type\": \"string\"}, \"cons\": {\"description\": \"3 bullet points showing the cons of the topic asked by the user\", \"title\": \"Cons\", \"type\": \"string\"}, \"conclusion\": {\"description\": \"One line conclusion of the topic asked by the user\", \"title\": \"Conclusion\", \"type\": \"string\"}}, \"required\": [\"description\", \"pros\", \"cons\", \"conclusion\"]}\\n```'}, template='\\n             Answer the user query and generate the response based on the following formatting instructions\\n\\n             Format Instructions:\\n             {format_instructions}\\n\\n             Query:\\n             {query}\\n            ')\n",
       "| ChatOpenAI(client=<openai.resources.chat.completions.Completions object at 0x1075bd6d0>, async_client=<openai.resources.chat.completions.AsyncCompletions object at 0x1075be390>, root_client=<openai.OpenAI object at 0x107328950>, root_async_client=<openai.AsyncOpenAI object at 0x1075bd850>, model_name='gpt-4o-mini', temperature=0.0, model_kwargs={}, openai_api_key=SecretStr('**********'))\n",
       "| JsonOutputParser(pydantic_object=<class '__main__.QueryResponse'>)"
      ]
     },
     "execution_count": 18,
     "metadata": {},
     "output_type": "execute_result"
    }
   ],
   "source": [
    "# create a simple LCEL chain to take the prompt, pass it to the LLM, enforce response format using the parser\n",
    "chain = (prompt\n",
    "              |\n",
    "            chatgpt\n",
    "              |\n",
    "            parser)\n",
    "chain"
   ]
  },
  {
   "cell_type": "code",
   "execution_count": 19,
   "id": "d870122c",
   "metadata": {},
   "outputs": [
    {
     "data": {
      "text/plain": [
       "[{'query': 'Tell me about commercial real estate'},\n",
       " {'query': 'Tell me about Generative AI'}]"
      ]
     },
     "execution_count": 19,
     "metadata": {},
     "output_type": "execute_result"
    }
   ],
   "source": [
    "topic_queries = [\n",
    "    \"Tell me about commercial real estate\",\n",
    "    \"Tell me about Generative AI\"\n",
    "]\n",
    "\n",
    "topic_queries_formatted = [{\"query\": topic}\n",
    "                    for topic in topic_queries]\n",
    "topic_queries_formatted"
   ]
  },
  {
   "cell_type": "code",
   "execution_count": 20,
   "id": "99083647",
   "metadata": {},
   "outputs": [],
   "source": [
    "responses = chain.map().invoke(topic_queries_formatted)"
   ]
  },
  {
   "cell_type": "code",
   "execution_count": 21,
   "id": "17f6a376",
   "metadata": {},
   "outputs": [
    {
     "data": {
      "text/plain": [
       "({'description': 'Commercial real estate refers to properties used exclusively for business purposes, including office buildings, retail spaces, warehouses, and industrial properties.',\n",
       "  'pros': '1. Potential for high returns on investment.\\n2. Long-term leases provide stable income.\\n3. Diversification of investment portfolio.',\n",
       "  'cons': '1. Requires significant capital investment.\\n2. Market fluctuations can impact property values.\\n3. Management and maintenance can be complex and time-consuming.',\n",
       "  'conclusion': 'Investing in commercial real estate can be lucrative but comes with its own set of challenges.'},\n",
       " dict)"
      ]
     },
     "execution_count": 21,
     "metadata": {},
     "output_type": "execute_result"
    }
   ],
   "source": [
    "responses[0], type(responses[0])"
   ]
  },
  {
   "cell_type": "code",
   "execution_count": 24,
   "id": "24e62451",
   "metadata": {},
   "outputs": [
    {
     "data": {
      "text/html": [
       "<div>\n",
       "<style scoped>\n",
       "    .dataframe tbody tr th:only-of-type {\n",
       "        vertical-align: middle;\n",
       "    }\n",
       "\n",
       "    .dataframe tbody tr th {\n",
       "        vertical-align: top;\n",
       "    }\n",
       "\n",
       "    .dataframe thead th {\n",
       "        text-align: right;\n",
       "    }\n",
       "</style>\n",
       "<table border=\"1\" class=\"dataframe\">\n",
       "  <thead>\n",
       "    <tr style=\"text-align: right;\">\n",
       "      <th></th>\n",
       "      <th>description</th>\n",
       "      <th>pros</th>\n",
       "      <th>cons</th>\n",
       "      <th>conclusion</th>\n",
       "    </tr>\n",
       "  </thead>\n",
       "  <tbody>\n",
       "    <tr>\n",
       "      <th>0</th>\n",
       "      <td>Commercial real estate refers to properties us...</td>\n",
       "      <td>1. Potential for high returns on investment.\\n...</td>\n",
       "      <td>1. Requires significant capital investment.\\n2...</td>\n",
       "      <td>Investing in commercial real estate can be luc...</td>\n",
       "    </tr>\n",
       "    <tr>\n",
       "      <th>1</th>\n",
       "      <td>Generative AI refers to algorithms that can ge...</td>\n",
       "      <td>- Can create unique and diverse content quickl...</td>\n",
       "      <td>- May produce biased or inappropriate content ...</td>\n",
       "      <td>Generative AI holds great potential but requir...</td>\n",
       "    </tr>\n",
       "  </tbody>\n",
       "</table>\n",
       "</div>"
      ],
      "text/plain": [
       "                                         description  \\\n",
       "0  Commercial real estate refers to properties us...   \n",
       "1  Generative AI refers to algorithms that can ge...   \n",
       "\n",
       "                                                pros  \\\n",
       "0  1. Potential for high returns on investment.\\n...   \n",
       "1  - Can create unique and diverse content quickl...   \n",
       "\n",
       "                                                cons  \\\n",
       "0  1. Requires significant capital investment.\\n2...   \n",
       "1  - May produce biased or inappropriate content ...   \n",
       "\n",
       "                                          conclusion  \n",
       "0  Investing in commercial real estate can be luc...  \n",
       "1  Generative AI holds great potential but requir...  "
      ]
     },
     "execution_count": 24,
     "metadata": {},
     "output_type": "execute_result"
    }
   ],
   "source": [
    "import pandas as pd\n",
    "\n",
    "df = pd.DataFrame(responses)\n",
    "df"
   ]
  },
  {
   "cell_type": "code",
   "execution_count": 25,
   "id": "942c98b7",
   "metadata": {},
   "outputs": [
    {
     "name": "stdout",
     "output_type": "stream",
     "text": [
      "description:\n",
      "Commercial real estate refers to properties used exclusively for business purposes, including office buildings, retail spaces, warehouses, and industrial properties.\n",
      "\n",
      "pros:\n",
      "1. Potential for high returns on investment.\n",
      "2. Long-term leases provide stable income.\n",
      "3. Diversification of investment portfolio.\n",
      "\n",
      "cons:\n",
      "1. Requires significant capital investment.\n",
      "2. Market fluctuations can impact property values.\n",
      "3. Management and maintenance can be complex and time-consuming.\n",
      "\n",
      "conclusion:\n",
      "Investing in commercial real estate can be lucrative but comes with its own set of challenges.\n",
      "\n",
      "-----\n",
      "description:\n",
      "Generative AI refers to algorithms that can generate new content, such as text, images, music, and more, based on the data they have been trained on.\n",
      "\n",
      "pros:\n",
      "- Can create unique and diverse content quickly.\n",
      "- Enhances creativity by providing new ideas and perspectives.\n",
      "- Automates repetitive tasks, saving time and resources.\n",
      "\n",
      "cons:\n",
      "- May produce biased or inappropriate content if trained on flawed data.\n",
      "- Can lead to misinformation if not monitored properly.\n",
      "- Ethical concerns regarding authorship and ownership of generated content.\n",
      "\n",
      "conclusion:\n",
      "Generative AI holds great potential but requires careful management to mitigate its risks.\n",
      "\n",
      "-----\n"
     ]
    }
   ],
   "source": [
    "for response in responses:\n",
    "  for k,v in response.items():\n",
    "    print(f\"{k}:\\n{v}\\n\")\n",
    "  print('-----')"
   ]
  },
  {
   "cell_type": "markdown",
   "id": "15d927dc",
   "metadata": {},
   "source": [
    "### CommaSeparatedListOutputParser\n",
    "\n",
    "This output parser can be used when you want to return a list of comma-separated items."
   ]
  },
  {
   "cell_type": "code",
   "execution_count": 27,
   "id": "0be7d701",
   "metadata": {},
   "outputs": [
    {
     "name": "stdout",
     "output_type": "stream",
     "text": [
      "Your response should be a list of comma separated values, eg: `foo, bar, baz` or `foo,bar,baz`\n"
     ]
    }
   ],
   "source": [
    "from langchain_core.output_parsers import CommaSeparatedListOutputParser\n",
    "from langchain_core.prompts import PromptTemplate\n",
    "\n",
    "output_parser = CommaSeparatedListOutputParser()\n",
    "\n",
    "format_instructions = output_parser.get_format_instructions()\n",
    "print(format_instructions)"
   ]
  },
  {
   "cell_type": "code",
   "execution_count": 34,
   "id": "abf57e4e",
   "metadata": {},
   "outputs": [
    {
     "name": "stdout",
     "output_type": "stream",
     "text": [
      "input_variables=[] input_types={} partial_variables={'format_instructions': 'Your response should be a list of comma separated values, eg: `foo, bar, baz` or `foo,bar,baz`'} template='\\n             Create a list of 5 different ways in which Generative AI can be used\\n\\n             Output format instructions:\\n             {format_instructions}\\n             '\n"
     ]
    }
   ],
   "source": [
    "format_instructions = output_parser.get_format_instructions()\n",
    "\n",
    "# And a query intented to prompt a language model to populate the data structure.\n",
    "prompt_txt = \"\"\"\n",
    "             Create a list of 5 different ways in which Generative AI can be used\n",
    "\n",
    "             Output format instructions:\n",
    "             {format_instructions}\n",
    "             \"\"\"\n",
    "\n",
    "prompt = PromptTemplate.from_template(template=prompt_txt)\n",
    "\n",
    "prompt = PromptTemplate(\n",
    "    template=prompt_txt,\n",
    "    partial_variables={\"format_instructions\": format_instructions},\n",
    ")\n",
    "print(prompt)"
   ]
  },
  {
   "cell_type": "code",
   "execution_count": 35,
   "id": "f14379eb",
   "metadata": {},
   "outputs": [],
   "source": [
    "# create a simple LLM Chain - more on this later\n",
    "llm_chain = (prompt\n",
    "              |\n",
    "            chatgpt\n",
    "              |\n",
    "            output_parser)\n",
    "\n",
    "# run the chain\n",
    "response = llm_chain.invoke({})"
   ]
  },
  {
   "cell_type": "code",
   "execution_count": 38,
   "id": "e8fc4cde",
   "metadata": {},
   "outputs": [
    {
     "name": "stdout",
     "output_type": "stream",
     "text": [
      "['Content creation', 'personalized marketing', 'virtual assistants', 'game design', 'data augmentation']\n"
     ]
    }
   ],
   "source": [
    "print(response)"
   ]
  },
  {
   "cell_type": "code",
   "execution_count": 39,
   "id": "86363e0a",
   "metadata": {},
   "outputs": [
    {
     "data": {
      "text/plain": [
       "['Content creation',\n",
       " 'personalized marketing',\n",
       " 'virtual assistants',\n",
       " 'game design',\n",
       " 'data augmentation']"
      ]
     },
     "execution_count": 39,
     "metadata": {},
     "output_type": "execute_result"
    }
   ],
   "source": [
    "response"
   ]
  },
  {
   "cell_type": "code",
   "execution_count": 40,
   "id": "8e2eb886",
   "metadata": {},
   "outputs": [
    {
     "data": {
      "text/plain": [
       "list"
      ]
     },
     "execution_count": 40,
     "metadata": {},
     "output_type": "execute_result"
    }
   ],
   "source": [
    "type(response)"
   ]
  },
  {
   "cell_type": "code",
   "execution_count": null,
   "id": "a779c677",
   "metadata": {},
   "outputs": [],
   "source": []
  }
 ],
 "metadata": {
  "kernelspec": {
   "display_name": ".venv",
   "language": "python",
   "name": "python3"
  },
  "language_info": {
   "codemirror_mode": {
    "name": "ipython",
    "version": 3
   },
   "file_extension": ".py",
   "mimetype": "text/x-python",
   "name": "python",
   "nbconvert_exporter": "python",
   "pygments_lexer": "ipython3",
   "version": "3.11.6"
  }
 },
 "nbformat": 4,
 "nbformat_minor": 5
}
