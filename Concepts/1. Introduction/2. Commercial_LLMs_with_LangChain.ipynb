{
 "cells": [
  {
   "cell_type": "markdown",
   "id": "3d3fe166",
   "metadata": {},
   "source": [
    "# Using Commercial LLMs with LangChain\n",
    "\n",
    "Here we will see briefly how you can use popular commercial LLM APIs with LangChain including\n",
    "\n",
    "- OpenAI GPT (Paid)\n",
    "- Google Gemini (Paid and Free)"
   ]
  },
  {
   "cell_type": "markdown",
   "id": "2dec642f",
   "metadata": {},
   "source": [
    "## Install Dependencies"
   ]
  },
  {
   "cell_type": "code",
   "execution_count": 2,
   "id": "64db85c8",
   "metadata": {},
   "outputs": [],
   "source": [
    "!pip install -qq langchain==0.3.11\n",
    "!pip install -qq langchain-openai==0.2.12\n",
    "!pip install -qq langchain-google-genai==2.0.6"
   ]
  },
  {
   "cell_type": "markdown",
   "id": "49c31fee",
   "metadata": {},
   "source": [
    "## Load OpenAI API Credentials\n"
   ]
  },
  {
   "cell_type": "code",
   "execution_count": null,
   "id": "f18cbfb9",
   "metadata": {},
   "outputs": [],
   "source": [
    "# from getpass import getpass\n",
    "\n",
    "# openai_key = getpass(\"Enter your OpenAI API Key: \")"
   ]
  },
  {
   "cell_type": "code",
   "execution_count": 3,
   "id": "dcff1a7a",
   "metadata": {},
   "outputs": [
    {
     "data": {
      "text/plain": [
       "True"
      ]
     },
     "execution_count": 3,
     "metadata": {},
     "output_type": "execute_result"
    }
   ],
   "source": [
    "from dotenv import load_dotenv\n",
    "import os\n",
    "\n",
    "# Load from .env file in current directory\n",
    "load_dotenv()"
   ]
  },
  {
   "cell_type": "markdown",
   "id": "675f3cfc",
   "metadata": {},
   "source": [
    "## Use OpenAI ChatGPT with LangChain"
   ]
  },
  {
   "cell_type": "code",
   "execution_count": 19,
   "id": "df839f12",
   "metadata": {},
   "outputs": [
    {
     "name": "stdout",
     "output_type": "stream",
     "text": [
      "- **Definition and Functionality**: Artificial Intelligence (AI) refers to the simulation of human intelligence in machines programmed to think, learn, and perform tasks autonomously, often using algorithms and data to improve their performance over time.\n",
      "\n",
      "- **Applications and Impact**: AI is utilized across various fields, including healthcare, finance, and transportation, enhancing efficiency, decision-making, and personalization, while also raising ethical considerations regarding privacy, bias, and job displacement.\n"
     ]
    }
   ],
   "source": [
    "from langchain_core.prompts import PromptTemplate,ChatPromptTemplate\n",
    "from langchain_openai import ChatOpenAI\n",
    "\n",
    "chatgpt = ChatOpenAI(\n",
    "    model_name=\"gpt-4o-mini\",\n",
    "    temperature=0\n",
    ")\n",
    "\n",
    "prompt = \"Explain {topic} in 2 bullet points\"\n",
    "prompt_template = ChatPromptTemplate.from_template(prompt)\n",
    "\n",
    "chain = (\n",
    "        prompt_template \n",
    "         | \n",
    "         chatgpt\n",
    "         )\n",
    "response = chain.invoke({\"topic\": \"AI\"})\n",
    "print(response.content)\n"
   ]
  },
  {
   "cell_type": "code",
   "execution_count": 25,
   "id": "fca1337c",
   "metadata": {},
   "outputs": [
    {
     "name": "stdout",
     "output_type": "stream",
     "text": [
      "- **Definition**: Artificial Intelligence (AI) refers to the simulation of human intelligence processes by machines, particularly computer systems, enabling them to perform tasks such as learning, reasoning, problem-solving, and understanding natural language.\n",
      "\n",
      "- **Applications**: AI is utilized across various fields, including healthcare (diagnosis and treatment recommendations), finance (fraud detection and algorithmic trading), autonomous vehicles, customer service (chatbots), and many more, enhancing efficiency and decision-making.\n"
     ]
    }
   ],
   "source": [
    "from langchain_core.prompts import ChatPromptTemplate\n",
    "from langchain_openai import ChatOpenAI\n",
    "\n",
    "chatgpt = ChatOpenAI(\n",
    "    model_name=\"gpt-4o-mini\",\n",
    "    temperature=0\n",
    ")\n",
    "\n",
    "# Use from_messages instead of from_template\n",
    "prompt_template = ChatPromptTemplate.from_messages([\n",
    "    (\"human\", \"Explain {topic} in 2 bullet points\")\n",
    "])\n",
    "\n",
    "# Create chain\n",
    "chain = prompt_template | chatgpt\n",
    "\n",
    "# Run chain\n",
    "response = chain.invoke({\"topic\": \"AI\"})\n",
    "print(response.content)"
   ]
  },
  {
   "cell_type": "code",
   "execution_count": 26,
   "id": "1ceb3501",
   "metadata": {},
   "outputs": [
    {
     "data": {
      "text/plain": [
       "AIMessage(content='- **Definition**: Artificial Intelligence (AI) refers to the simulation of human intelligence processes by machines, particularly computer systems, enabling them to perform tasks such as learning, reasoning, problem-solving, and understanding natural language.\\n\\n- **Applications**: AI is utilized across various fields, including healthcare (diagnosis and treatment recommendations), finance (fraud detection and algorithmic trading), autonomous vehicles, customer service (chatbots), and many more, enhancing efficiency and decision-making.', additional_kwargs={'refusal': None}, response_metadata={'token_usage': {'completion_tokens': 94, 'prompt_tokens': 14, 'total_tokens': 108, 'completion_tokens_details': {'accepted_prediction_tokens': 0, 'audio_tokens': 0, 'reasoning_tokens': 0, 'rejected_prediction_tokens': 0}, 'prompt_tokens_details': {'audio_tokens': 0, 'cached_tokens': 0}}, 'model_name': 'gpt-4o-mini-2024-07-18', 'system_fingerprint': 'fp_34a54ae93c', 'finish_reason': 'stop', 'logprobs': None}, id='run--4f209459-6ac8-474c-a327-c1bd30df066a-0', usage_metadata={'input_tokens': 14, 'output_tokens': 94, 'total_tokens': 108, 'input_token_details': {'audio': 0, 'cache_read': 0}, 'output_token_details': {'audio': 0, 'reasoning': 0}})"
      ]
     },
     "execution_count": 26,
     "metadata": {},
     "output_type": "execute_result"
    }
   ],
   "source": [
    "response"
   ]
  },
  {
   "cell_type": "code",
   "execution_count": 23,
   "id": "4f37f30b",
   "metadata": {},
   "outputs": [
    {
     "name": "stdout",
     "output_type": "stream",
     "text": [
      "- **Definition**: Artificial Intelligence (AI) refers to the simulation of human intelligence processes by machines, particularly computer systems, enabling them to perform tasks such as learning, reasoning, problem-solving, and understanding natural language.\n",
      "\n",
      "- **Applications**: AI is utilized across various fields, including healthcare (diagnosis and treatment recommendations), finance (fraud detection and algorithmic trading), autonomous vehicles, customer service (chatbots), and many more, enhancing efficiency and decision-making.\n"
     ]
    }
   ],
   "source": [
    "from langchain_core.prompts import PromptTemplate\n",
    "from langchain_openai import ChatOpenAI\n",
    "\n",
    "# Initialize Chat Model\n",
    "chatgpt = ChatOpenAI(\n",
    "    model_name=\"gpt-4o-mini\",\n",
    "    temperature=0\n",
    ")\n",
    "\n",
    "# Create a PromptTemplate instead of ChatPromptTemplate\n",
    "prompt_template = PromptTemplate.from_template(\"Explain {topic} in 2 bullet points\")\n",
    "\n",
    "# Create chain\n",
    "chain = prompt_template | chatgpt\n",
    "\n",
    "# Run chain\n",
    "response1 = chain.invoke({\"topic\": \"AI\"})\n",
    "print(response.content)"
   ]
  },
  {
   "cell_type": "code",
   "execution_count": 24,
   "id": "b7301bbf",
   "metadata": {},
   "outputs": [
    {
     "data": {
      "text/plain": [
       "AIMessage(content='- **Definition and Functionality**: Artificial Intelligence (AI) refers to the simulation of human intelligence in machines programmed to think, learn, and perform tasks autonomously, often using algorithms and data to improve their performance over time.\\n\\n- **Applications and Impact**: AI is utilized across various sectors, including healthcare, finance, and transportation, enhancing efficiency, decision-making, and personalization, while also raising ethical considerations regarding privacy, bias, and job displacement.', additional_kwargs={'refusal': None}, response_metadata={'token_usage': {'completion_tokens': 91, 'prompt_tokens': 14, 'total_tokens': 105, 'completion_tokens_details': {'accepted_prediction_tokens': 0, 'audio_tokens': 0, 'reasoning_tokens': 0, 'rejected_prediction_tokens': 0}, 'prompt_tokens_details': {'audio_tokens': 0, 'cached_tokens': 0}}, 'model_name': 'gpt-4o-mini-2024-07-18', 'system_fingerprint': 'fp_34a54ae93c', 'finish_reason': 'stop', 'logprobs': None}, id='run--35e9907c-730e-40de-9bfd-6bb761101714-0', usage_metadata={'input_tokens': 14, 'output_tokens': 91, 'total_tokens': 105, 'input_token_details': {'audio': 0, 'cache_read': 0}, 'output_token_details': {'audio': 0, 'reasoning': 0}})"
      ]
     },
     "execution_count": 24,
     "metadata": {},
     "output_type": "execute_result"
    }
   ],
   "source": [
    "response1"
   ]
  },
  {
   "cell_type": "markdown",
   "id": "173132ed",
   "metadata": {},
   "source": [
    "## Load Gemini API credentials\n",
    "\n",
    "Run this section only if you are using Google Gemini"
   ]
  },
  {
   "cell_type": "code",
   "execution_count": 27,
   "id": "c7e63271",
   "metadata": {},
   "outputs": [
    {
     "data": {
      "text/plain": [
       "True"
      ]
     },
     "execution_count": 27,
     "metadata": {},
     "output_type": "execute_result"
    }
   ],
   "source": [
    "from dotenv import load_dotenv\n",
    "import os\n",
    "\n",
    "# Load from .env file in current directory\n",
    "load_dotenv()"
   ]
  },
  {
   "cell_type": "code",
   "execution_count": 28,
   "id": "729105fb",
   "metadata": {},
   "outputs": [
    {
     "name": "stderr",
     "output_type": "stream",
     "text": [
      "d:\\2. My Github Codebase\\GenerativAI_Demystified\\.venv\\Lib\\site-packages\\tqdm\\auto.py:21: TqdmWarning: IProgress not found. Please update jupyter and ipywidgets. See https://ipywidgets.readthedocs.io/en/stable/user_install.html\n",
      "  from .autonotebook import tqdm as notebook_tqdm\n"
     ]
    },
    {
     "name": "stdout",
     "output_type": "stream",
     "text": [
      "* **AI systems mimic human intelligence:** They learn from data, solve problems, and make decisions, often without explicit programming for each scenario.\n",
      "\n",
      "* **AI powers many applications:** From self-driving cars and medical diagnosis to personalized recommendations and language translation.\n",
      "\n"
     ]
    }
   ],
   "source": [
    "from langchain_core.prompts import ChatPromptTemplate\n",
    "from langchain_google_genai import ChatGoogleGenerativeAI\n",
    "\n",
    "gemini = ChatGoogleGenerativeAI(model=\"gemini-1.5-flash-latest\")\n",
    "\n",
    "PROMPT = \"Explain {topic} in 2 bullets\"\n",
    "prompt = ChatPromptTemplate.from_template(PROMPT)\n",
    "\n",
    "chain = (\n",
    "         prompt\n",
    "           |\n",
    "         gemini\n",
    ")\n",
    "\n",
    "response = chain.invoke({\"topic\": \"AI\"})\n",
    "print(response.content)"
   ]
  },
  {
   "cell_type": "code",
   "execution_count": null,
   "id": "98a88e52",
   "metadata": {},
   "outputs": [],
   "source": []
  }
 ],
 "metadata": {
  "kernelspec": {
   "display_name": ".venv",
   "language": "python",
   "name": "python3"
  },
  "language_info": {
   "codemirror_mode": {
    "name": "ipython",
    "version": 3
   },
   "file_extension": ".py",
   "mimetype": "text/x-python",
   "name": "python",
   "nbconvert_exporter": "python",
   "pygments_lexer": "ipython3",
   "version": "3.12.10"
  }
 },
 "nbformat": 4,
 "nbformat_minor": 5
}
