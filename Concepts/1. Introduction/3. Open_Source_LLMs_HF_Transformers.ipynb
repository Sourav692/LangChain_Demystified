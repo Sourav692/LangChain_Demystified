{
 "cells": [
  {
   "cell_type": "markdown",
   "id": "a0ea846c",
   "metadata": {},
   "source": [
    "# Using Open Source LLMs Natively\n",
    "\n",
    "Here we will see briefly how you can use popular open source LLM APIs including\n",
    "\n",
    "- Hugging Face Transformers"
   ]
  },
  {
   "cell_type": "markdown",
   "id": "29c3d5f2",
   "metadata": {},
   "source": [
    "## Install Dependencies"
   ]
  },
  {
   "cell_type": "code",
   "execution_count": 1,
   "id": "885ff15d",
   "metadata": {},
   "outputs": [],
   "source": [
    "!pip install -qq transformers==4.47.0\n",
    "!pip install -qq accelerate==1.1.0\n",
    "!pip install -qq groq==0.13.0"
   ]
  },
  {
   "cell_type": "code",
   "execution_count": 2,
   "id": "937dc9d5",
   "metadata": {},
   "outputs": [
    {
     "name": "stdout",
     "output_type": "stream",
     "text": [
      "Note: you may need to restart the kernel to use updated packages.\n"
     ]
    }
   ],
   "source": [
    "pip install -qq torch==2.7.1"
   ]
  },
  {
   "cell_type": "code",
   "execution_count": 3,
   "id": "402af1de",
   "metadata": {},
   "outputs": [
    {
     "name": "stdout",
     "output_type": "stream",
     "text": [
      "Note: you may need to restart the kernel to use updated packages.\n"
     ]
    }
   ],
   "source": [
    "pip install -qq torch torchvision torchaudio"
   ]
  },
  {
   "cell_type": "markdown",
   "id": "98fb9c4f",
   "metadata": {},
   "source": [
    "## Get Hugging Face Access Token\n",
    "\n",
    "Here you need to get an access token to be able to download or access models using Hugging Face's platform:\n",
    "\n",
    "- Hugging Face Access Token: Go [here](https://huggingface.co/settings/tokens) and create a key with write permissions. You need to setup an account which is totally free of cost.\n",
    "\n",
    "\n",
    "1. Go to [Settings -> Access Tokens](https://huggingface.co/settings/tokens) after creating your account and make sure to create a new access token with write permissions\n",
    "\n",
    "![](https://i.imgur.com/dtS6tFr.png)\n",
    "\n",
    "2. Remember to __Save__ your key somewhere safe as it will just be shown once as shown below. So copy and save it in a local secure file to use it later on. If you forget, just create a new key anytime.\n",
    "\n",
    "![](https://i.imgur.com/NmZmpmw.png)"
   ]
  },
  {
   "cell_type": "markdown",
   "id": "e0e08b4b",
   "metadata": {},
   "source": [
    "## Load Hugging Face Access Token\n"
   ]
  },
  {
   "cell_type": "code",
   "execution_count": 4,
   "id": "3f9a5e08",
   "metadata": {},
   "outputs": [
    {
     "data": {
      "text/plain": [
       "True"
      ]
     },
     "execution_count": 4,
     "metadata": {},
     "output_type": "execute_result"
    }
   ],
   "source": [
    "from dotenv import load_dotenv\n",
    "import os\n",
    "\n",
    "load_dotenv()"
   ]
  },
  {
   "cell_type": "markdown",
   "id": "d3564916",
   "metadata": {},
   "source": [
    "## Using LLMs Locally with Hugging Face\n",
    "\n",
    "This is if you want to download LLMs locally completely and run it without the need of sending your data to any external server. Do note you would need a GPU to run any of these models as even the smaller language models are still essentially quite big."
   ]
  },
  {
   "cell_type": "markdown",
   "id": "9e7efae1",
   "metadata": {},
   "source": [
    "Certain LLMs are gated like [Meta Llama 3.2 1B Instruct](https://huggingface.co/meta-llama/Llama-3.2-1B-Instruct) so make sure to apply for access as shown below else you will get an error when using the model\n",
    "\n",
    "![](https://i.imgur.com/M88MOu5.png)"
   ]
  },
  {
   "cell_type": "markdown",
   "id": "85d1a558",
   "metadata": {},
   "source": [
    "## Load the LLM locally using Huggingface"
   ]
  },
  {
   "cell_type": "code",
   "execution_count": 7,
   "id": "bb6cdab4",
   "metadata": {},
   "outputs": [],
   "source": [
    "# Import necessary libraries\n",
    "from transformers import AutoTokenizer, AutoModelForCausalLM\n",
    "import transformers\n",
    "import torch\n",
    "# Define the model ID\n",
    "model_id = \"TinyLlama/TinyLlama-1.1B-Chat-v1.0\"\n",
    "# Load the pre-trained tokenizer\n",
    "tokenizer = AutoTokenizer.from_pretrained(model_id)\n",
    "# Load the pre-trained model\n",
    "# Set the device to 'cuda' and the data type to 'bfloat16' for improved performance\n",
    "model = AutoModelForCausalLM.from_pretrained(\n",
    "    model_id,\n",
    "    torch_dtype=torch.bfloat16\n",
    ")"
   ]
  },
  {
   "cell_type": "code",
   "execution_count": 8,
   "id": "ad0aef73",
   "metadata": {},
   "outputs": [
    {
     "name": "stdout",
     "output_type": "stream",
     "text": [
      "<|user|>\n",
      "Explain what is Generative AI in 2 bullet points</s>\n",
      "<|assistant|>\n",
      "\n"
     ]
    }
   ],
   "source": [
    "chat = [\n",
    "    { \"role\": \"user\", \"content\": \"Explain what is Generative AI in 2 bullet points\" },\n",
    "]\n",
    "prompt = tokenizer.apply_chat_template(chat, tokenize=False, add_generation_prompt=True)\n",
    "print(prompt)"
   ]
  },
  {
   "cell_type": "markdown",
   "id": "9ac6f606",
   "metadata": {},
   "source": [
    "Remember to always refer to the [__documentation__](https://huggingface.co/docs/transformers/v4.18.0/en/main_classes/text_generation#transformers.generation_utils.GenerationMixin.generate) where all the arguments of the generation pipeline are mentioned in detail. Most notably:\n",
    "\n",
    "- **max_length:** The maximum length of the sequence to be generated\n",
    "- **max_new_tokens:** The maximum numbers of tokens to generate, ignore the current number of tokens. Use either max_new_tokens or max_length but not both, they serve the same purpose\n",
    "- **do_sample:** Whether or not to use sampling. False means use greedy decoding i.e temperature=0\n",
    "- **temperature:** Between 0 - 1, The value used to module the next token probabilities. Higher temperature means the results may vary and be more creative"
   ]
  },
  {
   "cell_type": "code",
   "execution_count": 9,
   "id": "a9bf642d",
   "metadata": {},
   "outputs": [
    {
     "name": "stdout",
     "output_type": "stream",
     "text": [
      "<|user|>\n",
      "Explain what is Generative AI in 2 bullet points</s> \n",
      "<|assistant|>\n",
      "1. Generative AI is a type of artificial intelligence that can generate new ideas, concepts, and solutions based on data. It is a form of machine learning that uses algorithms to analyze large amounts of data and generate new insights or solutions.\n",
      "\n",
      "2. Generative AI can be used in various industries, including finance, healthcare, marketing, and education. It can help businesses to identify new markets, develop new products, and improve customer experiences.\n",
      "\n",
      "3. Generative AI can also be used to create new content, such as blog posts, social media posts, and videos. It can generate content based on user data or historical data, making it more relevant and engaging for the audience.\n",
      "\n",
      "4. Generative AI can also be used to improve the quality of data analysis. By generating new insights and solutions based on data, it can help businesses to make more informed decisions and improve their data analysis processes.\n",
      "\n",
      "5. Generative AI can also be used to create new products and services. By analyzing customer data and market trends, businesses can develop new products or services that meet the needs of their target audience.\n",
      "\n",
      "6. Generative AI can also be used to improve the efficiency of business processes. By generating new solutions and insights, it can help businesses to reduce costs and improve their overall efficiency.\n",
      "\n",
      "7. Generative AI can also be used to create new jobs. As AI becomes more advanced, it can create new jobs in areas such as data analysis, machine learning, and software development.\n",
      "\n",
      "8. Generative AI has the potential to disrupt many industries, including finance, healthcare, and education. As AI becomes more advanced, it can help businesses to generate new ideas and solutions, improve their operations, and create new products and services.</s>\n"
     ]
    }
   ],
   "source": [
    "inputs = tokenizer.encode(prompt, add_special_tokens=False, return_tensors=\"pt\")\n",
    "outputs = model.generate(input_ids=inputs.to(model.device), max_new_tokens=1000)\n",
    "print(tokenizer.decode(outputs[0]))"
   ]
  },
  {
   "cell_type": "markdown",
   "id": "1c3d46b5",
   "metadata": {},
   "source": [
    "### Pipelines make it easier to send prompts\n",
    "\n",
    "You don't need to encode and decode your inputs and outputs everytime"
   ]
  },
  {
   "cell_type": "code",
   "execution_count": 10,
   "id": "2e889207",
   "metadata": {},
   "outputs": [
    {
     "name": "stderr",
     "output_type": "stream",
     "text": [
      "Device set to use cpu\n"
     ]
    }
   ],
   "source": [
    "llama_pipe = transformers.pipeline(\n",
    "    \"text-generation\",\n",
    "    model=model,\n",
    "    tokenizer=tokenizer,\n",
    "    torch_dtype=torch.bfloat16,\n",
    "    trust_remote_code=True,\n",
    "    device_map=\"cuda\",\n",
    ")"
   ]
  },
  {
   "cell_type": "code",
   "execution_count": 11,
   "id": "9ba80d3c",
   "metadata": {},
   "outputs": [],
   "source": [
    "chat = [\n",
    "    { \"role\": \"user\", \"content\": \"Explain what is Generative AI in 2 bullet points\" },\n",
    "]"
   ]
  },
  {
   "cell_type": "code",
   "execution_count": 12,
   "id": "2421fd8f",
   "metadata": {},
   "outputs": [
    {
     "name": "stdout",
     "output_type": "stream",
     "text": [
      "[{'generated_text': [{'role': 'user', 'content': 'Explain what is Generative AI in 2 bullet points'}, {'role': 'assistant', 'content': '1. Generative AI is a type of artificial intelligence that can generate new ideas, concepts, and solutions based on data. It is a form of machine learning that uses algorithms to analyze large amounts of data and generate new insights or solutions.\\n\\n2. Generative AI can be used in various industries, including finance, healthcare, marketing, and education. It can help businesses to identify new markets, develop new products, and improve customer experiences.\\n\\n3. Generative AI can also be used to create new content, such as blog posts, social media posts, and videos. It can generate content based on user data or historical data, making it more relevant and engaging for the audience.\\n\\n4. Generative AI can also be used to improve the quality of data analysis. By generating new insights and solutions based on data, it can help businesses to make more informed decisions and improve their data analysis processes.\\n\\n5. Generative AI can also be used to create new products and services. By analyzing customer data and market trends, businesses can develop new products or services that meet the needs of their target audience.\\n\\n6. Generative AI can also be used to improve the efficiency of business processes. By generating new solutions and insights, it can help businesses to reduce costs and improve their overall efficiency.\\n\\n7. Generative AI can also be used to create new jobs. As AI becomes more advanced, it can create new jobs in areas such as data analysis, machine learning, and software development.\\n\\n8. Generative AI has the potential to disrupt many industries, including finance, healthcare, and education. As AI becomes more advanced, it can help businesses to generate new ideas and solutions, improve their operations, and create new products and services.'}]}]\n"
     ]
    }
   ],
   "source": [
    "response = llama_pipe(chat, max_new_tokens=1000)\n",
    "print(response)"
   ]
  },
  {
   "cell_type": "code",
   "execution_count": 13,
   "id": "701c0f9f",
   "metadata": {},
   "outputs": [
    {
     "name": "stdout",
     "output_type": "stream",
     "text": [
      "1. Generative AI is a type of artificial intelligence that can generate new ideas, concepts, and solutions based on data. It is a form of machine learning that uses algorithms to analyze large amounts of data and generate new insights or solutions.\n",
      "\n",
      "2. Generative AI can be used in various industries, including finance, healthcare, marketing, and education. It can help businesses to identify new markets, develop new products, and improve customer experiences.\n",
      "\n",
      "3. Generative AI can also be used to create new content, such as blog posts, social media posts, and videos. It can generate content based on user data or historical data, making it more relevant and engaging for the audience.\n",
      "\n",
      "4. Generative AI can also be used to improve the quality of data analysis. By generating new insights and solutions based on data, it can help businesses to make more informed decisions and improve their data analysis processes.\n",
      "\n",
      "5. Generative AI can also be used to create new products and services. By analyzing customer data and market trends, businesses can develop new products or services that meet the needs of their target audience.\n",
      "\n",
      "6. Generative AI can also be used to improve the efficiency of business processes. By generating new solutions and insights, it can help businesses to reduce costs and improve their overall efficiency.\n",
      "\n",
      "7. Generative AI can also be used to create new jobs. As AI becomes more advanced, it can create new jobs in areas such as data analysis, machine learning, and software development.\n",
      "\n",
      "8. Generative AI has the potential to disrupt many industries, including finance, healthcare, and education. As AI becomes more advanced, it can help businesses to generate new ideas and solutions, improve their operations, and create new products and services.\n"
     ]
    }
   ],
   "source": [
    "print(response[0][\"generated_text\"][-1]['content'])"
   ]
  },
  {
   "cell_type": "code",
   "execution_count": null,
   "id": "cbe3dedb",
   "metadata": {},
   "outputs": [],
   "source": []
  }
 ],
 "metadata": {
  "kernelspec": {
   "display_name": ".venv",
   "language": "python",
   "name": "python3"
  },
  "language_info": {
   "codemirror_mode": {
    "name": "ipython",
    "version": 3
   },
   "file_extension": ".py",
   "mimetype": "text/x-python",
   "name": "python",
   "nbconvert_exporter": "python",
   "pygments_lexer": "ipython3",
   "version": "3.12.10"
  }
 },
 "nbformat": 4,
 "nbformat_minor": 5
}
