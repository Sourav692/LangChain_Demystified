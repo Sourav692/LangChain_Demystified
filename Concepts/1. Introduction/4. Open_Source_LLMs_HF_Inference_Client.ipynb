{
 "cells": [
  {
   "cell_type": "markdown",
   "id": "d779e870",
   "metadata": {},
   "source": [
    "## Using LLMs via Hugging Face Inference Client\n",
    "\n",
    "Thankfully HuggingFace has made its new [__Inference Client__](https://huggingface.co/docs/huggingface_hub/en/package_reference/inference_client) free to use with some basic rate limits etc. in place so you don't end up making unlimited requests on its servers.\n",
    "\n",
    "The best part is you can access 150,000+ deep learning models without worrying about your infrastructure. Similar to the inference API"
   ]
  },
  {
   "cell_type": "code",
   "execution_count": 1,
   "id": "d5abacc3",
   "metadata": {},
   "outputs": [
    {
     "name": "stderr",
     "output_type": "stream",
     "text": [
      "d:\\2. My Github Codebase\\GenerativAI_Demystified\\.venv\\Lib\\site-packages\\tqdm\\auto.py:21: TqdmWarning: IProgress not found. Please update jupyter and ipywidgets. See https://ipywidgets.readthedocs.io/en/stable/user_install.html\n",
      "  from .autonotebook import tqdm as notebook_tqdm\n"
     ]
    }
   ],
   "source": [
    "from huggingface_hub import InferenceClient"
   ]
  },
  {
   "cell_type": "markdown",
   "id": "897019eb",
   "metadata": {},
   "source": [
    "Feel free to refer to the [documentation](https://huggingface.co/docs/huggingface_hub/en/package_reference/inference_client#huggingface_hub.InferenceClient) at any time as needed for more details on function names, arguments and more."
   ]
  },
  {
   "cell_type": "code",
   "execution_count": 2,
   "id": "d2a05cf4",
   "metadata": {},
   "outputs": [],
   "source": [
    "from dotenv import load_dotenv\n",
    "import os\n",
    "\n",
    "load_dotenv()\n",
    "hf_key = os.getenv(\"HF_TOKEN\")"
   ]
  },
  {
   "cell_type": "code",
   "execution_count": 3,
   "id": "7901175c",
   "metadata": {},
   "outputs": [
    {
     "name": "stdout",
     "output_type": "stream",
     "text": [
      "ChatCompletionOutput(choices=[ChatCompletionOutputComplete(finish_reason='stop', index=0, message=ChatCompletionOutputMessage(role='assistant', content='Here are two key points about Generative AI:\\n\\n• **Generative AI refers to the use of artificial intelligence (AI) algorithms that can create new data or content that resembles existing data or content, often with a specific purpose or goal in mind.** This can include tasks such as generating text, images, videos, music, or even entire articles.\\n\\n• **Generative AI models can be trained on large datasets to learn patterns and relationships, and then use this knowledge to produce new, original content that may not have been created by humans before.** This can result in innovative and often surprising outputs that can be useful for a wide range of applications, from art and design to entertainment and education.', tool_call_id=None, tool_calls=None), logprobs=None, content_filter_results={'hate': {'filtered': False}, 'self_harm': {'filtered': False}, 'sexual': {'filtered': False}, 'violence': {'filtered': False}, 'jailbreak': {'filtered': False, 'detected': False}, 'profanity': {'filtered': False, 'detected': False}})], created=1751484447, id='chatcmpl-a69ca4722b764019ac503e583f7d4de5', model='meta-llama/llama-3.2-1b-instruct', system_fingerprint='', usage=ChatCompletionOutputUsage(completion_tokens=141, prompt_tokens=47, total_tokens=188, prompt_tokens_details=None, completion_tokens_details=None), object='chat.completion')\n"
     ]
    }
   ],
   "source": [
    "model_name = \"meta-llama/Llama-3.2-1B-Instruct\"\n",
    "client = InferenceClient(model=model_name, api_key=hf_key)\n",
    "\n",
    "chat = [\n",
    "    { \"role\": \"user\", \"content\": \"Explain what is Generative AI in 2 bullet points\" },\n",
    "]\n",
    "\n",
    "response = client.chat_completion(chat, max_tokens=1000)\n",
    "print(response)"
   ]
  },
  {
   "cell_type": "code",
   "execution_count": 4,
   "id": "6dc33d94",
   "metadata": {},
   "outputs": [
    {
     "name": "stdout",
     "output_type": "stream",
     "text": [
      "Here are two key points about Generative AI:\n",
      "\n",
      "• **Generative AI refers to the use of artificial intelligence (AI) algorithms that can create new data or content that resembles existing data or content, often with a specific purpose or goal in mind.** This can include tasks such as generating text, images, videos, music, or even entire articles.\n",
      "\n",
      "• **Generative AI models can be trained on large datasets to learn patterns and relationships, and then use this knowledge to produce new, original content that may not have been created by humans before.** This can result in innovative and often surprising outputs that can be useful for a wide range of applications, from art and design to entertainment and education.\n"
     ]
    }
   ],
   "source": [
    "print(response.choices[0].message.content)"
   ]
  },
  {
   "cell_type": "code",
   "execution_count": null,
   "id": "98a7cd26",
   "metadata": {},
   "outputs": [],
   "source": []
  }
 ],
 "metadata": {
  "kernelspec": {
   "display_name": ".venv",
   "language": "python",
   "name": "python3"
  },
  "language_info": {
   "codemirror_mode": {
    "name": "ipython",
    "version": 3
   },
   "file_extension": ".py",
   "mimetype": "text/x-python",
   "name": "python",
   "nbconvert_exporter": "python",
   "pygments_lexer": "ipython3",
   "version": "3.12.10"
  }
 },
 "nbformat": 4,
 "nbformat_minor": 5
}
