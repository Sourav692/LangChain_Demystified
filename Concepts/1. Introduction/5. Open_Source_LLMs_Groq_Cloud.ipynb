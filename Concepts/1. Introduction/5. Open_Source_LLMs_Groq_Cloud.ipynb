{
 "cells": [
  {
   "cell_type": "markdown",
   "id": "d521b51a",
   "metadata": {},
   "source": [
    "## Get Groq API\n",
    "\n",
    "Here you need to get an access token to be able to access models using Grok's platform via APIs:\n",
    "\n",
    "- Groq API Key: Go [here](https://console.groq.com/keys) and create an API key. You need to setup an account which is totally free of cost. Also while Groq has a generous free tier, there are also paid plans if you are interested.\n",
    "\n",
    "\n",
    "1. Go to [Groq Cloud -> Create API Key](https://console.groq.com/keys) after creating your account and make sure to create a new API Key as shown\n",
    "\n",
    "![](https://i.imgur.com/tgHXlcV.png)\n",
    "\n",
    "2. Remember to __Save__ your key somewhere safe as it will just be shown once as shown below. So copy and save it in a local secure file to use it later on. If you forget, just create a new key anytime.\n",
    "\n",
    "![](https://i.imgur.com/Q27AgA1.png)"
   ]
  },
  {
   "cell_type": "code",
   "execution_count": 4,
   "id": "6b5e247b",
   "metadata": {},
   "outputs": [],
   "source": [
    "from dotenv import load_dotenv\n",
    "import os\n",
    "\n",
    "load_dotenv()\n",
    "groq_key = os.getenv(\"GROQ_KEY\")"
   ]
  },
  {
   "cell_type": "code",
   "execution_count": 5,
   "id": "68c91eb4",
   "metadata": {},
   "outputs": [],
   "source": [
    "from groq import Groq\n",
    "\n",
    "groq_client = Groq(api_key=groq_key)"
   ]
  },
  {
   "cell_type": "code",
   "execution_count": 6,
   "id": "6b57fd57",
   "metadata": {},
   "outputs": [],
   "source": [
    "def get_completion_chatgroq(prompt, model=\"meta-llama/llama-4-scout-17b-16e-instruct\"):\n",
    "    messages = [{\"role\": \"user\", \"content\": prompt}]\n",
    "    response = groq_client.chat.completions.create(\n",
    "        model=model,\n",
    "        messages=messages,\n",
    "        temperature=0, # degree of randomness of the model's output\n",
    "    )\n",
    "    return response.choices[0].message.content"
   ]
  },
  {
   "cell_type": "code",
   "execution_count": 7,
   "id": "09856e5f",
   "metadata": {},
   "outputs": [
    {
     "name": "stdout",
     "output_type": "stream",
     "text": [
      "Here are 2 bullet points explaining Generative AI:\n",
      "\n",
      "* **Definition and Functionality**: Generative AI refers to a type of artificial intelligence that uses machine learning algorithms to generate new, synthetic data that resembles existing data. This technology can create a wide range of content, such as images, videos, music, text, and even code, by learning patterns and relationships in the data it was trained on.\n",
      "* **Key Applications and Examples**: Generative AI has various applications, including data augmentation, content creation, and simulation. Examples of generative AI models include Generative Adversarial Networks (GANs), Variational Autoencoders (VAEs), and Transformers, which have been used to generate realistic images of faces, objects, and scenes, as well as create new music, text, and even entire videos.\n"
     ]
    }
   ],
   "source": [
    "prompt = 'Explain Generative AI in 2 bullet points'\n",
    "response = get_completion_chatgroq(prompt=prompt, model=\"meta-llama/llama-4-scout-17b-16e-instruct\")\n",
    "\n",
    "print(response)"
   ]
  },
  {
   "cell_type": "code",
   "execution_count": 9,
   "id": "c1512eb2",
   "metadata": {},
   "outputs": [
    {
     "name": "stdout",
     "output_type": "stream",
     "text": [
      "Here are 2 bullet points explaining Generative AI:\n",
      "\n",
      "* **Generative AI creates new content**: Generative AI is a type of artificial intelligence that generates new, original content, such as images, videos, music, text, and more, by learning patterns and structures from existing on existing data.\n",
      "* **Uses algorithms like GANs and VAEs**: Generative AI uses algorithms like Generative Adversarial Networks (GANs) and Variational Autoencoders (VAEs) to generate new content that is often indistinguishable from content created by humans, enabling applications such as art, design, and content creation.\n"
     ]
    }
   ],
   "source": [
    "prompt = 'Explain Generative AI in 2 bullet points'\n",
    "response = get_completion_chatgroq(prompt=prompt, model=\"meta-llama/llama-4-maverick-17b-128e-instruct\")\n",
    "\n",
    "print(response)"
   ]
  },
  {
   "cell_type": "code",
   "execution_count": null,
   "id": "1e8ed86a",
   "metadata": {},
   "outputs": [],
   "source": []
  }
 ],
 "metadata": {
  "kernelspec": {
   "display_name": ".venv",
   "language": "python",
   "name": "python3"
  },
  "language_info": {
   "codemirror_mode": {
    "name": "ipython",
    "version": 3
   },
   "file_extension": ".py",
   "mimetype": "text/x-python",
   "name": "python",
   "nbconvert_exporter": "python",
   "pygments_lexer": "ipython3",
   "version": "3.12.10"
  }
 },
 "nbformat": 4,
 "nbformat_minor": 5
}
