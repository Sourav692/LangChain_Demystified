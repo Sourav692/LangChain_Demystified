{
 "cells": [
  {
   "cell_type": "markdown",
   "id": "66df858b",
   "metadata": {},
   "source": [
    "# Project: Build a Multi-user Conversational Product Recommendation Agent\n",
    "\n",
    "![](https://i.imgur.com/7ZHpO6U.png)\n"
   ]
  },
  {
   "cell_type": "markdown",
   "id": "227e1359",
   "metadata": {},
   "source": [
    "## Install OpenAI and LangChain dependencies\n"
   ]
  },
  {
   "cell_type": "code",
   "execution_count": null,
   "id": "8eaa3557",
   "metadata": {},
   "outputs": [
    {
     "name": "stdout",
     "output_type": "stream",
     "text": [
      "Collecting tabulate\n",
      "  Using cached tabulate-0.9.0-py3-none-any.whl.metadata (34 kB)\n",
      "Using cached tabulate-0.9.0-py3-none-any.whl (35 kB)\n",
      "Installing collected packages: tabulate\n",
      "Successfully installed tabulate-0.9.0\n"
     ]
    }
   ],
   "source": [
    "# !pip install tabulate"
   ]
  },
  {
   "cell_type": "code",
   "execution_count": 2,
   "id": "e6a2cce9",
   "metadata": {},
   "outputs": [
    {
     "name": "stdout",
     "output_type": "stream",
     "text": [
      "\u001b[31mERROR: pip's dependency resolver does not currently take into account all the packages that are installed. This behaviour is the source of the following dependency conflicts.\n",
      "langchain-community 0.3.19 requires langchain<1.0.0,>=0.3.20, but you have langchain 0.3.11 which is incompatible.\u001b[0m\u001b[31m\n",
      "\u001b[0m"
     ]
    }
   ],
   "source": [
    "# Updated package versions and import paths\n",
    "# Maintains consistency with all previous module updates\n",
    "# All changes align with the latest LangChain API structure\n",
    "!pip install -qq langchain==0.3.11\n",
    "!pip install -qq langchain-openai==0.2.12\n",
    "!pip install -qq langchain-community==0.3.11\n",
    "!pip install -qq gdown\n",
    "!pip install -qq rich"
   ]
  },
  {
   "cell_type": "markdown",
   "id": "93918b8a",
   "metadata": {},
   "source": [
    "## Load OpenAI API Credentials\n",
    "\n",
    "Here we load it from get password function"
   ]
  },
  {
   "cell_type": "code",
   "execution_count": 3,
   "id": "95721188",
   "metadata": {},
   "outputs": [
    {
     "data": {
      "text/plain": [
       "True"
      ]
     },
     "execution_count": 3,
     "metadata": {},
     "output_type": "execute_result"
    }
   ],
   "source": [
    "import os\n",
    "from dotenv import load_dotenv\n",
    "\n",
    "load_dotenv()"
   ]
  },
  {
   "cell_type": "code",
   "execution_count": 5,
   "id": "e8412db9",
   "metadata": {},
   "outputs": [
    {
     "data": {
      "text/html": [
       "<div>\n",
       "<style scoped>\n",
       "    .dataframe tbody tr th:only-of-type {\n",
       "        vertical-align: middle;\n",
       "    }\n",
       "\n",
       "    .dataframe tbody tr th {\n",
       "        vertical-align: top;\n",
       "    }\n",
       "\n",
       "    .dataframe thead th {\n",
       "        text-align: right;\n",
       "    }\n",
       "</style>\n",
       "<table border=\"1\" class=\"dataframe\">\n",
       "  <thead>\n",
       "    <tr style=\"text-align: right;\">\n",
       "      <th></th>\n",
       "      <th>Product_ID</th>\n",
       "      <th>Product_Name</th>\n",
       "      <th>Category</th>\n",
       "      <th>Price_USD</th>\n",
       "      <th>Rating</th>\n",
       "      <th>Description</th>\n",
       "    </tr>\n",
       "  </thead>\n",
       "  <tbody>\n",
       "    <tr>\n",
       "      <th>0</th>\n",
       "      <td>P001</td>\n",
       "      <td>AlphaBook Pro</td>\n",
       "      <td>Laptop</td>\n",
       "      <td>1200</td>\n",
       "      <td>4.5</td>\n",
       "      <td>The AlphaBook Pro features a 15-inch Retina di...</td>\n",
       "    </tr>\n",
       "    <tr>\n",
       "      <th>1</th>\n",
       "      <td>P002</td>\n",
       "      <td>BetaTab S</td>\n",
       "      <td>Tablet</td>\n",
       "      <td>500</td>\n",
       "      <td>4.2</td>\n",
       "      <td>BetaTab S is a lightweight tablet with a 15-in...</td>\n",
       "    </tr>\n",
       "    <tr>\n",
       "      <th>2</th>\n",
       "      <td>P003</td>\n",
       "      <td>GammaPhone X</td>\n",
       "      <td>Smartphone</td>\n",
       "      <td>800</td>\n",
       "      <td>4.7</td>\n",
       "      <td>GammaPhone X comes with a 6.7-inch AMOLED disp...</td>\n",
       "    </tr>\n",
       "    <tr>\n",
       "      <th>3</th>\n",
       "      <td>P004</td>\n",
       "      <td>DeltaWatch 2</td>\n",
       "      <td>Smartwatch</td>\n",
       "      <td>300</td>\n",
       "      <td>4.0</td>\n",
       "      <td>DeltaWatch 2 offers fitness tracking, heart ra...</td>\n",
       "    </tr>\n",
       "    <tr>\n",
       "      <th>4</th>\n",
       "      <td>P005</td>\n",
       "      <td>EpsilonCam 300</td>\n",
       "      <td>Camera</td>\n",
       "      <td>600</td>\n",
       "      <td>4.1</td>\n",
       "      <td>EpsilonCam 300 is a mirrorless camera with a 2...</td>\n",
       "    </tr>\n",
       "  </tbody>\n",
       "</table>\n",
       "</div>"
      ],
      "text/plain": [
       "  Product_ID    Product_Name    Category  Price_USD  Rating  \\\n",
       "0       P001   AlphaBook Pro      Laptop       1200     4.5   \n",
       "1       P002       BetaTab S      Tablet        500     4.2   \n",
       "2       P003    GammaPhone X  Smartphone        800     4.7   \n",
       "3       P004    DeltaWatch 2  Smartwatch        300     4.0   \n",
       "4       P005  EpsilonCam 300      Camera        600     4.1   \n",
       "\n",
       "                                         Description  \n",
       "0  The AlphaBook Pro features a 15-inch Retina di...  \n",
       "1  BetaTab S is a lightweight tablet with a 15-in...  \n",
       "2  GammaPhone X comes with a 6.7-inch AMOLED disp...  \n",
       "3  DeltaWatch 2 offers fitness tracking, heart ra...  \n",
       "4  EpsilonCam 300 is a mirrorless camera with a 2...  "
      ]
     },
     "execution_count": 5,
     "metadata": {},
     "output_type": "execute_result"
    }
   ],
   "source": [
    "import pandas as pd\n",
    "\n",
    "df = pd.read_csv('./Docs/Ecommerce_Product_List.csv')\n",
    "df.head()"
   ]
  },
  {
   "cell_type": "code",
   "execution_count": 6,
   "id": "94532a88",
   "metadata": {},
   "outputs": [
    {
     "name": "stdout",
     "output_type": "stream",
     "text": [
      "<class 'pandas.core.frame.DataFrame'>\n",
      "RangeIndex: 30 entries, 0 to 29\n",
      "Data columns (total 6 columns):\n",
      " #   Column        Non-Null Count  Dtype  \n",
      "---  ------        --------------  -----  \n",
      " 0   Product_ID    30 non-null     object \n",
      " 1   Product_Name  30 non-null     object \n",
      " 2   Category      30 non-null     object \n",
      " 3   Price_USD     30 non-null     int64  \n",
      " 4   Rating        30 non-null     float64\n",
      " 5   Description   30 non-null     object \n",
      "dtypes: float64(1), int64(1), object(4)\n",
      "memory usage: 1.5+ KB\n"
     ]
    }
   ],
   "source": [
    "df.info()"
   ]
  },
  {
   "cell_type": "code",
   "execution_count": 7,
   "id": "aa14518b",
   "metadata": {},
   "outputs": [
    {
     "data": {
      "text/plain": [
       "array(['Laptop', 'Tablet', 'Smartphone', 'Smartwatch', 'Camera',\n",
       "       'Headphones', 'Mouse', 'Keyboard', 'Monitor', 'Charger'],\n",
       "      dtype=object)"
      ]
     },
     "execution_count": 7,
     "metadata": {},
     "output_type": "execute_result"
    }
   ],
   "source": [
    "df['Category'].unique()"
   ]
  },
  {
   "cell_type": "code",
   "execution_count": 9,
   "id": "3a00e456",
   "metadata": {},
   "outputs": [
    {
     "name": "stdout",
     "output_type": "stream",
     "text": [
      "[4.5 4.2 4.7 4.  4.1 4.3 4.6 4.4 4.8 3.9 4.9]\n"
     ]
    }
   ],
   "source": [
    "print(df['Rating'].unique())"
   ]
  },
  {
   "cell_type": "markdown",
   "id": "0116be3f",
   "metadata": {},
   "source": [
    "## Product Recommender Agent Workflow\n",
    "\n",
    "We will:\n",
    "\n",
    "- Build a Pandas Code Tool Executor to filter products based on category, rating, price\n",
    "- Build a LLM Recommender Chain to filter products based on natural language descriptions using an LLM\n",
    "- Build a query rephraser LLM Chain to combine multiple queries in a conversation to generate better queries\n",
    "- Combine all of these into a single chain\n",
    "- Add conversational memory to this system\n",
    "\n",
    "![](https://i.imgur.com/qJIsErH.png)"
   ]
  },
  {
   "cell_type": "markdown",
   "id": "2ced1d3d",
   "metadata": {},
   "source": [
    "## Text 2 Pandas Code Tool Executor Chain"
   ]
  },
  {
   "cell_type": "code",
   "execution_count": 15,
   "id": "0951ceb4",
   "metadata": {},
   "outputs": [
    {
     "name": "stdout",
     "output_type": "stream",
     "text": [
      "|    | Product_ID   | Product_Name   | Category   |   Price_USD |   Rating | Description                                                                                                                              |\n",
      "|---:|:-------------|:---------------|:-----------|------------:|---------:|:-----------------------------------------------------------------------------------------------------------------------------------------|\n",
      "|  1 | P002         | BetaTab S      | Tablet     |         500 |      4.2 | BetaTab S is a lightweight tablet with a 15-inch display, 4GB RAM, and 64GB storage. Perfect for entertainment and light work on the go. |\n",
      "| 11 | P012         | BetaTab Lite   | Tablet     |         400 |      4.1 | BetaTab Lite is a budget-friendly 10-inch tablet with 2GB RAM and 32GB storage, perfect for casual browsing and entertainment.           |\n",
      "| 21 | P022         | SpectraTab Max | Tablet     |         600 |      4.3 | SpectraTab Max features a 12-inch Retina display, 6GB RAM, and 128GB storage, designed for entertainment and professional use.           |\n"
     ]
    }
   ],
   "source": [
    "# Updated import path for output parsers:\n",
    "from langchain_core.output_parsers import StrOutputParser\n",
    "from langchain_core.runnables import chain\n",
    "from langchain_core.runnables import RunnableParallel, RunnablePassthrough\n",
    "\n",
    "from operator import itemgetter\n",
    "# Updated import paths for prompt templates:\n",
    "from langchain.prompts import ChatPromptTemplate\n",
    "from langchain_openai import ChatOpenAI\n",
    "\n",
    "\n",
    "# Updated parameter name from model_name to model:\n",
    "chatgpt = ChatOpenAI(model='gpt-4o-mini', temperature=0)\n",
    "\n",
    "@chain\n",
    "def pandas_code_tool_executor(query):\n",
    "    result_df = eval(query)\n",
    "    if result_df.empty:\n",
    "        return df.to_markdown()\n",
    "    else:\n",
    "        return result_df.to_markdown()\n",
    "\n",
    "FILTER_PROMPT = \"\"\"Given the following schema of a dataframe table,\n",
    "            your task is to figure out the best pandas query to\n",
    "            filter the dataframe based on the user query which\n",
    "            will be in natural language.\n",
    "\n",
    "            The schema is as follows:\n",
    "\n",
    "            #   Column        Non-Null Count  Dtype\n",
    "            ---  ------        --------------  -----\n",
    "            0   Product_ID    30 non-null     object\n",
    "            1   Product_Name  30 non-null     object\n",
    "            2   Category      30 non-null     object\n",
    "            3   Price_USD     30 non-null     int64\n",
    "            4   Rating        30 non-null     float64\n",
    "            5   Description   30 non-null     object\n",
    "\n",
    "            Category has values: ['Laptop', 'Tablet', 'Smartphone',\n",
    "                                  'Smartwatch', 'Camera',\n",
    "                                  'Headphones', 'Mouse', 'Keyboard',\n",
    "                                  'Monitor', 'Charger']\n",
    "\n",
    "            Rating ranges from 1 - 5 in floats\n",
    "\n",
    "            You will try to figure out the pandas query focusing\n",
    "            only on Category, Price_USD and Rating if the user mentions\n",
    "            anything about these in their natural language query.\n",
    "            Do not make up column names, only use the above.\n",
    "            If not the pandas query should just return the full dataframe.\n",
    "            Remember the dataframe name is df.\n",
    "\n",
    "            Just return only the pandas query and nothing else.\n",
    "            Do not return the results as markdown, just return the query\n",
    "\n",
    "            User Query: {user_query}\n",
    "            Pandas Query:\n",
    "        \"\"\"\n",
    "\n",
    "filter_prompt_template = ChatPromptTemplate.from_template(FILTER_PROMPT)\n",
    "\n",
    "data_filter_chain = (\n",
    "         filter_prompt_template\n",
    "           |\n",
    "         chatgpt\n",
    "           |\n",
    "         StrOutputParser()\n",
    "           |\n",
    "         pandas_code_tool_executor\n",
    ")\n",
    "\n",
    "product_table = data_filter_chain.invoke({\"user_query\": \"\"\"looking for a tablet with > 10 inch display\n",
    "                                                           and at least 64GB storage\"\"\"})\n",
    "print(product_table)"
   ]
  },
  {
   "cell_type": "code",
   "execution_count": 17,
   "id": "00e22e44",
   "metadata": {},
   "outputs": [
    {
     "data": {
      "text/plain": [
       "str"
      ]
     },
     "execution_count": 17,
     "metadata": {},
     "output_type": "execute_result"
    }
   ],
   "source": [
    "type(product_table)"
   ]
  },
  {
   "cell_type": "markdown",
   "id": "6a4846b6",
   "metadata": {},
   "source": [
    "## Product Description LLM Recommender Chain"
   ]
  },
  {
   "cell_type": "code",
   "execution_count": 16,
   "id": "31bec8c9",
   "metadata": {},
   "outputs": [
    {
     "name": "stdout",
     "output_type": "stream",
     "text": [
      "| Product_Name       | Price_USD | Rating | Description                                                                                                                              |\n",
      "|--------------------|-----------|--------|------------------------------------------------------------------------------------------------------------------------------------------|\n",
      "| BetaTab S          | 500       | 4.2    | BetaTab S is a lightweight tablet with a 15-inch display, 4GB RAM, and 64GB storage. Perfect for entertainment and light work on the go. |\n",
      "| SpectraTab Max     | 600       | 4.3    | SpectraTab Max features a 12-inch Retina display, 6GB RAM, and 128GB storage, designed for entertainment and professional use.           |\n",
      "\n",
      "I recommend the **BetaTab S** and **SpectraTab Max** because they both meet your requirements for a tablet with a display greater than 10 inches and at least 64GB of storage. The BetaTab S offers a larger 15-inch display, making it ideal for entertainment, while the SpectraTab Max provides a high-quality Retina display and more storage, suitable for both entertainment and professional use.\n"
     ]
    }
   ],
   "source": [
    "RECOMMEND_PROMPT = \"\"\"Act as an expert retail product advisor\n",
    "                      Given the following table of products,\n",
    "                      focus on the product attributes and description in the table\n",
    "                      and based on the user query below do the following\n",
    "\n",
    "                      - Recommend the most appropriate products based on the query\n",
    "                      - Recommedation should have product name, price,  rating, description\n",
    "                      - Also add a brief on why you recommend the product\n",
    "                      - Do not make up products or recommend products not in the table\n",
    "                      - If some specifications do not match focus on the ones which match and recommend\n",
    "                      - If nothing matches recommend 5 random products from the table\n",
    "                      - Do not generate anything else except the fields mentioned above\n",
    "\n",
    "                    In case the user query is just a generic query or greeting\n",
    "                    respond to them appropriately without recommending any products\n",
    "\n",
    "                    Product Table:\n",
    "                    {product_table}\n",
    "\n",
    "                    User Query:\n",
    "                    {user_query}\n",
    "\n",
    "                    Recommendation:\n",
    "                    \"\"\"\n",
    "\n",
    "recommend_prompt_template = ChatPromptTemplate.from_template(RECOMMEND_PROMPT)\n",
    "\n",
    "recommend_chain = (\n",
    "         recommend_prompt_template\n",
    "           |\n",
    "         chatgpt\n",
    "           |\n",
    "         StrOutputParser()\n",
    ")\n",
    "\n",
    "response = recommend_chain.invoke({\"user_query\": \"\"\"looking for a tablet with greater than 10 inch display\n",
    "                                                           and at least 64GB storage\"\"\",\n",
    "                                   \"product_table\": product_table})\n",
    "print(response)"
   ]
  },
  {
   "cell_type": "code",
   "execution_count": 18,
   "id": "e54b504f",
   "metadata": {},
   "outputs": [],
   "source": [
    "combined_chain = (\n",
    "         {\n",
    "             'user_query' : itemgetter('user_query'),\n",
    "             'product_table' : data_filter_chain\n",
    "         }\n",
    "           |\n",
    "         recommend_chain\n",
    ")"
   ]
  },
  {
   "cell_type": "code",
   "execution_count": 19,
   "id": "2569606b",
   "metadata": {},
   "outputs": [
    {
     "name": "stdout",
     "output_type": "stream",
     "text": [
      "| Product_Name      | Price_USD | Rating | Description                                                                                                                          |\n",
      "|-------------------|-----------|--------|-------------------------------------------------------------------------------------------------------------------------------------|\n",
      "| AlphaBook Air     | 1000      | 4.6    | AlphaBook Air offers a sleek 13-inch Retina display, 8GB RAM, 256GB SSD, and Intel Core i5, designed for portability and efficiency. |\n",
      "\n",
      "I recommend the AlphaBook Air because it is the only laptop in the provided table that falls within your specified price range of $500 to $1000. It offers a good balance of performance with its Intel Core i5 processor, 8GB RAM, and a 256GB SSD, making it suitable for various tasks while maintaining portability.\n"
     ]
    }
   ],
   "source": [
    "response = combined_chain.invoke({\"user_query\": \"\"\"looking for a cheap laptop\n",
    "                                                      in the range of 500 - 1000\n",
    "                                                \"\"\"})\n",
    "print(response)"
   ]
  },
  {
   "cell_type": "markdown",
   "id": "ef14e299",
   "metadata": {},
   "source": [
    "## Multi-user Window-based Conversation Chains with persistence\n",
    "\n",
    "The beauty of `SQLChatMessageHistory` is that we can store separate conversation histories per user or session which is often the need for real-world chatbots which will be accessed by many users at the same time. Instead of in-memory we can store it in a SQL database which can be used to store a lot of conversations.\n",
    "\n",
    "We use a `get_session_history` function which is expected to take in a `session_id` and return a Message History object. Everything is stored in a SQL database. This `session_id` is used to distinguish between separate conversations, and should be passed in as part of the config when calling the new chain\n",
    "\n",
    "We also use a `memory_buffer_window` function to only use the top-K last historical conversations before sending it to the LLM, basically our own implementation of `ConversationBufferWindowMemory`"
   ]
  },
  {
   "cell_type": "markdown",
   "id": "d87082e4",
   "metadata": {},
   "source": [
    "## Historical Conversation Query Rephraser Chain"
   ]
  },
  {
   "cell_type": "code",
   "execution_count": 20,
   "id": "c60364ef",
   "metadata": {},
   "outputs": [],
   "source": [
    "from langchain_community.chat_message_histories import SQLChatMessageHistory\n",
    "from langchain_core.chat_history import BaseChatMessageHistory\n",
    "from langchain_core.runnables.history import RunnableWithMessageHistory\n",
    "from langchain_core.prompts import ChatPromptTemplate, MessagesPlaceholder\n",
    "from langchain_core.runnables import RunnablePassthrough\n",
    "from langchain_core.output_parsers import StrOutputParser\n",
    "\n",
    "# used to retrieve conversation history from database\n",
    "# based on a specific user or session ID\n",
    "def get_session_history_db(session_id):\n",
    "    return SQLChatMessageHistory(session_id, \"sqlite:///memory.db\")\n",
    "\n",
    "\n",
    "SYS_PROMPT = \"\"\"You are a retail product expert.\n",
    "                Carefully analyze the following conversation history\n",
    "                and the current user query.\n",
    "                Refer to the history and rephrase the current user query\n",
    "                into a standalone query which can be used without the history\n",
    "                for making search queries.\n",
    "                Rephrase only if needed.\n",
    "                Just return the query and do not answer it.\n",
    "            \"\"\"\n",
    "\n",
    "# prompt to load in history and current input from the user\n",
    "prompt_template = ChatPromptTemplate.from_messages(\n",
    "    [\n",
    "        (\"system\", SYS_PROMPT),\n",
    "        MessagesPlaceholder(variable_name=\"history\"),\n",
    "        (\"human\", \"\"\"Current User Query:\n",
    "                     {human_input}\n",
    "                  \"\"\"),\n",
    "    ]\n",
    ")\n",
    "\n",
    "# create a memory buffer window function to return the last K conversations\n",
    "def memory_buffer_window(messages, k=10): # 10 here means retrieve only last 2*10 user-AI conversations\n",
    "    return messages[-(2*k):]\n",
    "\n",
    "# create a basic LLM Chain which only sends the last K conversations per user\n",
    "rephrase_query_chain = (\n",
    "    RunnablePassthrough.assign(history=lambda x: memory_buffer_window(x[\"history\"]))\n",
    "      |\n",
    "    prompt_template\n",
    "      |\n",
    "    chatgpt\n",
    "      |\n",
    "    StrOutputParser()\n",
    ")"
   ]
  },
  {
   "cell_type": "markdown",
   "id": "e5703c8c",
   "metadata": {},
   "source": [
    "## Combining All Chains Together"
   ]
  },
  {
   "cell_type": "code",
   "execution_count": 21,
   "id": "afb33789",
   "metadata": {},
   "outputs": [],
   "source": [
    "combined_chain = (\n",
    "         {\n",
    "             'human_input' : itemgetter('human_input'),\n",
    "             'history' : itemgetter('history')\n",
    "         }\n",
    "           |\n",
    "        {\n",
    "            'user_query': rephrase_query_chain\n",
    "        }\n",
    "           |\n",
    "        RunnablePassthrough.assign(product_table=data_filter_chain)\n",
    "            |\n",
    "        recommend_chain\n",
    ")"
   ]
  },
  {
   "cell_type": "markdown",
   "id": "cdc4ff42",
   "metadata": {},
   "source": [
    "## Wrapping it into a Multi-user Conversation Chain with Memory"
   ]
  },
  {
   "cell_type": "code",
   "execution_count": 22,
   "id": "4d4417b9",
   "metadata": {},
   "outputs": [],
   "source": [
    "from rich.console import Console\n",
    "from rich.markdown import Markdown\n",
    "\n",
    "# create a conversation chain which can load memory based on specific user or session id\n",
    "conv_chain = RunnableWithMessageHistory(\n",
    "    combined_chain,\n",
    "    get_session_history_db,\n",
    "    input_messages_key=\"human_input\",\n",
    "    history_messages_key=\"history\",\n",
    ")\n",
    "\n",
    "# create a utility function to take in current user input prompt and their session ID\n",
    "# streams result live back to the user from the LLM\n",
    "def chat_with_llm(prompt: str, session_id: str):\n",
    "    response = conv_chain.invoke({\"human_input\": prompt},\n",
    "                                 {'configurable': { 'session_id': session_id}})\n",
    "    console = Console()\n",
    "    console.print(Markdown(response))\n"
   ]
  },
  {
   "cell_type": "markdown",
   "id": "40cd6f04",
   "metadata": {},
   "source": [
    "## Test Product Recommender Agent"
   ]
  },
  {
   "cell_type": "markdown",
   "id": "595b9f2b",
   "metadata": {},
   "source": [
    "Test conversation chain for user 1"
   ]
  },
  {
   "cell_type": "code",
   "execution_count": 23,
   "id": "4cc414db",
   "metadata": {},
   "outputs": [
    {
     "name": "stderr",
     "output_type": "stream",
     "text": [
      "/Users/sourav.banerjee/Documents/My Codebases/GenerativAI_Demystified/.venv/lib/python3.11/site-packages/langchain_core/runnables/history.py:596: LangChainDeprecationWarning: `connection_string` was deprecated in LangChain 0.2.2 and will be removed in 1.0. Use connection instead.\n",
      "  message_history = self.get_session_history(\n"
     ]
    },
    {
     "data": {
      "text/html": [
       "<pre style=\"white-space:pre;overflow-x:auto;line-height:normal;font-family:Menlo,'DejaVu Sans Mono',consolas,'Courier New',monospace\">\n",
       "                                                                                                                   \n",
       " <span style=\"font-weight: bold\"> Product_Name   </span> <span style=\"font-weight: bold\"> Price_USD </span> <span style=\"font-weight: bold\"> Rating </span> <span style=\"font-weight: bold\"> Description                                                               </span> \n",
       " ━━━━━━━━━━━━━━━━━━━━━━━━━━━━━━━━━━━━━━━━━━━━━━━━━━━━━━━━━━━━━━━━━━━━━━━━━━━━━━━━━━━━━━━━━━━━━━━━━━━━━━━━━━━━━━━━━ \n",
       "  BetaTab S        500         4.2      BetaTab S is a lightweight tablet with a 15-inch display, 4GB RAM, and     \n",
       "                                        64GB storage. Perfect for entertainment and light work on the go.          \n",
       "  BetaTab Lite     400         4.1      BetaTab Lite is a budget-friendly 10-inch tablet with 2GB RAM and 32GB     \n",
       "                                        storage, perfect for casual browsing and entertainment.                    \n",
       "  SpectraTab Max   600         4.3      SpectraTab Max features a 12-inch Retina display, 6GB RAM, and 128GB       \n",
       "                                        storage, designed for entertainment and professional use.                  \n",
       "                                                                                                                   \n",
       "\n",
       "I recommend these products because they all fall under the tablet category and offer a range of features to suit   \n",
       "different needs. The BetaTab S is great for those who want a larger display and more RAM for multitasking. The     \n",
       "BetaTab Lite is ideal for budget-conscious users looking for a simple device for casual use. The SpectraTab Max is \n",
       "perfect for users who need a high-performance tablet for both entertainment and professional tasks.                \n",
       "</pre>\n"
      ],
      "text/plain": [
       "\n",
       "                                                                                                                   \n",
       " \u001b[1m \u001b[0m\u001b[1mProduct_Name\u001b[0m\u001b[1m  \u001b[0m\u001b[1m \u001b[0m \u001b[1m \u001b[0m\u001b[1mPrice_USD\u001b[0m\u001b[1m \u001b[0m \u001b[1m \u001b[0m\u001b[1mRating\u001b[0m\u001b[1m \u001b[0m \u001b[1m \u001b[0m\u001b[1mDescription\u001b[0m\u001b[1m                                                              \u001b[0m\u001b[1m \u001b[0m \n",
       " ━━━━━━━━━━━━━━━━━━━━━━━━━━━━━━━━━━━━━━━━━━━━━━━━━━━━━━━━━━━━━━━━━━━━━━━━━━━━━━━━━━━━━━━━━━━━━━━━━━━━━━━━━━━━━━━━━ \n",
       "  BetaTab S        500         4.2      BetaTab S is a lightweight tablet with a 15-inch display, 4GB RAM, and     \n",
       "                                        64GB storage. Perfect for entertainment and light work on the go.          \n",
       "  BetaTab Lite     400         4.1      BetaTab Lite is a budget-friendly 10-inch tablet with 2GB RAM and 32GB     \n",
       "                                        storage, perfect for casual browsing and entertainment.                    \n",
       "  SpectraTab Max   600         4.3      SpectraTab Max features a 12-inch Retina display, 6GB RAM, and 128GB       \n",
       "                                        storage, designed for entertainment and professional use.                  \n",
       "                                                                                                                   \n",
       "\n",
       "I recommend these products because they all fall under the tablet category and offer a range of features to suit   \n",
       "different needs. The BetaTab S is great for those who want a larger display and more RAM for multitasking. The     \n",
       "BetaTab Lite is ideal for budget-conscious users looking for a simple device for casual use. The SpectraTab Max is \n",
       "perfect for users who need a high-performance tablet for both entertainment and professional tasks.                \n"
      ]
     },
     "metadata": {},
     "output_type": "display_data"
    }
   ],
   "source": [
    "user_id = 'jim001'\n",
    "prompt = \"looking for a tablet\"\n",
    "chat_with_llm(prompt, user_id)"
   ]
  },
  {
   "cell_type": "code",
   "execution_count": 24,
   "id": "96884e49",
   "metadata": {},
   "outputs": [
    {
     "data": {
      "text/html": [
       "<pre style=\"white-space:pre;overflow-x:auto;line-height:normal;font-family:Menlo,'DejaVu Sans Mono',consolas,'Courier New',monospace\">\n",
       "                                                                                                                   \n",
       " <span style=\"font-weight: bold\"> Product_Name   </span> <span style=\"font-weight: bold\"> Price_USD </span> <span style=\"font-weight: bold\"> Rating </span> <span style=\"font-weight: bold\"> Description                                                               </span> \n",
       " ━━━━━━━━━━━━━━━━━━━━━━━━━━━━━━━━━━━━━━━━━━━━━━━━━━━━━━━━━━━━━━━━━━━━━━━━━━━━━━━━━━━━━━━━━━━━━━━━━━━━━━━━━━━━━━━━━ \n",
       "  BetaTab S        500         4.2      BetaTab S is a lightweight tablet with a 15-inch display, 4GB RAM, and     \n",
       "                                        64GB storage. Perfect for entertainment and light work on the go.          \n",
       "  SpectraTab Max   600         4.3      SpectraTab Max features a 12-inch Retina display, 6GB RAM, and 128GB       \n",
       "                                        storage, designed for entertainment and professional use.                  \n",
       "                                                                                                                   \n",
       "\n",
       "I recommend the <span style=\"font-weight: bold\">BetaTab S</span> and <span style=\"font-weight: bold\">SpectraTab Max</span> because they both have displays larger than 10 inches, meeting your   \n",
       "requirement. The BetaTab S offers a larger 15-inch display, making it ideal for entertainment and light work, while\n",
       "the SpectraTab Max provides a high-quality 12-inch Retina display, suitable for both entertainment and professional\n",
       "tasks. Both options also have good ratings, ensuring a satisfactory user experience.                               \n",
       "</pre>\n"
      ],
      "text/plain": [
       "\n",
       "                                                                                                                   \n",
       " \u001b[1m \u001b[0m\u001b[1mProduct_Name\u001b[0m\u001b[1m  \u001b[0m\u001b[1m \u001b[0m \u001b[1m \u001b[0m\u001b[1mPrice_USD\u001b[0m\u001b[1m \u001b[0m \u001b[1m \u001b[0m\u001b[1mRating\u001b[0m\u001b[1m \u001b[0m \u001b[1m \u001b[0m\u001b[1mDescription\u001b[0m\u001b[1m                                                              \u001b[0m\u001b[1m \u001b[0m \n",
       " ━━━━━━━━━━━━━━━━━━━━━━━━━━━━━━━━━━━━━━━━━━━━━━━━━━━━━━━━━━━━━━━━━━━━━━━━━━━━━━━━━━━━━━━━━━━━━━━━━━━━━━━━━━━━━━━━━ \n",
       "  BetaTab S        500         4.2      BetaTab S is a lightweight tablet with a 15-inch display, 4GB RAM, and     \n",
       "                                        64GB storage. Perfect for entertainment and light work on the go.          \n",
       "  SpectraTab Max   600         4.3      SpectraTab Max features a 12-inch Retina display, 6GB RAM, and 128GB       \n",
       "                                        storage, designed for entertainment and professional use.                  \n",
       "                                                                                                                   \n",
       "\n",
       "I recommend the \u001b[1mBetaTab S\u001b[0m and \u001b[1mSpectraTab Max\u001b[0m because they both have displays larger than 10 inches, meeting your   \n",
       "requirement. The BetaTab S offers a larger 15-inch display, making it ideal for entertainment and light work, while\n",
       "the SpectraTab Max provides a high-quality 12-inch Retina display, suitable for both entertainment and professional\n",
       "tasks. Both options also have good ratings, ensuring a satisfactory user experience.                               \n"
      ]
     },
     "metadata": {},
     "output_type": "display_data"
    }
   ],
   "source": [
    "prompt = \"want one which has display larger than 10 inches\"\n",
    "chat_with_llm(prompt, user_id)"
   ]
  },
  {
   "cell_type": "code",
   "execution_count": 25,
   "id": "19c53ab4",
   "metadata": {},
   "outputs": [
    {
     "data": {
      "text/html": [
       "<pre style=\"white-space:pre;overflow-x:auto;line-height:normal;font-family:Menlo,'DejaVu Sans Mono',consolas,'Courier New',monospace\">\n",
       "                                                                                                                   \n",
       " <span style=\"font-weight: bold\"> Product_Name   </span> <span style=\"font-weight: bold\"> Price_USD </span> <span style=\"font-weight: bold\"> Rating </span> <span style=\"font-weight: bold\"> Description                                                               </span> \n",
       " ━━━━━━━━━━━━━━━━━━━━━━━━━━━━━━━━━━━━━━━━━━━━━━━━━━━━━━━━━━━━━━━━━━━━━━━━━━━━━━━━━━━━━━━━━━━━━━━━━━━━━━━━━━━━━━━━━ \n",
       "  SpectraTab Max   600         4.3      SpectraTab Max features a 12-inch Retina display, 6GB RAM, and 128GB       \n",
       "                                        storage, designed for entertainment and professional use.                  \n",
       "                                                                                                                   \n",
       "\n",
       "I recommend the SpectraTab Max because it meets your requirement for at least 128GB of storage. With its           \n",
       "high-resolution Retina display and ample RAM, it is well-suited for both entertainment and professional tasks,     \n",
       "making it a versatile choice for your needs.                                                                       \n",
       "</pre>\n"
      ],
      "text/plain": [
       "\n",
       "                                                                                                                   \n",
       " \u001b[1m \u001b[0m\u001b[1mProduct_Name\u001b[0m\u001b[1m  \u001b[0m\u001b[1m \u001b[0m \u001b[1m \u001b[0m\u001b[1mPrice_USD\u001b[0m\u001b[1m \u001b[0m \u001b[1m \u001b[0m\u001b[1mRating\u001b[0m\u001b[1m \u001b[0m \u001b[1m \u001b[0m\u001b[1mDescription\u001b[0m\u001b[1m                                                              \u001b[0m\u001b[1m \u001b[0m \n",
       " ━━━━━━━━━━━━━━━━━━━━━━━━━━━━━━━━━━━━━━━━━━━━━━━━━━━━━━━━━━━━━━━━━━━━━━━━━━━━━━━━━━━━━━━━━━━━━━━━━━━━━━━━━━━━━━━━━ \n",
       "  SpectraTab Max   600         4.3      SpectraTab Max features a 12-inch Retina display, 6GB RAM, and 128GB       \n",
       "                                        storage, designed for entertainment and professional use.                  \n",
       "                                                                                                                   \n",
       "\n",
       "I recommend the SpectraTab Max because it meets your requirement for at least 128GB of storage. With its           \n",
       "high-resolution Retina display and ample RAM, it is well-suited for both entertainment and professional tasks,     \n",
       "making it a versatile choice for your needs.                                                                       \n"
      ]
     },
     "metadata": {},
     "output_type": "display_data"
    }
   ],
   "source": [
    "prompt = \"need at least 128GB disk space\"\n",
    "chat_with_llm(prompt, user_id)"
   ]
  },
  {
   "cell_type": "markdown",
   "id": "5f4da4e0",
   "metadata": {},
   "source": [
    "Now test conversation chain for user 2"
   ]
  },
  {
   "cell_type": "code",
   "execution_count": 26,
   "id": "5bccd799",
   "metadata": {},
   "outputs": [
    {
     "data": {
      "text/html": [
       "<pre style=\"white-space:pre;overflow-x:auto;line-height:normal;font-family:Menlo,'DejaVu Sans Mono',consolas,'Courier New',monospace\">\n",
       "                                                                                                                   \n",
       " <span style=\"font-weight: bold\"> Product_Name   </span> <span style=\"font-weight: bold\"> Price_USD </span> <span style=\"font-weight: bold\"> Rating </span> <span style=\"font-weight: bold\"> Description                                                               </span> \n",
       " ━━━━━━━━━━━━━━━━━━━━━━━━━━━━━━━━━━━━━━━━━━━━━━━━━━━━━━━━━━━━━━━━━━━━━━━━━━━━━━━━━━━━━━━━━━━━━━━━━━━━━━━━━━━━━━━━━ \n",
       "  OmniBook Elite   1300        4.7      OmniBook Elite is a powerful 14-inch laptop with 16GB RAM, 512GB SSD, and  \n",
       "                                        Intel Core i7, perfect for productivity and multitasking.                  \n",
       "  AlphaBook Air    1000        4.6      AlphaBook Air offers a sleek 13-inch Retina display, 8GB RAM, 256GB SSD,   \n",
       "                                        and Intel Core i5, designed for portability and efficiency.                \n",
       "  AlphaBook Pro    1200        4.5      The AlphaBook Pro features a 15-inch Retina display, 16GB RAM, 512GB SSD,  \n",
       "                                        and an Intel Core i7 processor. Ideal for professionals who need           \n",
       "                                        performance and portability.                                               \n",
       "                                                                                                                   \n",
       "\n",
       "I recommend these products because they all have high ratings, indicating strong customer satisfaction. The        \n",
       "OmniBook Elite has the highest rating at 4.7 and is designed for productivity, making it an excellent choice for   \n",
       "users who need a powerful laptop. The AlphaBook Air and AlphaBook Pro also offer great performance and features,   \n",
       "catering to different needs in terms of portability and display size.                                              \n",
       "</pre>\n"
      ],
      "text/plain": [
       "\n",
       "                                                                                                                   \n",
       " \u001b[1m \u001b[0m\u001b[1mProduct_Name\u001b[0m\u001b[1m  \u001b[0m\u001b[1m \u001b[0m \u001b[1m \u001b[0m\u001b[1mPrice_USD\u001b[0m\u001b[1m \u001b[0m \u001b[1m \u001b[0m\u001b[1mRating\u001b[0m\u001b[1m \u001b[0m \u001b[1m \u001b[0m\u001b[1mDescription\u001b[0m\u001b[1m                                                              \u001b[0m\u001b[1m \u001b[0m \n",
       " ━━━━━━━━━━━━━━━━━━━━━━━━━━━━━━━━━━━━━━━━━━━━━━━━━━━━━━━━━━━━━━━━━━━━━━━━━━━━━━━━━━━━━━━━━━━━━━━━━━━━━━━━━━━━━━━━━ \n",
       "  OmniBook Elite   1300        4.7      OmniBook Elite is a powerful 14-inch laptop with 16GB RAM, 512GB SSD, and  \n",
       "                                        Intel Core i7, perfect for productivity and multitasking.                  \n",
       "  AlphaBook Air    1000        4.6      AlphaBook Air offers a sleek 13-inch Retina display, 8GB RAM, 256GB SSD,   \n",
       "                                        and Intel Core i5, designed for portability and efficiency.                \n",
       "  AlphaBook Pro    1200        4.5      The AlphaBook Pro features a 15-inch Retina display, 16GB RAM, 512GB SSD,  \n",
       "                                        and an Intel Core i7 processor. Ideal for professionals who need           \n",
       "                                        performance and portability.                                               \n",
       "                                                                                                                   \n",
       "\n",
       "I recommend these products because they all have high ratings, indicating strong customer satisfaction. The        \n",
       "OmniBook Elite has the highest rating at 4.7 and is designed for productivity, making it an excellent choice for   \n",
       "users who need a powerful laptop. The AlphaBook Air and AlphaBook Pro also offer great performance and features,   \n",
       "catering to different needs in terms of portability and display size.                                              \n"
      ]
     },
     "metadata": {},
     "output_type": "display_data"
    }
   ],
   "source": [
    "user_id = 'bond007'\n",
    "prompt = \"I want a laptop with a high rating\"\n",
    "chat_with_llm(prompt, user_id)"
   ]
  },
  {
   "cell_type": "code",
   "execution_count": 27,
   "id": "dd8d8ab2",
   "metadata": {},
   "outputs": [
    {
     "data": {
      "text/html": [
       "<pre style=\"white-space:pre;overflow-x:auto;line-height:normal;font-family:Menlo,'DejaVu Sans Mono',consolas,'Courier New',monospace\">\n",
       "                                                                                                                   \n",
       " <span style=\"font-weight: bold\"> Product_Name   </span> <span style=\"font-weight: bold\"> Price_USD </span> <span style=\"font-weight: bold\"> Rating </span> <span style=\"font-weight: bold\"> Description                                                               </span> \n",
       " ━━━━━━━━━━━━━━━━━━━━━━━━━━━━━━━━━━━━━━━━━━━━━━━━━━━━━━━━━━━━━━━━━━━━━━━━━━━━━━━━━━━━━━━━━━━━━━━━━━━━━━━━━━━━━━━━━ \n",
       "  AlphaBook Pro    1200        4.5      The AlphaBook Pro features a 15-inch Retina display, 16GB RAM, 512GB SSD,  \n",
       "                                        and an Intel Core i7 processor. Ideal for professionals who need           \n",
       "                                        performance and portability.                                               \n",
       "  OmniBook Elite   1300        4.7      OmniBook Elite is a powerful 14-inch laptop with 16GB RAM, 512GB SSD, and  \n",
       "                                        Intel Core i7, perfect for productivity and multitasking.                  \n",
       "                                                                                                                   \n",
       "\n",
       "I recommend the <span style=\"font-weight: bold\">AlphaBook Pro</span> and <span style=\"font-weight: bold\">OmniBook Elite</span> because they both meet your requirement of having at least 16GB of\n",
       "memory. The AlphaBook Pro is designed for professionals needing performance and portability, while the OmniBook    \n",
       "Elite is ideal for productivity and multitasking, making either a great choice for your needs.                     \n",
       "</pre>\n"
      ],
      "text/plain": [
       "\n",
       "                                                                                                                   \n",
       " \u001b[1m \u001b[0m\u001b[1mProduct_Name\u001b[0m\u001b[1m  \u001b[0m\u001b[1m \u001b[0m \u001b[1m \u001b[0m\u001b[1mPrice_USD\u001b[0m\u001b[1m \u001b[0m \u001b[1m \u001b[0m\u001b[1mRating\u001b[0m\u001b[1m \u001b[0m \u001b[1m \u001b[0m\u001b[1mDescription\u001b[0m\u001b[1m                                                              \u001b[0m\u001b[1m \u001b[0m \n",
       " ━━━━━━━━━━━━━━━━━━━━━━━━━━━━━━━━━━━━━━━━━━━━━━━━━━━━━━━━━━━━━━━━━━━━━━━━━━━━━━━━━━━━━━━━━━━━━━━━━━━━━━━━━━━━━━━━━ \n",
       "  AlphaBook Pro    1200        4.5      The AlphaBook Pro features a 15-inch Retina display, 16GB RAM, 512GB SSD,  \n",
       "                                        and an Intel Core i7 processor. Ideal for professionals who need           \n",
       "                                        performance and portability.                                               \n",
       "  OmniBook Elite   1300        4.7      OmniBook Elite is a powerful 14-inch laptop with 16GB RAM, 512GB SSD, and  \n",
       "                                        Intel Core i7, perfect for productivity and multitasking.                  \n",
       "                                                                                                                   \n",
       "\n",
       "I recommend the \u001b[1mAlphaBook Pro\u001b[0m and \u001b[1mOmniBook Elite\u001b[0m because they both meet your requirement of having at least 16GB of\n",
       "memory. The AlphaBook Pro is designed for professionals needing performance and portability, while the OmniBook    \n",
       "Elite is ideal for productivity and multitasking, making either a great choice for your needs.                     \n"
      ]
     },
     "metadata": {},
     "output_type": "display_data"
    }
   ],
   "source": [
    "prompt = \"want atleast 16GB memory\"\n",
    "chat_with_llm(prompt, user_id)"
   ]
  },
  {
   "cell_type": "code",
   "execution_count": null,
   "id": "7c17660a",
   "metadata": {},
   "outputs": [],
   "source": []
  }
 ],
 "metadata": {
  "kernelspec": {
   "display_name": ".venv",
   "language": "python",
   "name": "python3"
  },
  "language_info": {
   "codemirror_mode": {
    "name": "ipython",
    "version": 3
   },
   "file_extension": ".py",
   "mimetype": "text/x-python",
   "name": "python",
   "nbconvert_exporter": "python",
   "pygments_lexer": "ipython3",
   "version": "3.11.6"
  }
 },
 "nbformat": 4,
 "nbformat_minor": 5
}
