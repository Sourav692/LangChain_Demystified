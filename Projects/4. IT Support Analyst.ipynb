{
 "cells": [
  {
   "cell_type": "code",
   "execution_count": 1,
   "id": "fdeaef69",
   "metadata": {},
   "outputs": [],
   "source": [
    "%run \"Setup_Env.ipynb\""
   ]
  },
  {
   "cell_type": "markdown",
   "id": "25bc87d2",
   "metadata": {},
   "source": [
    "## Mini-Project 4 - IT Support Analyst\n",
    "\n",
    "Ask ChatGPT to act as a IT support agent, process each customer IT ticket message and output the response in JSON with the following fields\n",
    "\n",
    "```\n",
    "orig_msg: The original customer message\n",
    "orig_lang: Detected language of the customer message e.g. Spanish\n",
    "category: 1-2 word describing the category of the problem\n",
    "trans_msg: Translated customer message in English\n",
    "response: Response to the customer in orig_lang\n",
    "trans_response: Response to the customer in English\n",
    "```\n",
    "\n",
    "Try to use a JSON parser to get the responses in JSON for each ticket"
   ]
  },
  {
   "cell_type": "code",
   "execution_count": 2,
   "id": "bbf88d07",
   "metadata": {},
   "outputs": [
    {
     "name": "stderr",
     "output_type": "stream",
     "text": [
      "/Users/sourav.banerjee/Documents/My Codebases/GenerativAI_Demystified/.venv/lib/python3.11/site-packages/IPython/core/interactiveshell.py:3699: LangChainDeprecationWarning: As of langchain-core 0.3.0, LangChain uses pydantic v2 internally. The langchain_core.pydantic_v1 module was a compatibility shim for pydantic v1, and should no longer be used. Please update the code to import from Pydantic directly.\n",
      "\n",
      "For example, replace imports like: `from langchain_core.pydantic_v1 import BaseModel`\n",
      "with: `from pydantic import BaseModel`\n",
      "or the v1 compatibility namespace if you are working in a code base that has not been fully upgraded to pydantic 2 yet. \tfrom pydantic.v1 import BaseModel\n",
      "\n",
      "  exec(code_obj, self.user_global_ns, self.user_ns)\n"
     ]
    }
   ],
   "source": [
    "from langchain_core.prompts import PromptTemplate\n",
    "from langchain_core.output_parsers import JsonOutputParser\n",
    "from langchain_core.pydantic_v1 import BaseModel, Field\n",
    "\n",
    "\n",
    "# Define your desired data structure - like a python data class.\n",
    "class ITSupportResponse(BaseModel):\n",
    "    orig_msg: str = Field(description=\"The original customer IT support query message\")\n",
    "    orig_lang: str = Field(description=\"Detected language of the customer message e.g. Spanish\")\n",
    "    category: str = Field(description=\"1-2 word describing the category of the problem\")\n",
    "    trans_msg: str = Field(description=\"Translated customer IT support query message in English\")\n",
    "    response: str = Field(description=\"Response to the customer in their original language - orig_lang\")\n",
    "    trans_response: str = Field(description=\"Response to the customer in English\")\n",
    "\n",
    "\n",
    "parser = JsonOutputParser(pydantic_object=ITSupportResponse)"
   ]
  },
  {
   "cell_type": "code",
   "execution_count": 3,
   "id": "72797875",
   "metadata": {},
   "outputs": [],
   "source": [
    "# create the final prompt with formatting instructions from the parser\n",
    "prompt_txt = \"\"\"\n",
    "             Act as an Information Technology (IT) customer support agent.\n",
    "             For the IT support message mentioned below\n",
    "             use the following output format when generating the output response\n",
    "\n",
    "             Output format instructions:\n",
    "             {format_instructions}\n",
    "\n",
    "             Customer IT support message:\n",
    "             {it_support_msg}\n",
    "             \"\"\"\n",
    "prompt = PromptTemplate(\n",
    "    template=prompt_txt,\n",
    "    input_variables=[\"it_support_msg\"],\n",
    "    partial_variables={\"format_instructions\": parser.get_format_instructions()},\n",
    ")"
   ]
  },
  {
   "cell_type": "code",
   "execution_count": 4,
   "id": "5242adff",
   "metadata": {},
   "outputs": [],
   "source": [
    "# create a simple LCEL chain to take the prompt, pass it to the LLM, enforce response format using the parser\n",
    "llm_chain = (prompt\n",
    "              |\n",
    "            chatgpt\n",
    "              |\n",
    "            parser)"
   ]
  },
  {
   "cell_type": "code",
   "execution_count": 5,
   "id": "f14dff02",
   "metadata": {},
   "outputs": [
    {
     "data": {
      "text/plain": [
       "{'it_support_msg': 'Não consigo sincronizar meus contatos com o telefone. Sempre recebo uma mensagem de falha.'}"
      ]
     },
     "execution_count": 5,
     "metadata": {},
     "output_type": "execute_result"
    }
   ],
   "source": [
    "it_support_queue = [\n",
    "    \"Não consigo sincronizar meus contatos com o telefone. Sempre recebo uma mensagem de falha.\",\n",
    "    \"Ho problemi a stampare i documenti da remoto. Il lavoro non viene inviato alla stampante di rete.\",\n",
    "    \"プリンターのトナーを交換しましたが、印刷品質が低下しています。サポートが必要です。\",\n",
    "    \"Я не могу войти в систему учета времени, появляется сообщение об ошибке. Мне нужна помощь.\",\n",
    "    \"Internet bağlantım çok yavaş ve bazen tamamen kesiliyor. Yardım eder misiniz?\",\n",
    "    \"Не могу установить обновление безопасности. Появляется код ошибки. Помогите, пожалуйста.\"\n",
    "]\n",
    "\n",
    "formatted_msgs = [{\"it_support_msg\": msg}\n",
    "                    for msg in it_support_queue]\n",
    "formatted_msgs[0]"
   ]
  },
  {
   "cell_type": "code",
   "execution_count": 6,
   "id": "5dd3e6a2",
   "metadata": {},
   "outputs": [],
   "source": [
    "responses = llm_chain.map().invoke(formatted_msgs)"
   ]
  },
  {
   "cell_type": "code",
   "execution_count": 7,
   "id": "575ed5ce",
   "metadata": {},
   "outputs": [
    {
     "data": {
      "text/plain": [
       "{'orig_msg': 'Não consigo sincronizar meus contatos com o telefone. Sempre recebo uma mensagem de falha.',\n",
       " 'orig_lang': 'Portuguese',\n",
       " 'category': 'Sync Issue',\n",
       " 'trans_msg': \"I can't sync my contacts with the phone. I always receive a failure message.\",\n",
       " 'response': 'Por favor, verifique se você está conectado à internet e tente reiniciar o telefone. Se o problema persistir, considere desinstalar e reinstalar o aplicativo de contatos.',\n",
       " 'trans_response': 'Please check if you are connected to the internet and try restarting the phone. If the problem persists, consider uninstalling and reinstalling the contacts app.'}"
      ]
     },
     "execution_count": 7,
     "metadata": {},
     "output_type": "execute_result"
    }
   ],
   "source": [
    "responses[0]"
   ]
  },
  {
   "cell_type": "code",
   "execution_count": 11,
   "id": "1edd2907",
   "metadata": {},
   "outputs": [
    {
     "name": "stdout",
     "output_type": "stream",
     "text": [
      "Não consigo sincronizar meus contatos com o telefone. Sempre recebo uma mensagem de falha.\n",
      "Portuguese\n",
      "Sync Issue\n",
      "I can't sync my contacts with the phone. I always receive a failure message.\n",
      "Por favor, verifique se você está conectado à internet e tente reiniciar o telefone. Se o problema persistir, considere desinstalar e reinstalar o aplicativo de contatos.\n",
      "Please check if you are connected to the internet and try restarting the phone. If the problem persists, consider uninstalling and reinstalling the contacts app.\n"
     ]
    }
   ],
   "source": [
    "print(responses[0][\"orig_msg\"])\n",
    "print(responses[0][\"orig_lang\"])\n",
    "print(responses[0][\"category\"])\n",
    "print(responses[0][\"trans_msg\"])\n",
    "print(responses[0][\"response\"])\n",
    "print(responses[0][\"trans_response\"])"
   ]
  },
  {
   "cell_type": "code",
   "execution_count": 8,
   "id": "36415d22",
   "metadata": {},
   "outputs": [
    {
     "data": {
      "text/html": [
       "<div>\n",
       "<style scoped>\n",
       "    .dataframe tbody tr th:only-of-type {\n",
       "        vertical-align: middle;\n",
       "    }\n",
       "\n",
       "    .dataframe tbody tr th {\n",
       "        vertical-align: top;\n",
       "    }\n",
       "\n",
       "    .dataframe thead th {\n",
       "        text-align: right;\n",
       "    }\n",
       "</style>\n",
       "<table border=\"1\" class=\"dataframe\">\n",
       "  <thead>\n",
       "    <tr style=\"text-align: right;\">\n",
       "      <th></th>\n",
       "      <th>orig_msg</th>\n",
       "      <th>orig_lang</th>\n",
       "      <th>category</th>\n",
       "      <th>trans_msg</th>\n",
       "      <th>response</th>\n",
       "      <th>trans_response</th>\n",
       "    </tr>\n",
       "  </thead>\n",
       "  <tbody>\n",
       "    <tr>\n",
       "      <th>0</th>\n",
       "      <td>Não consigo sincronizar meus contatos com o te...</td>\n",
       "      <td>Portuguese</td>\n",
       "      <td>Sync Issue</td>\n",
       "      <td>I can't sync my contacts with the phone. I alw...</td>\n",
       "      <td>Por favor, verifique se você está conectado à ...</td>\n",
       "      <td>Please check if you are connected to the inter...</td>\n",
       "    </tr>\n",
       "    <tr>\n",
       "      <th>1</th>\n",
       "      <td>Ho problemi a stampare i documenti da remoto. ...</td>\n",
       "      <td>Italian</td>\n",
       "      <td>Printing Issue</td>\n",
       "      <td>I have problems printing documents remotely. T...</td>\n",
       "      <td>Mi dispiace sapere che hai problemi a stampare...</td>\n",
       "      <td>I'm sorry to hear that you're having trouble p...</td>\n",
       "    </tr>\n",
       "    <tr>\n",
       "      <th>2</th>\n",
       "      <td>プリンターのトナーを交換しましたが、印刷品質が低下しています。サポートが必要です。</td>\n",
       "      <td>Japanese</td>\n",
       "      <td>Printer Issue</td>\n",
       "      <td>I replaced the printer toner, but the print qu...</td>\n",
       "      <td>トナーを交換した後に印刷品質が低下することがあります。まず、トナーが正しく取り付けられている...</td>\n",
       "      <td>It is possible for print quality to decrease a...</td>\n",
       "    </tr>\n",
       "    <tr>\n",
       "      <th>3</th>\n",
       "      <td>Я не могу войти в систему учета времени, появл...</td>\n",
       "      <td>Russian</td>\n",
       "      <td>Login Issue</td>\n",
       "      <td>I cannot log into the time tracking system, an...</td>\n",
       "      <td>Пожалуйста, проверьте свои учетные данные и уб...</td>\n",
       "      <td>Please check your credentials and ensure you a...</td>\n",
       "    </tr>\n",
       "    <tr>\n",
       "      <th>4</th>\n",
       "      <td>Internet bağlantım çok yavaş ve bazen tamamen ...</td>\n",
       "      <td>Turkish</td>\n",
       "      <td>Internet Issue</td>\n",
       "      <td>My internet connection is very slow and someti...</td>\n",
       "      <td>Bağlantı sorunlarınızı çözmek için birkaç adım...</td>\n",
       "      <td>We can take a few steps to resolve your connec...</td>\n",
       "    </tr>\n",
       "    <tr>\n",
       "      <th>5</th>\n",
       "      <td>Не могу установить обновление безопасности. По...</td>\n",
       "      <td>Russian</td>\n",
       "      <td>Update Issue</td>\n",
       "      <td>I cannot install the security update. An error...</td>\n",
       "      <td>Пожалуйста, уточните, какой код ошибки появляе...</td>\n",
       "      <td>Please specify what error code appears when in...</td>\n",
       "    </tr>\n",
       "  </tbody>\n",
       "</table>\n",
       "</div>"
      ],
      "text/plain": [
       "                                            orig_msg   orig_lang  \\\n",
       "0  Não consigo sincronizar meus contatos com o te...  Portuguese   \n",
       "1  Ho problemi a stampare i documenti da remoto. ...     Italian   \n",
       "2          プリンターのトナーを交換しましたが、印刷品質が低下しています。サポートが必要です。    Japanese   \n",
       "3  Я не могу войти в систему учета времени, появл...     Russian   \n",
       "4  Internet bağlantım çok yavaş ve bazen tamamen ...     Turkish   \n",
       "5  Не могу установить обновление безопасности. По...     Russian   \n",
       "\n",
       "         category                                          trans_msg  \\\n",
       "0      Sync Issue  I can't sync my contacts with the phone. I alw...   \n",
       "1  Printing Issue  I have problems printing documents remotely. T...   \n",
       "2   Printer Issue  I replaced the printer toner, but the print qu...   \n",
       "3     Login Issue  I cannot log into the time tracking system, an...   \n",
       "4  Internet Issue  My internet connection is very slow and someti...   \n",
       "5    Update Issue  I cannot install the security update. An error...   \n",
       "\n",
       "                                            response  \\\n",
       "0  Por favor, verifique se você está conectado à ...   \n",
       "1  Mi dispiace sapere che hai problemi a stampare...   \n",
       "2  トナーを交換した後に印刷品質が低下することがあります。まず、トナーが正しく取り付けられている...   \n",
       "3  Пожалуйста, проверьте свои учетные данные и уб...   \n",
       "4  Bağlantı sorunlarınızı çözmek için birkaç adım...   \n",
       "5  Пожалуйста, уточните, какой код ошибки появляе...   \n",
       "\n",
       "                                      trans_response  \n",
       "0  Please check if you are connected to the inter...  \n",
       "1  I'm sorry to hear that you're having trouble p...  \n",
       "2  It is possible for print quality to decrease a...  \n",
       "3  Please check your credentials and ensure you a...  \n",
       "4  We can take a few steps to resolve your connec...  \n",
       "5  Please specify what error code appears when in...  "
      ]
     },
     "execution_count": 8,
     "metadata": {},
     "output_type": "execute_result"
    }
   ],
   "source": [
    "import pandas as pd\n",
    "\n",
    "df = pd.DataFrame(responses)\n",
    "df"
   ]
  },
  {
   "cell_type": "code",
   "execution_count": null,
   "id": "7b83710a",
   "metadata": {},
   "outputs": [],
   "source": []
  }
 ],
 "metadata": {
  "kernelspec": {
   "display_name": ".venv",
   "language": "python",
   "name": "python3"
  },
  "language_info": {
   "codemirror_mode": {
    "name": "ipython",
    "version": 3
   },
   "file_extension": ".py",
   "mimetype": "text/x-python",
   "name": "python",
   "nbconvert_exporter": "python",
   "pygments_lexer": "ipython3",
   "version": "3.11.6"
  }
 },
 "nbformat": 4,
 "nbformat_minor": 5
}
