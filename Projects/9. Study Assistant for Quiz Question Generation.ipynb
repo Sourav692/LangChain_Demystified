{
 "cells": [
  {
   "cell_type": "markdown",
   "metadata": {
    "application/vnd.databricks.v1+cell": {
     "cellMetadata": {},
     "inputWidgets": {},
     "nuid": "d2a96f0f-3bb4-4ac6-8ee6-bd96924d4c56",
     "showTitle": false,
     "tableResultSettingsMap": {},
     "title": ""
    }
   },
   "source": [
    "## Install Required Libraries"
   ]
  },
  {
   "cell_type": "code",
   "execution_count": 0,
   "metadata": {
    "application/vnd.databricks.v1+cell": {
     "cellMetadata": {},
     "inputWidgets": {},
     "nuid": "289b318a-f18a-4ff2-82da-d8af1164e665",
     "showTitle": false,
     "tableResultSettingsMap": {},
     "title": ""
    }
   },
   "outputs": [],
   "source": [
    "# !pip install pypdf2\n",
    "# !pip install langchain==0.3.11\n",
    "# !pip install langchain-openai==0.2.12\n",
    "# !pip install langchain-community==0.3.11"
   ]
  },
  {
   "cell_type": "markdown",
   "metadata": {
    "application/vnd.databricks.v1+cell": {
     "cellMetadata": {},
     "inputWidgets": {},
     "nuid": "d4beefc9-a660-42ee-85c2-0a35aa2fbc29",
     "showTitle": false,
     "tableResultSettingsMap": {},
     "title": ""
    }
   },
   "source": [
    "## Export OpenAI Key"
   ]
  },
  {
   "cell_type": "code",
   "execution_count": 0,
   "metadata": {
    "application/vnd.databricks.v1+cell": {
     "cellMetadata": {},
     "inputWidgets": {},
     "nuid": "19d028b3-b28d-42b9-bc34-c8bdd8396b1b",
     "showTitle": false,
     "tableResultSettingsMap": {},
     "title": ""
    }
   },
   "outputs": [],
   "source": [
    "from getpass import getpass\n",
    "\n",
    "OPENAI_KEY = getpass('Please enter your Open AI API Key here: ')"
   ]
  },
  {
   "cell_type": "code",
   "execution_count": 0,
   "metadata": {
    "application/vnd.databricks.v1+cell": {
     "cellMetadata": {},
     "inputWidgets": {},
     "nuid": "adc1dc79-b6f2-4cce-89ec-311d314ae5a5",
     "showTitle": false,
     "tableResultSettingsMap": {},
     "title": ""
    }
   },
   "outputs": [],
   "source": [
    "import os\n",
    "\n",
    "os.environ['OPENAI_API_KEY'] = OPENAI_KEY"
   ]
  },
  {
   "cell_type": "markdown",
   "metadata": {
    "application/vnd.databricks.v1+cell": {
     "cellMetadata": {},
     "inputWidgets": {},
     "nuid": "1b5593c6-7333-4cf0-bc97-84adc78b257b",
     "showTitle": false,
     "tableResultSettingsMap": {},
     "title": ""
    }
   },
   "source": [
    "## Initial Imports"
   ]
  },
  {
   "cell_type": "code",
   "execution_count": 0,
   "metadata": {
    "application/vnd.databricks.v1+cell": {
     "cellMetadata": {},
     "inputWidgets": {},
     "nuid": "552d1c2f-e754-45cc-81bd-e1d0df418ff7",
     "showTitle": false,
     "tableResultSettingsMap": {},
     "title": ""
    }
   },
   "outputs": [],
   "source": [
    "from langchain_core.prompts import ChatPromptTemplate\n",
    "from langchain_openai import ChatOpenAI\n",
    "from langchain_core.output_parsers import StrOutputParser\n",
    "from langchain.schema.runnable import RunnablePassthrough\n",
    "\n",
    "\n",
    "import PyPDF2"
   ]
  },
  {
   "cell_type": "markdown",
   "metadata": {
    "application/vnd.databricks.v1+cell": {
     "cellMetadata": {},
     "inputWidgets": {},
     "nuid": "430dfcac-4bab-4bac-8da3-406bd4240a09",
     "showTitle": false,
     "tableResultSettingsMap": {},
     "title": ""
    }
   },
   "source": [
    "## Load the PDF and Extract Contents"
   ]
  },
  {
   "cell_type": "code",
   "execution_count": 0,
   "metadata": {
    "application/vnd.databricks.v1+cell": {
     "cellMetadata": {},
     "inputWidgets": {},
     "nuid": "7d8d13e6-8518-48cd-9e3c-6866e33cd6ce",
     "showTitle": false,
     "tableResultSettingsMap": {},
     "title": ""
    }
   },
   "outputs": [],
   "source": [
    "def load_pdf(file_path):\n",
    "    \"\"\"Load and parse a PDF file.\"\"\"\n",
    "    with open(file_path, \"rb\") as file:\n",
    "        reader = PyPDF2.PdfReader(file)\n",
    "        # Extract text from all pages\n",
    "        study_material = \"\"\n",
    "        for page in reader.pages:\n",
    "            study_material += page.extract_text()\n",
    "    return study_material"
   ]
  },
  {
   "cell_type": "markdown",
   "metadata": {
    "application/vnd.databricks.v1+cell": {
     "cellMetadata": {},
     "inputWidgets": {},
     "nuid": "6b4fb284-f346-4095-824f-bd0cc2bfb583",
     "showTitle": false,
     "tableResultSettingsMap": {},
     "title": ""
    }
   },
   "source": [
    "## Create the LLM Object"
   ]
  },
  {
   "cell_type": "code",
   "execution_count": 0,
   "metadata": {
    "application/vnd.databricks.v1+cell": {
     "cellMetadata": {},
     "inputWidgets": {},
     "nuid": "a1559ec0-84ae-41b5-84ea-8c11e9995dca",
     "showTitle": false,
     "tableResultSettingsMap": {},
     "title": ""
    }
   },
   "outputs": [],
   "source": [
    "def create_llm(model_name):\n",
    "    return ChatOpenAI(model_name=model_name, temperature=0.0)\n"
   ]
  },
  {
   "cell_type": "markdown",
   "metadata": {
    "application/vnd.databricks.v1+cell": {
     "cellMetadata": {},
     "inputWidgets": {},
     "nuid": "3816e3af-fcbb-48f1-a991-66c03aa5a3ca",
     "showTitle": false,
     "tableResultSettingsMap": {},
     "title": ""
    }
   },
   "source": [
    "## Create Merge Chain"
   ]
  },
  {
   "cell_type": "code",
   "execution_count": 0,
   "metadata": {
    "application/vnd.databricks.v1+cell": {
     "cellMetadata": {},
     "inputWidgets": {},
     "nuid": "860c4fa2-7f94-487d-9c7e-799ccad8e883",
     "showTitle": false,
     "tableResultSettingsMap": {},
     "title": ""
    }
   },
   "outputs": [],
   "source": [
    "def create_merge_chain(chatgpt):\n",
    "    merge_prompt = ChatPromptTemplate.from_template(\n",
    "    \"\"\"Create a report about {topic} with the following information:\n",
    "    \n",
    "      Summary:\n",
    "      {summary}\n",
    "      Quiz Questions:\n",
    "      {response}\n",
    "\n",
    "      Report should be in the following format:\n",
    "\n",
    "      Topic: <name of the topic>\n",
    "      \n",
    "      Summary: <Summary of the topic>\n",
    "\n",
    "      Quiz Questions: <Quiz Questions>\n",
    "    \"\"\")\n",
    "\n",
    "    merge_chain = (\n",
    "        merge_prompt\n",
    "            |\n",
    "        chatgpt\n",
    "            |\n",
    "        StrOutputParser()\n",
    "    )\n",
    "    return merge_chain\n",
    "    "
   ]
  },
  {
   "cell_type": "markdown",
   "metadata": {
    "application/vnd.databricks.v1+cell": {
     "cellMetadata": {},
     "inputWidgets": {},
     "nuid": "94def0c5-5da3-4149-9a8e-b6147831c350",
     "showTitle": false,
     "tableResultSettingsMap": {},
     "title": ""
    }
   },
   "source": [
    "## Create Summarize Chain"
   ]
  },
  {
   "cell_type": "code",
   "execution_count": 0,
   "metadata": {
    "application/vnd.databricks.v1+cell": {
     "cellMetadata": {},
     "inputWidgets": {},
     "nuid": "1273b93e-5083-4bed-9878-5e4690fb672a",
     "showTitle": false,
     "tableResultSettingsMap": {},
     "title": ""
    }
   },
   "outputs": [],
   "source": [
    "def create_summarize_chain(chatgpt):\n",
    "    summarize_prompt =  \"\"\"Based on the following study_material: {study_material} generate a summary for the given topic: {topic}. \n",
    "    Headline for the summary should be Summary only and summary should not be more than 10 lines.\n",
    "\n",
    "    Example:\n",
    "\n",
    "    -Summary-\n",
    "    Prompt engineering is a crucial practice in natural language processing (NLP) within artificial intelligence, \n",
    "    where text prompts guide AI models in performing specific tasks. \n",
    "    \"\"\"\n",
    "\n",
    "    summarize_prompt_template = ChatPromptTemplate.from_template(summarize_prompt)\n",
    "    summarize_chain = (summarize_prompt_template\n",
    "                  |\n",
    "              chatgpt\n",
    "                  |\n",
    "              StrOutputParser())\n",
    "    return summarize_chain"
   ]
  },
  {
   "cell_type": "markdown",
   "metadata": {
    "application/vnd.databricks.v1+cell": {
     "cellMetadata": {},
     "inputWidgets": {},
     "nuid": "dc104cc5-57ac-4ec1-9985-43ba4daf2b42",
     "showTitle": false,
     "tableResultSettingsMap": {},
     "title": ""
    }
   },
   "source": [
    "## Create Quiz Generation Chain"
   ]
  },
  {
   "cell_type": "code",
   "execution_count": 0,
   "metadata": {
    "application/vnd.databricks.v1+cell": {
     "cellMetadata": {},
     "inputWidgets": {},
     "nuid": "2469283c-fac8-4844-9a3a-0702d48c22c5",
     "showTitle": false,
     "tableResultSettingsMap": {},
     "title": ""
    }
   },
   "outputs": [],
   "source": [
    "def create_quiz_chain(chatgpt):\n",
    "    quiz_prompt = \"\"\"\n",
    "    Act as a Study Assistant for Quiz Question Generation.\n",
    "    For the study_material ,summary and topics delimited below by triple backticks,\n",
    "    create quiz questions based on the summary and study material provided. The heading of the quiz questions should be Quiz Questions.\n",
    "    \n",
    "    Study Material:\n",
    "    ```{study_material}```\n",
    "    Summary:\n",
    "    ```{summary}```\n",
    "    Topic:\n",
    "    ```{topic}```\n",
    "    \n",
    "    examples of output:\n",
    "    \n",
    "    Summary:\n",
    "\n",
    "    Prompt engineering refines inputs to language models for better output control.\n",
    "\n",
    "    In agent-based systems, it helps control agent behavior and task performance.\n",
    "\n",
    "    Useful in robotics and conversational AI.\n",
    "    \n",
    "    Quiz Questions:\n",
    "    What is the primary goal of prompt engineering in agent-based systems?\n",
    "\n",
    "    a) To optimize agent memory\n",
    "\n",
    "    b) To refine inputs for better output control\n",
    "\n",
    "    c) To improve agent hardware\n",
    "\n",
    "    d) To increase computational power\n",
    "\n",
    "    Answer: b) To refine inputs for better output control\n",
    "\n",
    "    In which domain is prompt engineering most commonly used for enhancing agent performance?\n",
    "\n",
    "    a) Image recognition\n",
    "\n",
    "    b) Conversational AI\n",
    "\n",
    "    c) Data processing\n",
    "\n",
    "    d) Video editing\n",
    "\n",
    "    Answer: b) Conversational AI\n",
    "    \n",
    "    \n",
    "    \"\"\"\n",
    "    quiz_prompt_template = ChatPromptTemplate.from_template(quiz_prompt)\n",
    "    quiz_chain = (quiz_prompt_template\n",
    "                    |\n",
    "                chatgpt\n",
    "                    |\n",
    "                StrOutputParser())\n",
    "    return quiz_chain"
   ]
  },
  {
   "cell_type": "markdown",
   "metadata": {
    "application/vnd.databricks.v1+cell": {
     "cellMetadata": {},
     "inputWidgets": {},
     "nuid": "55943ee8-c34b-430b-b94c-6e4cc746326b",
     "showTitle": false,
     "tableResultSettingsMap": {},
     "title": ""
    }
   },
   "source": [
    "## Create Sequential Chain"
   ]
  },
  {
   "cell_type": "code",
   "execution_count": 0,
   "metadata": {
    "application/vnd.databricks.v1+cell": {
     "cellMetadata": {},
     "inputWidgets": {},
     "nuid": "d02dfa9d-2c0a-48a3-b34f-970de57c0436",
     "showTitle": false,
     "tableResultSettingsMap": {},
     "title": ""
    }
   },
   "outputs": [],
   "source": [
    "def create_seq_chain(chatgpt):\n",
    "    \n",
    "    summarize_chain = create_summarize_chain(chatgpt)\n",
    "    quiz_chain = create_quiz_chain(chatgpt)\n",
    "  \n",
    "    seq_chain = (\n",
    "    RunnablePassthrough.assign(summary=summarize_chain)\n",
    "      |\n",
    "    RunnablePassthrough.assign(response=quiz_chain)\n",
    "    )\n",
    "    \n",
    "    return seq_chain"
   ]
  },
  {
   "cell_type": "markdown",
   "metadata": {
    "application/vnd.databricks.v1+cell": {
     "cellMetadata": {},
     "inputWidgets": {},
     "nuid": "be6d4c80-8112-48cc-a980-0ea48450bfe5",
     "showTitle": false,
     "tableResultSettingsMap": {},
     "title": ""
    }
   },
   "source": [
    "## Generate the Final Response"
   ]
  },
  {
   "cell_type": "code",
   "execution_count": 0,
   "metadata": {
    "application/vnd.databricks.v1+cell": {
     "cellMetadata": {},
     "inputWidgets": {},
     "nuid": "1038bd7e-e683-4e72-a27a-3a1a42876405",
     "showTitle": false,
     "tableResultSettingsMap": {},
     "title": ""
    }
   },
   "outputs": [],
   "source": [
    "def create_final_response(seq_chain,merge_chain,study_material,topic):\n",
    "    final_chain = (\n",
    "    seq_chain\n",
    "    |\n",
    "    merge_chain\n",
    "    )\n",
    "    response = final_chain.invoke({'study_material': study_material,'topic': topic})\n",
    "    return response"
   ]
  },
  {
   "cell_type": "code",
   "execution_count": 0,
   "metadata": {
    "application/vnd.databricks.v1+cell": {
     "cellMetadata": {},
     "inputWidgets": {},
     "nuid": "c09367e5-6069-4569-b7f9-8c907130b078",
     "showTitle": false,
     "tableResultSettingsMap": {},
     "title": ""
    }
   },
   "outputs": [],
   "source": [
    "## Run the Code"
   ]
  },
  {
   "cell_type": "code",
   "execution_count": 0,
   "metadata": {
    "application/vnd.databricks.v1+cell": {
     "cellMetadata": {},
     "inputWidgets": {},
     "nuid": "6f44fb5a-6d19-4f85-a07f-9e935360b249",
     "showTitle": false,
     "tableResultSettingsMap": {},
     "title": ""
    }
   },
   "outputs": [],
   "source": [
    "study_material = load_pdf(\"./prompt_engineering.pdf\")\n",
    "# topic = \"Prompt Engineering for Agents\"\n",
    "topic = \"Define Prompting Techniques\"\n",
    "# chatgpt = ChatOpenAI(model_name='gpt-4o-mini', temperature=0.0)\n",
    "chatgpt = create_llm('gpt-4o-mini')\n",
    "seq_chain = create_seq_chain(chatgpt)\n",
    "merge_chain = create_merge_chain(chatgpt)\n",
    "response = create_final_response(seq_chain,merge_chain,study_material,topic)"
   ]
  },
  {
   "cell_type": "code",
   "execution_count": 0,
   "metadata": {
    "application/vnd.databricks.v1+cell": {
     "cellMetadata": {},
     "inputWidgets": {},
     "nuid": "2518b6d6-0da9-4131-9e1c-992264ffac3d",
     "showTitle": false,
     "tableResultSettingsMap": {},
     "title": ""
    }
   },
   "outputs": [
    {
     "output_type": "display_data",
     "data": {
      "text/markdown": [
       "**Topic:** Define Prompting Techniques\n",
       "\n",
       "**Summary:**  \n",
       "Prompting techniques are advanced methods used to enhance the effectiveness of AI prompts. Key techniques include Zero-Shot Prompting, where the model performs tasks without prior specific training; Few-Shot Prompting, which provides examples to improve task performance; and Chain-of-Thought (CoT), allowing the model to break down complex reasoning into intermediate steps. These techniques help in achieving more accurate and coherent outputs by guiding the model's understanding and response generation. Effective prompting is essential for maximizing the capabilities of AI models in various applications.\n",
       "\n",
       "**Quiz Questions:**\n",
       "\n",
       "1. What is the purpose of prompt engineering in natural language processing (NLP)?\n",
       "   - a) To create complex algorithms\n",
       "   - b) To describe the task the AI should perform\n",
       "   - c) To enhance hardware performance\n",
       "   - d) To increase data storage capacity  \n",
       "   **Answer:** b) To describe the task the AI should perform\n",
       "\n",
       "2. Which of the following best defines a \"prompt\"?\n",
       "   - a) A random question posed to the AI\n",
       "   - b) A detailed description of the desired output from an AI model\n",
       "   - c) A set of instructions for programming\n",
       "   - d) A summary of AI capabilities  \n",
       "   **Answer:** b) A detailed description of the desired output from an AI model\n",
       "\n",
       "3. What is an example of a Few-Shot Prompting technique?\n",
       "   - a) Asking the model to perform a task without any examples\n",
       "   - b) Providing multiple examples to guide the model's response\n",
       "   - c) Giving the model a single instruction\n",
       "   - d) Allowing the model to generate responses freely  \n",
       "   **Answer:** b) Providing multiple examples to guide the model's response\n",
       "\n",
       "4. Which prompting technique allows the model to break down complex reasoning into intermediate steps?\n",
       "   - a) Zero-Shot Prompting\n",
       "   - b) Few-Shot Prompting\n",
       "   - c) Chain-of-Thought (CoT)\n",
       "   - d) Open-Ended Prompting  \n",
       "   **Answer:** c) Chain-of-Thought (CoT)\n",
       "\n",
       "5. What should be avoided when creating prompts for AI models?\n",
       "   - a) Providing clear and concise instructions\n",
       "   - b) Using open-ended questions\n",
       "   - c) Specifying output formats\n",
       "   - d) Maintaining a consistent tone  \n",
       "   **Answer:** b) Using open-ended questions\n",
       "\n",
       "6. How does Zero-Shot Prompting differ from Few-Shot Prompting?\n",
       "   - a) Zero-Shot Prompting requires examples, while Few-Shot does not.\n",
       "   - b) Zero-Shot Prompting does not rely on specific training, while Few-Shot provides examples.\n",
       "   - c) Few-Shot Prompting is less effective than Zero-Shot Prompting.\n",
       "   - d) Few-Shot Prompting is used for image generation, while Zero-Shot is for text.  \n",
       "   **Answer:** b) Zero-Shot Prompting does not rely on specific training, while Few-Shot provides examples.\n",
       "\n",
       "7. What is a critical element of an effective prompt?\n",
       "   - a) Ambiguity\n",
       "   - b) Clarity\n",
       "   - c) Complexity\n",
       "   - d) Length  \n",
       "   **Answer:** b) Clarity\n",
       "\n",
       "8. Which of the following is NOT a component of a prompt?\n",
       "   - a) Instruction\n",
       "   - b) Context\n",
       "   - c) Output Indicator\n",
       "   - d) Randomization  \n",
       "   **Answer:** d) Randomization\n",
       "\n",
       "9. What is the main benefit of using advanced prompting techniques?\n",
       "   - a) They reduce the need for AI training.\n",
       "   - b) They enhance the effectiveness of AI prompts for better outputs.\n",
       "   - c) They simplify the coding process.\n",
       "   - d) They eliminate the need for user input.  \n",
       "   **Answer:** b) They enhance the effectiveness of AI prompts for better outputs.\n",
       "\n",
       "10. Why is it important to maintain a consistent tone in prompts?\n",
       "    - a) To confuse the model\n",
       "    - b) To ensure coherent and legible responses\n",
       "    - c) To make the prompt longer\n",
       "    - d) To provide more examples  \n",
       "    **Answer:** b) To ensure coherent and legible responses"
      ],
      "text/plain": [
       "<IPython.core.display.Markdown object>"
      ]
     },
     "metadata": {},
     "output_type": "display_data"
    }
   ],
   "source": [
    "from IPython.display import Markdown, display\n",
    "\n",
    "display(Markdown(response))"
   ]
  },
  {
   "cell_type": "code",
   "execution_count": 0,
   "metadata": {
    "application/vnd.databricks.v1+cell": {
     "cellMetadata": {},
     "inputWidgets": {},
     "nuid": "8849b2f9-da90-401e-b54c-32fd66b6850b",
     "showTitle": false,
     "tableResultSettingsMap": {},
     "title": ""
    }
   },
   "outputs": [],
   "source": []
  }
 ],
 "metadata": {
  "application/vnd.databricks.v1+notebook": {
   "computePreferences": null,
   "dashboards": [],
   "environmentMetadata": null,
   "language": "python",
   "notebookMetadata": {
    "pythonIndentUnit": 2
   },
   "notebookName": "Final_project",
   "widgets": {}
  },
  "kernelspec": {
   "display_name": ".venv",
   "language": "python",
   "name": "python3"
  },
  "language_info": {
   "name": "python"
  }
 },
 "nbformat": 4,
 "nbformat_minor": 0
}
