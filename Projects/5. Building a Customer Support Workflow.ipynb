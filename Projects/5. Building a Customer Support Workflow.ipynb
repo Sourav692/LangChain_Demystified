{
 "cells": [
  {
   "cell_type": "code",
   "execution_count": 1,
   "id": "2c401427",
   "metadata": {},
   "outputs": [],
   "source": [
    "%run \"Setup_Env.ipynb\""
   ]
  },
  {
   "cell_type": "markdown",
   "id": "9518f6ab",
   "metadata": {},
   "source": [
    "## Linking Multiple Chains Sequentially in LCEL\n",
    "\n",
    "Here we will see how we can link several LLM Chains sequentially using LCEL.\n",
    "\n",
    "Typically the output from one chain might go as input into the next chain and so on.\n",
    "\n",
    "The overall chain would run each chain sequentially in order till we get the final output which can be a combination of intermediate outputs and inputs from the previous chains."
   ]
  },
  {
   "cell_type": "code",
   "execution_count": 3,
   "id": "4e948dd1",
   "metadata": {},
   "outputs": [
    {
     "data": {
      "text/plain": [
       "\"I can't access my email. It keeps showing an error message. Please help.\""
      ]
     },
     "execution_count": 3,
     "metadata": {},
     "output_type": "execute_result"
    }
   ],
   "source": [
    "it_support_queue = [\n",
    "    \"I can't access my email. It keeps showing an error message. Please help.\",\n",
    "    \"Tengo problemas con la VPN. No puedo conectarme a la red de la empresa. ¿Pueden ayudarme, por favor?\",\n",
    "    \"Mon imprimante ne répond pas et n'imprime plus. J'ai besoin d'aide pour la réparer.\",\n",
    "    \"我无法访问公司的网站。每次都显示错误信息。请帮忙解决。\"\n",
    "]\n",
    "\n",
    "it_support_queue[0]"
   ]
  },
  {
   "cell_type": "code",
   "execution_count": 4,
   "id": "d15ec925",
   "metadata": {},
   "outputs": [],
   "source": [
    "from langchain_core.prompts import ChatPromptTemplate\n",
    "from langchain_core.output_parsers import StrOutputParser\n",
    "\n",
    "# Chain 1: Detect customer message language\n",
    "prompt1 = \"\"\"\n",
    "  Act as a customer support agent.\n",
    "  For the customer support message delimited below by triple backticks,\n",
    "  Output the language of the message in one word only, e.g. Spanish\n",
    "\n",
    "  Customer Message:\n",
    "  ```{orig_msg}```\n",
    "\"\"\"\n",
    "\n",
    "prompt_template1 = ChatPromptTemplate.from_template(prompt1)\n",
    "\n",
    "prompt1 = prompt_template1.invoke({\"orig_msg\": it_support_queue[0]})\n"
   ]
  },
  {
   "cell_type": "code",
   "execution_count": 7,
   "id": "ae2f41a4",
   "metadata": {},
   "outputs": [
    {
     "data": {
      "text/plain": [
       "'English'"
      ]
     },
     "execution_count": 7,
     "metadata": {},
     "output_type": "execute_result"
    }
   ],
   "source": [
    "detected_lang = chatgpt.invoke(prompt1)\n",
    "detected_lang.content"
   ]
  },
  {
   "cell_type": "code",
   "execution_count": 8,
   "id": "d41d9f30",
   "metadata": {},
   "outputs": [],
   "source": [
    "llm_chain1 = (prompt_template1\n",
    "                  |\n",
    "              chatgpt\n",
    "                  |\n",
    "              StrOutputParser())"
   ]
  },
  {
   "cell_type": "code",
   "execution_count": 9,
   "id": "b58e1840",
   "metadata": {},
   "outputs": [
    {
     "data": {
      "text/plain": [
       "'Spanish'"
      ]
     },
     "execution_count": 9,
     "metadata": {},
     "output_type": "execute_result"
    }
   ],
   "source": [
    "llm_chain1.invoke({'orig_msg': it_support_queue[1]})"
   ]
  },
  {
   "cell_type": "code",
   "execution_count": 11,
   "id": "110bb4d7",
   "metadata": {},
   "outputs": [
    {
     "data": {
      "text/plain": [
       "'French'"
      ]
     },
     "execution_count": 11,
     "metadata": {},
     "output_type": "execute_result"
    }
   ],
   "source": [
    "llm_chain1.invoke({'orig_msg': it_support_queue[2]})"
   ]
  },
  {
   "cell_type": "code",
   "execution_count": 14,
   "id": "571302dc",
   "metadata": {},
   "outputs": [],
   "source": [
    "from langchain_core.runnables import RunnablePassthrough, RunnableLambda, RunnableParallel"
   ]
  },
  {
   "cell_type": "code",
   "execution_count": 15,
   "id": "d15dded7",
   "metadata": {},
   "outputs": [
    {
     "data": {
      "text/plain": [
       "{'orig_msg': 'Tengo problemas con la VPN. No puedo conectarme a la red de la empresa. ¿Pueden ayudarme, por favor?',\n",
       " 'orig_lang': 'Spanish'}"
      ]
     },
     "execution_count": 15,
     "metadata": {},
     "output_type": "execute_result"
    }
   ],
   "source": [
    "chain = RunnableParallel(\n",
    "    orig_msg=RunnablePassthrough(),      # Keep original input\n",
    "    orig_lang= llm_chain1  # Calculate length\n",
    ")\n",
    "\n",
    "# Test with a sample text - returns both original text and its length\n",
    "chain.invoke(it_support_queue[1])"
   ]
  },
  {
   "cell_type": "code",
   "execution_count": 18,
   "id": "cdeef082",
   "metadata": {},
   "outputs": [
    {
     "data": {
      "text/plain": [
       "{'orig_msg': 'Tengo problemas con la VPN. No puedo conectarme a la red de la empresa. ¿Pueden ayudarme, por favor?',\n",
       " 'orig_lang': 'Spanish'}"
      ]
     },
     "execution_count": 18,
     "metadata": {},
     "output_type": "execute_result"
    }
   ],
   "source": [
    "# The above can be also written as:\n",
    "\n",
    "chain = {\n",
    "        \"orig_msg\": RunnablePassthrough()\n",
    "         } | RunnablePassthrough.assign(\n",
    "    orig_lang=llm_chain1\n",
    ")\n",
    "\n",
    "chain.invoke(it_support_queue[1])"
   ]
  },
  {
   "cell_type": "code",
   "execution_count": 19,
   "id": "3fd13549",
   "metadata": {},
   "outputs": [
    {
     "data": {
      "text/plain": [
       "{'orig_msg': 'Tengo problemas con la VPN. No puedo conectarme a la red de la empresa. ¿Pueden ayudarme, por favor?',\n",
       " 'orig_lang': 'Spanish'}"
      ]
     },
     "execution_count": 19,
     "metadata": {},
     "output_type": "execute_result"
    }
   ],
   "source": [
    "# Another way to do the same thing\n",
    "RunnablePassthrough.assign(orig_lang=llm_chain1).invoke({'orig_msg': it_support_queue[1]})\n"
   ]
  },
  {
   "cell_type": "code",
   "execution_count": 20,
   "id": "1abeacba",
   "metadata": {},
   "outputs": [],
   "source": [
    "# Chain 2: Translate Customer Message to English\n",
    "prompt2 = \"\"\"\n",
    "  Act as a customer support agent.\n",
    "  For the customer message and customer message language delimited below by triple backticks,\n",
    "  Translate the customer message from the customer message language to English\n",
    "  if customer message language is not in English,\n",
    "  else return back the original customer message.\n",
    "\n",
    "  Customer Message:\n",
    "  ```{orig_msg}```\n",
    "  Customer Message Language:\n",
    "  ```{orig_lang}```\n",
    "\"\"\"\n",
    "prompt_template2 = ChatPromptTemplate.from_template(prompt2)\n",
    "llm_chain2 = (prompt_template2\n",
    "                  |\n",
    "              chatgpt\n",
    "                  |\n",
    "              StrOutputParser())"
   ]
  },
  {
   "cell_type": "code",
   "execution_count": 21,
   "id": "9ba56b41",
   "metadata": {},
   "outputs": [],
   "source": [
    "# Chain 3: Generate a resolution response in English\n",
    "prompt3 = \"\"\"\n",
    "  Act as a customer support agent.\n",
    "  For the customer support message delimited below by triple backticks,\n",
    "  Generate an appropriate resolution response in English.\n",
    "\n",
    "  Customer Message:\n",
    "  ```{trans_msg}```\n",
    "\"\"\"\n",
    "prompt_template3 = ChatPromptTemplate.from_template(prompt3)\n",
    "llm_chain3 = (prompt_template3\n",
    "                  |\n",
    "              chatgpt\n",
    "                  |\n",
    "              StrOutputParser())"
   ]
  },
  {
   "cell_type": "code",
   "execution_count": 22,
   "id": "cee92592",
   "metadata": {},
   "outputs": [],
   "source": [
    "# Chain 4: Translate resolution response from English to Customer's original language\n",
    "prompt4 = \"\"\"\n",
    "  Act as a customer support agent.\n",
    "  For the customer resolution response and target language delimited below by triple backticks,\n",
    "  Translate the customer resolution response message from English to the target language\n",
    "  if target language is not in English,\n",
    "  else return back the original customer resolution response.\n",
    "\n",
    "  Customer Resolution Response:\n",
    "  ```{trans_response}```\n",
    "  Target Language:\n",
    "  ```{orig_lang}```\n",
    "\"\"\"\n",
    "prompt_template4 = ChatPromptTemplate.from_template(prompt4)\n",
    "llm_chain4 = (prompt_template4\n",
    "                  |\n",
    "              chatgpt\n",
    "                  |\n",
    "              StrOutputParser())"
   ]
  },
  {
   "cell_type": "code",
   "execution_count": 24,
   "id": "4ad242ca",
   "metadata": {},
   "outputs": [],
   "source": [
    "from langchain_core.runnables import RunnablePassthrough\n",
    "\n",
    "final_chain = (\n",
    "    RunnablePassthrough.assign(orig_lang=llm_chain1)\n",
    "      |\n",
    "    RunnablePassthrough.assign(trans_msg=llm_chain2)\n",
    "      |\n",
    "    RunnablePassthrough.assign(trans_response=llm_chain3)\n",
    "      |\n",
    "    RunnablePassthrough.assign(orig_response=llm_chain4)\n",
    ")"
   ]
  },
  {
   "cell_type": "code",
   "execution_count": 26,
   "id": "b13b4f02",
   "metadata": {},
   "outputs": [
    {
     "data": {
      "text/plain": [
       "{'orig_msg': 'Tengo problemas con la VPN. No puedo conectarme a la red de la empresa. ¿Pueden ayudarme, por favor?',\n",
       " 'orig_lang': 'Spanish',\n",
       " 'trans_msg': \"I have problems with the VPN. I can't connect to the company's network. Can you help me, please?\",\n",
       " 'trans_response': \"Subject: Assistance with VPN Connection Issues\\n\\nDear [Customer's Name],\\n\\nThank you for reaching out to us regarding your VPN connection issues. I understand how important it is to access the company's network, and I'm here to help you resolve this matter.\\n\\nHere are a few troubleshooting steps you can try:\\n\\n1. **Check Your Internet Connection**: Ensure that you have a stable internet connection. You can try accessing other websites to confirm.\\n\\n2. **Restart the VPN Client**: Close the VPN application completely and then reopen it. Sometimes, a simple restart can resolve connection issues.\\n\\n3. **Verify Your Credentials**: Double-check that you are entering the correct username and password. If you have recently changed your password, make sure to use the updated one.\\n\\n4. **Update the VPN Client**: Ensure that you are using the latest version of the VPN software. If not, please update it and try connecting again.\\n\\n5. **Firewall/Antivirus Settings**: Sometimes, firewall or antivirus software can block VPN connections. Temporarily disable them to see if that resolves the issue.\\n\\n6. **Try a Different Server**: If your VPN client allows it, try connecting to a different server location.\\n\\nIf you have tried these steps and are still unable to connect, please provide me with any error messages you are receiving, as well as the type of device and operating system you are using. This information will help us assist you more effectively.\\n\\nThank you for your patience, and I look forward to helping you get connected!\\n\\nBest regards,\\n\\n[Your Name]  \\nCustomer Support Team  \\n[Your Company]  \\n[Contact Information]\",\n",
       " 'orig_response': '```Spanish\\nAsunto: Asistencia con problemas de conexión VPN\\n\\nEstimado/a [Nombre del Cliente],\\n\\nGracias por contactarnos respecto a sus problemas de conexión VPN. Entiendo lo importante que es acceder a la red de la empresa, y estoy aquí para ayudarle a resolver este asunto.\\n\\nAquí hay algunos pasos de solución de problemas que puede intentar:\\n\\n1. **Verifique su conexión a Internet**: Asegúrese de que tiene una conexión a Internet estable. Puede intentar acceder a otros sitios web para confirmarlo.\\n\\n2. **Reinicie el cliente VPN**: Cierre completamente la aplicación VPN y luego vuelva a abrirla. A veces, un simple reinicio puede resolver problemas de conexión.\\n\\n3. **Verifique sus credenciales**: Asegúrese de que está ingresando el nombre de usuario y la contraseña correctos. Si ha cambiado recientemente su contraseña, asegúrese de usar la actualizada.\\n\\n4. **Actualice el cliente VPN**: Asegúrese de que está utilizando la última versión del software VPN. Si no, actualícelo e intente conectarse nuevamente.\\n\\n5. **Configuraciones de Firewall/Antivirus**: A veces, el software de firewall o antivirus puede bloquear las conexiones VPN. Desactívelos temporalmente para ver si eso resuelve el problema.\\n\\n6. **Pruebe un servidor diferente**: Si su cliente VPN lo permite, intente conectarse a una ubicación de servidor diferente.\\n\\nSi ha intentado estos pasos y aún no puede conectarse, por favor proporcióneme cualquier mensaje de error que esté recibiendo, así como el tipo de dispositivo y sistema operativo que está utilizando. Esta información nos ayudará a asistirle de manera más efectiva.\\n\\nGracias por su paciencia, y espero poder ayudarle a conectarse.\\n\\nAtentamente,\\n\\n[Su Nombre]  \\nEquipo de Soporte al Cliente  \\n[Su Empresa]  \\n[Información de Contacto]\\n```'}"
      ]
     },
     "execution_count": 26,
     "metadata": {},
     "output_type": "execute_result"
    }
   ],
   "source": [
    "response = final_chain.invoke({'orig_msg': it_support_queue[1]})\n",
    "response"
   ]
  },
  {
   "cell_type": "code",
   "execution_count": 27,
   "id": "8f2e17c6",
   "metadata": {},
   "outputs": [],
   "source": [
    "it_support_queue_formatted = [{'orig_msg': msg} for msg in it_support_queue]\n",
    "responses = final_chain.map().invoke(it_support_queue_formatted)"
   ]
  },
  {
   "cell_type": "code",
   "execution_count": 28,
   "id": "77bed9cf",
   "metadata": {},
   "outputs": [
    {
     "data": {
      "text/html": [
       "<div>\n",
       "<style scoped>\n",
       "    .dataframe tbody tr th:only-of-type {\n",
       "        vertical-align: middle;\n",
       "    }\n",
       "\n",
       "    .dataframe tbody tr th {\n",
       "        vertical-align: top;\n",
       "    }\n",
       "\n",
       "    .dataframe thead th {\n",
       "        text-align: right;\n",
       "    }\n",
       "</style>\n",
       "<table border=\"1\" class=\"dataframe\">\n",
       "  <thead>\n",
       "    <tr style=\"text-align: right;\">\n",
       "      <th></th>\n",
       "      <th>orig_msg</th>\n",
       "      <th>orig_lang</th>\n",
       "      <th>trans_msg</th>\n",
       "      <th>trans_response</th>\n",
       "      <th>orig_response</th>\n",
       "    </tr>\n",
       "  </thead>\n",
       "  <tbody>\n",
       "    <tr>\n",
       "      <th>0</th>\n",
       "      <td>I can't access my email. It keeps showing an e...</td>\n",
       "      <td>English</td>\n",
       "      <td>I can't access my email. It keeps showing an e...</td>\n",
       "      <td>Subject: Assistance with Email Access\\n\\nDear ...</td>\n",
       "      <td>Subject: Assistance with Email Access\\n\\nDear ...</td>\n",
       "    </tr>\n",
       "    <tr>\n",
       "      <th>1</th>\n",
       "      <td>Tengo problemas con la VPN. No puedo conectarm...</td>\n",
       "      <td>Spanish</td>\n",
       "      <td>I am having problems with the VPN. I cannot co...</td>\n",
       "      <td>Subject: Assistance with VPN Connection Issues...</td>\n",
       "      <td>```Subject: Asistencia con problemas de conexi...</td>\n",
       "    </tr>\n",
       "    <tr>\n",
       "      <th>2</th>\n",
       "      <td>Mon imprimante ne répond pas et n'imprime plus...</td>\n",
       "      <td>French</td>\n",
       "      <td>My printer is not responding and is no longer ...</td>\n",
       "      <td>Hello,\\n\\nThank you for reaching out to us. I’...</td>\n",
       "      <td>```French\\nBonjour,\\n\\nMerci de nous avoir con...</td>\n",
       "    </tr>\n",
       "    <tr>\n",
       "      <th>3</th>\n",
       "      <td>我无法访问公司的网站。每次都显示错误信息。请帮忙解决。</td>\n",
       "      <td>Chinese</td>\n",
       "      <td>I cannot access the company's website. It alwa...</td>\n",
       "      <td>Subject: Assistance with Website Access\\n\\nDea...</td>\n",
       "      <td>```Chinese\\n主题：网站访问帮助\\n\\n亲爱的[客户的名字]，\\n\\n感谢您联系我...</td>\n",
       "    </tr>\n",
       "  </tbody>\n",
       "</table>\n",
       "</div>"
      ],
      "text/plain": [
       "                                            orig_msg orig_lang  \\\n",
       "0  I can't access my email. It keeps showing an e...   English   \n",
       "1  Tengo problemas con la VPN. No puedo conectarm...   Spanish   \n",
       "2  Mon imprimante ne répond pas et n'imprime plus...    French   \n",
       "3                        我无法访问公司的网站。每次都显示错误信息。请帮忙解决。   Chinese   \n",
       "\n",
       "                                           trans_msg  \\\n",
       "0  I can't access my email. It keeps showing an e...   \n",
       "1  I am having problems with the VPN. I cannot co...   \n",
       "2  My printer is not responding and is no longer ...   \n",
       "3  I cannot access the company's website. It alwa...   \n",
       "\n",
       "                                      trans_response  \\\n",
       "0  Subject: Assistance with Email Access\\n\\nDear ...   \n",
       "1  Subject: Assistance with VPN Connection Issues...   \n",
       "2  Hello,\\n\\nThank you for reaching out to us. I’...   \n",
       "3  Subject: Assistance with Website Access\\n\\nDea...   \n",
       "\n",
       "                                       orig_response  \n",
       "0  Subject: Assistance with Email Access\\n\\nDear ...  \n",
       "1  ```Subject: Asistencia con problemas de conexi...  \n",
       "2  ```French\\nBonjour,\\n\\nMerci de nous avoir con...  \n",
       "3  ```Chinese\\n主题：网站访问帮助\\n\\n亲爱的[客户的名字]，\\n\\n感谢您联系我...  "
      ]
     },
     "execution_count": 28,
     "metadata": {},
     "output_type": "execute_result"
    }
   ],
   "source": [
    "import pandas as pd\n",
    "pd.DataFrame(responses)"
   ]
  },
  {
   "cell_type": "code",
   "execution_count": null,
   "id": "4a4f149b",
   "metadata": {},
   "outputs": [],
   "source": []
  }
 ],
 "metadata": {
  "kernelspec": {
   "display_name": ".venv",
   "language": "python",
   "name": "python3"
  },
  "language_info": {
   "codemirror_mode": {
    "name": "ipython",
    "version": 3
   },
   "file_extension": ".py",
   "mimetype": "text/x-python",
   "name": "python",
   "nbconvert_exporter": "python",
   "pygments_lexer": "ipython3",
   "version": "3.11.6"
  }
 },
 "nbformat": 4,
 "nbformat_minor": 5
}
