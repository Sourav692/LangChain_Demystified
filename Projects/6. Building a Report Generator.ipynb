{
 "cells": [
  {
   "cell_type": "code",
   "execution_count": 1,
   "id": "a0ba612f",
   "metadata": {},
   "outputs": [],
   "source": [
    "%run \"Setup_Env.ipynb\""
   ]
  },
  {
   "cell_type": "markdown",
   "id": "6350d54e",
   "metadata": {},
   "source": [
    "## Branching and Merging Chains with LCEL\n",
    "\n",
    "The idea here is to have multiple branching LLM Chains which work independently in parallel and then we merge their outputs finally using a merge LLM chain at the end to get a consolidated output"
   ]
  },
  {
   "cell_type": "code",
   "execution_count": 3,
   "id": "26f09b41",
   "metadata": {},
   "outputs": [],
   "source": [
    "from langchain_core.prompts import ChatPromptTemplate\n",
    "from langchain_core.output_parsers import StrOutputParser"
   ]
  },
  {
   "cell_type": "code",
   "execution_count": 4,
   "id": "6136109b",
   "metadata": {},
   "outputs": [],
   "source": [
    "description_prompt =  ChatPromptTemplate.from_template(\n",
    "    \"\"\"Generate a two line description for the given topic:\n",
    "      {topic}\n",
    "\"\"\")\n",
    "\n",
    "description_chain = (\n",
    "    description_prompt\n",
    "        |\n",
    "    chatgpt\n",
    "        |\n",
    "    StrOutputParser()\n",
    ")"
   ]
  },
  {
   "cell_type": "code",
   "execution_count": 5,
   "id": "35557eae",
   "metadata": {},
   "outputs": [],
   "source": [
    "pro_prompt = ChatPromptTemplate.from_template(\n",
    "    \"\"\"Generate three bullet points talking about the pros for the given topic:\n",
    "      {topic}\n",
    "\"\"\")\n",
    "\n",
    "pro_chain = (\n",
    "    pro_prompt\n",
    "        |\n",
    "    chatgpt\n",
    "        |\n",
    "    StrOutputParser()\n",
    ")"
   ]
  },
  {
   "cell_type": "code",
   "execution_count": 6,
   "id": "b2f56d99",
   "metadata": {},
   "outputs": [],
   "source": [
    "con_prompt = ChatPromptTemplate.from_template(\n",
    "    \"\"\"Generate three bullet points talking about the cons for the given topic:\n",
    "      {topic}\n",
    "\"\"\")\n",
    "\n",
    "con_chain = (\n",
    "    con_prompt\n",
    "        |\n",
    "    chatgpt\n",
    "        |\n",
    "    StrOutputParser()\n",
    ")"
   ]
  },
  {
   "cell_type": "code",
   "execution_count": 7,
   "id": "047d5579",
   "metadata": {},
   "outputs": [],
   "source": [
    "from operator import itemgetter\n",
    "from langchain_core.runnables import RunnableParallel, RunnablePassthrough\n",
    "\n",
    "branch_chain = (\n",
    "    RunnableParallel(\n",
    "        topic=itemgetter('topic'),\n",
    "        description=description_chain,\n",
    "        pros=pro_chain,\n",
    "        cons=con_chain,\n",
    "    )\n",
    ")"
   ]
  },
  {
   "cell_type": "code",
   "execution_count": 8,
   "id": "e83d337a",
   "metadata": {},
   "outputs": [],
   "source": [
    "branch_chain = (\n",
    "    RunnableParallel(\n",
    "        topic=RunnablePassthrough(),\n",
    "        description=description_chain,\n",
    "        pros=pro_chain,\n",
    "        cons=con_chain,\n",
    "    )\n",
    ")"
   ]
  },
  {
   "cell_type": "code",
   "execution_count": 9,
   "id": "b59dd4a7",
   "metadata": {},
   "outputs": [
    {
     "data": {
      "text/plain": [
       "{'topic': {'topic': 'Generative AI'},\n",
       " 'description': 'Generative AI refers to advanced algorithms that create new content, such as text, images, and music, by learning patterns from existing data. This technology has transformative applications across various fields, including art, entertainment, and business.',\n",
       " 'pros': '- **Enhanced Creativity and Innovation**: Generative AI can assist artists, writers, and designers by providing new ideas, concepts, and variations, thereby fostering creativity and enabling the exploration of uncharted territories in various fields.\\n\\n- **Efficiency and Automation**: By automating repetitive tasks and generating content at scale, generative AI can significantly reduce the time and effort required for content creation, allowing professionals to focus on higher-level strategic work and decision-making.\\n\\n- **Personalization and User Engagement**: Generative AI can analyze user data to create highly personalized experiences, such as tailored recommendations or customized content, which can lead to increased user engagement and satisfaction across various applications and industries.',\n",
       " 'cons': '- **Ethical Concerns**: Generative AI can produce content that may perpetuate biases, misinformation, or harmful stereotypes, raising ethical questions about accountability and the potential for misuse in various applications, such as deepfakes or propaganda.\\n\\n- **Intellectual Property Issues**: The ability of generative AI to create content that closely resembles existing works can lead to disputes over copyright and ownership, complicating the legal landscape for creators and businesses alike.\\n\\n- **Job Displacement**: As generative AI becomes more capable, there is a growing concern that it could replace human jobs in creative fields, such as writing, design, and art, leading to economic disruption and a shift in the job market.'}"
      ]
     },
     "execution_count": 9,
     "metadata": {},
     "output_type": "execute_result"
    }
   ],
   "source": [
    "branch_chain.invoke({\"topic\": \"Generative AI\"})"
   ]
  },
  {
   "cell_type": "code",
   "execution_count": 10,
   "id": "cf71bb77",
   "metadata": {},
   "outputs": [],
   "source": [
    "merge_prompt = ChatPromptTemplate.from_template(\n",
    "    \"\"\"Create a report about {topic} with the following information:\n",
    "      Description:\n",
    "      {description}\n",
    "      Pros:\n",
    "      {pros}\n",
    "      Cons:\n",
    "      {cons}\n",
    "\n",
    "      Report should be in the following format:\n",
    "\n",
    "      Topic: <name of the topic>\n",
    "\n",
    "      Description: <description of the topic>\n",
    "\n",
    "      Pros and Cons:\n",
    "\n",
    "      <table with two columns showing the 3 pros and cons of the topic>\n",
    "\"\"\")\n",
    "\n",
    "merge_chain = (\n",
    "    merge_prompt\n",
    "        |\n",
    "    chatgpt\n",
    "        |\n",
    "    StrOutputParser()\n",
    ")"
   ]
  },
  {
   "cell_type": "code",
   "execution_count": 11,
   "id": "52b7a59e",
   "metadata": {},
   "outputs": [],
   "source": [
    "final_chain = (\n",
    "    branch_chain\n",
    "      |\n",
    "    merge_chain\n",
    ")"
   ]
  },
  {
   "cell_type": "code",
   "execution_count": 12,
   "id": "1a23996a",
   "metadata": {},
   "outputs": [],
   "source": [
    "response = final_chain.invoke({\"topic\": \"Generative AI\"})"
   ]
  },
  {
   "cell_type": "code",
   "execution_count": 13,
   "id": "e6c69cd3",
   "metadata": {},
   "outputs": [
    {
     "data": {
      "text/markdown": [
       "# Report on Generative AI\n",
       "\n",
       "**Topic:** Generative AI\n",
       "\n",
       "**Description:**  \n",
       "Generative AI refers to advanced algorithms that create new content, such as text, images, and music, by learning patterns from existing data. This technology has transformative applications across various fields, including art, entertainment, and business.\n",
       "\n",
       "**Pros and Cons:**\n",
       "\n",
       "| **Pros**                                           | **Cons**                                           |\n",
       "|---------------------------------------------------|---------------------------------------------------|\n",
       "| **Enhanced Creativity and Innovation**: Generative AI can produce unique content, designs, and solutions that may not be easily conceived by humans, fostering creativity and driving innovation across various fields such as art, music, and product design. | **Ethical Concerns**: Generative AI can produce content that may perpetuate biases, misinformation, or harmful stereotypes, raising ethical questions about accountability and the potential for misuse in various applications, such as deepfakes or propaganda. |\n",
       "| **Increased Efficiency and Productivity**: By automating repetitive tasks and generating high-quality outputs quickly, generative AI can significantly reduce the time and effort required for content creation, allowing professionals to focus on more strategic and complex aspects of their work. | **Intellectual Property Issues**: The ability of generative AI to create content that closely resembles existing works can lead to legal disputes over copyright and ownership, complicating the landscape for creators and businesses relying on original content. |\n",
       "| **Personalization and Customization**: Generative AI enables the creation of highly personalized experiences and products tailored to individual preferences, enhancing customer satisfaction and engagement in industries like marketing, entertainment, and e-commerce. | **Job Displacement**: As generative AI becomes more capable of performing tasks traditionally done by humans, there is a growing concern about job displacement in creative fields, potentially leading to economic instability and a shift in workforce demands. |"
      ],
      "text/plain": [
       "<IPython.core.display.Markdown object>"
      ]
     },
     "metadata": {},
     "output_type": "display_data"
    }
   ],
   "source": [
    "from IPython.display import Markdown, display\n",
    "\n",
    "display(Markdown(response))"
   ]
  },
  {
   "cell_type": "code",
   "execution_count": null,
   "id": "d1736cf6",
   "metadata": {},
   "outputs": [],
   "source": []
  }
 ],
 "metadata": {
  "kernelspec": {
   "display_name": ".venv",
   "language": "python",
   "name": "python3"
  },
  "language_info": {
   "codemirror_mode": {
    "name": "ipython",
    "version": 3
   },
   "file_extension": ".py",
   "mimetype": "text/x-python",
   "name": "python",
   "nbconvert_exporter": "python",
   "pygments_lexer": "ipython3",
   "version": "3.11.6"
  }
 },
 "nbformat": 4,
 "nbformat_minor": 5
}
