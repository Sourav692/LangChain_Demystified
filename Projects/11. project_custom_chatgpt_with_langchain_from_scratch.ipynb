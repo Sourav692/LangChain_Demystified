{
 "cells": [
  {
   "cell_type": "markdown",
   "id": "1ee13fd6",
   "metadata": {},
   "source": [
    "Refer:\n",
    "https://www.udemy.com/course/master-langchain-pinecone-openai-build-llm-applications/"
   ]
  },
  {
   "cell_type": "markdown",
   "id": "12788d45",
   "metadata": {},
   "source": [
    "## Project: Implementing a ChatGPT App with LangChain from Scratch\n",
    "\n"
   ]
  },
  {
   "cell_type": "code",
   "execution_count": 1,
   "id": "fa87ee22-e401-4ee6-b759-adab2e3fe853",
   "metadata": {},
   "outputs": [
    {
     "name": "stdout",
     "output_type": "stream",
     "text": [
      "Note: you may need to restart the kernel to use updated packages.\n",
      "Note: you may need to restart the kernel to use updated packages.\n",
      "Note: you may need to restart the kernel to use updated packages.\n"
     ]
    }
   ],
   "source": [
    "%pip install -qq langchain \n",
    "%pip install -qq langchain-community\n",
    "%pip install -qq openai \n"
   ]
  },
  {
   "cell_type": "code",
   "execution_count": 2,
   "id": "3797dae5",
   "metadata": {},
   "outputs": [],
   "source": [
    "from dotenv import load_dotenv, find_dotenv\n",
    "load_dotenv(find_dotenv(), override=True)\n",
    "\n",
    "from langchain_openai import ChatOpenAI\n",
    "\n",
    "from langchain.schema import SystemMessage\n",
    "from langchain.chains import LLMChain\n",
    "from langchain.prompts import ChatPromptTemplate, HumanMessagePromptTemplate"
   ]
  },
  {
   "cell_type": "code",
   "execution_count": 5,
   "id": "60530a1d",
   "metadata": {},
   "outputs": [],
   "source": [
    "\n",
    "\n",
    "# from langchain_core.output_parsers import StrOutputParser\n",
    "\n",
    "# llm = ChatOpenAI(model_name='gpt-3.5-turbo', temperature=1)\n",
    "\n",
    "# prompt = ChatPromptTemplate(\n",
    "#     input_variables=[\"content\"],\n",
    "#     messages=[\n",
    "#         SystemMessage(content=\"You are a chatbot having a conversation with a human.\"),\n",
    "#         SystemMessage(content='You respond only in English.'),\n",
    "#         HumanMessagePromptTemplate.from_template(\"{content}\")\n",
    "#     ]\n",
    "# )\n",
    "\n",
    "# chain = prompt | llm | StrOutputParser()\n",
    "\n",
    "# while True:\n",
    "#     content = input('Your prompt: ')\n",
    "#     if content.lower() in ['quit','q', 'exit', 'bye']:\n",
    "#         print('Goodbye!')\n",
    "#         break\n",
    "    \n",
    "#     response = chain.invoke({'content': content})\n",
    "#     print(response)\n",
    "#     print('-' * 50)\n",
    "    "
   ]
  },
  {
   "cell_type": "code",
   "execution_count": 6,
   "id": "daaa7906",
   "metadata": {},
   "outputs": [],
   "source": [
    "llm = ChatOpenAI(model_name='gpt-3.5-turbo', temperature=1)"
   ]
  },
  {
   "cell_type": "markdown",
   "id": "1370c0b7",
   "metadata": {},
   "source": [
    "## Adding Chat Memory Using ConversationBufferMemory"
   ]
  },
  {
   "cell_type": "code",
   "execution_count": 15,
   "id": "c0a3e2d8",
   "metadata": {},
   "outputs": [
    {
     "name": "stdout",
     "output_type": "stream",
     "text": [
      "Hello! I'm just a chatbot, so I don't have feelings, but I'm here to help you. How can I assist you today?\n"
     ]
    }
   ],
   "source": [
    "from dotenv import load_dotenv, find_dotenv\n",
    "load_dotenv(find_dotenv(), override=False) \n",
    "\n",
    "from langchain_openai import ChatOpenAI\n",
    "from langchain.schema import SystemMessage, HumanMessage, AIMessage\n",
    "from langchain.chains import LLMChain\n",
    "\n",
    "# 1. Imports\n",
    "from langchain.memory import ConversationBufferMemory\n",
    "from langchain.prompts import ChatPromptTemplate, HumanMessagePromptTemplate, MessagesPlaceholder\n",
    "from langchain.schema.runnable import RunnablePassthrough, RunnableLambda\n",
    "\n",
    "\n",
    "llm = ChatOpenAI(model_name='gpt-3.5-turbo', temperature=1)\n",
    "\n",
    "# 2. Create memory \n",
    "memory = ConversationBufferMemory(\n",
    "    return_messages=True\n",
    ")\n",
    "\n",
    "# creating our conversation chain now\n",
    "def get_memory_messages(query):\n",
    "    return memory.load_memory_variables({})['history']\n",
    "\n",
    "\n",
    "# 3. add  MessagesPlaceholder(variable_name='messages') to the prompt\n",
    "prompt = ChatPromptTemplate(\n",
    "    input_variables=[\"content\"],\n",
    "    messages=[\n",
    "        SystemMessage(content=\"You are a chatbot having a conversation with a human.\"),\n",
    "        MessagesPlaceholder(variable_name=\"chat_history\"), # Where the memory will be stored.\n",
    "        HumanMessagePromptTemplate.from_template(\"{content}\")\n",
    "    ]\n",
    ")\n",
    "\n",
    "\n",
    "conversation_chain = (\n",
    "    RunnablePassthrough.assign(\n",
    "        chat_history=RunnableLambda(get_memory_messages)\n",
    "    ) # sends current query (input by user at runtime) and history messages to next step\n",
    "      |\n",
    "    prompt # creates prompt using the previous two variables\n",
    "      |\n",
    "    llm # generates response using the prompt from previous step\n",
    ")\n",
    "\n",
    "# # 4. Add the memory to the chain using LLMChain (memory cannot be used directly in LCEL pipes)\n",
    "# chain = LLMChain(\n",
    "#     llm=llm,\n",
    "#     prompt=prompt,\n",
    "#     memory=memory,\n",
    "#     verbose=False\n",
    "# )\n",
    "\n",
    "# 5. Function to handle conversation with memory\n",
    "def chat_with_memory(user_input):\n",
    "    # Get response from chain\n",
    "    response = conversation_chain.invoke({'content': user_input})\n",
    "    \n",
    "    # Save the conversation to memory\n",
    "    memory.save_context(\n",
    "        {\"input\": user_input},\n",
    "        {\"output\": response.content}\n",
    "    )\n",
    "    \n",
    "    return response\n",
    "\n",
    "# Usage\n",
    "response = chat_with_memory('Hello, how are you?')\n",
    "print(response.content)"
   ]
  },
  {
   "cell_type": "code",
   "execution_count": 16,
   "id": "d87ac508",
   "metadata": {},
   "outputs": [
    {
     "name": "stdout",
     "output_type": "stream",
     "text": [
      "{'history': [HumanMessage(content='Hello, how are you?', additional_kwargs={}, response_metadata={}), AIMessage(content=\"Hello! I'm just a chatbot, so I don't have feelings, but I'm here to help you. How can I assist you today?\", additional_kwargs={}, response_metadata={})]}\n"
     ]
    }
   ],
   "source": [
    "print(memory.load_memory_variables({}))"
   ]
  },
  {
   "cell_type": "code",
   "execution_count": 18,
   "id": "5edbd50a",
   "metadata": {},
   "outputs": [
    {
     "name": "stdout",
     "output_type": "stream",
     "text": [
      "[HumanMessage(content='Hello, how are you?', additional_kwargs={}, response_metadata={}), AIMessage(content=\"Hello! I'm just a chatbot, so I don't have feelings, but I'm here to help you. How can I assist you today?\", additional_kwargs={}, response_metadata={})]\n"
     ]
    }
   ],
   "source": [
    "print(memory.load_memory_variables({})['history'])"
   ]
  },
  {
   "cell_type": "code",
   "execution_count": null,
   "id": "50f85e55",
   "metadata": {},
   "outputs": [],
   "source": [
    "while True:\n",
    "    content = input('Your prompt: ')\n",
    "    if content.lower() in ['quit', 'exit', 'bye']:\n",
    "        print('Goodbye!')\n",
    "        break\n",
    "    \n",
    "    response = chain.invoke({'content': content})\n",
    "    print(response['text'])\n",
    "    print('-' * 50)"
   ]
  },
  {
   "cell_type": "markdown",
   "id": "28677aa0",
   "metadata": {},
   "source": [
    "## Saving Chat Sessions"
   ]
  },
  {
   "cell_type": "code",
   "execution_count": null,
   "id": "723b59ed",
   "metadata": {},
   "outputs": [
    {
     "name": "stderr",
     "output_type": "stream",
     "text": [
      "/var/folders/8v/xkrl1q210t5_4t4hvbx286800000gp/T/ipykernel_66614/211088997.py:32: LangChainDeprecationWarning: The class `LLMChain` was deprecated in LangChain 0.1.17 and will be removed in 1.0. Use :meth:`~RunnableSequence, e.g., `prompt | llm`` instead.\n",
      "  chain = LLMChain(\n"
     ]
    },
    {
     "name": "stdout",
     "output_type": "stream",
     "text": [
      "{'content': 'hi', 'chat_history': [], 'text': 'Hello! How are you today?'}\n",
      "--------------------------------------------------\n",
      "Goodbye!\n"
     ]
    }
   ],
   "source": [
    "from dotenv import load_dotenv, find_dotenv\n",
    "load_dotenv(find_dotenv(), override=False) \n",
    "\n",
    "from langchain_openai import ChatOpenAI\n",
    "from langchain.schema import SystemMessage\n",
    "from langchain.chains import LLMChain\n",
    "\n",
    "# 1. Import FileChatMessageHistory\n",
    "from langchain.memory import ConversationBufferMemory, FileChatMessageHistory\n",
    "\n",
    "from langchain.prompts import ChatPromptTemplate, HumanMessagePromptTemplate, MessagesPlaceholder\n",
    "\n",
    "llm = ChatOpenAI(model_name='gpt-3.5-turbo', temperature=1)\n",
    "\n",
    "# 2. Add an additional keyword argument to the ConversationBufferMemory() constructor\n",
    "history = FileChatMessageHistory('chat_history.json')\n",
    "memory = ConversationBufferMemory(\n",
    "    memory_key='chat_history',\n",
    "    chat_memory=history,\n",
    "    return_messages=True\n",
    ")\n",
    "\n",
    "prompt = ChatPromptTemplate(\n",
    "    input_variables=[\"content\", \"chat_history\"],\n",
    "    messages=[\n",
    "        SystemMessage(content=\"You are a chatbot having a conversation with a human.\"),\n",
    "        MessagesPlaceholder(variable_name=\"chat_history\"), \n",
    "        HumanMessagePromptTemplate.from_template(\"{content}\")\n",
    "    ]\n",
    ")\n",
    "\n",
    "chain = LLMChain(\n",
    "    llm=llm,\n",
    "    prompt=prompt,\n",
    "    memory=memory,\n",
    "    verbose=False\n",
    ")\n",
    "\n",
    "while True:\n",
    "    content = input('Your prompt: ')\n",
    "    if content.lower() in ['quit', 'exit', 'bye']:\n",
    "        print('Goodbye!')\n",
    "        break\n",
    "    \n",
    "    response = chain.invoke({'content': content})\n",
    "    print(response)\n",
    "    print('-' * 50)\n",
    "    "
   ]
  },
  {
   "cell_type": "code",
   "execution_count": 20,
   "id": "42074641",
   "metadata": {
    "scrolled": true
   },
   "outputs": [
    {
     "name": "stdout",
     "output_type": "stream",
     "text": [
      "[HumanMessage(content='hi', additional_kwargs={}, response_metadata={}), AIMessage(content='Hello! How are you today?', additional_kwargs={}, response_metadata={})]\n"
     ]
    }
   ],
   "source": [
    "# The messages property contains the list of messages in order.\n",
    "print(history.messages)"
   ]
  },
  {
   "cell_type": "code",
   "execution_count": null,
   "id": "32cfdd50",
   "metadata": {},
   "outputs": [],
   "source": []
  }
 ],
 "metadata": {
  "kernelspec": {
   "display_name": ".venv",
   "language": "python",
   "name": "python3"
  },
  "language_info": {
   "codemirror_mode": {
    "name": "ipython",
    "version": 3
   },
   "file_extension": ".py",
   "mimetype": "text/x-python",
   "name": "python",
   "nbconvert_exporter": "python",
   "pygments_lexer": "ipython3",
   "version": "3.12.10"
  },
  "widgets": {
   "application/vnd.jupyter.widget-state+json": {
    "state": {},
    "version_major": 2,
    "version_minor": 0
   }
  }
 },
 "nbformat": 4,
 "nbformat_minor": 5
}
