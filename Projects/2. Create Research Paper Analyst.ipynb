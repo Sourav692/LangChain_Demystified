{
 "cells": [
  {
   "cell_type": "markdown",
   "id": "d1001434",
   "metadata": {},
   "source": [
    "## Call Notebook to Setup Environment and Initial Imports"
   ]
  },
  {
   "cell_type": "code",
   "execution_count": 1,
   "id": "b358e3ca",
   "metadata": {},
   "outputs": [],
   "source": [
    "%run \"Setup_Env.ipynb\""
   ]
  },
  {
   "cell_type": "markdown",
   "id": "c9064318",
   "metadata": {},
   "source": [
    "## Mini-Project 2: Research Paper Analyst\n",
    "\n",
    "Make ChatGPT act as an AI expert and transform the given research paper abstract based on the nature of the audience mentioned below.\n",
    "\n",
    "- Short summary of maximum 10 lines for a general audience\n",
    "- Detailed report for a healthcare company. Have bullet points for pros and cons of ethics in Generative AI as mentioned in the paper\n",
    "- Detailed report for a generative AI company solving healthcare problems. Have bullet points for key points mentioned for Generative AI for text, images and structured data based healthcare\n",
    "\n",
    "Try to use `ChatPromptTemplate` so you can have a conversation with ChatGPT for each of the above tasks using conversational prompting"
   ]
  },
  {
   "cell_type": "markdown",
   "id": "e7c3e3a0",
   "metadata": {},
   "source": [
    "### Research Paper Abstract"
   ]
  },
  {
   "cell_type": "code",
   "execution_count": 2,
   "id": "da953856",
   "metadata": {},
   "outputs": [],
   "source": [
    "paper_abstract = f\"\"\"\n",
    "The widespread use of ChatGPT and other emerging technology powered by generative\n",
    "artificial intelligence (AI) has drawn much attention to potential ethical issues, especially in\n",
    "high-stakes applications such as healthcare.1–3 However, less clear is how to resolve such\n",
    "issues beyond following guidelines and regulations that are still under discussion and\n",
    "development. On the other hand, other types of generative AI have been used to synthesize\n",
    "images and other types of data for research and practical purposes, which have resolved some\n",
    "ethical issues and exposed other ethical issues,4,5 but such technology is less often the focus\n",
    "of ongoing ethical discussions. Here we highlight gaps in current ethical discussions of\n",
    "generative AI via a systematic scoping review of relevant existing research in healthcare, and\n",
    "reduce the gaps by proposing an ethics checklist for comprehensive assessment and\n",
    "transparent documentation of ethical discussions in generative AI development. While the\n",
    "checklist can be readily integrated into the current peer review and publication system to\n",
    "enhance generative AI research, it may also be used in broader settings to disclose ethicsrelated considerations in generative AI-powered products (or real-life applications of such\n",
    "products) to help users establish reasonable trust in their capabilities.\n",
    "\n",
    "Current ethical discussions on generative AI in healthcare\n",
    "We conducted a systematic scoping review to analyse current ethical discussions on\n",
    "generative AI in healthcare. Our search in four major academic research databases for\n",
    "relevant publications from January 2013 to July 2023 yielded 2859 articles (see Methods for\n",
    "detailed search strategy and Supplementary Figure S1 for the PRISMA flow diagram), of\n",
    "which 193 articles were included for analysis based on application data modality (text, image,\n",
    "or structured data), ethical issues discussed, generative AI involved, and whether generative\n",
    "AI causes or offers technical solutions for issues raised.\n",
    "\n",
    "Generative AI for text data-based healthcare\n",
    "Forty-one of the 193 articles discussed ethical considerations pertaining to generative AI\n",
    "applications for text data, with 20 articles describing methodological developments or\n",
    "applications of generative AI and the other 21 articles describing review-type works on this\n",
    "topic. Although some of these review-type articles used the general term “generative AI”, the\n",
    "main body and supporting evidence focused on LLMs. Twenty-nine articles had in-depth\n",
    "discussions on ethical issues, whereas the other 12 articles only briefly touched on some\n",
    "ethical aspects.\n",
    "Among the 41 articles, 29 articles focused on discussing ethical issues caused by LLMs (and\n",
    "specifically by GPT in 16 of the articles), covering a wide range of application scenarios and\n",
    "considered the application of all 10 ethical principles identified in the review (see Figure 1),\n",
    "as well as other less discussed concerns such as human-AI interaction, and the rights of\n",
    "LLMs to be considered as co-authors in scientific papers. One paper only commented briefly\n",
    "on the need for ethical considerations in LLMs and is summarised in the “Others” category.\n",
    "Although all ethical principles are equally important, some are discussed more often than\n",
    "others, e.g., non-maleficence (also referred to in the literature as ‘benevolence’), equity, and\n",
    "privacy.\n",
    "Fifteen of the 41 articles aimed to resolve some existing ethical issues (for example,\n",
    "confidentiality of medical data) by using LLMs and other generative AI (e.g., GAN,\n",
    "autoencoder or diffusion), such as, to reduce privacy concerns by generating synthetic\n",
    "medical text, to reduce disparity by providing accessible services and assistance, to detect\n",
    "health-related misinformation, to generate trusted content, and to improve accountability or\n",
    "transparency over existing approaches. While most articles focused on either identifying\n",
    "ethical issues caused by generative AI or proposing generative AI-based solutions, three\n",
    "articles discussed both to provide a more balanced perspective.\n",
    "\n",
    "Generative AI for image and structured data-based healthcare\n",
    "Unlike the diverse application scenarios of generative AI based on text data, for image and\n",
    "structured data, this use of generative AI focuses on data synthesis and encryption. Hence the\n",
    "majority of articles discussed the methodological developments of generative AI as giving\n",
    "rise to a more distinctive and focused set of ethical issues.\n",
    "5\n",
    "Notably, of the 98 articles on image data and 58 articles on structured data, more than half\n",
    "(n=63 for image data and n=33 for structured data) only mentioned ethical considerations as a\n",
    "brief motivation for methodological developments or as a general discussion point. The rest\n",
    "included more in-depth discussions or evaluations of ethical issues. Among these 155 articles\n",
    "(as one article covered multiple modalities), 11 articles were review-type work, where 10\n",
    "articles reviewed methods that mentioned one or two ethical perspectives, and only one\n",
    "article24 discussed detailed ethical concerns on generative AI applications.\n",
    "Resolving privacy issues was the main aim of articles for these two data modalities (n=74 for\n",
    "image data and n=50 for structured data; see Figure 1), predominantly by generating synthetic\n",
    "data using GAN. Eight articles on image data and 9 articles on structured data used\n",
    "generative AI to reduce bias, e.g., by synthesizing data for under-represented subgroups in\n",
    "existing databases. For both data modalities, we did not see explicit discussions on resolving\n",
    "autonomy, integrity, or morality issues using generative AI, and for structured data the articles\n",
    "additionally lacked discussions on trust or transparency.\n",
    "Only 11 articles for image data selectively discussed some ethical issues that generative AI\n",
    "can give rise to, without specific discussions regarding autonomy, integrity, or morality. For\n",
    "structured data, only 4 articles discussed equity, privacy, or data security issues caused by\n",
    "generative AI. Only two articles on structured data included both the cause and resolving\n",
    "perspectives by discussing ethical issues that may arise from limitations of methods\n",
    "proposed, specifically bias induced when synthesizing data in order to resolve privacy issues.\n",
    "\"\"\""
   ]
  },
  {
   "cell_type": "markdown",
   "id": "aa068760",
   "metadata": {},
   "source": [
    "### Create a prompt template for paper analysis and transformation"
   ]
  },
  {
   "cell_type": "code",
   "execution_count": 7,
   "id": "9eacf311",
   "metadata": {},
   "outputs": [],
   "source": [
    "SYS_PROMPT = \"\"\"\n",
    "Act as a Artificial Intelligence Expert.\n",
    "Transform the input research paper abstract given below\n",
    "based on the instruction input by the user.\n",
    "\"\"\"\n",
    "prompt = ChatPromptTemplate.from_messages(\n",
    "    [\n",
    "        (\"system\", SYS_PROMPT),\n",
    "        (\"human\", \"{instruction}\"),\n",
    "    ]\n",
    ")\n",
    "\n",
    "prompt_value = prompt.invoke({\"instruction\": \"Create Short summary of maximum 10 lines for a general audience on Transformers\"})"
   ]
  },
  {
   "cell_type": "code",
   "execution_count": 8,
   "id": "9a845bae",
   "metadata": {},
   "outputs": [
    {
     "name": "stdout",
     "output_type": "stream",
     "text": [
      "System Message:\n",
      "\n",
      "Act as a Artificial Intelligence Expert.\n",
      "Transform the input research paper abstract given below\n",
      "based on the instruction input by the user.\n",
      "\n",
      "\n",
      "Human Message:\n",
      "Create Short summary of maximum 10 lines for a general audience on Transformers\n",
      "\n",
      "Type of chat_prompt:\n",
      "<class 'langchain_core.prompt_values.ChatPromptValue'>\n",
      "\n",
      "Type of chat_prompt.messages:\n",
      "<class 'list'>\n",
      "\n",
      "Type of chat_prompt.messages[0]:\n",
      "<class 'langchain_core.messages.system.SystemMessage'>\n",
      "\n",
      "Type of chat_prompt.messages[1]:\n",
      "<class 'langchain_core.messages.human.HumanMessage'>\n",
      "\n",
      "Type of prompt:\n",
      "<class 'langchain_core.prompts.chat.ChatPromptTemplate'>\n",
      "\n",
      "chat_prompt:\n",
      "messages=[SystemMessage(content='\\nAct as a Artificial Intelligence Expert.\\nTransform the input research paper abstract given below\\nbased on the instruction input by the user.\\n', additional_kwargs={}, response_metadata={}), HumanMessage(content='Create Short summary of maximum 10 lines for a general audience on Transformers', additional_kwargs={}, response_metadata={})]\n"
     ]
    }
   ],
   "source": [
    "# Access individual messages from the chat prompt\n",
    "system_message = chat_prompt.messages[0]  # Get the SystemMessage\n",
    "human_message = chat_prompt.messages[1]   # Get the HumanMessage\n",
    "\n",
    "print(\"System Message:\")\n",
    "print(system_message.content)\n",
    "print(\"\\nHuman Message:\")\n",
    "print(human_message.content)\n",
    "print(\"\\nType of chat_prompt:\")\n",
    "print(type(prompt_value))\n",
    "print(\"\\nType of chat_prompt.messages:\")\n",
    "print(type(prompt_value.messages))\n",
    "print(\"\\nType of chat_prompt.messages[0]:\")\n",
    "print(type(prompt_value.messages[0]))\n",
    "print(\"\\nType of chat_prompt.messages[1]:\")\n",
    "print(type(prompt_value.messages[1]))\n",
    "print(\"\\nType of prompt:\")\n",
    "print(type(prompt))\n",
    "print(\"\\nchat_prompt:\")\n",
    "print(chat_prompt)"
   ]
  },
  {
   "cell_type": "markdown",
   "id": "ef4c9ab6",
   "metadata": {},
   "source": [
    "#### Use ChatPromptValue and use LLM to invoke directly\n"
   ]
  },
  {
   "cell_type": "code",
   "execution_count": 10,
   "id": "5e2a70db",
   "metadata": {},
   "outputs": [
    {
     "name": "stdout",
     "output_type": "stream",
     "text": [
      "Transformers are a type of artificial intelligence model that excel in processing and understanding language. They work by using a mechanism called \"attention,\" which allows them to focus on different parts of a sentence or text simultaneously, making them highly effective for tasks like translation, summarization, and text generation. Unlike traditional models that process data sequentially, Transformers analyze entire sequences at once, leading to faster and more accurate results. They have revolutionized natural language processing and are the backbone of many advanced AI applications, including chatbots and virtual assistants. Their ability to learn from vast amounts of text data has made them a cornerstone in the development of AI technologies.\n"
     ]
    }
   ],
   "source": [
    "response_with_chat_prompt_value = chatgpt.invoke(prompt_value)\n",
    "print(response_with_chat_prompt_value.content)"
   ]
  },
  {
   "cell_type": "markdown",
   "id": "a8487fbb",
   "metadata": {},
   "source": [
    "#### Use Chain and use PromptTemplate"
   ]
  },
  {
   "cell_type": "code",
   "execution_count": 11,
   "id": "084c08bd",
   "metadata": {},
   "outputs": [
    {
     "name": "stdout",
     "output_type": "stream",
     "text": [
      "Transformers are a type of artificial intelligence model that have revolutionized the field of natural language processing. Introduced in 2017, they use a mechanism called \"attention\" to weigh the importance of different words in a sentence, allowing them to understand context better than previous models. This architecture enables Transformers to generate coherent text, translate languages, and even create art. They are the backbone of many popular AI applications, including chatbots and virtual assistants. Their ability to learn from vast amounts of data has made them incredibly powerful, leading to significant advancements in how machines understand and generate human language.\n"
     ]
    }
   ],
   "source": [
    "chain = prompt | chatgpt\n",
    "\n",
    "response_with_chain = chain.invoke({\"instruction\": \"Short summary of maximum 10 lines for a general audience on Transformers\"})\n",
    "print(response_with_chain.content)"
   ]
  },
  {
   "cell_type": "markdown",
   "id": "6109cd75",
   "metadata": {},
   "source": [
    "#### Pass Prompt_Text Directly "
   ]
  },
  {
   "cell_type": "code",
   "execution_count": 13,
   "id": "ae072c0d",
   "metadata": {},
   "outputs": [
    {
     "name": "stdout",
     "output_type": "stream",
     "text": [
      "Transformers are a type of artificial intelligence model that have revolutionized the field of natural language processing. Introduced in 2017, they use a mechanism called \"attention\" to weigh the importance of different words in a sentence, allowing them to understand context better than previous models. This architecture enables Transformers to generate coherent text, translate languages, and even create art. They are the backbone of many popular AI applications, including chatbots and virtual assistants. Their ability to learn from vast amounts of data has made them highly effective in various tasks, making them a cornerstone of modern AI research and development.\n"
     ]
    }
   ],
   "source": [
    "print(chain.invoke({\"instruction\": \"Short summary of maximum 10 lines for a general audience on Transformers\"}).content)"
   ]
  },
  {
   "cell_type": "markdown",
   "id": "518ea255",
   "metadata": {},
   "source": [
    "#### use HumanMessage Directly"
   ]
  },
  {
   "cell_type": "code",
   "execution_count": null,
   "id": "27d8b4bc",
   "metadata": {},
   "outputs": [],
   "source": [
    "from langchain_core.messages import HumanMessage\n",
    "\n",
    "prompt_txt = f\"\"\"\n",
    "Based on the following research paper abstract, create the summary report of maximum 10 lines for a general audience\n",
    "\n",
    "Abstract:\n",
    "{paper_abstract}\n",
    "\"\"\"\n",
    "\n",
    "messages = [HumanMessage(content=prompt_txt)]\n",
    "user_instruction = {'instruction': messages}\n",
    "response = chain.invoke(user_instruction)\n",
    "print(response.content)"
   ]
  },
  {
   "cell_type": "markdown",
   "id": "009c177a",
   "metadata": {},
   "source": [
    "As we want to create a conversational bot where the output of each step would be used in next step so we are using HumanMessage() format here"
   ]
  },
  {
   "cell_type": "markdown",
   "id": "44a4b270",
   "metadata": {},
   "source": [
    "✅ Use when chain.invoke({\"instruction\": prompt_txt}): \n",
    "*  You are using ChatPromptTemplate with placeholders like {instruction}\n",
    "* Your input is a dictionary mapping prompt variables to string values\n",
    "* The chain expects a simple dict[str, str] input and takes care of formatting internally\n",
    "* You are not manually constructing LangChain message objects (HumanMessage, AIMessage, etc.)\n",
    "\n",
    "\n",
    "🧠 Behind the scenes:\n",
    "\n",
    "LangChain internally converts the string into a HumanMessage and passes it along with the system message."
   ]
  },
  {
   "cell_type": "markdown",
   "id": "3c48114c",
   "metadata": {},
   "source": [
    "✅ Use when messages = [HumanMessage(content=prompt_txt)]:\n",
    "* You want fine-grained control over messages.\n",
    "* You need to pass in already constructed message objects, like HumanMessage, AIMessage, or SystemMessage.\n",
    "* You’re working with chains that support or require message object input, for example, if you’re mixing Runnable objects or building custom chat workflows.\n",
    "\n",
    "🚨 Important:\n",
    "\n",
    "This approach only works if the prompt template (ChatPromptTemplate) can accept ChatMessage objects instead of just strings."
   ]
  },
  {
   "cell_type": "markdown",
   "id": "d4915d97",
   "metadata": {},
   "source": [
    "Only use the HumanMessage list style when:\n",
    "* You’re interacting directly with the LLM class (like chatgpt.invoke([...]))\n",
    "* You are building a custom message flow, e.g., simulating prior conversations."
   ]
  },
  {
   "cell_type": "code",
   "execution_count": 14,
   "id": "7c064fcc",
   "metadata": {},
   "outputs": [
    {
     "name": "stdout",
     "output_type": "stream",
     "text": [
      "The increasing use of generative artificial intelligence (AI), like ChatGPT, raises important ethical concerns, particularly in healthcare. This research highlights the gaps in current ethical discussions surrounding generative AI by reviewing 2,859 articles published between 2013 and 2023. The study found that while many articles address ethical issues related to text-based generative AI, fewer focus on image and structured data applications. A proposed ethics checklist aims to enhance transparency and accountability in generative AI development, helping users trust these technologies. The checklist can be integrated into existing peer review processes and used in various settings to ensure ethical considerations are documented and addressed. Overall, the research emphasizes the need for comprehensive ethical frameworks as generative AI continues to evolve.\n"
     ]
    }
   ],
   "source": [
    "from langchain_openai import ChatOpenAI\n",
    "from langchain_core.prompts import ChatPromptTemplate\n",
    "from langchain_core.messages import HumanMessage, SystemMessage\n",
    "\n",
    "# Initialize the chat model\n",
    "chatgpt = ChatOpenAI(model_name=\"gpt-4o-mini\", temperature=0)\n",
    "\n",
    "# Define system prompt for context\n",
    "sys_prompt = \"\"\"Act as an Artificial Intelligence Expert. \n",
    "Transform the input research paper abstract based on the instruction input by the user.\"\"\"\n",
    "\n",
    "# Create a prompt template\n",
    "chat_prompt = ChatPromptTemplate.from_messages([\n",
    "    (\"system\", sys_prompt),\n",
    "    (\"human\", \"{instruction}\")\n",
    "])\n",
    "\n",
    "# Define reusable function for invoking chat with instruction\n",
    "def generate_response(instruction_text: str) -> str:\n",
    "    messages = [HumanMessage(content=instruction_text)]\n",
    "    user_instruction = {'instruction': messages}\n",
    "    return chatgpt.invoke(chat_prompt.format_messages(**user_instruction))\n",
    "\n",
    "# Example research paper abstract\n",
    "paper_abstract = paper_abstract\n",
    "\n",
    "# First task: Create a summary report\n",
    "summary_instruction = f\"\"\"\n",
    "Based on the following research paper abstract, create a summary report of maximum 10 lines for a general audience.\n",
    "\n",
    "Abstract:\n",
    "{paper_abstract}\n",
    "\"\"\"\n",
    "response = generate_response(summary_instruction)\n",
    "print(response.content)"
   ]
  },
  {
   "cell_type": "code",
   "execution_count": 15,
   "id": "45d1f617",
   "metadata": {},
   "outputs": [
    {
     "name": "stdout",
     "output_type": "stream",
     "text": [
      "Summary Report:\n",
      " The increasing use of generative artificial intelligence (AI), such as ChatGPT, raises important ethical concerns, particularly in sensitive fields like healthcare. This research paper reviews existing literature on these ethical issues and identifies gaps in current discussions. It proposes an ethics checklist to help researchers and developers assess and document ethical considerations in generative AI applications. The review analyzed 2,859 articles, focusing on both text and image data, revealing that while many studies highlight ethical challenges, few offer solutions. The checklist aims to enhance transparency and trust in generative AI technologies, ensuring that ethical principles are integrated into their development and use.\n",
      "Detailed Report:\n",
      " **Detailed Report on Ethical Considerations of Generative AI in Healthcare**\n",
      "\n",
      "**Introduction:**\n",
      "The integration of generative artificial intelligence (AI) technologies, such as ChatGPT, into healthcare has raised significant ethical concerns. This report synthesizes findings from a systematic scoping review of existing research on the ethical implications of generative AI in healthcare, highlighting the need for a comprehensive ethics checklist to guide the development and application of these technologies.\n",
      "\n",
      "**Key Findings:**\n",
      "- **Current Ethical Landscape:** The review identified 2859 articles, with 193 selected for in-depth analysis. The focus was on ethical issues related to generative AI applications in healthcare, particularly concerning text, image, and structured data.\n",
      "- **Text Data Applications:** A significant portion of the literature (41 articles) discussed ethical considerations in generative AI applications for text data, with a focus on large language models (LLMs). Key ethical principles such as non-maleficence, equity, and privacy were frequently addressed.\n",
      "- **Image and Structured Data Applications:** The ethical discussions surrounding generative AI for image and structured data were less comprehensive, with many articles only briefly mentioning ethical considerations. The primary focus was on resolving privacy issues through data synthesis.\n",
      "\n",
      "**Proposed Ethics Checklist:**\n",
      "To address the identified gaps in ethical discussions, an ethics checklist is proposed for the comprehensive assessment and transparent documentation of ethical considerations in generative AI development. This checklist can be integrated into peer review processes and used in real-world applications to foster user trust.\n",
      "\n",
      "**Pros and Cons of Ethics in Generative AI:**\n",
      "\n",
      "**Pros:**\n",
      "- **Enhanced Trust:** A structured approach to ethics can help establish user trust in generative AI applications, ensuring that stakeholders are aware of ethical considerations and potential risks.\n",
      "- **Guidance for Development:** An ethics checklist provides a framework for developers to address ethical issues proactively, leading to more responsible and accountable AI technologies.\n",
      "- **Improved Outcomes:** By focusing on ethical principles, generative AI can be leveraged to improve healthcare outcomes, such as reducing disparities and enhancing data privacy.\n",
      "\n",
      "**Cons:**\n",
      "- **Complexity of Implementation:** Developing and integrating an ethics checklist into existing systems may be complex and resource-intensive, potentially slowing down innovation.\n",
      "- **Potential for Overregulation:** Striking a balance between ethical oversight and innovation is challenging; excessive regulation may hinder the development of beneficial AI technologies.\n",
      "- **Evolving Nature of Ethics:** Ethical considerations in AI are continually evolving, making it difficult to create a static checklist that remains relevant over time.\n",
      "\n",
      "**Conclusion:**\n",
      "The ethical implications of generative AI in healthcare are multifaceted and require ongoing dialogue and assessment. By implementing a comprehensive ethics checklist, stakeholders can navigate the complexities of ethical considerations, ultimately leading to more responsible and effective use of generative AI technologies in healthcare.\n",
      "Summary\n",
      "content='The increasing use of generative artificial intelligence (AI), particularly in healthcare, raises important ethical concerns. This research highlights gaps in current ethical discussions surrounding generative AI applications, especially in high-stakes areas like healthcare. A systematic review of 2,859 articles revealed that while many focus on ethical issues related to text data, fewer address those concerning image and structured data. The study proposes an ethics checklist to guide the assessment and documentation of ethical considerations in generative AI development. This checklist aims to enhance transparency and trust in AI-powered healthcare products, ensuring that ethical principles such as privacy, equity, and accountability are adequately addressed. Overall, the research emphasizes the need for comprehensive ethical frameworks as generative AI continues to evolve and integrate into various applications.' additional_kwargs={'refusal': None} response_metadata={'token_usage': {'completion_tokens': 149, 'prompt_tokens': 1275, 'total_tokens': 1424, 'completion_tokens_details': {'accepted_prediction_tokens': 0, 'audio_tokens': 0, 'reasoning_tokens': 0, 'rejected_prediction_tokens': 0}, 'prompt_tokens_details': {'audio_tokens': 0, 'cached_tokens': 0}}, 'model_name': 'gpt-4o-mini-2024-07-18', 'system_fingerprint': 'fp_34a54ae93c', 'finish_reason': 'stop', 'logprobs': None} id='run--8907aca1-4948-4bf8-a232-73ab2272c248-0' usage_metadata={'input_tokens': 1275, 'output_tokens': 149, 'total_tokens': 1424, 'input_token_details': {'audio': 0, 'cache_read': 0}, 'output_token_details': {'audio': 0, 'reasoning': 0}}\n"
     ]
    }
   ],
   "source": [
    "from langchain_openai import ChatOpenAI\n",
    "from langchain_core.prompts import ChatPromptTemplate\n",
    "from langchain_core.messages import HumanMessage, SystemMessage\n",
    "\n",
    "# Initialize the chat model\n",
    "chatgpt = ChatOpenAI(model_name=\"gpt-4o-mini\", temperature=0)\n",
    "\n",
    "# Define system-level prompt for context\n",
    "SYS_PROMPT = \"\"\"Act as an Artificial Intelligence Expert. \n",
    "Transform the input research paper abstract based on the instruction input by the user.\"\"\"\n",
    "\n",
    "# Create a chat prompt template\n",
    "chat_prompt = ChatPromptTemplate.from_messages([\n",
    "    (\"system\", SYS_PROMPT),\n",
    "    (\"human\", \"{instruction}\")\n",
    "])\n",
    "\n",
    "# Build a chain for processing messages\n",
    "chain = chat_prompt | chatgpt\n",
    "\n",
    "# Define reusable function to interact with the chain\n",
    "def generate_response(instruction_text: str) -> str:\n",
    "    # Create a human message\n",
    "    messages = [HumanMessage(content=instruction_text)]\n",
    "    # Wrap messages in instruction dictionary as required\n",
    "    user_instruction = {'instruction': messages}\n",
    "    # Invoke the chain and return the response\n",
    "    response = chain.invoke(user_instruction)\n",
    "    return response.content\n",
    "\n",
    "# First task: Create a summary report\n",
    "summary_instruction = f\"\"\"\n",
    "Based on the following research paper abstract, create a summary report of maximum 10 lines for a general audience.\n",
    "\n",
    "Abstract:\n",
    "{paper_abstract}\n",
    "\"\"\"\n",
    "summary_response = generate_response(summary_instruction)\n",
    "print(\"Summary Report:\\n\", summary_response)\n",
    "\n",
    "# Second task: Detailed report for a healthcare company\n",
    "detailed_instruction = f\"\"\"\n",
    "Using only the research paper abstract provided earlier, create a detailed report for a healthcare company.\n",
    "Include bullet points (3 max) for pros and cons of ethics in Generative AI.\n",
    "\n",
    "Abstract:\n",
    "{paper_abstract}\n",
    "\n",
    "\"\"\"\n",
    "detailed_response = generate_response(detailed_instruction)\n",
    "print(\"Detailed Report:\\n\", detailed_response)\n",
    "\n",
    "# Define system-level behavior for AI\n",
    "sys_prompt = \"\"\"Act as an Artificial Intelligence Expert. Transform the input research paper abstract based on the instruction input by the user.\"\"\"\n",
    "messages = [SystemMessage(content=sys_prompt)]\n",
    "\n",
    "# First user instruction\n",
    "paper_abstract = paper_abstract\n",
    "prompt_txt = f\"\"\"\n",
    "Based on the following research paper abstract, create the summary report of maximum 10 lines for a general audience\n",
    "\n",
    "Abstract:\n",
    "{paper_abstract}\n",
    "\"\"\"\n",
    "messages.append(HumanMessage(content=prompt_txt))\n",
    "response = chatgpt.invoke(messages)\n",
    "print(\"Summary\")\n",
    "print(response)"
   ]
  },
  {
   "cell_type": "markdown",
   "id": "f3873a1f",
   "metadata": {},
   "source": [
    "### Generate the second summary report\n",
    "\n",
    "Here we add the previous LLM response and the new instructions to the list of messages and send the whole thing to the LLM so it has access to the historical conversation"
   ]
  },
  {
   "cell_type": "code",
   "execution_count": 16,
   "id": "6da20b31",
   "metadata": {},
   "outputs": [],
   "source": [
    "prompt_txt = f\"\"\"\n",
    "Use only the research paper abstract from earlier and create a detailed report for a healthcare company.\n",
    "In the report, also include bullet points (3 max) for pros and cons of ethics in Generative AI\n",
    "\"\"\"\n",
    "messages.append(HumanMessage(content=prompt_txt))\n",
    "user_instruction = {'instruction': messages}\n",
    "response = chain.invoke(user_instruction)\n",
    "messages.append(response)"
   ]
  },
  {
   "cell_type": "code",
   "execution_count": 17,
   "id": "04cf1d88",
   "metadata": {},
   "outputs": [
    {
     "name": "stdout",
     "output_type": "stream",
     "text": [
      "**Detailed Report on Ethical Considerations in Generative AI for Healthcare**\n",
      "\n",
      "**Introduction:**\n",
      "The rapid adoption of generative artificial intelligence (AI) technologies, such as ChatGPT, has raised significant ethical concerns, particularly in high-stakes fields like healthcare. While guidelines and regulations are still evolving, there is a pressing need to address these ethical issues comprehensively. This report synthesizes findings from a systematic scoping review of existing research on generative AI in healthcare, highlighting current gaps in ethical discussions and proposing a checklist for ethical assessment.\n",
      "\n",
      "**Key Findings:**\n",
      "- A systematic review of literature from January 2013 to July 2023 identified 2859 articles, with 193 selected for analysis based on their relevance to ethical issues in generative AI applications in healthcare.\n",
      "- The review categorized articles based on data modality (text, image, structured data) and the ethical issues discussed.\n",
      "- Notably, 41 articles focused on text data, with a significant emphasis on ethical concerns related to large language models (LLMs), particularly GPT.\n",
      "- Ethical principles such as non-maleficence, equity, and privacy were frequently discussed, while some articles proposed generative AI solutions to address existing ethical challenges.\n",
      "- In contrast, discussions surrounding image and structured data were less comprehensive, often only briefly mentioning ethical considerations without in-depth analysis.\n",
      "\n",
      "**Proposed Ethics Checklist:**\n",
      "To enhance transparency and accountability in generative AI development, an ethics checklist is proposed. This checklist can be integrated into the peer review and publication processes, ensuring that ethical considerations are systematically documented and addressed.\n",
      "\n",
      "**Pros and Cons of Ethics in Generative AI:**\n",
      "\n",
      "**Pros:**\n",
      "- **Enhanced Trust:** A robust ethical framework can foster user trust in generative AI applications, ensuring that stakeholders feel confident in the technology's capabilities and safety.\n",
      "- **Guided Development:** An established ethics checklist can guide researchers and developers in identifying and addressing potential ethical issues early in the development process.\n",
      "- **Improved Accountability:** Clear ethical guidelines can hold developers accountable for the implications of their AI technologies, promoting responsible innovation.\n",
      "\n",
      "**Cons:**\n",
      "- **Complexity of Implementation:** Integrating ethical considerations into existing frameworks may complicate the research and development processes, potentially slowing innovation.\n",
      "- **Potential for Overregulation:** Excessive focus on ethics may lead to overregulation, stifling creativity and limiting the potential benefits of generative AI technologies.\n",
      "- **Varying Interpretations:** Ethical principles can be subjective, leading to differing interpretations and applications across various stakeholders, which may complicate consensus-building.\n",
      "\n",
      "**Conclusion:**\n",
      "As generative AI continues to evolve and integrate into healthcare, addressing ethical considerations is paramount. By implementing a comprehensive ethics checklist and fostering ongoing discussions, stakeholders can navigate the complexities of generative AI responsibly, ensuring that its benefits are realized while minimizing potential harms.\n"
     ]
    }
   ],
   "source": [
    "print(response.content)"
   ]
  },
  {
   "cell_type": "markdown",
   "id": "a1d8e2f9",
   "metadata": {},
   "source": [
    "### Generate the third summary report\n",
    "\n",
    "Here we add the previous LLM response and the new instructions to the list of messages and send the whole thing to the LLM so it has access to the historical conversation"
   ]
  },
  {
   "cell_type": "code",
   "execution_count": 18,
   "id": "d235692f",
   "metadata": {},
   "outputs": [],
   "source": [
    "prompt_txt = f\"\"\"\n",
    "Use only the research paper abstract from earlier and create a detailed report for a generative AI company solving healthcare problems.\n",
    "In the report also include sections for key points mentioned around Generative AI for text, images and structured data based healthcare\n",
    "\"\"\"\n",
    "messages.append(HumanMessage(content=prompt_txt))\n",
    "user_instruction = {'instruction': messages}\n",
    "response = chain.invoke(user_instruction)"
   ]
  },
  {
   "cell_type": "code",
   "execution_count": 23,
   "id": "ca191589",
   "metadata": {},
   "outputs": [
    {
     "name": "stdout",
     "output_type": "stream",
     "text": [
      "**Detailed Report on Generative AI Applications in Healthcare**\n",
      "\n",
      "**Introduction:**\n",
      "The integration of generative artificial intelligence (AI) technologies, such as ChatGPT, into healthcare has sparked significant interest and concern regarding ethical implications. This report synthesizes findings from a systematic scoping review of existing research on generative AI in healthcare, focusing on the ethical discussions surrounding its applications in text, image, and structured data.\n",
      "\n",
      "**Key Findings:**\n",
      "- A systematic review of literature from January 2013 to July 2023 identified 2859 articles, with 193 selected for analysis based on their relevance to ethical issues in generative AI applications in healthcare.\n",
      "- The review categorized articles based on data modality (text, image, structured data) and the ethical issues discussed.\n",
      "\n",
      "**Generative AI for Text Data in Healthcare:**\n",
      "- **Focus:** 41 articles discussed ethical considerations related to generative AI applications for text data, primarily concerning large language models (LLMs) like GPT.\n",
      "- **Ethical Issues:** Key ethical principles discussed included non-maleficence, equity, and privacy. Many articles highlighted the ethical challenges posed by LLMs, particularly in terms of human-AI interaction and authorship rights.\n",
      "- **Solutions Proposed:** Some articles aimed to resolve ethical issues, such as confidentiality and misinformation, by leveraging LLMs to generate synthetic medical text and improve transparency.\n",
      "\n",
      "**Generative AI for Image Data in Healthcare:**\n",
      "- **Focus:** 98 articles addressed generative AI applications for image data, with a significant emphasis on data synthesis and encryption.\n",
      "- **Ethical Considerations:** While many articles briefly mentioned ethical issues, only a few provided in-depth discussions. The primary focus was on resolving privacy concerns through synthetic data generation.\n",
      "- **Bias Reduction:** Several articles explored the use of generative AI to synthesize data for under-represented subgroups, aiming to reduce bias in healthcare datasets.\n",
      "\n",
      "**Generative AI for Structured Data in Healthcare:**\n",
      "- **Focus:** 58 articles examined generative AI applications for structured data, often discussing methodological developments rather than ethical implications.\n",
      "- **Ethical Discussions:** Similar to image data, many articles only briefly mentioned ethical considerations. The main aim was to address privacy issues through synthetic data generation.\n",
      "- **Lack of Depth:** There was a notable absence of discussions on autonomy, integrity, or morality issues, indicating a gap in comprehensive ethical analysis.\n",
      "\n",
      "**Conclusion:**\n",
      "As generative AI technologies continue to evolve and find applications in healthcare, it is crucial to address the ethical considerations associated with their use. By fostering ongoing discussions and developing comprehensive ethical frameworks, stakeholders can ensure that the benefits of generative AI are realized while minimizing potential harms.\n",
      "\n",
      "**Recommendations:**\n",
      "- Implement an ethics checklist to guide the development and deployment of generative AI technologies in healthcare.\n",
      "- Encourage collaboration among researchers, developers, and ethicists to address the ethical challenges identified in the literature.\n",
      "- Promote transparency and accountability in the use of generative AI to build trust among users and stakeholders.\n"
     ]
    }
   ],
   "source": [
    "print(response.content)"
   ]
  },
  {
   "cell_type": "code",
   "execution_count": null,
   "id": "6f6fbf66",
   "metadata": {},
   "outputs": [],
   "source": []
  }
 ],
 "metadata": {
  "kernelspec": {
   "display_name": ".venv",
   "language": "python",
   "name": "python3"
  },
  "language_info": {
   "codemirror_mode": {
    "name": "ipython",
    "version": 3
   },
   "file_extension": ".py",
   "mimetype": "text/x-python",
   "name": "python",
   "nbconvert_exporter": "python",
   "pygments_lexer": "ipython3",
   "version": "3.11.6"
  }
 },
 "nbformat": 4,
 "nbformat_minor": 5
}
