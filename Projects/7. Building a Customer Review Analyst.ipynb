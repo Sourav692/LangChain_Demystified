{
 "cells": [
  {
   "cell_type": "code",
   "execution_count": 1,
   "id": "c3d22f85",
   "metadata": {},
   "outputs": [],
   "source": [
    "%run \"Setup_Env.ipynb\""
   ]
  },
  {
   "cell_type": "markdown",
   "id": "f36c7167",
   "metadata": {},
   "source": [
    "## Routing Chains with LCEL\n",
    "\n",
    "The idea here is to have multiple individual LLM Chains which can perform their own tasks like summarize, sentiment etc.\n",
    "\n",
    "We also have a router chain which can classify the user prompt intent and then route the user prompt to the relevant LLM Chain e.g if the user wants to summarize an article, his prompt request would be routed to the summarize chain automatically to get the result"
   ]
  },
  {
   "cell_type": "code",
   "execution_count": 2,
   "id": "9b7e8057",
   "metadata": {},
   "outputs": [],
   "source": [
    "from langchain_core.prompts import ChatPromptTemplate\n",
    "from langchain_core.output_parsers import StrOutputParser"
   ]
  },
  {
   "cell_type": "code",
   "execution_count": 5,
   "id": "e316762e",
   "metadata": {},
   "outputs": [],
   "source": [
    "sample_review = \"\"\"\n",
    "    Required a stylish lamp for my office space, and this particular one\n",
    "    came with added storage at a reasonable price.\n",
    "    The delivery was surprisingly quick, arriving within just two days.\n",
    "    However, the pull string for the lamp suffered damage during transit.\n",
    "    To my relief, the company promptly dispatched a replacement,\n",
    "    which arrived within a few days. Assembly was a breeze.\n",
    "    Then, I encountered an issue with a missing component,\n",
    "    but their support team responded swiftly and provided the missing part.\n",
    "    It appears to be a commendable company that genuinely values its\n",
    "    customers and the quality of its products.\n",
    "\"\"\""
   ]
  },
  {
   "cell_type": "code",
   "execution_count": 4,
   "id": "12943f9e",
   "metadata": {},
   "outputs": [],
   "source": [
    "classifier_prompt = ChatPromptTemplate.from_template(\n",
    "        \"\"\"Given the user instructions below for analyzing customer review,\n",
    "           classify it as only one of the following categories:\n",
    "            - summarize\n",
    "            - sentiment\n",
    "            - email\n",
    "\n",
    "          Do not respond with more than one word.\n",
    "\n",
    "          Instructions:\n",
    "          {instruction}\n",
    "\"\"\")\n",
    "\n",
    "classifier_chain = (\n",
    "    classifier_prompt\n",
    "        |\n",
    "    chatgpt\n",
    "        |\n",
    "    StrOutputParser()\n",
    ")"
   ]
  },
  {
   "cell_type": "code",
   "execution_count": 7,
   "id": "d2aa92b7",
   "metadata": {},
   "outputs": [
    {
     "data": {
      "text/plain": [
       "'summarize'"
      ]
     },
     "execution_count": 7,
     "metadata": {},
     "output_type": "execute_result"
    }
   ],
   "source": [
    "classifier_chain.invoke({\"instruction\": \"Provide the Summary of the following review\"})"
   ]
  },
  {
   "cell_type": "code",
   "execution_count": 8,
   "id": "279b806e",
   "metadata": {},
   "outputs": [],
   "source": [
    "summary_prompt = ChatPromptTemplate.from_template(\n",
    "    \"\"\"Act as a customer review analyst, given the following customer review,\n",
    "       generate a short summary (max 2 lines) of the review.\n",
    "\n",
    "       Customer Review:\n",
    "       {review}\n",
    "\"\"\")\n",
    "\n",
    "summary_chain = (\n",
    "    summary_prompt\n",
    "        |\n",
    "    chatgpt\n",
    "        |\n",
    "    StrOutputParser()\n",
    ")"
   ]
  },
  {
   "cell_type": "code",
   "execution_count": 10,
   "id": "6e5ec9b5",
   "metadata": {},
   "outputs": [
    {
     "name": "stdout",
     "output_type": "stream",
     "text": [
      "The customer praised the stylish lamp with added storage and quick delivery, despite initial issues with a damaged pull string and a missing component, which were promptly resolved by the supportive company.\n"
     ]
    }
   ],
   "source": [
    "print(summary_chain.invoke({\"review\": sample_review}))\n"
   ]
  },
  {
   "cell_type": "code",
   "execution_count": 11,
   "id": "363906c7",
   "metadata": {},
   "outputs": [],
   "source": [
    "sentiment_prompt = ChatPromptTemplate.from_template(\n",
    "    \"\"\"Act as a customer review analyst, given the following customer review,\n",
    "       find out the sentiment of the review.\n",
    "       The sentiment can be either positive, negative or neutral.\n",
    "       Return the result as a single word.\n",
    "\n",
    "       Customer Review:\n",
    "       {review}\n",
    "\"\"\")\n",
    "\n",
    "sentiment_chain = (\n",
    "    sentiment_prompt\n",
    "        |\n",
    "    chatgpt\n",
    "        |\n",
    "    StrOutputParser()\n",
    ")"
   ]
  },
  {
   "cell_type": "code",
   "execution_count": 12,
   "id": "5c9c5fd7",
   "metadata": {},
   "outputs": [
    {
     "name": "stdout",
     "output_type": "stream",
     "text": [
      "Positive\n"
     ]
    }
   ],
   "source": [
    "print(sentiment_chain.invoke({\"review\": sample_review}))\n"
   ]
  },
  {
   "cell_type": "code",
   "execution_count": 13,
   "id": "cddbd13d",
   "metadata": {},
   "outputs": [],
   "source": [
    "email_prompt = ChatPromptTemplate.from_template(\n",
    "    \"\"\"Act as a customer review analyst,\n",
    "    given the following customer review and its sentiment\n",
    "    generate an email response to the customer based on the following conditions.\n",
    "     - If the sentiment is positive or neutral thank them for their review\n",
    "     - If the sentiment is negative, apologize to them\n",
    "\n",
    "    Customer Review:\n",
    "    {review}\n",
    "    Sentiment:\n",
    "    {sentiment}\n",
    "\"\"\")\n",
    "\n",
    "email_chain = (\n",
    "    email_prompt\n",
    "        |\n",
    "    chatgpt\n",
    "        |\n",
    "    StrOutputParser()\n",
    ")"
   ]
  },
  {
   "cell_type": "code",
   "execution_count": 15,
   "id": "bc16137c",
   "metadata": {},
   "outputs": [
    {
     "name": "stdout",
     "output_type": "stream",
     "text": [
      "Subject: Thank You for Your Review!\n",
      "\n",
      "Dear [Customer's Name],\n",
      "\n",
      "Thank you so much for taking the time to share your experience with us! We’re thrilled to hear that you found the lamp stylish and that it met your needs for your office space. It’s great to know that our team was able to assist you promptly with the replacement and the missing component.\n",
      "\n",
      "Your feedback is invaluable to us, and we truly appreciate your kind words about our commitment to customer satisfaction. If you have any further questions or need assistance in the future, please don’t hesitate to reach out.\n",
      "\n",
      "Thank you once again for choosing our products!\n",
      "\n",
      "Best regards,\n",
      "\n",
      "[Your Name]  \n",
      "[Your Position]  \n",
      "[Company Name]  \n",
      "[Contact Information]  \n"
     ]
    }
   ],
   "source": [
    "print(email_chain.invoke({\"review\": sample_review, \"sentiment\": \"positive\"}))"
   ]
  },
  {
   "cell_type": "code",
   "execution_count": 16,
   "id": "38bdcc62",
   "metadata": {},
   "outputs": [],
   "source": [
    "def default_answer(query):\n",
    "  return \"Sorry instructions are not the defined intents\""
   ]
  },
  {
   "cell_type": "code",
   "execution_count": 18,
   "id": "0406bab2",
   "metadata": {},
   "outputs": [],
   "source": [
    "from langchain_core.runnables import RunnableParallel, RunnableBranch\n",
    "\n",
    "branch = RunnableBranch(\n",
    "    (lambda x: \"summarize\" in x[\"topic\"].lower(), summary_chain),\n",
    "    (lambda x: \"sentiment\" in x[\"topic\"].lower(), sentiment_chain),\n",
    "    (lambda x: \"email\" in x[\"topic\"].lower(), email_chain),\n",
    "    default_answer,\n",
    ")"
   ]
  },
  {
   "cell_type": "code",
   "execution_count": 19,
   "id": "dcfebe34",
   "metadata": {},
   "outputs": [],
   "source": [
    "full_chain = ({\n",
    "                \"topic\": classifier_chain,\n",
    "                \"instruction\": lambda input_prompt: input_prompt.get(\"instruction\"),\n",
    "                \"review\": lambda input_prompt: input_prompt.get(\"review\"),\n",
    "                \"sentiment\": lambda input_prompt: input_prompt.get(\"sentiment\")\n",
    "\n",
    "              }\n",
    "                  |\n",
    "                branch)"
   ]
  },
  {
   "cell_type": "code",
   "execution_count": 20,
   "id": "ccff416d",
   "metadata": {},
   "outputs": [
    {
     "name": "stdout",
     "output_type": "stream",
     "text": [
      "The customer praised the stylish lamp with added storage and quick delivery, despite initial issues with a damaged pull string and a missing component, which were promptly resolved by the supportive company.\n"
     ]
    }
   ],
   "source": [
    "summary = full_chain.invoke({\"instruction\": \"Generate a summary for the given review\",\n",
    "                   \"review\": sample_review})\n",
    "print(summary)"
   ]
  },
  {
   "cell_type": "code",
   "execution_count": 21,
   "id": "50f86585",
   "metadata": {},
   "outputs": [
    {
     "name": "stdout",
     "output_type": "stream",
     "text": [
      "Positive\n"
     ]
    }
   ],
   "source": [
    "sentiment = full_chain.invoke({\"instruction\": \"Find out the sentiment of the customer in the review\",\n",
    "                   \"review\": sample_review})\n",
    "print(sentiment)"
   ]
  },
  {
   "cell_type": "code",
   "execution_count": 22,
   "id": "095affdf",
   "metadata": {},
   "outputs": [
    {
     "name": "stdout",
     "output_type": "stream",
     "text": [
      "Subject: Thank You for Your Review!\n",
      "\n",
      "Dear [Customer's Name],\n",
      "\n",
      "Thank you so much for taking the time to share your experience with us! We’re thrilled to hear that you found the lamp stylish and that it met your needs for your office space. It’s great to know that our delivery service was prompt and that our support team was able to assist you quickly with the replacement and missing component.\n",
      "\n",
      "Your kind words about our commitment to customer satisfaction mean a lot to us. We strive to provide quality products and excellent service, and it’s wonderful to see that reflected in your experience.\n",
      "\n",
      "If you have any further questions or need assistance in the future, please don’t hesitate to reach out. We’re here to help!\n",
      "\n",
      "Best regards,\n",
      "\n",
      "[Your Name]  \n",
      "[Your Position]  \n",
      "[Company Name]  \n",
      "[Contact Information]  \n"
     ]
    }
   ],
   "source": [
    "response = full_chain.invoke({\"instruction\": \"Write an email for the given customer review\",\n",
    "                              \"review\": sample_review,\n",
    "                              \"sentiment\": sentiment})\n",
    "print(response)"
   ]
  },
  {
   "cell_type": "code",
   "execution_count": null,
   "id": "deaeb8f9",
   "metadata": {},
   "outputs": [],
   "source": []
  }
 ],
 "metadata": {
  "kernelspec": {
   "display_name": ".venv",
   "language": "python",
   "name": "python3"
  },
  "language_info": {
   "codemirror_mode": {
    "name": "ipython",
    "version": 3
   },
   "file_extension": ".py",
   "mimetype": "text/x-python",
   "name": "python",
   "nbconvert_exporter": "python",
   "pygments_lexer": "ipython3",
   "version": "3.11.6"
  }
 },
 "nbformat": 4,
 "nbformat_minor": 5
}
