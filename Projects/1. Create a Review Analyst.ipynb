{
 "cells": [
  {
   "cell_type": "markdown",
   "id": "17c6a423",
   "metadata": {},
   "source": [
    "## Call Notebook to Setup Environment and Initial Imports"
   ]
  },
  {
   "cell_type": "code",
   "execution_count": 3,
   "id": "43a0587f",
   "metadata": {},
   "outputs": [],
   "source": [
    "%run \"Setup_Env.ipynb\""
   ]
  },
  {
   "cell_type": "markdown",
   "id": "f13d45cf",
   "metadata": {},
   "source": [
    "## Mini-Project 1: Review Analyst\n",
    "\n",
    "You are building an AI system to be able to look at customer reviews and do some complex analysis. for each review get ChatGPT to do the following:\n",
    "\n",
    "  - Summarize the review. The summary should be at most 3 lines.\n",
    "  - Highlight both the positives and negatives\n",
    "  - Display the overall sentiment of the review (positive, negative, neutral)\n",
    "  - Display a list of 3 - 5 emotions expressed by the customer in the review\n",
    "  - If the sentiment is positive or neutral write an email and thank them for the review\n",
    "  - If the sentiment is negative apologize and write an email with an appropriate response\n",
    "\n",
    "Try to get the response in a nice structured format using an output parser"
   ]
  },
  {
   "cell_type": "markdown",
   "id": "2fe46353",
   "metadata": {},
   "source": [
    "### Why Both Partial Variable AND Parser Are Needed\n",
    "\n",
    "**The Flow:**\n",
    "1. **Partial Variable** (`format_instructions`) → Gets injected into prompt → **Tells LLM how to respond**\n",
    "2. **LLM** → Generates text response following those instructions\n",
    "3. **Parser** → Converts that text response → **Into Python object**\n",
    "\n",
    "**Think of it like this:**\n",
    "- `format_instructions` = \\\"Please fill out this form in JSON format\\\"  \n",
    "- `parser` = Takes the completed form and creates a structured object from it\n",
    "\n",
    "**Without partial variable:** LLM wouldn't know how to structure its response  \n",
    "**Without parser:** You'd get unstructured text instead of a clean Python object\n"
   ]
  },
  {
   "cell_type": "code",
   "execution_count": 4,
   "id": "fc6b6fa8",
   "metadata": {},
   "outputs": [],
   "source": [
    "reviews = [\n",
    "    f\"\"\"\n",
    "    Just received the Bluetooth speaker I ordered for beach outings, and it's fantastic.\n",
    "    The sound quality is impressively clear with just the right amount of bass.\n",
    "    It's also waterproof, which tested true during a recent splashing incident.\n",
    "    Though it's compact, the volume can really fill the space.\n",
    "    The price was a bargain for such high-quality sound.\n",
    "    Shipping was also on point, arriving two days early in secure packaging.\n",
    "    \"\"\",\n",
    "    f\"\"\"\n",
    "    Purchased a new gaming keyboard because of its rave reviews about responsiveness and backlighting.\n",
    "    It hasn't disappointed. The keys have a satisfying click and the LED colors are vibrant,\n",
    "    enhancing my gaming experience significantly. Price-wise, it's quite competitive,\n",
    "    and I feel like I got a good deal. The delivery was swift, and it came well-protected,\n",
    "    ensuring no damage during transport.\n",
    "    \"\"\",\n",
    "    f\"\"\"\n",
    "    Ordered a set of wireless earbuds for running, and they've been a letdown.\n",
    "    The sound constantly cuts out, and the fit is uncomfortable after only a few minutes of use.\n",
    "    They advertised a 12-hour battery life, but I'm barely getting four hours.\n",
    "    Considering the cost, I expected better quality and performance.\n",
    "    They did arrive on time, but the positives end there. I'm already looking into a return.\n",
    "    \"\"\",\n",
    "    f\"\"\"\n",
    "    The tablet stand I bought was touted as being sturdy and adjustable,\n",
    "    but it's anything but. It wobbles with the slightest touch,\n",
    "    and the angles are not holding up as promised. It feels like a breeze could knock it over.\n",
    "    It was also pricier than others I've seen, which adds to the disappointment.\n",
    "    It did arrive promptly, but what's the use if the product doesn't meet basic expectations?\n",
    "    \"\"\",\n",
    "    f\"\"\"\n",
    "    Needed a new kitchen blender, but this model has been a nightmare.\n",
    "    It's supposed to handle various foods, but it struggles with anything tougher than cooked vegetables.\n",
    "    It's also incredibly noisy, and the 'easy-clean' feature is a joke; food gets stuck under the blades constantly.\n",
    "    I thought the brand meant quality, but this product has proven me wrong.\n",
    "    Plus, it arrived three days late. Definitely not worth the expense.\n",
    "    \"\"\"\n",
    "]"
   ]
  },
  {
   "cell_type": "markdown",
   "id": "315a5879",
   "metadata": {},
   "source": [
    "### Define Output Parser"
   ]
  },
  {
   "cell_type": "code",
   "execution_count": 7,
   "id": "6adbf5ab",
   "metadata": {},
   "outputs": [],
   "source": [
    "from langchain_core.prompts import PromptTemplate\n",
    "from langchain_core.output_parsers import PydanticOutputParser\n",
    "from pydantic import BaseModel, Field\n",
    "\n",
    "# Define your desired data structure - like a python data class.\n",
    "class Review(BaseModel):\n",
    "    summary: str = Field(description=\"summary of the review\")\n",
    "    positives: list[str] = Field(description=\"list of positive aspects of the review if any - max 3 points\")\n",
    "    negatives: list[str] = Field(description=\"list of negative aspects of the review if any - max 3 points\")\n",
    "    sentiment: str = Field(description=\"overall sentiment of the review - positive, negative or neutral\")\n",
    "    emotions: list[str] = Field(description=\"list of emotions expressed by the customer in the review - max 5 points\")\n",
    "\n",
    "# Set up a parser + inject instructions into the prompt template.\n",
    "parser = PydanticOutputParser(pydantic_object=Review)\n",
    "format_instructions = parser.get_format_instructions()\n",
    "\n"
   ]
  },
  {
   "cell_type": "code",
   "execution_count": 10,
   "id": "24778d94",
   "metadata": {},
   "outputs": [],
   "source": [
    "# create the final prompt with formatting instructions from the parser\n",
    "prompt_txt = \"\"\"\n",
    "             Analyze the given customer review below and generate the response based on the instructions\n",
    "             mentioned below in the format instructions.\n",
    "             Also remember to write a detailed email response for the email field based on these conditions:\n",
    "               - email should be addressed to Dear Customer and signed with Service Agent\n",
    "               - thank them if the review is positive or neutral\n",
    "               - apologize if the review is negative\n",
    "\n",
    "             Format Instructions:\n",
    "             {format_instructions}\n",
    "\n",
    "             Review:\n",
    "             {review}\n",
    "            \"\"\"\n",
    "\n",
    "prompt = PromptTemplate(\n",
    "    template=prompt_txt,\n",
    "    input_variables=[\"review\"],\n",
    "    partial_variables={\"format_instructions\": format_instructions}\n",
    ")\n",
    "\n"
   ]
  },
  {
   "cell_type": "code",
   "execution_count": 11,
   "id": "243719a4",
   "metadata": {},
   "outputs": [],
   "source": [
    "# create a simple LCEL chain to take the prompt, pass it to the LLM, enforce response format using the parser\n",
    "chain = (prompt\n",
    "           |\n",
    "         chatgpt\n",
    "           |\n",
    "         parser)"
   ]
  },
  {
   "cell_type": "code",
   "execution_count": 14,
   "id": "f952a591",
   "metadata": {},
   "outputs": [
    {
     "name": "stdout",
     "output_type": "stream",
     "text": [
      "\n",
      "    Just received the Bluetooth speaker I ordered for beach outings, and it's fantastic.\n",
      "    The sound quality is impressively clear with just the right amount of bass.\n",
      "    It's also waterproof, which tested true during a recent splashing incident.\n",
      "    Though it's compact, the volume can really fill the space.\n",
      "    The price was a bargain for such high-quality sound.\n",
      "    Shipping was also on point, arriving two days early in secure packaging.\n",
      "    \n"
     ]
    }
   ],
   "source": [
    "print(reviews[0])"
   ]
  },
  {
   "cell_type": "code",
   "execution_count": 18,
   "id": "574f2da1",
   "metadata": {},
   "outputs": [
    {
     "name": "stdout",
     "output_type": "stream",
     "text": [
      "The customer is very satisfied with the Bluetooth speaker, highlighting its sound quality, waterproof feature, and value for money.\n"
     ]
    }
   ],
   "source": [
    "sample_response = chain.invoke({\"review\": reviews[0]})\n",
    "print(sample_response.summary)"
   ]
  },
  {
   "cell_type": "code",
   "execution_count": 19,
   "id": "e5ee1f41",
   "metadata": {},
   "outputs": [
    {
     "data": {
      "text/plain": [
       "'{\"summary\":\"The customer is very satisfied with the Bluetooth speaker, highlighting its sound quality, waterproof feature, and value for money.\",\"positives\":[\"Impressive sound quality with clear audio and good bass\",\"Waterproof feature works effectively\",\"Compact size with powerful volume\"],\"negatives\":[],\"sentiment\":\"positive\",\"emotions\":[\"satisfaction\",\"happiness\",\"excitement\"]}'"
      ]
     },
     "execution_count": 19,
     "metadata": {},
     "output_type": "execute_result"
    }
   ],
   "source": [
    "sample_response.model_dump_json()"
   ]
  },
  {
   "cell_type": "code",
   "execution_count": 20,
   "id": "73c4dac8",
   "metadata": {},
   "outputs": [
    {
     "name": "stdout",
     "output_type": "stream",
     "text": [
      "{'review': \"\\n    Just received the Bluetooth speaker I ordered for beach outings, and it's fantastic.\\n    The sound quality is impressively clear with just the right amount of bass.\\n    It's also waterproof, which tested true during a recent splashing incident.\\n    Though it's compact, the volume can really fill the space.\\n    The price was a bargain for such high-quality sound.\\n    Shipping was also on point, arriving two days early in secure packaging.\\n    \"}\n"
     ]
    }
   ],
   "source": [
    "reviews_formatted = [{'review': review} for review in reviews]\n",
    "print(reviews_formatted[0])"
   ]
  },
  {
   "cell_type": "code",
   "execution_count": 21,
   "id": "485fc24d",
   "metadata": {},
   "outputs": [],
   "source": [
    "responses = chain.map().invoke(reviews_formatted)"
   ]
  },
  {
   "cell_type": "code",
   "execution_count": 22,
   "id": "2c9cbfbe",
   "metadata": {},
   "outputs": [
    {
     "data": {
      "text/plain": [
       "{'summary': 'The customer is very satisfied with the Bluetooth speaker, highlighting its sound quality, waterproof feature, and value for money.',\n",
       " 'positives': ['Impressive sound quality with clear audio and good bass',\n",
       "  'Waterproof feature works effectively',\n",
       "  'Compact size with powerful volume'],\n",
       " 'negatives': [],\n",
       " 'sentiment': 'positive',\n",
       " 'emotions': ['satisfaction', 'happiness', 'excitement']}"
      ]
     },
     "execution_count": 22,
     "metadata": {},
     "output_type": "execute_result"
    }
   ],
   "source": [
    "responses[0].model_dump()"
   ]
  },
  {
   "cell_type": "code",
   "execution_count": 23,
   "id": "ce22d47a",
   "metadata": {},
   "outputs": [
    {
     "data": {
      "text/plain": [
       "'{\"summary\":\"The customer is very satisfied with the Bluetooth speaker, highlighting its sound quality, waterproof feature, and value for money.\",\"positives\":[\"Impressive sound quality with clear audio and good bass\",\"Waterproof feature works effectively\",\"Compact size with powerful volume\"],\"negatives\":[],\"sentiment\":\"positive\",\"emotions\":[\"satisfaction\",\"happiness\",\"excitement\"]}'"
      ]
     },
     "execution_count": 23,
     "metadata": {},
     "output_type": "execute_result"
    }
   ],
   "source": [
    "responses[0].model_dump_json()"
   ]
  },
  {
   "cell_type": "code",
   "execution_count": 24,
   "id": "57391068",
   "metadata": {},
   "outputs": [
    {
     "data": {
      "text/plain": [
       "'{\"summary\":\"The customer is very satisfied with their new gaming keyboard, highlighting its responsiveness, backlighting, and overall value.\",\"positives\":[\"Satisfying click of the keys\",\"Vibrant LED colors enhancing gaming experience\",\"Competitive pricing and good deal\"],\"negatives\":[],\"sentiment\":\"positive\",\"emotions\":[\"satisfaction\",\"excitement\",\"contentment\"]}'"
      ]
     },
     "execution_count": 24,
     "metadata": {},
     "output_type": "execute_result"
    }
   ],
   "source": [
    "responses[1].model_dump_json()"
   ]
  },
  {
   "cell_type": "code",
   "execution_count": 25,
   "id": "197e12e5",
   "metadata": {},
   "outputs": [
    {
     "data": {
      "text/plain": [
       "'{\"summary\":\"The customer is disappointed with the wireless earbuds due to sound issues, comfort, and battery life.\",\"positives\":[\"The earbuds arrived on time.\"],\"negatives\":[\"Sound constantly cuts out.\",\"Uncomfortable fit after a few minutes.\",\"Battery life is only four hours instead of the advertised 12 hours.\"],\"sentiment\":\"negative\",\"emotions\":[\"disappointment\",\"frustration\",\"dissatisfaction\"]}'"
      ]
     },
     "execution_count": 25,
     "metadata": {},
     "output_type": "execute_result"
    }
   ],
   "source": [
    "responses[2].model_dump_json()"
   ]
  },
  {
   "cell_type": "code",
   "execution_count": 26,
   "id": "a9929b91",
   "metadata": {},
   "outputs": [
    {
     "name": "stdout",
     "output_type": "stream",
     "text": [
      "summary:\n",
      "The customer is very satisfied with the Bluetooth speaker, highlighting its sound quality, waterproof feature, and value for money.\n",
      "positives:\n",
      "['Impressive sound quality with clear audio and good bass', 'Waterproof feature works effectively', 'Compact size with powerful volume']\n",
      "negatives:\n",
      "[]\n",
      "sentiment:\n",
      "positive\n",
      "emotions:\n",
      "['satisfaction', 'happiness', 'excitement']\n",
      "----------------------------------------------------------------------------------------------------------------------------------------------------------------------------------------------------------------------------------------------------------\n",
      "\n",
      "\n",
      "summary:\n",
      "The customer is very satisfied with their new gaming keyboard, highlighting its responsiveness, backlighting, and overall value.\n",
      "positives:\n",
      "['Satisfying click of the keys', 'Vibrant LED colors enhancing gaming experience', 'Competitive pricing and good deal']\n",
      "negatives:\n",
      "[]\n",
      "sentiment:\n",
      "positive\n",
      "emotions:\n",
      "['satisfaction', 'excitement', 'contentment']\n",
      "----------------------------------------------------------------------------------------------------------------------------------------------------------------------------------------------------------------------------------------------------------\n",
      "\n",
      "\n",
      "summary:\n",
      "The customer is disappointed with the wireless earbuds due to sound issues, comfort, and battery life.\n",
      "positives:\n",
      "['The earbuds arrived on time.']\n",
      "negatives:\n",
      "['Sound constantly cuts out.', 'Uncomfortable fit after a few minutes.', 'Battery life is only four hours instead of the advertised 12 hours.']\n",
      "sentiment:\n",
      "negative\n",
      "emotions:\n",
      "['disappointment', 'frustration', 'dissatisfaction']\n",
      "----------------------------------------------------------------------------------------------------------------------------------------------------------------------------------------------------------------------------------------------------------\n",
      "\n",
      "\n",
      "summary:\n",
      "The customer is disappointed with the tablet stand due to its instability and high price.\n",
      "positives:\n",
      "['The product arrived promptly.']\n",
      "negatives:\n",
      "['The stand wobbles with the slightest touch.', 'The angles do not hold up as promised.', 'The product is pricier than others.']\n",
      "sentiment:\n",
      "negative\n",
      "emotions:\n",
      "['disappointment', 'frustration']\n",
      "----------------------------------------------------------------------------------------------------------------------------------------------------------------------------------------------------------------------------------------------------------\n",
      "\n",
      "\n",
      "summary:\n",
      "The customer is dissatisfied with the kitchen blender due to its poor performance, noise level, ineffective cleaning feature, and late delivery.\n",
      "positives:\n",
      "[]\n",
      "negatives:\n",
      "['Struggles with tougher foods', 'Incredibly noisy', \"'Easy-clean' feature is ineffective\", 'Arrived three days late']\n",
      "sentiment:\n",
      "negative\n",
      "emotions:\n",
      "['frustration', 'disappointment', 'anger']\n",
      "----------------------------------------------------------------------------------------------------------------------------------------------------------------------------------------------------------------------------------------------------------\n",
      "\n",
      "\n"
     ]
    },
    {
     "name": "stderr",
     "output_type": "stream",
     "text": [
      "/var/folders/8v/xkrl1q210t5_4t4hvbx286800000gp/T/ipykernel_51098/2504484312.py:2: PydanticDeprecatedSince20: The `dict` method is deprecated; use `model_dump` instead. Deprecated in Pydantic V2.0 to be removed in V3.0. See Pydantic V2 Migration Guide at https://errors.pydantic.dev/2.11/migration/\n",
      "  for k,v in response.dict().items():\n"
     ]
    }
   ],
   "source": [
    "for response in responses:\n",
    "  for k,v in response.dict().items():\n",
    "    print(f'{k}:\\n{v}')\n",
    "  print('-----'*50)\n",
    "  print('\\n')"
   ]
  },
  {
   "cell_type": "code",
   "execution_count": 27,
   "id": "92044dc5",
   "metadata": {},
   "outputs": [
    {
     "name": "stdout",
     "output_type": "stream",
     "text": [
      "summary='The customer is very satisfied with the Bluetooth speaker, highlighting its sound quality, waterproof feature, and value for money.' positives=['Impressive sound quality with clear audio and good bass', 'Waterproof feature works effectively', 'Compact size with powerful volume'] negatives=[] sentiment='positive' emotions=['satisfaction', 'happiness', 'excitement']\n",
      "summary='The customer is very satisfied with their new gaming keyboard, highlighting its responsiveness, backlighting, and overall value.' positives=['Satisfying click of the keys', 'Vibrant LED colors enhancing gaming experience', 'Competitive pricing and good deal'] negatives=[] sentiment='positive' emotions=['satisfaction', 'excitement', 'contentment']\n",
      "summary='The customer is disappointed with the wireless earbuds due to sound issues, comfort, and battery life.' positives=['The earbuds arrived on time.'] negatives=['Sound constantly cuts out.', 'Uncomfortable fit after a few minutes.', 'Battery life is only four hours instead of the advertised 12 hours.'] sentiment='negative' emotions=['disappointment', 'frustration', 'dissatisfaction']\n",
      "summary='The customer is disappointed with the tablet stand due to its instability and high price.' positives=['The product arrived promptly.'] negatives=['The stand wobbles with the slightest touch.', 'The angles do not hold up as promised.', 'The product is pricier than others.'] sentiment='negative' emotions=['disappointment', 'frustration']\n",
      "summary='The customer is dissatisfied with the kitchen blender due to its poor performance, noise level, ineffective cleaning feature, and late delivery.' positives=[] negatives=['Struggles with tougher foods', 'Incredibly noisy', \"'Easy-clean' feature is ineffective\", 'Arrived three days late'] sentiment='negative' emotions=['frustration', 'disappointment', 'anger']\n"
     ]
    }
   ],
   "source": [
    "for response in responses:\n",
    "    print(response)"
   ]
  },
  {
   "cell_type": "code",
   "execution_count": 28,
   "id": "00f835ea",
   "metadata": {},
   "outputs": [
    {
     "name": "stderr",
     "output_type": "stream",
     "text": [
      "/var/folders/8v/xkrl1q210t5_4t4hvbx286800000gp/T/ipykernel_51098/1175396765.py:3: PydanticDeprecatedSince20: The `dict` method is deprecated; use `model_dump` instead. Deprecated in Pydantic V2.0 to be removed in V3.0. See Pydantic V2 Migration Guide at https://errors.pydantic.dev/2.11/migration/\n",
      "  pd.DataFrame(response.dict() for response in responses)\n"
     ]
    },
    {
     "data": {
      "text/html": [
       "<div>\n",
       "<style scoped>\n",
       "    .dataframe tbody tr th:only-of-type {\n",
       "        vertical-align: middle;\n",
       "    }\n",
       "\n",
       "    .dataframe tbody tr th {\n",
       "        vertical-align: top;\n",
       "    }\n",
       "\n",
       "    .dataframe thead th {\n",
       "        text-align: right;\n",
       "    }\n",
       "</style>\n",
       "<table border=\"1\" class=\"dataframe\">\n",
       "  <thead>\n",
       "    <tr style=\"text-align: right;\">\n",
       "      <th></th>\n",
       "      <th>summary</th>\n",
       "      <th>positives</th>\n",
       "      <th>negatives</th>\n",
       "      <th>sentiment</th>\n",
       "      <th>emotions</th>\n",
       "    </tr>\n",
       "  </thead>\n",
       "  <tbody>\n",
       "    <tr>\n",
       "      <th>0</th>\n",
       "      <td>The customer is very satisfied with the Blueto...</td>\n",
       "      <td>[Impressive sound quality with clear audio and...</td>\n",
       "      <td>[]</td>\n",
       "      <td>positive</td>\n",
       "      <td>[satisfaction, happiness, excitement]</td>\n",
       "    </tr>\n",
       "    <tr>\n",
       "      <th>1</th>\n",
       "      <td>The customer is very satisfied with their new ...</td>\n",
       "      <td>[Satisfying click of the keys, Vibrant LED col...</td>\n",
       "      <td>[]</td>\n",
       "      <td>positive</td>\n",
       "      <td>[satisfaction, excitement, contentment]</td>\n",
       "    </tr>\n",
       "    <tr>\n",
       "      <th>2</th>\n",
       "      <td>The customer is disappointed with the wireless...</td>\n",
       "      <td>[The earbuds arrived on time.]</td>\n",
       "      <td>[Sound constantly cuts out., Uncomfortable fit...</td>\n",
       "      <td>negative</td>\n",
       "      <td>[disappointment, frustration, dissatisfaction]</td>\n",
       "    </tr>\n",
       "    <tr>\n",
       "      <th>3</th>\n",
       "      <td>The customer is disappointed with the tablet s...</td>\n",
       "      <td>[The product arrived promptly.]</td>\n",
       "      <td>[The stand wobbles with the slightest touch., ...</td>\n",
       "      <td>negative</td>\n",
       "      <td>[disappointment, frustration]</td>\n",
       "    </tr>\n",
       "    <tr>\n",
       "      <th>4</th>\n",
       "      <td>The customer is dissatisfied with the kitchen ...</td>\n",
       "      <td>[]</td>\n",
       "      <td>[Struggles with tougher foods, Incredibly nois...</td>\n",
       "      <td>negative</td>\n",
       "      <td>[frustration, disappointment, anger]</td>\n",
       "    </tr>\n",
       "  </tbody>\n",
       "</table>\n",
       "</div>"
      ],
      "text/plain": [
       "                                             summary  \\\n",
       "0  The customer is very satisfied with the Blueto...   \n",
       "1  The customer is very satisfied with their new ...   \n",
       "2  The customer is disappointed with the wireless...   \n",
       "3  The customer is disappointed with the tablet s...   \n",
       "4  The customer is dissatisfied with the kitchen ...   \n",
       "\n",
       "                                           positives  \\\n",
       "0  [Impressive sound quality with clear audio and...   \n",
       "1  [Satisfying click of the keys, Vibrant LED col...   \n",
       "2                     [The earbuds arrived on time.]   \n",
       "3                    [The product arrived promptly.]   \n",
       "4                                                 []   \n",
       "\n",
       "                                           negatives sentiment  \\\n",
       "0                                                 []  positive   \n",
       "1                                                 []  positive   \n",
       "2  [Sound constantly cuts out., Uncomfortable fit...  negative   \n",
       "3  [The stand wobbles with the slightest touch., ...  negative   \n",
       "4  [Struggles with tougher foods, Incredibly nois...  negative   \n",
       "\n",
       "                                         emotions  \n",
       "0           [satisfaction, happiness, excitement]  \n",
       "1         [satisfaction, excitement, contentment]  \n",
       "2  [disappointment, frustration, dissatisfaction]  \n",
       "3                   [disappointment, frustration]  \n",
       "4            [frustration, disappointment, anger]  "
      ]
     },
     "execution_count": 28,
     "metadata": {},
     "output_type": "execute_result"
    }
   ],
   "source": [
    "import pandas as pd\n",
    "\n",
    "pd.DataFrame(response.dict() for response in responses)"
   ]
  },
  {
   "cell_type": "code",
   "execution_count": 29,
   "id": "34ca9e95",
   "metadata": {},
   "outputs": [
    {
     "data": {
      "text/html": [
       "<div>\n",
       "<style scoped>\n",
       "    .dataframe tbody tr th:only-of-type {\n",
       "        vertical-align: middle;\n",
       "    }\n",
       "\n",
       "    .dataframe tbody tr th {\n",
       "        vertical-align: top;\n",
       "    }\n",
       "\n",
       "    .dataframe thead th {\n",
       "        text-align: right;\n",
       "    }\n",
       "</style>\n",
       "<table border=\"1\" class=\"dataframe\">\n",
       "  <thead>\n",
       "    <tr style=\"text-align: right;\">\n",
       "      <th></th>\n",
       "      <th>summary</th>\n",
       "      <th>positives</th>\n",
       "      <th>negatives</th>\n",
       "      <th>sentiment</th>\n",
       "      <th>emotions</th>\n",
       "    </tr>\n",
       "  </thead>\n",
       "  <tbody>\n",
       "    <tr>\n",
       "      <th>0</th>\n",
       "      <td>The customer is very satisfied with the Blueto...</td>\n",
       "      <td>[Impressive sound quality with clear audio and...</td>\n",
       "      <td>[]</td>\n",
       "      <td>positive</td>\n",
       "      <td>[satisfaction, happiness, excitement]</td>\n",
       "    </tr>\n",
       "    <tr>\n",
       "      <th>1</th>\n",
       "      <td>The customer is very satisfied with their new ...</td>\n",
       "      <td>[Satisfying click of the keys, Vibrant LED col...</td>\n",
       "      <td>[]</td>\n",
       "      <td>positive</td>\n",
       "      <td>[satisfaction, excitement, contentment]</td>\n",
       "    </tr>\n",
       "    <tr>\n",
       "      <th>2</th>\n",
       "      <td>The customer is disappointed with the wireless...</td>\n",
       "      <td>[The earbuds arrived on time.]</td>\n",
       "      <td>[Sound constantly cuts out., Uncomfortable fit...</td>\n",
       "      <td>negative</td>\n",
       "      <td>[disappointment, frustration, dissatisfaction]</td>\n",
       "    </tr>\n",
       "    <tr>\n",
       "      <th>3</th>\n",
       "      <td>The customer is disappointed with the tablet s...</td>\n",
       "      <td>[The product arrived promptly.]</td>\n",
       "      <td>[The stand wobbles with the slightest touch., ...</td>\n",
       "      <td>negative</td>\n",
       "      <td>[disappointment, frustration]</td>\n",
       "    </tr>\n",
       "    <tr>\n",
       "      <th>4</th>\n",
       "      <td>The customer is dissatisfied with the kitchen ...</td>\n",
       "      <td>[]</td>\n",
       "      <td>[Struggles with tougher foods, Incredibly nois...</td>\n",
       "      <td>negative</td>\n",
       "      <td>[frustration, disappointment, anger]</td>\n",
       "    </tr>\n",
       "  </tbody>\n",
       "</table>\n",
       "</div>"
      ],
      "text/plain": [
       "                                             summary  \\\n",
       "0  The customer is very satisfied with the Blueto...   \n",
       "1  The customer is very satisfied with their new ...   \n",
       "2  The customer is disappointed with the wireless...   \n",
       "3  The customer is disappointed with the tablet s...   \n",
       "4  The customer is dissatisfied with the kitchen ...   \n",
       "\n",
       "                                           positives  \\\n",
       "0  [Impressive sound quality with clear audio and...   \n",
       "1  [Satisfying click of the keys, Vibrant LED col...   \n",
       "2                     [The earbuds arrived on time.]   \n",
       "3                    [The product arrived promptly.]   \n",
       "4                                                 []   \n",
       "\n",
       "                                           negatives sentiment  \\\n",
       "0                                                 []  positive   \n",
       "1                                                 []  positive   \n",
       "2  [Sound constantly cuts out., Uncomfortable fit...  negative   \n",
       "3  [The stand wobbles with the slightest touch., ...  negative   \n",
       "4  [Struggles with tougher foods, Incredibly nois...  negative   \n",
       "\n",
       "                                         emotions  \n",
       "0           [satisfaction, happiness, excitement]  \n",
       "1         [satisfaction, excitement, contentment]  \n",
       "2  [disappointment, frustration, dissatisfaction]  \n",
       "3                   [disappointment, frustration]  \n",
       "4            [frustration, disappointment, anger]  "
      ]
     },
     "execution_count": 29,
     "metadata": {},
     "output_type": "execute_result"
    }
   ],
   "source": [
    "# Convert the list of responses to a pandas DataFrame\n",
    "df = pd.DataFrame([response.model_dump() for response in responses])\n",
    "df\n"
   ]
  },
  {
   "cell_type": "code",
   "execution_count": null,
   "id": "c5bf3765",
   "metadata": {},
   "outputs": [],
   "source": []
  }
 ],
 "metadata": {
  "kernelspec": {
   "display_name": ".venv",
   "language": "python",
   "name": "python3"
  },
  "language_info": {
   "codemirror_mode": {
    "name": "ipython",
    "version": 3
   },
   "file_extension": ".py",
   "mimetype": "text/x-python",
   "name": "python",
   "nbconvert_exporter": "python",
   "pygments_lexer": "ipython3",
   "version": "3.11.6"
  }
 },
 "nbformat": 4,
 "nbformat_minor": 5
}
